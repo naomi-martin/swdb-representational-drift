{
 "cells": [
  {
   "cell_type": "code",
   "execution_count": 13,
   "id": "4b2bad41",
   "metadata": {},
   "outputs": [],
   "source": [
    "# We need to import these modules to get started\n",
    "import numpy as np\n",
    "import pandas as pd\n",
    "import os\n",
    "import platform\n",
    "from sklearn.decomposition import PCA\n",
    "from sklearn.manifold import TSNE\n",
    "from sklearn.preprocessing import StandardScaler\n",
    "import warnings\n",
    "from event_utils import get_events\n",
    "from create_stim_table import create_stim_df\n",
    "import matplotlib.pyplot as plt\n",
    "import plotly.express as px\n",
    "%matplotlib inline\n",
    "\n",
    "# This patch of code just ensures we get an easy to read font size for the duration of the notebook\n",
    "import matplotlib\n",
    "font = {'weight' : 'bold',\n",
    "        'size'   : 15}\n",
    "matplotlib.rc('font', **font)"
   ]
  },
  {
   "cell_type": "code",
   "execution_count": 3,
   "id": "b047c49e",
   "metadata": {},
   "outputs": [],
   "source": [
    "# Set file location based on platform. \n",
    "platstring = platform.platform()\n",
    "if ('Darwin' in platstring) or ('macOS' in platstring):\n",
    "    # macOS \n",
    "    data_root = \"/Volumes/Brain2023/\"\n",
    "elif 'Windows'  in platstring:\n",
    "    # Windows (replace with the drive letter of USB drive)\n",
    "    data_root = \"E:/\"\n",
    "elif ('amzn' in platstring):\n",
    "    # then on Code Ocean\n",
    "    data_root = \"/data/\"\n",
    "else:\n",
    "    # then your own linux platform\n",
    "    # EDIT location where you mounted hard drive\n",
    "    data_root = \"/media/$USERNAME/Brain2023/\""
   ]
  },
  {
   "cell_type": "code",
   "execution_count": 4,
   "id": "d974c72e",
   "metadata": {},
   "outputs": [],
   "source": [
    "def find_divide_indices(stim_table):\n",
    "    '''\n",
    "    Finds the indices where each new stimulus presentation after the first presentation\n",
    "    starts.\n",
    "    \n",
    "    Returns:\n",
    "        List of indices representing the start of the next stimulus\n",
    "    '''\n",
    "    # Find the indices where each new stimulus presentation after the first presentation starts\n",
    "    divide_indices = []\n",
    "\n",
    "    for i in range(min(stim_table.index), max(stim_table.index)):\n",
    "        try:\n",
    "            if stim_table.start[i+1]-stim_table.end[i] > 100:\n",
    "                divide_indices.append(i) # saves index where new stim presentation begins\n",
    "        except:\n",
    "            pass\n",
    "    return divide_indices"
   ]
  },
  {
   "cell_type": "code",
   "execution_count": 5,
   "id": "0834980c",
   "metadata": {},
   "outputs": [],
   "source": [
    "def divide_stim_table(stim_table, divide_indices=[]):\n",
    "    '''\n",
    "    Divides input stimulus table based on indices corresponding to separate stimulus\n",
    "    presentations.\n",
    "    If there were 3 presentations, three dataframes for each presentation are returned. \n",
    "    If there were 2 presentations, three dataframes for each presentation are still \n",
    "    returned with the third being null.\n",
    "    \n",
    "    Returns:\n",
    "        3 divided stimulus tables corresponding to first, second, and third or null stimulus\n",
    "        presentation start. \n",
    "    '''\n",
    "    if len(divide_indices)==2: # 3 presentations \n",
    "        return stim_table.loc[:divide_indices[0]], stim_table.loc[divide_indices[0]+1:divide_indices[1]], stim_table.loc[divide_indices[1]+1:]\n",
    "    elif len(divide_indices) == 1: # 2 presentations\n",
    "        return stim_table.loc[:divide_indices[0]], stim_table.loc[divide_indices[0]+1:], pd.DataFrame()\n",
    "    else:\n",
    "        raise Exception(\"Stimulis has only one presentation. Nothing to divide.\")"
   ]
  },
  {
   "cell_type": "code",
   "execution_count": 6,
   "id": "1fced035",
   "metadata": {},
   "outputs": [],
   "source": [
    "def generate_response_matrices(stim_table, all_events):\n",
    "    '''\n",
    "    This function generates response matrices given an input stimulus table. \n",
    "    Stimulus table can be divided based on stimulus presentations, or undivided.\n",
    "    \n",
    "    Returns:\n",
    "        orientation_matrix: 1D array with orientation value for each frame\n",
    "        frequency_matrix: 1D array with frequency value for each frame\n",
    "        response: matrix of shape (# cells, # stimuli, 60) with response of each\n",
    "            cell to each stimulus over its presentation period of 60 frames \n",
    "    '''\n",
    "    stim_table = stim_table.reset_index(drop=True)\n",
    "    if stim_table.stim_category[0] == \"drifting_gratings\": # need to split stim ID\n",
    "        # generate response matrix\n",
    "        response = np.empty((len(all_events.index), len(stim_table), 60)) # 3d array for responses at each frame to each stimulus for each neuron\n",
    "        for i in range(len(stim_table)):\n",
    "            for cell_index in range(len(all_events.index)):\n",
    "                response[cell_index,i,:] = all_events.iloc[cell_index, stim_table.start[i]:stim_table.start[i]+60]\n",
    "        return response\n",
    "    elif stim_table.stim_category[0] == \"static_gratings\" or stim_table.stim_category[0] == \"natural_scenes\":\n",
    "        # generate response matrix\n",
    "        response = np.empty((len(all_events.index), len(stim_table), 7)) # 3d array for responses at each frame to each stimulus for each neuron\n",
    "        stim_table = stim_table.reset_index(drop=True)\n",
    "        for i in range(len(stim_table)):\n",
    "            for cell_index in range(len(all_events.index)):\n",
    "                response[cell_index,i,:] = all_events.iloc[cell_index, stim_table.start[i]:stim_table.start[i]+7]\n",
    "        return response"
   ]
  },
  {
   "cell_type": "code",
   "execution_count": 7,
   "id": "61f7248a",
   "metadata": {},
   "outputs": [],
   "source": [
    "def responses_per_stimulus(stim_table, response_matrix):\n",
    "    '''\n",
    "    response_matrix: contains all recorded responses in the divided time frame \n",
    "    '''\n",
    "    responses_by_stimulus = pd.DataFrame(columns=[\"stim_id\",\"response_matrix\"])\n",
    "    \n",
    "    for stim_id in np.unique(stim_table.stim_id):\n",
    "        stim_table_reset = stim_table.reset_index(drop=True) # reset full stim table indices \n",
    "        temp_stim_id_df = stim_table_reset[stim_table_reset.stim_id==stim_id] # to index specific stimuli\n",
    "        response_stimulus_matrix = response_matrix[:,list(temp_stim_id_df.index),:]\n",
    "        responses_by_stimulus.loc[len(responses_by_stimulus)] = [stim_id, response_stimulus_matrix]\n",
    "    \n",
    "    return responses_by_stimulus"
   ]
  },
  {
   "cell_type": "code",
   "execution_count": 21,
   "id": "a87cc191",
   "metadata": {},
   "outputs": [],
   "source": [
    "def get_all_relevant_tables_dg_sg_ns(container_id, stimulus_type):\n",
    "    '''\n",
    "    Extracts the responses to each stimulus for each of the three sessions of drifting gratings, \n",
    "    static gratings, and natural scenes. \n",
    "    Returns full responses matrices (array) and response matrices to each stimulus ID (dataframe)\n",
    "    '''\n",
    "     # Select the relevant data for chosen container ID\n",
    "    desired_container_id = container_id\n",
    "    desired_container = boc.get_ophys_experiments(experiment_container_ids=[desired_container_id])\n",
    "    desired_container = sorted(desired_container, key=lambda x: x['session_type']) # sort based on session type so A comes first\n",
    "    \n",
    "    if stimulus_type == \"drifting_gratings\":\n",
    "        session_index = 0\n",
    "    elif stimulus_type == \"static_gratings\" or stimulus_type == \"natural_scenes\":\n",
    "        session_index = 1\n",
    "        \n",
    "    # Get session IDs for each session\n",
    "    session_id = desired_container[session_index][\"id\"]\n",
    "\n",
    "    # load in session data \n",
    "    session = boc.get_ophys_experiment_data(ophys_experiment_id=session_id)\n",
    "\n",
    "    # Get all event traces for all neurons in given session \n",
    "    all_events = get_events(boc, session_id, \"VISp\")\n",
    "\n",
    "    # Get full stimulus table for a given session\n",
    "    stim_table = create_stim_df(boc, session_id)\n",
    "    \n",
    "    # Isolate desired stimuli from stimulus table \n",
    "    desired_stimulus_table = stim_table[stim_table.stim_category == stimulus_type]\n",
    "    # Find indices to divide stimulus table based on session\n",
    "    divide_indices = find_divide_indices(desired_stimulus_table)\n",
    "    # Divide stimulus table based on divide indices\n",
    "    stim1, stim2, stim3 = divide_stim_table(desired_stimulus_table, divide_indices)\n",
    "\n",
    "    # Generate response matrices for each session\n",
    "    response1 = generate_response_matrices(stim1, all_events)\n",
    "    response2 = generate_response_matrices(stim2, all_events)\n",
    "    response3 = generate_response_matrices(stim3, all_events)\n",
    "\n",
    "    # Create dataframe with response matrix for each drifting gratings stimulus ID\n",
    "    stim1_responses_by_stimulus = responses_per_stimulus(stim1, response1)\n",
    "    stim2_responses_by_stimulus = responses_per_stimulus(stim2, response2)\n",
    "    stim3_responses_by_stimulus = responses_per_stimulus(stim3, response3)\n",
    "\n",
    "    return response1, response2, response3, stim1_responses_by_stimulus, stim2_responses_by_stimulus, stim3_responses_by_stimulus"
   ]
  },
  {
   "cell_type": "code",
   "execution_count": 22,
   "id": "7b4c4744",
   "metadata": {},
   "outputs": [],
   "source": [
    "def pca_transform_data(stim1_responses_by_stimulus, stim2_responses_by_stimulus, stim3_responses_by_stimulus, pca_n_components):\n",
    "    \n",
    "    # Average each cell's response to each stimulus (# stimuli, # neurons) across three sessions\n",
    "    # Session 1\n",
    "    mean_responses1 = []\n",
    "    for i in range(len(stim1_responses_by_stimulus.stim_id)):\n",
    "        reshape_dims = (stim1_responses_by_stimulus.response_matrix[i].shape[0], stim1_responses_by_stimulus.response_matrix[i].shape[1]*stim1_responses_by_stimulus.response_matrix[i].shape[2])\n",
    "        reshaped = np.reshape(stim1_responses_by_stimulus.response_matrix[i], reshape_dims)\n",
    "        mean_matrix = np.mean(reshaped, axis=1)\n",
    "        mean_responses1.append(mean_matrix)\n",
    "    mean_responses1 = np.asarray(mean_responses1)\n",
    "    # Session 2\n",
    "    mean_responses2 = []\n",
    "    for i in range(len(stim2_responses_by_stimulus.stim_id)):\n",
    "        reshape_dims = (stim2_responses_by_stimulus.response_matrix[i].shape[0], stim2_responses_by_stimulus.response_matrix[i].shape[1]*stim2_responses_by_stimulus.response_matrix[i].shape[2])\n",
    "        reshaped = np.reshape(stim2_responses_by_stimulus.response_matrix[i], reshape_dims)\n",
    "        mean_matrix = np.mean(reshaped, axis=1)\n",
    "        mean_responses2.append(mean_matrix)\n",
    "    mean_responses2 = np.asarray(mean_responses2)\n",
    "    # Session 3\n",
    "    mean_responses3 = []\n",
    "    for i in range(len(stim3_responses_by_stimulus.stim_id)):\n",
    "        reshape_dims = (stim3_responses_by_stimulus.response_matrix[i].shape[0], stim3_responses_by_stimulus.response_matrix[i].shape[1]*stim3_responses_by_stimulus.response_matrix[i].shape[2])\n",
    "        reshaped = np.reshape(stim3_responses_by_stimulus.response_matrix[i], reshape_dims)\n",
    "        mean_matrix = np.mean(reshaped, axis=1)\n",
    "        mean_responses3.append(mean_matrix)\n",
    "    mean_responses3 = np.asarray(mean_responses3)\n",
    "    # Concatenate mean matrices to fit PCA model\n",
    "    concat_mean_matrices = np.concatenate((mean_responses1, mean_responses2, mean_responses3), axis=0)\n",
    "    # represents mean response of each cell to each stimulus across all sessions.\n",
    "    # Shape (# total stimuli, # neurons)\n",
    "    \n",
    "    # Perform PCA\n",
    "    warnings.filterwarnings('ignore')\n",
    "    pca = PCA(n_components=pca_n_components) # create PCA model\n",
    "    pca.fit_transform(concat_mean_matrices) # fit the model with the dataset\n",
    "    transformed_data_pca1 = pca.transform(mean_responses1) # transform dataset \n",
    "    transformed_data_pca2 = pca.transform(mean_responses2) # transform dataset \n",
    "    transformed_data_pca3 = pca.transform(mean_responses3) # transform dataset \n",
    "    # Concatenate dataframes for easy plotting\n",
    "    transformed_data_pca1_df = pd.DataFrame(transformed_data_pca1)\n",
    "    transformed_data_pca1_df[\"Session\"] = list(\"1\"*len(transformed_data_pca1))\n",
    "    transformed_data_pca2_df = pd.DataFrame(transformed_data_pca2)\n",
    "    transformed_data_pca2_df[\"Session\"] = list(\"2\"*len(transformed_data_pca2))\n",
    "    transformed_data_pca3_df = pd.DataFrame(transformed_data_pca3)\n",
    "    transformed_data_pca3_df[\"Session\"] = list(\"3\"*len(transformed_data_pca3))\n",
    "    transformed_data_pca = pd.concat((transformed_data_pca1_df, transformed_data_pca2_df, transformed_data_pca3_df), axis=0)\n",
    "\n",
    "    return transformed_data_pca"
   ]
  },
  {
   "cell_type": "code",
   "execution_count": 23,
   "id": "2d711ed4",
   "metadata": {},
   "outputs": [],
   "source": [
    "from allensdk.core.brain_observatory_cache import BrainObservatoryCache\n",
    "\n",
    "manifest_file = os.path.join(data_root,'allen-brain-observatory/visual-coding-2p/manifest.json')\n",
    "\n",
    "# Create data cache object \n",
    "boc = BrainObservatoryCache(manifest_file=manifest_file)"
   ]
  },
  {
   "cell_type": "code",
   "execution_count": null,
   "id": "ca895f2a",
   "metadata": {},
   "outputs": [],
   "source": []
  },
  {
   "cell_type": "code",
   "execution_count": 24,
   "id": "af0e1652",
   "metadata": {},
   "outputs": [],
   "source": [
    "# Drifting gratings"
   ]
  },
  {
   "cell_type": "code",
   "execution_count": 25,
   "id": "6efb1950",
   "metadata": {},
   "outputs": [],
   "source": [
    "response1, response2, response3, dg1_responses_by_stimulus, dg2_responses_by_stimulus, dg3_responses_by_stimulus = get_all_relevant_tables_dg_sg_ns(688678764, \"drifting_gratings\")\n"
   ]
  },
  {
   "cell_type": "code",
   "execution_count": 26,
   "id": "595c9a11",
   "metadata": {},
   "outputs": [],
   "source": [
    "transformed_data_pca = pca_transform_data(dg1_responses_by_stimulus, dg2_responses_by_stimulus, dg3_responses_by_stimulus, 3)\n"
   ]
  },
  {
   "cell_type": "code",
   "execution_count": 27,
   "id": "d95d9240",
   "metadata": {},
   "outputs": [
    {
     "data": {
      "image/png": "[encoded data removed]",
      "text/plain": [
       "<Figure size 576x360 with 1 Axes>"
      ]
     },
     "metadata": {
      "needs_background": "light"
     },
     "output_type": "display_data"
    }
   ],
   "source": [
    "# PCA Model: 2D Visualization\n",
    "fig, ax = plt.subplots(figsize=(8,5))\n",
    "\n",
    "ax.scatter(transformed_data_pca[transformed_data_pca.Session==\"1\"][0], transformed_data_pca[transformed_data_pca.Session==\"1\"][1], label=\"session 1\")\n",
    "ax.scatter(transformed_data_pca[transformed_data_pca.Session==\"2\"][0], transformed_data_pca[transformed_data_pca.Session==\"2\"][1], label=\"session 2\")\n",
    "ax.scatter(transformed_data_pca[transformed_data_pca.Session==\"3\"][0], transformed_data_pca[transformed_data_pca.Session==\"3\"][1], label=\"session 3\")\n",
    "ax.set_xlabel(\"1st PC\")\n",
    "ax.set_ylabel(\"2nd PC\")\n",
    "ax.set_title(\"PCA Analysis on Mean Response of Each Cell to Each DG Stimulus Over Time\")\n",
    "plt.legend(loc=\"upper right\")\n",
    "plt.show()\n"
   ]
  },
  {
   "cell_type": "code",
   "execution_count": 28,
   "id": "3fa3f230",
   "metadata": {},
   "outputs": [
    {
     "data": {
      "application/vnd.plotly.v1+json": {
       "config": {
        "plotlyServerURL": "https://plot.ly"
       },
       "data": [
        {
         "hovertemplate": "Session=1<br>PC1=%{x}<br>PC2=%{y}<br>PC3=%{z}<extra></extra>",
         "legendgroup": "1",
         "marker": {
          "color": "#636efa",
          "size": 3,
          "symbol": "circle"
         },
         "mode": "markers",
         "name": "1",
         "scene": "scene",
         "showlegend": true,
         "type": "scatter3d",
         "x": [
          -0.012853427132513123,
          -0.026966621826937952,
          -0.030378441602135906,
          -0.009512018208515802,
          -0.022674257424766295,
          -0.015488915743597419,
          -0.01857323844497301,
          -0.015211344283082389,
          -0.01761439420669744,
          -0.010523557891246238,
          -0.021256515020919027,
          -0.03316499950769956,
          -0.04034325174206557,
          -0.044301215911461335,
          -0.03277791448877459,
          -0.052774146926665655,
          -0.06389019013694312,
          -0.09857925423653169,
          -0.08403684188997118,
          -0.0917956729320947,
          0.07207399300349143,
          0.03106116616877841,
          0.04644621519210039,
          0.06305849491395363,
          0.041024164554669854,
          -0.0058937243527461885,
          -0.009452940426158374,
          0.0016850052463942872,
          -0.01015243877665983,
          -0.005228899750853753,
          -0.046083594237594075,
          -0.029315318489437206,
          -0.043977109181663664,
          -0.0408990957303269,
          -0.043687364178031186,
          0.07315674485105123,
          0.03526926173989847,
          0.06048416513995324,
          0.04681039851920553,
          0.04572811776306936,
          -0.011680275060150406
         ],
         "y": [
          0.0382351864793691,
          0.08816815666365359,
          0.14691598772978434,
          0.03466012546295579,
          0.10045167110831783,
          0.05419277896810897,
          0.05830468189113861,
          0.041977366927721076,
          0.080172306329037,
          0.030143100612421304,
          0.02487319420238561,
          0.04269171050304092,
          0.03600402998643261,
          0.08369076794805765,
          0.06759365611265133,
          -0.03025375869133968,
          0.07510200157111799,
          0.07292529588772202,
          0.039671606692106044,
          0.02248836067207085,
          0.10599231151893174,
          0.0344349463295303,
          0.07811170810181974,
          0.09985005965067505,
          0.10691448613415691,
          0.0360707379038005,
          0.03985369866358357,
          0.017741495218004947,
          0.07152198000116129,
          0.03785122916988475,
          0.07977974481193047,
          0.030853837585777977,
          0.12607187790825214,
          0.10513737982819457,
          0.08903505421636718,
          0.07824388328849359,
          0.07936560402142444,
          0.1326215210527786,
          0.04866827693289413,
          0.10153152350316912,
          0.054858347508356914
         ],
         "z": [
          -0.028372486067671454,
          -0.015657538944875635,
          -0.007619480742387984,
          -0.03500638796330215,
          -0.01787447530664773,
          -0.01648634485792838,
          -0.01776595490642014,
          -0.019296685714904505,
          -0.01666373155992347,
          -0.02917217736307498,
          -0.0031345871758255393,
          -0.011537696317252821,
          0.014443541333937888,
          0.02024635852883198,
          0.000976588789707149,
          0.035256749861000816,
          0.04187086232162718,
          0.10158602255067418,
          0.08144830157307763,
          0.08569672779976617,
          0.03277042458797975,
          -0.0006282537199999608,
          0.02539324677281589,
          0.033839222460454156,
          0.018342121558974456,
          -0.035118569777679465,
          -0.030738535162118746,
          -0.037064150535010595,
          -0.02890600653272991,
          -0.039114064122055786,
          -0.009704369606555734,
          -0.006471081199145031,
          -0.014295568943677913,
          -0.0050033096603864895,
          -0.015248133239364386,
          0.05294269435014474,
          0.010516854642567415,
          0.048081782790348526,
          0.020371586894170117,
          0.023092628008005704,
          -0.023213582819669103
         ]
        },
        {
         "hovertemplate": "Session=2<br>PC1=%{x}<br>PC2=%{y}<br>PC3=%{z}<extra></extra>",
         "legendgroup": "2",
         "marker": {
          "color": "#EF553B",
          "size": 3,
          "symbol": "circle"
         },
         "mode": "markers",
         "name": "2",
         "scene": "scene",
         "showlegend": true,
         "type": "scatter3d",
         "x": [
          -0.014001590843093995,
          -0.012933373699224248,
          -0.01411586320058547,
          -0.01135450636543647,
          -0.013410564673541214,
          0.0033041629503185975,
          0.0016338932135567487,
          -0.0065095780634965555,
          0.0011876806558070736,
          0.0008243605545923023,
          -0.03898506770874659,
          -0.008062202269877401,
          -0.05683375722853476,
          -0.04580550761109292,
          -0.03637654448124519,
          -0.07550270381642694,
          -0.030753221580541217,
          -0.12122784923441687,
          -0.10544583449966996,
          -0.062260276748441507,
          0.12114106410187193,
          0.047580225369405926,
          0.0799663139427052,
          0.0684437469990744,
          0.1066917494896972,
          0.0023131126897111692,
          -0.002531816107544713,
          0.0016849004586193435,
          0.00042418642419197496,
          0.0030335543234522827,
          -0.03247011400895521,
          -0.017817090348343244,
          -0.02724040062819536,
          -0.02335198975879356,
          -0.02398003175677965,
          0.11935969232265953,
          0.050839809617485576,
          0.13357617683392634,
          0.10972994142182031,
          0.1428885718944108,
          -0.007462762186063829
         ],
         "y": [
          -0.022530490494113174,
          -0.027323411951526808,
          -0.018971575847219257,
          -0.02482404164372632,
          -0.023682970589548092,
          -0.028788289424286177,
          -0.028425714751209807,
          -0.024255811978441042,
          -0.031562195272734316,
          -0.030629101684775978,
          -0.03538781570995691,
          -0.02109556174333923,
          -0.052434971364550456,
          -0.05047511877110606,
          -0.041503582804628486,
          -0.04997618542927902,
          -0.03785419018738248,
          -0.06410172383476094,
          -0.06720884377246199,
          -0.0538967618965124,
          -0.007264210470930815,
          -0.033817851217299966,
          -0.026544080353541513,
          -0.027281703917198447,
          -0.03253225312925179,
          -0.02668367505690258,
          -0.024355765052368337,
          -0.02786552471348839,
          -0.028489924528289415,
          -0.031377563774647246,
          -0.022723323433743364,
          -0.03026599705008771,
          -0.022390656431233794,
          -0.011468484166402698,
          -0.024437307515186822,
          -0.014383288407955717,
          -0.03637943338758806,
          -0.010030353281659087,
          -0.03665677525047833,
          -0.043450970464914064,
          -0.028339942789483454
         ],
         "z": [
          -0.02749212142240126,
          -0.03350842211532881,
          -0.0323639330234303,
          -0.04306966068717939,
          -0.03317016655799898,
          -0.03120373193940226,
          -0.040904297086152466,
          -0.027703701096866318,
          -0.03882772275169345,
          -0.04034827594032196,
          0.010114227715963417,
          -0.02630878774949231,
          0.031171466598052706,
          0.015457613122598371,
          0.0016264965276833222,
          0.06933431205798414,
          -0.0011941577481761308,
          0.13053658893390552,
          0.10981603224794148,
          0.047709754996441214,
          0.04429053368497314,
          0.00847806950850815,
          0.012977595133874888,
          0.003049518007084635,
          0.029558153266803923,
          -0.043315329349760893,
          -0.04660412493063292,
          -0.044510039040267034,
          -0.04514414300991591,
          -0.044979312091417555,
          -0.008740013641562358,
          -0.01684216451971394,
          -0.02373466967534542,
          -0.02430584337243731,
          -0.017319482484636,
          0.053597614287514785,
          -0.003731293066930413,
          0.059097773654485486,
          0.036865971697450456,
          0.05197624749509761,
          -0.02877654428293
         ]
        },
        {
         "hovertemplate": "Session=3<br>PC1=%{x}<br>PC2=%{y}<br>PC3=%{z}<extra></extra>",
         "legendgroup": "3",
         "marker": {
          "color": "#00cc96",
          "size": 3,
          "symbol": "circle"
         },
         "mode": "markers",
         "name": "3",
         "scene": "scene",
         "showlegend": true,
         "type": "scatter3d",
         "x": [
          -0.0016525886659643756,
          -0.009659430855597922,
          -0.004162984359795903,
          -0.004241959554180389,
          -0.006816517438726103,
          0.00031463377660643707,
          -0.0004792966998557772,
          -0.0010007427753141755,
          -0.001654965138276647,
          -0.022713054370790978,
          -0.01073843216574305,
          -0.04049071738322427,
          -0.043940177095767204,
          -0.011917170365623148,
          -0.07769243138603953,
          -0.05225238753590336,
          -0.07494505448203467,
          -0.10736767073571316,
          -0.05992810452308778,
          0.09081920535637163,
          0.06173677494863852,
          0.06559085140299065,
          0.051020865122300155,
          0.07069414770549858,
          -9.639124894781324e-05,
          -0.0014418605907874135,
          -0.0020404020050734497,
          0.00295927372694164,
          0.0007931040852765547,
          -0.03502851855171833,
          -0.03462357756184759,
          -0.03126726913225922,
          -0.024282533605385275,
          -0.023444780103508936,
          0.16303107623239188,
          0.11847354773740193,
          0.11145171550475175,
          0.10458855586599088,
          0.10869135392131009,
          -0.00018733085091646
         ],
         "y": [
          -0.019400206245514074,
          -0.03657557805770882,
          -0.02147843190134286,
          -0.02657296101092741,
          -0.029202635496633256,
          -0.027662145763789187,
          -0.028898675752875035,
          -0.03223127950527143,
          -0.032839693958371614,
          -0.03380076428367816,
          -0.035742449814923825,
          -0.046761843245382656,
          -0.0434999672530359,
          -0.02915560692812473,
          -0.056195984270338215,
          -0.0534851899144545,
          -0.05242991580084189,
          -0.07375609783731456,
          -0.04685284484493605,
          -0.014120737027472954,
          -0.03611494748025822,
          -0.026793298124050798,
          -0.02962102836949587,
          -0.03680020816204919,
          -0.026435380554991894,
          -0.03401705049415372,
          -0.03238294939506417,
          -0.03143546099022142,
          -0.027594413108769797,
          -0.013509868814063882,
          -0.04344215006803552,
          -0.024017545865878006,
          -0.03269110555846097,
          -0.03622752051740239,
          -0.014901485435022559,
          -0.04633738379709402,
          -0.030764982919103047,
          -0.03951030687735203,
          -0.045330024326355155,
          -0.032260367090970944
         ],
         "z": [
          -0.041158136665304594,
          -0.041591188589316104,
          -0.03756022962452747,
          -0.0457498000916499,
          -0.036807796425361174,
          -0.04200653630324039,
          -0.046228700624094274,
          -0.03757888954000055,
          -0.03729119489397137,
          0.0008289987269005355,
          -0.03729594709583241,
          0.013586231868060244,
          0.01519213658709967,
          -0.029345493265012915,
          0.06908631211931222,
          0.023425838712866253,
          0.0657253124166894,
          0.10975235091928412,
          0.05121057246822972,
          0.02121830021550989,
          -0.004244385196311847,
          -0.0002396579546680988,
          -0.012352038155860771,
          -0.0011224376355658617,
          -0.03795014546704714,
          -0.04866165631164279,
          -0.03884113758880424,
          -0.0496104169336167,
          -0.04832477084505978,
          -0.0063467585975939215,
          0.002570376740579974,
          -0.015221668102732658,
          -0.022958372989620425,
          -0.01905674908470531,
          0.08222257748606307,
          0.04776923645342655,
          0.036374777377777376,
          0.027825112752525118,
          0.032143299487189095,
          -0.03572990028781807
         ]
        }
       ],
       "layout": {
        "font": {
         "size": 11
        },
        "height": 600,
        "legend": {
         "title": {
          "text": "Session"
         },
         "tracegroupgap": 0
        },
        "scene": {
         "aspectmode": "data",
         "aspectratio": {
          "x": 1.2667315594283377,
          "y": 0.9833720950491458,
          "z": 0.8027818204623364
         },
         "camera": {
          "center": {
           "x": 0,
           "y": 0,
           "z": 0
          },
          "eye": {
           "x": 0.03574814673585315,
           "y": -2.2378831139400424,
           "z": -0.1555115052095886
          },
          "projection": {
           "type": "perspective"
          },
          "up": {
           "x": 0,
           "y": 0,
           "z": 1
          }
         },
         "domain": {
          "x": [
           0,
           1
          ],
          "y": [
           0,
           1
          ]
         },
         "xaxis": {
          "title": {
           "text": "PC1"
          },
          "type": "linear"
         },
         "yaxis": {
          "title": {
           "text": "PC2"
          },
          "type": "linear"
         },
         "zaxis": {
          "title": {
           "text": "PC3"
          },
          "type": "linear"
         }
        },
        "template": {
         "data": {
          "bar": [
           {
            "error_x": {
             "color": "#2a3f5f"
            },
            "error_y": {
             "color": "#2a3f5f"
            },
            "marker": {
             "line": {
              "color": "#E5ECF6",
              "width": 0.5
             },
             "pattern": {
              "fillmode": "overlay",
              "size": 10,
              "solidity": 0.2
             }
            },
            "type": "bar"
           }
          ],
          "barpolar": [
           {
            "marker": {
             "line": {
              "color": "#E5ECF6",
              "width": 0.5
             },
             "pattern": {
              "fillmode": "overlay",
              "size": 10,
              "solidity": 0.2
             }
            },
            "type": "barpolar"
           }
          ],
          "carpet": [
           {
            "aaxis": {
             "endlinecolor": "#2a3f5f",
             "gridcolor": "white",
             "linecolor": "white",
             "minorgridcolor": "white",
             "startlinecolor": "#2a3f5f"
            },
            "baxis": {
             "endlinecolor": "#2a3f5f",
             "gridcolor": "white",
             "linecolor": "white",
             "minorgridcolor": "white",
             "startlinecolor": "#2a3f5f"
            },
            "type": "carpet"
           }
          ],
          "choropleth": [
           {
            "colorbar": {
             "outlinewidth": 0,
             "ticks": ""
            },
            "type": "choropleth"
           }
          ],
          "contour": [
           {
            "colorbar": {
             "outlinewidth": 0,
             "ticks": ""
            },
            "colorscale": [
             [
              0,
              "#0d0887"
             ],
             [
              0.1111111111111111,
              "#46039f"
             ],
             [
              0.2222222222222222,
              "#7201a8"
             ],
             [
              0.3333333333333333,
              "#9c179e"
             ],
             [
              0.4444444444444444,
              "#bd3786"
             ],
             [
              0.5555555555555556,
              "#d8576b"
             ],
             [
              0.6666666666666666,
              "#ed7953"
             ],
             [
              0.7777777777777778,
              "#fb9f3a"
             ],
             [
              0.8888888888888888,
              "#fdca26"
             ],
             [
              1,
              "#f0f921"
             ]
            ],
            "type": "contour"
           }
          ],
          "contourcarpet": [
           {
            "colorbar": {
             "outlinewidth": 0,
             "ticks": ""
            },
            "type": "contourcarpet"
           }
          ],
          "heatmap": [
           {
            "colorbar": {
             "outlinewidth": 0,
             "ticks": ""
            },
            "colorscale": [
             [
              0,
              "#0d0887"
             ],
             [
              0.1111111111111111,
              "#46039f"
             ],
             [
              0.2222222222222222,
              "#7201a8"
             ],
             [
              0.3333333333333333,
              "#9c179e"
             ],
             [
              0.4444444444444444,
              "#bd3786"
             ],
             [
              0.5555555555555556,
              "#d8576b"
             ],
             [
              0.6666666666666666,
              "#ed7953"
             ],
             [
              0.7777777777777778,
              "#fb9f3a"
             ],
             [
              0.8888888888888888,
              "#fdca26"
             ],
             [
              1,
              "#f0f921"
             ]
            ],
            "type": "heatmap"
           }
          ],
          "heatmapgl": [
           {
            "colorbar": {
             "outlinewidth": 0,
             "ticks": ""
            },
            "colorscale": [
             [
              0,
              "#0d0887"
             ],
             [
              0.1111111111111111,
              "#46039f"
             ],
             [
              0.2222222222222222,
              "#7201a8"
             ],
             [
              0.3333333333333333,
              "#9c179e"
             ],
             [
              0.4444444444444444,
              "#bd3786"
             ],
             [
              0.5555555555555556,
              "#d8576b"
             ],
             [
              0.6666666666666666,
              "#ed7953"
             ],
             [
              0.7777777777777778,
              "#fb9f3a"
             ],
             [
              0.8888888888888888,
              "#fdca26"
             ],
             [
              1,
              "#f0f921"
             ]
            ],
            "type": "heatmapgl"
           }
          ],
          "histogram": [
           {
            "marker": {
             "pattern": {
              "fillmode": "overlay",
              "size": 10,
              "solidity": 0.2
             }
            },
            "type": "histogram"
           }
          ],
          "histogram2d": [
           {
            "colorbar": {
             "outlinewidth": 0,
             "ticks": ""
            },
            "colorscale": [
             [
              0,
              "#0d0887"
             ],
             [
              0.1111111111111111,
              "#46039f"
             ],
             [
              0.2222222222222222,
              "#7201a8"
             ],
             [
              0.3333333333333333,
              "#9c179e"
             ],
             [
              0.4444444444444444,
              "#bd3786"
             ],
             [
              0.5555555555555556,
              "#d8576b"
             ],
             [
              0.6666666666666666,
              "#ed7953"
             ],
             [
              0.7777777777777778,
              "#fb9f3a"
             ],
             [
              0.8888888888888888,
              "#fdca26"
             ],
             [
              1,
              "#f0f921"
             ]
            ],
            "type": "histogram2d"
           }
          ],
          "histogram2dcontour": [
           {
            "colorbar": {
             "outlinewidth": 0,
             "ticks": ""
            },
            "colorscale": [
             [
              0,
              "#0d0887"
             ],
             [
              0.1111111111111111,
              "#46039f"
             ],
             [
              0.2222222222222222,
              "#7201a8"
             ],
             [
              0.3333333333333333,
              "#9c179e"
             ],
             [
              0.4444444444444444,
              "#bd3786"
             ],
             [
              0.5555555555555556,
              "#d8576b"
             ],
             [
              0.6666666666666666,
              "#ed7953"
             ],
             [
              0.7777777777777778,
              "#fb9f3a"
             ],
             [
              0.8888888888888888,
              "#fdca26"
             ],
             [
              1,
              "#f0f921"
             ]
            ],
            "type": "histogram2dcontour"
           }
          ],
          "mesh3d": [
           {
            "colorbar": {
             "outlinewidth": 0,
             "ticks": ""
            },
            "type": "mesh3d"
           }
          ],
          "parcoords": [
           {
            "line": {
             "colorbar": {
              "outlinewidth": 0,
              "ticks": ""
             }
            },
            "type": "parcoords"
           }
          ],
          "pie": [
           {
            "automargin": true,
            "type": "pie"
           }
          ],
          "scatter": [
           {
            "fillpattern": {
             "fillmode": "overlay",
             "size": 10,
             "solidity": 0.2
            },
            "type": "scatter"
           }
          ],
          "scatter3d": [
           {
            "line": {
             "colorbar": {
              "outlinewidth": 0,
              "ticks": ""
             }
            },
            "marker": {
             "colorbar": {
              "outlinewidth": 0,
              "ticks": ""
             }
            },
            "type": "scatter3d"
           }
          ],
          "scattercarpet": [
           {
            "marker": {
             "colorbar": {
              "outlinewidth": 0,
              "ticks": ""
             }
            },
            "type": "scattercarpet"
           }
          ],
          "scattergeo": [
           {
            "marker": {
             "colorbar": {
              "outlinewidth": 0,
              "ticks": ""
             }
            },
            "type": "scattergeo"
           }
          ],
          "scattergl": [
           {
            "marker": {
             "colorbar": {
              "outlinewidth": 0,
              "ticks": ""
             }
            },
            "type": "scattergl"
           }
          ],
          "scattermapbox": [
           {
            "marker": {
             "colorbar": {
              "outlinewidth": 0,
              "ticks": ""
             }
            },
            "type": "scattermapbox"
           }
          ],
          "scatterpolar": [
           {
            "marker": {
             "colorbar": {
              "outlinewidth": 0,
              "ticks": ""
             }
            },
            "type": "scatterpolar"
           }
          ],
          "scatterpolargl": [
           {
            "marker": {
             "colorbar": {
              "outlinewidth": 0,
              "ticks": ""
             }
            },
            "type": "scatterpolargl"
           }
          ],
          "scatterternary": [
           {
            "marker": {
             "colorbar": {
              "outlinewidth": 0,
              "ticks": ""
             }
            },
            "type": "scatterternary"
           }
          ],
          "surface": [
           {
            "colorbar": {
             "outlinewidth": 0,
             "ticks": ""
            },
            "colorscale": [
             [
              0,
              "#0d0887"
             ],
             [
              0.1111111111111111,
              "#46039f"
             ],
             [
              0.2222222222222222,
              "#7201a8"
             ],
             [
              0.3333333333333333,
              "#9c179e"
             ],
             [
              0.4444444444444444,
              "#bd3786"
             ],
             [
              0.5555555555555556,
              "#d8576b"
             ],
             [
              0.6666666666666666,
              "#ed7953"
             ],
             [
              0.7777777777777778,
              "#fb9f3a"
             ],
             [
              0.8888888888888888,
              "#fdca26"
             ],
             [
              1,
              "#f0f921"
             ]
            ],
            "type": "surface"
           }
          ],
          "table": [
           {
            "cells": {
             "fill": {
              "color": "#EBF0F8"
             },
             "line": {
              "color": "white"
             }
            },
            "header": {
             "fill": {
              "color": "#C8D4E3"
             },
             "line": {
              "color": "white"
             }
            },
            "type": "table"
           }
          ]
         },
         "layout": {
          "annotationdefaults": {
           "arrowcolor": "#2a3f5f",
           "arrowhead": 0,
           "arrowwidth": 1
          },
          "autotypenumbers": "strict",
          "coloraxis": {
           "colorbar": {
            "outlinewidth": 0,
            "ticks": ""
           }
          },
          "colorscale": {
           "diverging": [
            [
             0,
             "#8e0152"
            ],
            [
             0.1,
             "#c51b7d"
            ],
            [
             0.2,
             "#de77ae"
            ],
            [
             0.3,
             "#f1b6da"
            ],
            [
             0.4,
             "#fde0ef"
            ],
            [
             0.5,
             "#f7f7f7"
            ],
            [
             0.6,
             "#e6f5d0"
            ],
            [
             0.7,
             "#b8e186"
            ],
            [
             0.8,
             "#7fbc41"
            ],
            [
             0.9,
             "#4d9221"
            ],
            [
             1,
             "#276419"
            ]
           ],
           "sequential": [
            [
             0,
             "#0d0887"
            ],
            [
             0.1111111111111111,
             "#46039f"
            ],
            [
             0.2222222222222222,
             "#7201a8"
            ],
            [
             0.3333333333333333,
             "#9c179e"
            ],
            [
             0.4444444444444444,
             "#bd3786"
            ],
            [
             0.5555555555555556,
             "#d8576b"
            ],
            [
             0.6666666666666666,
             "#ed7953"
            ],
            [
             0.7777777777777778,
             "#fb9f3a"
            ],
            [
             0.8888888888888888,
             "#fdca26"
            ],
            [
             1,
             "#f0f921"
            ]
           ],
           "sequentialminus": [
            [
             0,
             "#0d0887"
            ],
            [
             0.1111111111111111,
             "#46039f"
            ],
            [
             0.2222222222222222,
             "#7201a8"
            ],
            [
             0.3333333333333333,
             "#9c179e"
            ],
            [
             0.4444444444444444,
             "#bd3786"
            ],
            [
             0.5555555555555556,
             "#d8576b"
            ],
            [
             0.6666666666666666,
             "#ed7953"
            ],
            [
             0.7777777777777778,
             "#fb9f3a"
            ],
            [
             0.8888888888888888,
             "#fdca26"
            ],
            [
             1,
             "#f0f921"
            ]
           ]
          },
          "colorway": [
           "#636efa",
           "#EF553B",
           "#00cc96",
           "#ab63fa",
           "#FFA15A",
           "#19d3f3",
           "#FF6692",
           "#B6E880",
           "#FF97FF",
           "#FECB52"
          ],
          "font": {
           "color": "#2a3f5f"
          },
          "geo": {
           "bgcolor": "white",
           "lakecolor": "white",
           "landcolor": "#E5ECF6",
           "showlakes": true,
           "showland": true,
           "subunitcolor": "white"
          },
          "hoverlabel": {
           "align": "left"
          },
          "hovermode": "closest",
          "mapbox": {
           "style": "light"
          },
          "paper_bgcolor": "white",
          "plot_bgcolor": "#E5ECF6",
          "polar": {
           "angularaxis": {
            "gridcolor": "white",
            "linecolor": "white",
            "ticks": ""
           },
           "bgcolor": "#E5ECF6",
           "radialaxis": {
            "gridcolor": "white",
            "linecolor": "white",
            "ticks": ""
           }
          },
          "scene": {
           "xaxis": {
            "backgroundcolor": "#E5ECF6",
            "gridcolor": "white",
            "gridwidth": 2,
            "linecolor": "white",
            "showbackground": true,
            "ticks": "",
            "zerolinecolor": "white"
           },
           "yaxis": {
            "backgroundcolor": "#E5ECF6",
            "gridcolor": "white",
            "gridwidth": 2,
            "linecolor": "white",
            "showbackground": true,
            "ticks": "",
            "zerolinecolor": "white"
           },
           "zaxis": {
            "backgroundcolor": "#E5ECF6",
            "gridcolor": "white",
            "gridwidth": 2,
            "linecolor": "white",
            "showbackground": true,
            "ticks": "",
            "zerolinecolor": "white"
           }
          },
          "shapedefaults": {
           "line": {
            "color": "#2a3f5f"
           }
          },
          "ternary": {
           "aaxis": {
            "gridcolor": "white",
            "linecolor": "white",
            "ticks": ""
           },
           "baxis": {
            "gridcolor": "white",
            "linecolor": "white",
            "ticks": ""
           },
           "bgcolor": "#E5ECF6",
           "caxis": {
            "gridcolor": "white",
            "linecolor": "white",
            "ticks": ""
           }
          },
          "title": {
           "x": 0.05
          },
          "xaxis": {
           "automargin": true,
           "gridcolor": "white",
           "linecolor": "white",
           "ticks": "",
           "title": {
            "standoff": 15
           },
           "zerolinecolor": "white",
           "zerolinewidth": 2
          },
          "yaxis": {
           "automargin": true,
           "gridcolor": "white",
           "linecolor": "white",
           "ticks": "",
           "title": {
            "standoff": 15
           },
           "zerolinecolor": "white",
           "zerolinewidth": 2
          }
         }
        },
        "title": {
         "text": "First 3 PCs on Mean Response of Each Cell to Each DG Stimulus Over Time"
        },
        "width": 800
       }
      },
      "image/png": "[encoded data removed]",
      "text/html": [
       "<div>                            <div id=\"f7fc6e6e-91d5-48cd-b316-ad0d9b3d2bdc\" class=\"plotly-graph-div\" style=\"height:600px; width:800px;\"></div>            <script type=\"text/javascript\">                require([\"plotly\"], function(Plotly) {                    window.PLOTLYENV=window.PLOTLYENV || {};                                    if (document.getElementById(\"f7fc6e6e-91d5-48cd-b316-ad0d9b3d2bdc\")) {                    Plotly.newPlot(                        \"f7fc6e6e-91d5-48cd-b316-ad0d9b3d2bdc\",                        [{\"hovertemplate\":\"Session=1\\u003cbr\\u003ePC1=%{x}\\u003cbr\\u003ePC2=%{y}\\u003cbr\\u003ePC3=%{z}\\u003cextra\\u003e\\u003c\\u002fextra\\u003e\",\"legendgroup\":\"1\",\"marker\":{\"color\":\"#636efa\",\"symbol\":\"circle\",\"size\":3},\"mode\":\"markers\",\"name\":\"1\",\"scene\":\"scene\",\"showlegend\":true,\"x\":[-0.012853427132513123,-0.026966621826937952,-0.030378441602135906,-0.009512018208515802,-0.022674257424766295,-0.015488915743597419,-0.01857323844497301,-0.015211344283082389,-0.01761439420669744,-0.010523557891246238,-0.021256515020919027,-0.03316499950769956,-0.04034325174206557,-0.044301215911461335,-0.03277791448877459,-0.052774146926665655,-0.06389019013694312,-0.09857925423653169,-0.08403684188997118,-0.0917956729320947,0.07207399300349143,0.03106116616877841,0.04644621519210039,0.06305849491395363,0.041024164554669854,-0.0058937243527461885,-0.009452940426158374,0.0016850052463942872,-0.01015243877665983,-0.005228899750853753,-0.046083594237594075,-0.029315318489437206,-0.043977109181663664,-0.0408990957303269,-0.043687364178031186,0.07315674485105123,0.03526926173989847,0.06048416513995324,0.04681039851920553,0.04572811776306936,-0.011680275060150406],\"y\":[0.0382351864793691,0.08816815666365359,0.14691598772978434,0.03466012546295579,0.10045167110831783,0.05419277896810897,0.05830468189113861,0.041977366927721076,0.080172306329037,0.030143100612421304,0.02487319420238561,0.04269171050304092,0.03600402998643261,0.08369076794805765,0.06759365611265133,-0.03025375869133968,0.07510200157111799,0.07292529588772202,0.039671606692106044,0.02248836067207085,0.10599231151893174,0.0344349463295303,0.07811170810181974,0.09985005965067505,0.10691448613415691,0.0360707379038005,0.03985369866358357,0.017741495218004947,0.07152198000116129,0.03785122916988475,0.07977974481193047,0.030853837585777977,0.12607187790825214,0.10513737982819457,0.08903505421636718,0.07824388328849359,0.07936560402142444,0.1326215210527786,0.04866827693289413,0.10153152350316912,0.054858347508356914],\"z\":[-0.028372486067671454,-0.015657538944875635,-0.007619480742387984,-0.03500638796330215,-0.01787447530664773,-0.01648634485792838,-0.01776595490642014,-0.019296685714904505,-0.01666373155992347,-0.02917217736307498,-0.0031345871758255393,-0.011537696317252821,0.014443541333937888,0.02024635852883198,0.000976588789707149,0.035256749861000816,0.04187086232162718,0.10158602255067418,0.08144830157307763,0.08569672779976617,0.03277042458797975,-0.0006282537199999608,0.02539324677281589,0.033839222460454156,0.018342121558974456,-0.035118569777679465,-0.030738535162118746,-0.037064150535010595,-0.02890600653272991,-0.039114064122055786,-0.009704369606555734,-0.006471081199145031,-0.014295568943677913,-0.0050033096603864895,-0.015248133239364386,0.05294269435014474,0.010516854642567415,0.048081782790348526,0.020371586894170117,0.023092628008005704,-0.023213582819669103],\"type\":\"scatter3d\"},{\"hovertemplate\":\"Session=2\\u003cbr\\u003ePC1=%{x}\\u003cbr\\u003ePC2=%{y}\\u003cbr\\u003ePC3=%{z}\\u003cextra\\u003e\\u003c\\u002fextra\\u003e\",\"legendgroup\":\"2\",\"marker\":{\"color\":\"#EF553B\",\"symbol\":\"circle\",\"size\":3},\"mode\":\"markers\",\"name\":\"2\",\"scene\":\"scene\",\"showlegend\":true,\"x\":[-0.014001590843093995,-0.012933373699224248,-0.01411586320058547,-0.01135450636543647,-0.013410564673541214,0.0033041629503185975,0.0016338932135567487,-0.0065095780634965555,0.0011876806558070736,0.0008243605545923023,-0.03898506770874659,-0.008062202269877401,-0.05683375722853476,-0.04580550761109292,-0.03637654448124519,-0.07550270381642694,-0.030753221580541217,-0.12122784923441687,-0.10544583449966996,-0.062260276748441507,0.12114106410187193,0.047580225369405926,0.0799663139427052,0.0684437469990744,0.1066917494896972,0.0023131126897111692,-0.002531816107544713,0.0016849004586193435,0.00042418642419197496,0.0030335543234522827,-0.03247011400895521,-0.017817090348343244,-0.02724040062819536,-0.02335198975879356,-0.02398003175677965,0.11935969232265953,0.050839809617485576,0.13357617683392634,0.10972994142182031,0.1428885718944108,-0.007462762186063829],\"y\":[-0.022530490494113174,-0.027323411951526808,-0.018971575847219257,-0.02482404164372632,-0.023682970589548092,-0.028788289424286177,-0.028425714751209807,-0.024255811978441042,-0.031562195272734316,-0.030629101684775978,-0.03538781570995691,-0.02109556174333923,-0.052434971364550456,-0.05047511877110606,-0.041503582804628486,-0.04997618542927902,-0.03785419018738248,-0.06410172383476094,-0.06720884377246199,-0.0538967618965124,-0.007264210470930815,-0.033817851217299966,-0.026544080353541513,-0.027281703917198447,-0.03253225312925179,-0.02668367505690258,-0.024355765052368337,-0.02786552471348839,-0.028489924528289415,-0.031377563774647246,-0.022723323433743364,-0.03026599705008771,-0.022390656431233794,-0.011468484166402698,-0.024437307515186822,-0.014383288407955717,-0.03637943338758806,-0.010030353281659087,-0.03665677525047833,-0.043450970464914064,-0.028339942789483454],\"z\":[-0.02749212142240126,-0.03350842211532881,-0.0323639330234303,-0.04306966068717939,-0.03317016655799898,-0.03120373193940226,-0.040904297086152466,-0.027703701096866318,-0.03882772275169345,-0.04034827594032196,0.010114227715963417,-0.02630878774949231,0.031171466598052706,0.015457613122598371,0.0016264965276833222,0.06933431205798414,-0.0011941577481761308,0.13053658893390552,0.10981603224794148,0.047709754996441214,0.04429053368497314,0.00847806950850815,0.012977595133874888,0.003049518007084635,0.029558153266803923,-0.043315329349760893,-0.04660412493063292,-0.044510039040267034,-0.04514414300991591,-0.044979312091417555,-0.008740013641562358,-0.01684216451971394,-0.02373466967534542,-0.02430584337243731,-0.017319482484636,0.053597614287514785,-0.003731293066930413,0.059097773654485486,0.036865971697450456,0.05197624749509761,-0.02877654428293],\"type\":\"scatter3d\"},{\"hovertemplate\":\"Session=3\\u003cbr\\u003ePC1=%{x}\\u003cbr\\u003ePC2=%{y}\\u003cbr\\u003ePC3=%{z}\\u003cextra\\u003e\\u003c\\u002fextra\\u003e\",\"legendgroup\":\"3\",\"marker\":{\"color\":\"#00cc96\",\"symbol\":\"circle\",\"size\":3},\"mode\":\"markers\",\"name\":\"3\",\"scene\":\"scene\",\"showlegend\":true,\"x\":[-0.0016525886659643756,-0.009659430855597922,-0.004162984359795903,-0.004241959554180389,-0.006816517438726103,0.00031463377660643707,-0.0004792966998557772,-0.0010007427753141755,-0.001654965138276647,-0.022713054370790978,-0.01073843216574305,-0.04049071738322427,-0.043940177095767204,-0.011917170365623148,-0.07769243138603953,-0.05225238753590336,-0.07494505448203467,-0.10736767073571316,-0.05992810452308778,0.09081920535637163,0.06173677494863852,0.06559085140299065,0.051020865122300155,0.07069414770549858,-9.639124894781324e-05,-0.0014418605907874135,-0.0020404020050734497,0.00295927372694164,0.0007931040852765547,-0.03502851855171833,-0.03462357756184759,-0.03126726913225922,-0.024282533605385275,-0.023444780103508936,0.16303107623239188,0.11847354773740193,0.11145171550475175,0.10458855586599088,0.10869135392131009,-0.00018733085091646],\"y\":[-0.019400206245514074,-0.03657557805770882,-0.02147843190134286,-0.02657296101092741,-0.029202635496633256,-0.027662145763789187,-0.028898675752875035,-0.03223127950527143,-0.032839693958371614,-0.03380076428367816,-0.035742449814923825,-0.046761843245382656,-0.0434999672530359,-0.02915560692812473,-0.056195984270338215,-0.0534851899144545,-0.05242991580084189,-0.07375609783731456,-0.04685284484493605,-0.014120737027472954,-0.03611494748025822,-0.026793298124050798,-0.02962102836949587,-0.03680020816204919,-0.026435380554991894,-0.03401705049415372,-0.03238294939506417,-0.03143546099022142,-0.027594413108769797,-0.013509868814063882,-0.04344215006803552,-0.024017545865878006,-0.03269110555846097,-0.03622752051740239,-0.014901485435022559,-0.04633738379709402,-0.030764982919103047,-0.03951030687735203,-0.045330024326355155,-0.032260367090970944],\"z\":[-0.041158136665304594,-0.041591188589316104,-0.03756022962452747,-0.0457498000916499,-0.036807796425361174,-0.04200653630324039,-0.046228700624094274,-0.03757888954000055,-0.03729119489397137,0.0008289987269005355,-0.03729594709583241,0.013586231868060244,0.01519213658709967,-0.029345493265012915,0.06908631211931222,0.023425838712866253,0.0657253124166894,0.10975235091928412,0.05121057246822972,0.02121830021550989,-0.004244385196311847,-0.0002396579546680988,-0.012352038155860771,-0.0011224376355658617,-0.03795014546704714,-0.04866165631164279,-0.03884113758880424,-0.0496104169336167,-0.04832477084505978,-0.0063467585975939215,0.002570376740579974,-0.015221668102732658,-0.022958372989620425,-0.01905674908470531,0.08222257748606307,0.04776923645342655,0.036374777377777376,0.027825112752525118,0.032143299487189095,-0.03572990028781807],\"type\":\"scatter3d\"}],                        {\"template\":{\"data\":{\"histogram2dcontour\":[{\"type\":\"histogram2dcontour\",\"colorbar\":{\"outlinewidth\":0,\"ticks\":\"\"},\"colorscale\":[[0.0,\"#0d0887\"],[0.1111111111111111,\"#46039f\"],[0.2222222222222222,\"#7201a8\"],[0.3333333333333333,\"#9c179e\"],[0.4444444444444444,\"#bd3786\"],[0.5555555555555556,\"#d8576b\"],[0.6666666666666666,\"#ed7953\"],[0.7777777777777778,\"#fb9f3a\"],[0.8888888888888888,\"#fdca26\"],[1.0,\"#f0f921\"]]}],\"choropleth\":[{\"type\":\"choropleth\",\"colorbar\":{\"outlinewidth\":0,\"ticks\":\"\"}}],\"histogram2d\":[{\"type\":\"histogram2d\",\"colorbar\":{\"outlinewidth\":0,\"ticks\":\"\"},\"colorscale\":[[0.0,\"#0d0887\"],[0.1111111111111111,\"#46039f\"],[0.2222222222222222,\"#7201a8\"],[0.3333333333333333,\"#9c179e\"],[0.4444444444444444,\"#bd3786\"],[0.5555555555555556,\"#d8576b\"],[0.6666666666666666,\"#ed7953\"],[0.7777777777777778,\"#fb9f3a\"],[0.8888888888888888,\"#fdca26\"],[1.0,\"#f0f921\"]]}],\"heatmap\":[{\"type\":\"heatmap\",\"colorbar\":{\"outlinewidth\":0,\"ticks\":\"\"},\"colorscale\":[[0.0,\"#0d0887\"],[0.1111111111111111,\"#46039f\"],[0.2222222222222222,\"#7201a8\"],[0.3333333333333333,\"#9c179e\"],[0.4444444444444444,\"#bd3786\"],[0.5555555555555556,\"#d8576b\"],[0.6666666666666666,\"#ed7953\"],[0.7777777777777778,\"#fb9f3a\"],[0.8888888888888888,\"#fdca26\"],[1.0,\"#f0f921\"]]}],\"heatmapgl\":[{\"type\":\"heatmapgl\",\"colorbar\":{\"outlinewidth\":0,\"ticks\":\"\"},\"colorscale\":[[0.0,\"#0d0887\"],[0.1111111111111111,\"#46039f\"],[0.2222222222222222,\"#7201a8\"],[0.3333333333333333,\"#9c179e\"],[0.4444444444444444,\"#bd3786\"],[0.5555555555555556,\"#d8576b\"],[0.6666666666666666,\"#ed7953\"],[0.7777777777777778,\"#fb9f3a\"],[0.8888888888888888,\"#fdca26\"],[1.0,\"#f0f921\"]]}],\"contourcarpet\":[{\"type\":\"contourcarpet\",\"colorbar\":{\"outlinewidth\":0,\"ticks\":\"\"}}],\"contour\":[{\"type\":\"contour\",\"colorbar\":{\"outlinewidth\":0,\"ticks\":\"\"},\"colorscale\":[[0.0,\"#0d0887\"],[0.1111111111111111,\"#46039f\"],[0.2222222222222222,\"#7201a8\"],[0.3333333333333333,\"#9c179e\"],[0.4444444444444444,\"#bd3786\"],[0.5555555555555556,\"#d8576b\"],[0.6666666666666666,\"#ed7953\"],[0.7777777777777778,\"#fb9f3a\"],[0.8888888888888888,\"#fdca26\"],[1.0,\"#f0f921\"]]}],\"surface\":[{\"type\":\"surface\",\"colorbar\":{\"outlinewidth\":0,\"ticks\":\"\"},\"colorscale\":[[0.0,\"#0d0887\"],[0.1111111111111111,\"#46039f\"],[0.2222222222222222,\"#7201a8\"],[0.3333333333333333,\"#9c179e\"],[0.4444444444444444,\"#bd3786\"],[0.5555555555555556,\"#d8576b\"],[0.6666666666666666,\"#ed7953\"],[0.7777777777777778,\"#fb9f3a\"],[0.8888888888888888,\"#fdca26\"],[1.0,\"#f0f921\"]]}],\"mesh3d\":[{\"type\":\"mesh3d\",\"colorbar\":{\"outlinewidth\":0,\"ticks\":\"\"}}],\"scatter\":[{\"fillpattern\":{\"fillmode\":\"overlay\",\"size\":10,\"solidity\":0.2},\"type\":\"scatter\"}],\"parcoords\":[{\"type\":\"parcoords\",\"line\":{\"colorbar\":{\"outlinewidth\":0,\"ticks\":\"\"}}}],\"scatterpolargl\":[{\"type\":\"scatterpolargl\",\"marker\":{\"colorbar\":{\"outlinewidth\":0,\"ticks\":\"\"}}}],\"bar\":[{\"error_x\":{\"color\":\"#2a3f5f\"},\"error_y\":{\"color\":\"#2a3f5f\"},\"marker\":{\"line\":{\"color\":\"#E5ECF6\",\"width\":0.5},\"pattern\":{\"fillmode\":\"overlay\",\"size\":10,\"solidity\":0.2}},\"type\":\"bar\"}],\"scattergeo\":[{\"type\":\"scattergeo\",\"marker\":{\"colorbar\":{\"outlinewidth\":0,\"ticks\":\"\"}}}],\"scatterpolar\":[{\"type\":\"scatterpolar\",\"marker\":{\"colorbar\":{\"outlinewidth\":0,\"ticks\":\"\"}}}],\"histogram\":[{\"marker\":{\"pattern\":{\"fillmode\":\"overlay\",\"size\":10,\"solidity\":0.2}},\"type\":\"histogram\"}],\"scattergl\":[{\"type\":\"scattergl\",\"marker\":{\"colorbar\":{\"outlinewidth\":0,\"ticks\":\"\"}}}],\"scatter3d\":[{\"type\":\"scatter3d\",\"line\":{\"colorbar\":{\"outlinewidth\":0,\"ticks\":\"\"}},\"marker\":{\"colorbar\":{\"outlinewidth\":0,\"ticks\":\"\"}}}],\"scattermapbox\":[{\"type\":\"scattermapbox\",\"marker\":{\"colorbar\":{\"outlinewidth\":0,\"ticks\":\"\"}}}],\"scatterternary\":[{\"type\":\"scatterternary\",\"marker\":{\"colorbar\":{\"outlinewidth\":0,\"ticks\":\"\"}}}],\"scattercarpet\":[{\"type\":\"scattercarpet\",\"marker\":{\"colorbar\":{\"outlinewidth\":0,\"ticks\":\"\"}}}],\"carpet\":[{\"aaxis\":{\"endlinecolor\":\"#2a3f5f\",\"gridcolor\":\"white\",\"linecolor\":\"white\",\"minorgridcolor\":\"white\",\"startlinecolor\":\"#2a3f5f\"},\"baxis\":{\"endlinecolor\":\"#2a3f5f\",\"gridcolor\":\"white\",\"linecolor\":\"white\",\"minorgridcolor\":\"white\",\"startlinecolor\":\"#2a3f5f\"},\"type\":\"carpet\"}],\"table\":[{\"cells\":{\"fill\":{\"color\":\"#EBF0F8\"},\"line\":{\"color\":\"white\"}},\"header\":{\"fill\":{\"color\":\"#C8D4E3\"},\"line\":{\"color\":\"white\"}},\"type\":\"table\"}],\"barpolar\":[{\"marker\":{\"line\":{\"color\":\"#E5ECF6\",\"width\":0.5},\"pattern\":{\"fillmode\":\"overlay\",\"size\":10,\"solidity\":0.2}},\"type\":\"barpolar\"}],\"pie\":[{\"automargin\":true,\"type\":\"pie\"}]},\"layout\":{\"autotypenumbers\":\"strict\",\"colorway\":[\"#636efa\",\"#EF553B\",\"#00cc96\",\"#ab63fa\",\"#FFA15A\",\"#19d3f3\",\"#FF6692\",\"#B6E880\",\"#FF97FF\",\"#FECB52\"],\"font\":{\"color\":\"#2a3f5f\"},\"hovermode\":\"closest\",\"hoverlabel\":{\"align\":\"left\"},\"paper_bgcolor\":\"white\",\"plot_bgcolor\":\"#E5ECF6\",\"polar\":{\"bgcolor\":\"#E5ECF6\",\"angularaxis\":{\"gridcolor\":\"white\",\"linecolor\":\"white\",\"ticks\":\"\"},\"radialaxis\":{\"gridcolor\":\"white\",\"linecolor\":\"white\",\"ticks\":\"\"}},\"ternary\":{\"bgcolor\":\"#E5ECF6\",\"aaxis\":{\"gridcolor\":\"white\",\"linecolor\":\"white\",\"ticks\":\"\"},\"baxis\":{\"gridcolor\":\"white\",\"linecolor\":\"white\",\"ticks\":\"\"},\"caxis\":{\"gridcolor\":\"white\",\"linecolor\":\"white\",\"ticks\":\"\"}},\"coloraxis\":{\"colorbar\":{\"outlinewidth\":0,\"ticks\":\"\"}},\"colorscale\":{\"sequential\":[[0.0,\"#0d0887\"],[0.1111111111111111,\"#46039f\"],[0.2222222222222222,\"#7201a8\"],[0.3333333333333333,\"#9c179e\"],[0.4444444444444444,\"#bd3786\"],[0.5555555555555556,\"#d8576b\"],[0.6666666666666666,\"#ed7953\"],[0.7777777777777778,\"#fb9f3a\"],[0.8888888888888888,\"#fdca26\"],[1.0,\"#f0f921\"]],\"sequentialminus\":[[0.0,\"#0d0887\"],[0.1111111111111111,\"#46039f\"],[0.2222222222222222,\"#7201a8\"],[0.3333333333333333,\"#9c179e\"],[0.4444444444444444,\"#bd3786\"],[0.5555555555555556,\"#d8576b\"],[0.6666666666666666,\"#ed7953\"],[0.7777777777777778,\"#fb9f3a\"],[0.8888888888888888,\"#fdca26\"],[1.0,\"#f0f921\"]],\"diverging\":[[0,\"#8e0152\"],[0.1,\"#c51b7d\"],[0.2,\"#de77ae\"],[0.3,\"#f1b6da\"],[0.4,\"#fde0ef\"],[0.5,\"#f7f7f7\"],[0.6,\"#e6f5d0\"],[0.7,\"#b8e186\"],[0.8,\"#7fbc41\"],[0.9,\"#4d9221\"],[1,\"#276419\"]]},\"xaxis\":{\"gridcolor\":\"white\",\"linecolor\":\"white\",\"ticks\":\"\",\"title\":{\"standoff\":15},\"zerolinecolor\":\"white\",\"automargin\":true,\"zerolinewidth\":2},\"yaxis\":{\"gridcolor\":\"white\",\"linecolor\":\"white\",\"ticks\":\"\",\"title\":{\"standoff\":15},\"zerolinecolor\":\"white\",\"automargin\":true,\"zerolinewidth\":2},\"scene\":{\"xaxis\":{\"backgroundcolor\":\"#E5ECF6\",\"gridcolor\":\"white\",\"linecolor\":\"white\",\"showbackground\":true,\"ticks\":\"\",\"zerolinecolor\":\"white\",\"gridwidth\":2},\"yaxis\":{\"backgroundcolor\":\"#E5ECF6\",\"gridcolor\":\"white\",\"linecolor\":\"white\",\"showbackground\":true,\"ticks\":\"\",\"zerolinecolor\":\"white\",\"gridwidth\":2},\"zaxis\":{\"backgroundcolor\":\"#E5ECF6\",\"gridcolor\":\"white\",\"linecolor\":\"white\",\"showbackground\":true,\"ticks\":\"\",\"zerolinecolor\":\"white\",\"gridwidth\":2}},\"shapedefaults\":{\"line\":{\"color\":\"#2a3f5f\"}},\"annotationdefaults\":{\"arrowcolor\":\"#2a3f5f\",\"arrowhead\":0,\"arrowwidth\":1},\"geo\":{\"bgcolor\":\"white\",\"landcolor\":\"#E5ECF6\",\"subunitcolor\":\"white\",\"showland\":true,\"showlakes\":true,\"lakecolor\":\"white\"},\"title\":{\"x\":0.05},\"mapbox\":{\"style\":\"light\"}}},\"scene\":{\"domain\":{\"x\":[0.0,1.0],\"y\":[0.0,1.0]},\"xaxis\":{\"title\":{\"text\":\"PC1\"}},\"yaxis\":{\"title\":{\"text\":\"PC2\"}},\"zaxis\":{\"title\":{\"text\":\"PC3\"}},\"camera\":{\"eye\":{\"x\":0.2,\"y\":-2.0,\"z\":1}},\"aspectmode\":\"data\"},\"legend\":{\"title\":{\"text\":\"Session\"},\"tracegroupgap\":0},\"title\":{\"text\":\"First 3 PCs on Mean Response of Each Cell to Each DG Stimulus Over Time\"},\"font\":{\"size\":11},\"width\":800,\"height\":600},                        {\"responsive\": true}                    ).then(function(){\n",
       "                            \n",
       "var gd = document.getElementById('f7fc6e6e-91d5-48cd-b316-ad0d9b3d2bdc');\n",
       "var x = new MutationObserver(function (mutations, observer) {{\n",
       "        var display = window.getComputedStyle(gd).display;\n",
       "        if (!display || display === 'none') {{\n",
       "            console.log([gd, 'removed!']);\n",
       "            Plotly.purge(gd);\n",
       "            observer.disconnect();\n",
       "        }}\n",
       "}});\n",
       "\n",
       "// Listen for the removal of the full notebook cells\n",
       "var notebookContainer = gd.closest('#notebook-container');\n",
       "if (notebookContainer) {{\n",
       "    x.observe(notebookContainer, {childList: true});\n",
       "}}\n",
       "\n",
       "// Listen for the clearing of the current output cell\n",
       "var outputEl = gd.closest('.output');\n",
       "if (outputEl) {{\n",
       "    x.observe(outputEl, {childList: true});\n",
       "}}\n",
       "\n",
       "                        })                };                });            </script>        </div>"
      ]
     },
     "metadata": {},
     "output_type": "display_data"
    }
   ],
   "source": [
    "# PCA Model: 3D Visualization\n",
    "fig = px.scatter_3d(transformed_data_pca, x=0, y=1, z=2, color=\"Session\", labels = {\"0\": \"PC1\",\"1\": \"PC2\", \"2\": \"PC3\"}, title = \"First 3 PCs on Mean Response of Each Cell to Each DG Stimulus Over Time\")\n",
    "fig.update_traces(marker_size=3) # reduce size of scatter points from default size\n",
    "fig.update_layout(width=800, height=600, font_size=11, scene_aspectmode=\"data\", scene_camera_eye= dict(x=0.2, y=-2.0, z=1)) # adjust plot appearance\n",
    "fig.show()"
   ]
  },
  {
   "cell_type": "code",
   "execution_count": null,
   "id": "8756bc00",
   "metadata": {},
   "outputs": [],
   "source": [
    "# Static gratings"
   ]
  },
  {
   "cell_type": "code",
   "execution_count": 29,
   "id": "527b8fd2",
   "metadata": {},
   "outputs": [],
   "source": [
    "# Get response matrics\n",
    "response1, response2, response3, sg1_responses_by_stimulus, sg2_responses_by_stimulus, sg3_responses_by_stimulus = get_all_relevant_tables_dg_sg_ns(688678764, \"static_gratings\")"
   ]
  },
  {
   "cell_type": "code",
   "execution_count": 37,
   "id": "ae7502cf",
   "metadata": {},
   "outputs": [],
   "source": [
    "# Transform data for PCA n=3\n",
    "transformed_data_sg = pca_transform_data(sg1_responses_by_stimulus, sg2_responses_by_stimulus, sg3_responses_by_stimulus, 3)"
   ]
  },
  {
   "cell_type": "code",
   "execution_count": 40,
   "id": "358003ff",
   "metadata": {},
   "outputs": [
    {
     "data": {
      "image/png": "[encoded data removed]",
      "text/plain": [
       "<Figure size 576x360 with 1 Axes>"
      ]
     },
     "metadata": {
      "needs_background": "light"
     },
     "output_type": "display_data"
    }
   ],
   "source": [
    "# PCA Model: 2D Visualization\n",
    "fig, ax = plt.subplots(figsize=(8,5))\n",
    "\n",
    "ax.scatter(transformed_data_sg[transformed_data_sg.Session==\"1\"][0], transformed_data_sg[transformed_data_sg.Session==\"1\"][1], label=\"session 1\")\n",
    "ax.scatter(transformed_data_sg[transformed_data_sg.Session==\"2\"][0], transformed_data_sg[transformed_data_sg.Session==\"2\"][1], label=\"session 2\")\n",
    "ax.scatter(transformed_data_sg[transformed_data_sg.Session==\"3\"][0], transformed_data_sg[transformed_data_sg.Session==\"3\"][1], label=\"session 3\")\n",
    "ax.set_xlabel(\"1st PC\")\n",
    "ax.set_ylabel(\"2nd PC\")\n",
    "ax.set_title(\"PCA Analysis on Mean Response of Each Cell to Each SG Stimulus Over Time\")\n",
    "plt.legend(loc=\"upper right\")\n",
    "plt.show()\n"
   ]
  },
  {
   "cell_type": "code",
   "execution_count": 41,
   "id": "a9cd4c11",
   "metadata": {},
   "outputs": [
    {
     "data": {
      "application/vnd.plotly.v1+json": {
       "config": {
        "plotlyServerURL": "https://plot.ly"
       },
       "data": [
        {
         "hovertemplate": "Session=1<br>PC1=%{x}<br>PC2=%{y}<br>PC3=%{z}<extra></extra>",
         "legendgroup": "1",
         "marker": {
          "color": "#636efa",
          "size": 3,
          "symbol": "circle"
         },
         "mode": "markers",
         "name": "1",
         "scene": "scene",
         "showlegend": true,
         "type": "scatter3d",
         "x": [
          -0.0060340145455196285,
          0.005999037104727285,
          0.020632514544844674,
          0.0032083397673772964,
          -0.013795807054097596,
          -0.01024226834182193,
          -0.017320652140999808,
          0.02199625109630198,
          -0.013455200585467644,
          -0.008319932012550373,
          0.028190791406444808,
          0.033335967681984546,
          0.020447897440589002,
          -0.012841632580810593,
          0.03398917188584791,
          0.01529404590676321,
          0.005212065289392984,
          0.018329937832291483,
          0.013893196545652077,
          0.010773828800333824,
          0.10042968824570034,
          0.032856864821120754,
          -0.014070683883748833,
          0.02717007160994722,
          -0.010630062307956795,
          0.00045929319763733916,
          0.0001411216841773861,
          -0.00285773815546337,
          -0.0003330799992451952,
          -0.009213889582376969,
          -0.0037244722517460237,
          -0.015599486220141017,
          -0.001727617675316429,
          -0.009655642606165069,
          0.00019991976042663183,
          -0.009643684831868341,
          -0.0032116963935398244,
          -0.011255870120812979,
          0.002481309814461601,
          -0.015540809717333499,
          0.005599553635964334,
          0.060232083410515586,
          -0.007690290504907504,
          0.004081797745951884,
          -0.011712165705817436,
          -0.008491106641578743,
          -0.011680932628253902,
          -0.006862458601303721,
          0.0003998297470926234,
          -0.004470795485454383,
          -0.0024977936863378345,
          -0.00625220970301188,
          -0.012022824214279372,
          -0.002204970313604384,
          0.000281498869700206,
          -0.004351668837597876,
          0.013895336682331488,
          -0.007788030936857331,
          0.021273679921144015,
          0.023749956904276438,
          0.000917345314045527,
          -0.011337479619562111,
          -0.009765173246237387,
          0.020429914331250708,
          0.002695702407919412,
          -0.018123317933854667,
          -0.004177808198452064,
          -0.012343777895344426,
          -0.00958986940877192,
          -0.005097993086655117,
          -0.0019591508956094713,
          -0.01044042221785614,
          0.008014280842945927,
          -0.014041132511658675,
          0.019071704749845205,
          0.00917128087855009,
          -0.003235025376621791,
          0.018100338977887463,
          0.0026409867298984166,
          -0.004210705978224974,
          4.826114203997057e-05,
          -7.720341137921365e-05,
          -0.0010506297619270217,
          0.01218516124015298,
          -0.0038166550778340395,
          -0.002611965316260696,
          -0.010331938260554585,
          -0.003434959754787503,
          -0.014065699357992486,
          -0.01604586344782351,
          0.01291441193663229,
          -0.017071638504527996,
          -0.007871613520234945,
          -0.004582751746595874,
          0.025303259572011582,
          -0.017715734082079673,
          -0.0031698128275369592,
          -0.00876656796181699,
          0.0028578569915302843,
          -0.0022452276457747234,
          0.01000987081981997,
          -0.007155656656233732,
          0.0045939860108259204,
          0.10182400163269704,
          0.015726777726924265,
          0.010443078148626139,
          0.0048562106594413025,
          0.016840627345341593,
          -0.010022459427721599,
          -0.003478770680358303,
          -0.005530290114292301,
          -0.0015344328601915114,
          -0.0021250343334664155,
          0.003403924560665951,
          0.019445044641031483,
          -0.012175263387317345,
          -0.003793152989887243,
          -0.015346745900975671,
          -0.012039471255028456,
          -0.003538386359865364,
          -0.0034072500557964062
         ],
         "y": [
          -0.0054251972819043814,
          -0.002175728650850749,
          0.006134387799582549,
          -0.0035155637495292076,
          -0.003639718935397346,
          -0.013054817510236735,
          -0.013090318722579052,
          -0.0038772174406190582,
          -0.004494851280703832,
          -0.017605346200925617,
          -0.009638709512528237,
          0.007959737203685771,
          0.004787216966883081,
          -0.014749136606128163,
          0.005486302429107145,
          0.029500635858624984,
          0.005944372420804691,
          -0.007536787211083398,
          -0.00953483522840713,
          -0.004630139295232887,
          -0.014285464478080396,
          0.03136350729680042,
          0.03058967138727722,
          -0.005056236327385324,
          -0.00021264585457199327,
          0.020010046100516522,
          0.02881157166222508,
          0.037004898580954945,
          -0.006980278374717918,
          -0.0045849820727237,
          0.0043774756424863615,
          0.003120007538685854,
          -0.01534835161881679,
          -0.010423047992527431,
          0.0042740121019584545,
          -0.008114531422193542,
          -0.01260392724924397,
          -0.012556209046744603,
          0.006095894265441585,
          -0.0020213181958672723,
          -0.010723131352716816,
          -0.001863930470462126,
          -0.00758799386079036,
          -0.011849367860500087,
          -0.007734022666447898,
          -0.012552843885968334,
          -0.011397901125812161,
          -0.004429155324419064,
          -0.006414668400587448,
          -0.003853276220525463,
          -0.005507535118963954,
          -0.002532434234423989,
          -0.00747500150001233,
          -0.014217204915317165,
          -0.006363425387372338,
          -0.0013082388667849543,
          -0.005329433318118587,
          -0.003080668264317856,
          -0.011855771843335139,
          0.002258840430110758,
          0.017135969613537097,
          -0.016325206956627463,
          0.011815068209377876,
          0.021139692998548065,
          2.985516108421852e-05,
          -0.00888854776079024,
          0.017853964983644298,
          -0.009855046976464435,
          0.018321529332724094,
          -0.010597773387361014,
          -0.011548966555595785,
          0.01336453308444103,
          -0.012645036737174292,
          -0.0043925967119982645,
          -0.0004427784785386705,
          -0.013134546375079057,
          -0.0006245336045528585,
          0.002542606546433559,
          0.0008212870833087527,
          -0.008981105786147945,
          0.045283680362648675,
          0.002182979492839658,
          -0.01287980927434913,
          0.006016436565734793,
          -0.008825455872904203,
          -0.010674915290381991,
          0.0070111385007589865,
          0.01048347288966325,
          0.00014739129889953845,
          -0.014431823139764204,
          -0.005214241750081479,
          -0.00801754270404848,
          -0.002354540123365091,
          -0.010681935679385909,
          0.003815916275210507,
          -0.013132532797403545,
          -0.006759758497225992,
          -0.008998913512437864,
          -0.006955033543594849,
          -0.007237199967933046,
          -0.0019736760945852586,
          0.08555112197328918,
          -0.007607190013732157,
          -0.009077271420463473,
          0.09598611179444516,
          0.06374464002143854,
          0.0036747510670829767,
          -0.0011188480743417127,
          0.006591957060657589,
          -0.0029052867674715303,
          0.006318239801364209,
          -0.0018360259991211194,
          0.0014437827116606863,
          -0.003652163940845464,
          -0.011236125040100136,
          -0.016176084071691944,
          -0.005828837949008491,
          -0.003038598806637641,
          -0.010409270476051748,
          -0.00919283052555953,
          -0.007524311444007118
         ],
         "z": [
          0.00636519844787772,
          -0.0033120806023376795,
          -0.006543157528634,
          0.0033012320318713496,
          0.0005711408877834042,
          0.0015290939425870922,
          -0.003244781329436234,
          -0.010109156472347844,
          0.0050453876102784356,
          -0.003845704895936394,
          -0.003445904694197602,
          -4.288008650027149e-05,
          0.005971712815660498,
          -0.005340711413788453,
          -0.0025127016577626265,
          0.010081717591771698,
          0.008860304801162972,
          0.0022770721864519704,
          -0.0014155505270433777,
          0.011007066686806326,
          0.002137942398967219,
          0.00696167837031394,
          -0.039345194861586136,
          0.00975683553837632,
          0.002971801402232091,
          0.010344206557317893,
          -0.030336407683535488,
          -0.03984662868988264,
          -0.0078104374930779265,
          -0.008869136805480337,
          -0.011687167396189066,
          0.0035952184840582525,
          -0.0046315928958746005,
          -0.010941322140264461,
          0.016216054259709147,
          -0.0024714637775632826,
          0.0024552881651967585,
          -0.000943380386160701,
          -0.015976497242211028,
          -0.005592114343833464,
          -0.0023567819316403027,
          0.010324027992684925,
          -0.008186538850734573,
          -0.004422531854697959,
          -0.004302304064615854,
          -0.006953550427932569,
          0.0018992955814666204,
          -0.0036969432314158408,
          -0.005868605195253764,
          0.00013387425463914183,
          -0.005915162545762237,
          0.00043197686017320045,
          -0.006656062797138535,
          -0.003760405388753024,
          -0.009998181629836305,
          -0.008192651635557527,
          -0.0014254787625470975,
          0.0029427612294175205,
          0.0020058435402171533,
          0.004721820766501414,
          0.027103715792437966,
          -0.0028791761158438126,
          0.005623954952926519,
          0.030894470432830022,
          -0.00040015676730367853,
          0.007550691958201838,
          -0.02229987077880193,
          0.0076413674925223055,
          0.0020577494286865856,
          0.006133780273344835,
          0.002201454272496937,
          -0.0006360704692743814,
          -0.0015067600136403991,
          -0.007782700184574812,
          0.004590183377587216,
          0.008351682661304639,
          0.004580078177888157,
          0.0020227105708868027,
          0.0015228958496265883,
          -0.005912987809831234,
          0.074529609786805,
          0.02156335277958402,
          0.0006899045842982787,
          -0.0029274141454744243,
          0.00885526894568137,
          0.00863433606674141,
          0.013495393160203803,
          0.03747146584468329,
          0.007957300396385605,
          -0.0009385445949152354,
          0.002051447207591331,
          0.006102706272225526,
          -0.004204449773673808,
          -0.004340507446594475,
          -0.0016658398953499527,
          -0.0014690446565992009,
          0.005023609911153772,
          -0.011165547504540824,
          -0.002072665538821124,
          -0.00017749129006579484,
          -0.0050060785980559405,
          -0.015483105781114002,
          0.00330896529367983,
          0.006409920130909264,
          -0.0037753547634876558,
          0.013917054302954066,
          0.004873779943765553,
          0.0044692257341273686,
          0.015452111267382596,
          0.004465968391111914,
          0.006009512254187701,
          0.0030056741252125273,
          0.0023999321127308277,
          0.010219626746019632,
          -0.005945712822630259,
          -0.00016491469173423684,
          0.001660888154804837,
          0.008716259387183132,
          -0.001909029801574852,
          -0.006151442881693867,
          7.319436618909576e-05
         ]
        },
        {
         "hovertemplate": "Session=2<br>PC1=%{x}<br>PC2=%{y}<br>PC3=%{z}<extra></extra>",
         "legendgroup": "2",
         "marker": {
          "color": "#EF553B",
          "size": 3,
          "symbol": "circle"
         },
         "mode": "markers",
         "name": "2",
         "scene": "scene",
         "showlegend": true,
         "type": "scatter3d",
         "x": [
          -0.0007497263283227779,
          -0.012253438472167045,
          -0.011271522371943163,
          0.008517571197323034,
          -0.018655520809226663,
          0.003023855519047453,
          0.0020332336330932187,
          -0.018084343945384433,
          0.0016815493843076804,
          -0.005831110552691673,
          0.004492761018082541,
          0.0021551862438353594,
          -0.0063386364461689455,
          0.0014813016972978872,
          -0.004855543147109724,
          -0.0032575382104076873,
          -0.0024263872225143367,
          0.014101485038896912,
          -0.005712241344231197,
          0.006870079473012914,
          0.11121893897105233,
          0.0005341639411530026,
          -0.009704592009344119,
          0.004359131597855206,
          -0.012592421952285944,
          0.01792207920063406,
          -0.015461435918387521,
          -0.012531787950570734,
          -0.015610539143820082,
          -0.010413442549304618,
          -0.0010403847404880724,
          -0.010991118677104145,
          -0.01546812721698702,
          -0.005700512037320377,
          -0.011841082155536574,
          -0.0027411777242668496,
          -0.007395835155583103,
          -0.0007706106051630394,
          -0.012008123819558757,
          -0.009298457460673122,
          0.016488166843171392,
          0.03371481487667539,
          -0.003985766092511955,
          -0.018352081722947545,
          -0.014818603736954719,
          -0.007199975467014585,
          -0.007117997570232231,
          -0.01322048691973872,
          -0.0070506834901659194,
          -0.0005475367549353802,
          -0.011775623582436954,
          -0.012871891000534041,
          -0.019049680394825092,
          -0.0028681361770036633,
          0.004121157846162618,
          0.013752671520040255,
          -0.0034318895106574213,
          0.004831772340244844,
          0.0023271611041684208,
          0.03839759119047358,
          -0.013043949144495349,
          -0.011538881507598766,
          -0.0021272711300445576,
          -0.003996773879091493,
          -0.00800142571696344,
          -0.011823226236542805,
          -0.013531352097731802,
          -0.008872262545592776,
          -0.018224670568040856,
          -0.013582344089382258,
          -0.005429075385179628,
          0.012222737600718825,
          -0.007564149103131588,
          -0.006748096953837372,
          -0.01137603045039482,
          -0.01040929903584701,
          -0.0033706776898885463,
          -0.0005216322775316697,
          -0.0057841580472428634,
          -0.0027201656237022666,
          -0.007779309931975631,
          -0.01619217492051492,
          0.014101931010764415,
          0.018775971728567608,
          -0.013523420174646701,
          -0.010339396030783826,
          -0.01828158838433908,
          -0.02093748265165856,
          -0.014385297409300543,
          0.004066359844552231,
          -0.0006269461868029197,
          -0.009856310733682245,
          -0.013802568547428758,
          -0.0032296915780731955,
          -0.005439649402880912,
          -0.009486532868949146,
          -0.0009317808944055228,
          -0.014911381460736482,
          -0.009314533854125099,
          -0.0030549101935851454,
          0.03525073043247179,
          0.001340916547105062,
          0.006966218393583886,
          0.13565954729539728,
          0.005220402814257659,
          -0.003699617858587436,
          0.005942278260534369,
          0.0015980567960172782,
          -0.004713015326535409,
          -0.005762132362585128,
          -0.008221778462676058,
          0.0021938239095925004,
          0.0003971682048685666,
          0.014698897026282224,
          -0.006220164397363436,
          -0.014021831037193825,
          -0.009670785301866798,
          -0.005828306481023673,
          0.0070638038568680145,
          -0.013514344873928323,
          -0.0004526087085140203
         ],
         "y": [
          0.0015847233653181894,
          -0.004744076213342553,
          0.007737646714331796,
          0.005270993212218355,
          -0.014632580125340496,
          -0.00686648816597801,
          -0.015566407142440723,
          -0.013891439488435128,
          -0.003395266339732733,
          -0.008927077045664887,
          0.0015314715013732706,
          -0.01788414110015813,
          -0.00770190616489473,
          0.02522830966232479,
          -0.011255563858437595,
          -0.017438874555926076,
          -0.01416175353007506,
          -0.0020735504988636778,
          -0.006798713707885955,
          -0.004086253789795582,
          -0.015265210430964113,
          0.02098810868094432,
          0.0635967962563102,
          -0.007213587962551804,
          -0.00970326451321053,
          0.0010746935587276508,
          0.04559025466590855,
          0.01886077348746741,
          -0.006205274593793436,
          -0.014825621095004977,
          -0.012283114530440887,
          -0.0068674294523020825,
          -0.005137046841141922,
          -0.006499405147252278,
          -0.010291703930848108,
          -0.011803575638707115,
          -0.00866329248418919,
          -0.01171342187098351,
          -0.013910997015833667,
          -0.00414302258521546,
          -0.0023400762463079063,
          -0.005969746284542195,
          0.026076372119810013,
          -0.007104886813190804,
          -0.0002057559488616524,
          -0.014077150852936331,
          -0.004385619963225322,
          -0.012694104093891828,
          0.008395988658450763,
          -0.004385325764379961,
          -0.006359308704389381,
          -0.011019193344615982,
          -0.00813417240885209,
          0.0040399909684384686,
          -0.01617387067029573,
          -0.01361041379939077,
          -0.016143521370335732,
          -0.009137664059330738,
          -0.00037364925076698724,
          -0.0015951630885146892,
          -0.008968930876704938,
          -0.001253634276130405,
          -0.002102871031037677,
          -0.00581187836716803,
          -0.0015960894787163606,
          0.0009325611967742134,
          -0.00886249814866475,
          0.007777511750769734,
          -0.008217583419281603,
          -0.015462652701522408,
          -0.008109590959691576,
          -0.01699563096832562,
          -0.016429726742518767,
          -0.010547103246950094,
          -0.015752720263001518,
          -0.015180365798345752,
          -0.008861947860418093,
          -0.006620027783178642,
          -0.010605906667344372,
          -0.009159454327154202,
          0.04125957199190415,
          0.015551058891797595,
          -0.018402257915457326,
          -0.007259504735262211,
          0.004191319120164413,
          -0.006365563847094736,
          0.012745327162734814,
          0.015083025029000819,
          -0.008183916598326665,
          -0.010040454308443181,
          -0.005900293701368123,
          -0.008721266336414254,
          -0.012939113952765816,
          -0.01646168691406574,
          -0.006784592333954111,
          0.010771521724926375,
          -0.016235126243186612,
          -0.012432684303205052,
          0.013405680872035183,
          -0.012322319955954618,
          0.01725536302582204,
          0.06341619133434742,
          -0.003494551188529954,
          0.000963629438846543,
          0.08463042656841165,
          0.05558288310470103,
          -0.004685529095563725,
          -0.0011633468628534439,
          -0.0019567259977033334,
          0.00588966686820646,
          0.0021540769787157473,
          0.008560769180692067,
          0.0017064755259180153,
          0.009927455117794616,
          -0.0031012176942213474,
          -0.01664544240528997,
          0.011300334588807923,
          -0.008410089598861683,
          -8.232189113999144e-06,
          -0.0034605589075216597,
          -0.0033828050076229305
         ],
         "z": [
          -0.0012349014003366656,
          0.0010260952025001957,
          0.004610919653299901,
          0.012198022885468607,
          -0.0061253039651231,
          0.015294292069881085,
          -0.0005145835985060827,
          -0.0026752921956452267,
          -0.010658900465612915,
          0.0026339451574563816,
          -0.016792561700708482,
          -0.004701085726484736,
          -0.0015631671297066435,
          -0.018731706675757607,
          -1.036581331586954e-05,
          -0.005907856448092753,
          -0.0037269294286872683,
          -0.012607143012717011,
          -0.009880816306207128,
          0.0026078960400384857,
          -0.006868551995898163,
          -0.014833588504364413,
          -0.05659868296454197,
          -0.013648322777400024,
          -0.008360680158325588,
          0.005223883199748086,
          -0.03954060227920172,
          -0.02020170898808171,
          0.0035329500757323587,
          0.00020978566465059464,
          -0.004951078059307966,
          -0.00507749946942608,
          -0.0005704117901835146,
          0.011997979765881907,
          0.0009230876219083637,
          -0.00375153669595661,
          -0.004354501601308602,
          -0.0053085636233335095,
          -0.007172350095444824,
          -0.012204096753274859,
          0.0024326812888263395,
          -0.003906528082756611,
          -0.034711329847509555,
          0.0030781701000053468,
          0.0031124311996389327,
          0.0024067407553108352,
          0.0033247394514720023,
          -0.005356472697414601,
          0.0026047761463677222,
          -0.0011289372502470048,
          0.0011247662899778934,
          0.00478286515574217,
          -0.0012970151821210334,
          -0.0039596476922214695,
          -0.005460613046887518,
          -0.0023550967189035913,
          -0.003298087112929105,
          0.009067258893739428,
          -0.006965903214982779,
          0.004810624726200956,
          0.014463535714984049,
          0.0013835298439604455,
          -0.0028392968918528882,
          0.0065368371511655915,
          0.0034945583805446215,
          0.012853194753510072,
          0.0047492972022078125,
          0.0038056144444808737,
          -0.005378490815509597,
          -0.002786459783035748,
          -0.00403972437267385,
          -0.0031960545411125496,
          -0.004992986271224722,
          -0.00411527103738939,
          -9.85000729688287e-05,
          -0.004634915163654386,
          -0.0010200142940319603,
          0.006732953684166918,
          -0.0010260526682791804,
          -0.004993931472642929,
          0.0656554224711024,
          0.03012744146269123,
          -0.002217673277516153,
          -9.21084284397788e-05,
          0.013627473655695815,
          0.001515449107764673,
          0.042529725699070896,
          0.04090374519963954,
          0.005355723416812499,
          0.003034049458260667,
          -0.009377151840017445,
          -0.0042863956881625045,
          -0.006202795054398528,
          -0.005125549349199665,
          -0.001273799902282539,
          0.005445137870548836,
          -0.0025653821313388224,
          -0.0026671415969235046,
          0.009117665544856875,
          0.006952887021280407,
          -0.0026011363662388413,
          -0.022332596481640515,
          0.011543928648586981,
          0.02467913631745464,
          -0.01258513585723691,
          0.001957773035581847,
          -0.00694747039207821,
          -0.00431388213529305,
          0.0006276068350180659,
          -0.01665309268754702,
          0.0015157491168132076,
          0.013072237216345765,
          0.01122301035925936,
          -0.004607361325278434,
          0.013257318242927328,
          -0.005940169431434825,
          0.01335096723870771,
          -0.009858658666593731,
          0.005788476857886617,
          -0.002979613713629874,
          0.0014181441574036254
         ]
        },
        {
         "hovertemplate": "Session=3<br>PC1=%{x}<br>PC2=%{y}<br>PC3=%{z}<extra></extra>",
         "legendgroup": "3",
         "marker": {
          "color": "#00cc96",
          "size": 3,
          "symbol": "circle"
         },
         "mode": "markers",
         "name": "3",
         "scene": "scene",
         "showlegend": true,
         "type": "scatter3d",
         "x": [
          -0.015182824599642828,
          0.004781360833145209,
          -0.005097056487847801,
          0.012643312293306636,
          0.0041249403506113305,
          -0.01513079730613022,
          -0.004778692777923827,
          -0.01220175411497634,
          -0.006521650617749466,
          -0.010411335119282671,
          -0.013792000623259554,
          -0.010909658949398784,
          -0.009096183994163945,
          0.021622494091552126,
          -0.011774482332734504,
          -0.011253763622686208,
          -0.010637217773444032,
          0.01921433938374335,
          0.008769631823302752,
          -0.0060032456271867105,
          0.12523446669238922,
          0.03296455498875921,
          -0.005763748287374001,
          -0.01597402851458244,
          -0.006895403504788653,
          0.02857642730666867,
          0.0018608155298406202,
          -0.01740619732204027,
          -0.00969685685085876,
          0.00999680024095731,
          -0.01048848956803365,
          -0.010059792528187162,
          -0.009897946383679215,
          -0.019009502008263165,
          -0.011294005720329903,
          -0.01559172428696854,
          0.004135981128028305,
          -0.001554640790758603,
          0.00014775041258531518,
          -0.0033710881340528595,
          0.021776046211421905,
          0.06716262694384315,
          -0.01129571793823217,
          -0.0013946925313449228,
          -0.00803896061379332,
          -0.011095701846743421,
          -0.0076158574085862345,
          -0.013387459888359477,
          -0.009942303411557905,
          -0.011557294108477086,
          -0.01952776350741863,
          0.016798129597701477,
          -0.006199313685171544,
          0.003998476441851782,
          -0.014079149992906093,
          -0.008980035094851449,
          0.01777395997062965,
          0.012011068358655376,
          -0.008720198860119762,
          0.005548977429997844,
          -0.010922792213783164,
          -0.018331720276302848,
          -0.0025222104148376256,
          -0.00048369755484499195,
          0.017821422598572292,
          0.0044379002413413755,
          -0.006185974870248026,
          -0.010913872807881033,
          -0.01239672768099618,
          -0.008570919779016105,
          -0.014836922711281368,
          -0.010217288052327992,
          -0.014990386446657613,
          0.001033987461158771,
          -0.005475995407972479,
          -0.012850023898935229,
          -0.008775851845473104,
          0.01040803471435687,
          0.012584623543214195,
          0.023510791741640946,
          -0.019962578280159314,
          -0.01853225302603806,
          -0.007000055202999808,
          0.06021764528966919,
          -0.015673715612590303,
          -0.0169507122223871,
          -0.012245167518582917,
          -0.006191892571389936,
          -0.013117670096444309,
          -0.01775866259016895,
          -0.0193571148036475,
          -0.00753530052033873,
          -0.013780590707203994,
          -0.0034345186089431786,
          0.011620578425905463,
          0.0028953603795949124,
          -0.004316087465891409,
          -0.012409659392591171,
          -0.009816999837147213,
          -0.01968454929000474,
          0.04139941332897322,
          -0.018711241448962437,
          0.0016980377317685385,
          0.19160492642695692,
          0.017299915731392397,
          -0.013041543269875165,
          -0.011705558624427776,
          0.005528235403439814,
          -0.008077488899925407,
          -0.0037285612386304566,
          -0.014708670632271636,
          -0.012131131813546324,
          0.006037125393764315,
          -0.014510089028558168,
          -0.009059580187621513,
          0.00722824107919598,
          -0.010604468633600178,
          -0.011268760298317625,
          -0.006471193434857419,
          0.010570222512688677,
          -0.006736949216217047
         ],
         "y": [
          -0.004834726586076175,
          0.00171097129369436,
          0.013790105872488533,
          0.0010180191786281338,
          0.0051087902606999636,
          -0.007425606731999292,
          -0.013832846920724926,
          -0.008215810922325944,
          -0.003270381052150337,
          -0.0028620129376198565,
          -0.0027255111499545574,
          -0.013251023864424524,
          -0.01204991549835073,
          0.0015955102718389494,
          -0.012484621555897617,
          -0.01623480002130305,
          -0.008442708210945695,
          -0.010021069761162245,
          -0.0080639270934722,
          0.007439680914497241,
          -0.012496775549450057,
          0.034431666563542296,
          0.06217128502536827,
          -0.008279859779766877,
          -0.014426795654788833,
          0.008018261864987906,
          0.04071738701809291,
          0.04729539096993758,
          -0.007541991589129851,
          0.02080976738449425,
          -0.014845020392413782,
          -0.009959064875034009,
          -0.00016852519140072176,
          -0.01198755243532175,
          -0.014020107432463829,
          -0.004409074514413674,
          -0.010927490631890163,
          -0.016910489356291178,
          -0.011538616033835181,
          -0.0074161553691716574,
          0.002935939596851584,
          -0.006729290886897837,
          0.011069151111908473,
          0.0015692627743070743,
          -0.011987697571142972,
          -0.005777174660270349,
          -0.00827671598795965,
          -0.009901749567529403,
          -0.01639725567916233,
          -0.011779319060697655,
          -0.019029269579551346,
          0.01703515866276886,
          -0.008841452418194572,
          -0.015632806266272035,
          -0.0021886136579278015,
          -0.008012085400091245,
          -0.013485465572875029,
          -0.006137157450200962,
          -0.008430405565191751,
          0.01343958215104465,
          0.0010650886978535155,
          -0.012138993291571669,
          -0.008205191043187014,
          0.031215622876986177,
          -0.013553300808652703,
          -0.011029666945123981,
          0.00044882718998572675,
          -0.008471116012950483,
          0.002011724442613417,
          -0.0023254420591105386,
          -0.00679189835320386,
          -0.011404676572813488,
          -0.011494699152214424,
          -0.0028427103206221287,
          -0.0054859417411742585,
          -0.0006375019999586974,
          -0.007869761160431268,
          -0.003090972506085683,
          0.004018413419665804,
          -0.007683212260224679,
          0.06643823273714208,
          -0.0005111613547240917,
          -0.0040964854454006066,
          0.047675100630050676,
          -0.009739858175599678,
          0.00555779287165674,
          0.00801331757754682,
          0.016489259815640523,
          0.008939617672810046,
          -0.0056051204763756645,
          0.014757603110767323,
          -0.0052241929725796755,
          0.007375956129614487,
          -0.011913929400967672,
          -0.017238602489346007,
          -0.004453366346182845,
          -0.010388795306558268,
          -0.011160053727880774,
          -0.00786874436274493,
          0.0040234452829189535,
          0.01077757325625744,
          0.10678743089778563,
          0.0076570587709408,
          -0.02006808428571985,
          0.060076895071722355,
          0.14260105757137778,
          -0.0047437140153973375,
          -0.005571054390148266,
          0.013103920646988107,
          0.004421090851257093,
          -0.007710433376596085,
          -0.011427307760548166,
          -0.010206935044896955,
          -0.003112032465405406,
          -0.013600761481371614,
          0.016523096208805536,
          -0.01555095279298757,
          0.003689077960988621,
          -0.01033399810161022,
          0.006485079995411568,
          -0.004620980528887718
         ],
         "z": [
          -0.004741156530668205,
          -0.009554987799481756,
          0.005547458862548394,
          0.010181351666863105,
          0.006433958616421199,
          -0.003384510344541778,
          -0.005349102875530051,
          -0.0020761281340443936,
          0.004348843908981116,
          -0.0013534994209825403,
          -0.0012259794361002248,
          -0.002551505344771693,
          -0.010907653820153743,
          -0.0009753161728247826,
          -0.005286498719645107,
          -0.005068056784524868,
          0.005761739840802381,
          0.0038995926758929643,
          -0.007868115600197137,
          0.0048914904019288575,
          -0.006968042530254485,
          -0.017086570999139933,
          -0.057844504562204184,
          -0.010239350612624307,
          -0.008698431229903578,
          -0.010888391530789888,
          -0.04446519610240808,
          -0.03395340569535241,
          -0.010908343231050109,
          0.0032450514453946744,
          -0.0051630028006124495,
          -0.002244827193097593,
          0.000838939535176559,
          -0.004399934406933394,
          -0.004486866774957068,
          0.009420547130722882,
          -0.009121469516669796,
          -0.004616684796962506,
          0.00021181684215824796,
          0.011124438738330748,
          -0.006330623853675196,
          -0.007013991314796844,
          -0.006495760168070303,
          -0.01300500255851937,
          -0.006036497534552513,
          -0.0070460366973830015,
          0.007137234597648761,
          0.00028273653920365613,
          -0.00503892707558707,
          -0.0023549416223410894,
          -0.00441860517219516,
          -0.024028785715570617,
          -0.0018670505901380822,
          -0.007292055762608208,
          -0.004120885080577019,
          0.015012719931271927,
          0.0007751632014039541,
          0.003104307693616945,
          -0.0017219714098032158,
          0.006058014861959872,
          0.027074553855825793,
          0.001875066253334259,
          0.0050547181733230084,
          0.015468762347807925,
          0.006201551532227029,
          0.004824957511610517,
          0.015719449058730923,
          0.0022276881445830853,
          -0.002946149580334894,
          -0.0017959951537255723,
          -0.008889753800787789,
          -0.00021596145220594107,
          -0.001325128017262231,
          -0.006411457305293834,
          -0.013930720139436666,
          0.015832220109134022,
          0.004770713871787931,
          -0.011386859141225175,
          0.0011003646905107293,
          -0.007118164654890852,
          0.11347305208975195,
          0.00634121854361134,
          0.004255396447349028,
          0.017411922583856262,
          0.011884070694367456,
          -0.0020896885757191986,
          0.02882080950359213,
          0.03986680103926915,
          0.02701257716688709,
          -0.009765229723424963,
          -0.001274495584589543,
          -0.002460192311585533,
          -0.008636125040537053,
          -0.0013416633131235547,
          -0.00037688514496501507,
          0.0008553638541585868,
          -0.011548351376288511,
          -0.00014834673297356893,
          0.0005253338672364843,
          -0.01159724216438446,
          -0.007880883875965592,
          -0.022810692252584884,
          -0.0035720447396134602,
          -0.007972914824764159,
          0.0035021871944228775,
          0.0017723934311439354,
          -0.001626257136084005,
          0.003786670068728691,
          0.011352297898106685,
          0.006310405108168304,
          0.005636695442167505,
          -0.003688947825627847,
          -0.0030768981986163055,
          -0.0009686889553553553,
          -0.002819896055687552,
          0.008219142070325968,
          0.0011119221051462053,
          -0.007756132126488374,
          0.0033078830054439215,
          0.002777464337831422,
          -0.0027056522837590005
         ]
        }
       ],
       "layout": {
        "font": {
         "size": 11
        },
        "height": 600,
        "legend": {
         "title": {
          "text": "Session"
         },
         "tracegroupgap": 0
        },
        "scene": {
         "aspectmode": "data",
         "aspectratio": {
          "x": 1.1747029248023158,
          "y": 0.8990578282376366,
          "z": 0.9468568449066637
         },
         "camera": {
          "center": {
           "x": 0,
           "y": 0,
           "z": 0
          },
          "eye": {
           "x": 2.019491108406008,
           "y": -0.01742177903810156,
           "z": -0.07863817494322377
          },
          "projection": {
           "type": "perspective"
          },
          "up": {
           "x": 0,
           "y": 0,
           "z": 1
          }
         },
         "domain": {
          "x": [
           0,
           1
          ],
          "y": [
           0,
           1
          ]
         },
         "xaxis": {
          "title": {
           "text": "PC1"
          },
          "type": "linear"
         },
         "yaxis": {
          "title": {
           "text": "PC2"
          },
          "type": "linear"
         },
         "zaxis": {
          "title": {
           "text": "PC3"
          },
          "type": "linear"
         }
        },
        "template": {
         "data": {
          "bar": [
           {
            "error_x": {
             "color": "#2a3f5f"
            },
            "error_y": {
             "color": "#2a3f5f"
            },
            "marker": {
             "line": {
              "color": "#E5ECF6",
              "width": 0.5
             },
             "pattern": {
              "fillmode": "overlay",
              "size": 10,
              "solidity": 0.2
             }
            },
            "type": "bar"
           }
          ],
          "barpolar": [
           {
            "marker": {
             "line": {
              "color": "#E5ECF6",
              "width": 0.5
             },
             "pattern": {
              "fillmode": "overlay",
              "size": 10,
              "solidity": 0.2
             }
            },
            "type": "barpolar"
           }
          ],
          "carpet": [
           {
            "aaxis": {
             "endlinecolor": "#2a3f5f",
             "gridcolor": "white",
             "linecolor": "white",
             "minorgridcolor": "white",
             "startlinecolor": "#2a3f5f"
            },
            "baxis": {
             "endlinecolor": "#2a3f5f",
             "gridcolor": "white",
             "linecolor": "white",
             "minorgridcolor": "white",
             "startlinecolor": "#2a3f5f"
            },
            "type": "carpet"
           }
          ],
          "choropleth": [
           {
            "colorbar": {
             "outlinewidth": 0,
             "ticks": ""
            },
            "type": "choropleth"
           }
          ],
          "contour": [
           {
            "colorbar": {
             "outlinewidth": 0,
             "ticks": ""
            },
            "colorscale": [
             [
              0,
              "#0d0887"
             ],
             [
              0.1111111111111111,
              "#46039f"
             ],
             [
              0.2222222222222222,
              "#7201a8"
             ],
             [
              0.3333333333333333,
              "#9c179e"
             ],
             [
              0.4444444444444444,
              "#bd3786"
             ],
             [
              0.5555555555555556,
              "#d8576b"
             ],
             [
              0.6666666666666666,
              "#ed7953"
             ],
             [
              0.7777777777777778,
              "#fb9f3a"
             ],
             [
              0.8888888888888888,
              "#fdca26"
             ],
             [
              1,
              "#f0f921"
             ]
            ],
            "type": "contour"
           }
          ],
          "contourcarpet": [
           {
            "colorbar": {
             "outlinewidth": 0,
             "ticks": ""
            },
            "type": "contourcarpet"
           }
          ],
          "heatmap": [
           {
            "colorbar": {
             "outlinewidth": 0,
             "ticks": ""
            },
            "colorscale": [
             [
              0,
              "#0d0887"
             ],
             [
              0.1111111111111111,
              "#46039f"
             ],
             [
              0.2222222222222222,
              "#7201a8"
             ],
             [
              0.3333333333333333,
              "#9c179e"
             ],
             [
              0.4444444444444444,
              "#bd3786"
             ],
             [
              0.5555555555555556,
              "#d8576b"
             ],
             [
              0.6666666666666666,
              "#ed7953"
             ],
             [
              0.7777777777777778,
              "#fb9f3a"
             ],
             [
              0.8888888888888888,
              "#fdca26"
             ],
             [
              1,
              "#f0f921"
             ]
            ],
            "type": "heatmap"
           }
          ],
          "heatmapgl": [
           {
            "colorbar": {
             "outlinewidth": 0,
             "ticks": ""
            },
            "colorscale": [
             [
              0,
              "#0d0887"
             ],
             [
              0.1111111111111111,
              "#46039f"
             ],
             [
              0.2222222222222222,
              "#7201a8"
             ],
             [
              0.3333333333333333,
              "#9c179e"
             ],
             [
              0.4444444444444444,
              "#bd3786"
             ],
             [
              0.5555555555555556,
              "#d8576b"
             ],
             [
              0.6666666666666666,
              "#ed7953"
             ],
             [
              0.7777777777777778,
              "#fb9f3a"
             ],
             [
              0.8888888888888888,
              "#fdca26"
             ],
             [
              1,
              "#f0f921"
             ]
            ],
            "type": "heatmapgl"
           }
          ],
          "histogram": [
           {
            "marker": {
             "pattern": {
              "fillmode": "overlay",
              "size": 10,
              "solidity": 0.2
             }
            },
            "type": "histogram"
           }
          ],
          "histogram2d": [
           {
            "colorbar": {
             "outlinewidth": 0,
             "ticks": ""
            },
            "colorscale": [
             [
              0,
              "#0d0887"
             ],
             [
              0.1111111111111111,
              "#46039f"
             ],
             [
              0.2222222222222222,
              "#7201a8"
             ],
             [
              0.3333333333333333,
              "#9c179e"
             ],
             [
              0.4444444444444444,
              "#bd3786"
             ],
             [
              0.5555555555555556,
              "#d8576b"
             ],
             [
              0.6666666666666666,
              "#ed7953"
             ],
             [
              0.7777777777777778,
              "#fb9f3a"
             ],
             [
              0.8888888888888888,
              "#fdca26"
             ],
             [
              1,
              "#f0f921"
             ]
            ],
            "type": "histogram2d"
           }
          ],
          "histogram2dcontour": [
           {
            "colorbar": {
             "outlinewidth": 0,
             "ticks": ""
            },
            "colorscale": [
             [
              0,
              "#0d0887"
             ],
             [
              0.1111111111111111,
              "#46039f"
             ],
             [
              0.2222222222222222,
              "#7201a8"
             ],
             [
              0.3333333333333333,
              "#9c179e"
             ],
             [
              0.4444444444444444,
              "#bd3786"
             ],
             [
              0.5555555555555556,
              "#d8576b"
             ],
             [
              0.6666666666666666,
              "#ed7953"
             ],
             [
              0.7777777777777778,
              "#fb9f3a"
             ],
             [
              0.8888888888888888,
              "#fdca26"
             ],
             [
              1,
              "#f0f921"
             ]
            ],
            "type": "histogram2dcontour"
           }
          ],
          "mesh3d": [
           {
            "colorbar": {
             "outlinewidth": 0,
             "ticks": ""
            },
            "type": "mesh3d"
           }
          ],
          "parcoords": [
           {
            "line": {
             "colorbar": {
              "outlinewidth": 0,
              "ticks": ""
             }
            },
            "type": "parcoords"
           }
          ],
          "pie": [
           {
            "automargin": true,
            "type": "pie"
           }
          ],
          "scatter": [
           {
            "fillpattern": {
             "fillmode": "overlay",
             "size": 10,
             "solidity": 0.2
            },
            "type": "scatter"
           }
          ],
          "scatter3d": [
           {
            "line": {
             "colorbar": {
              "outlinewidth": 0,
              "ticks": ""
             }
            },
            "marker": {
             "colorbar": {
              "outlinewidth": 0,
              "ticks": ""
             }
            },
            "type": "scatter3d"
           }
          ],
          "scattercarpet": [
           {
            "marker": {
             "colorbar": {
              "outlinewidth": 0,
              "ticks": ""
             }
            },
            "type": "scattercarpet"
           }
          ],
          "scattergeo": [
           {
            "marker": {
             "colorbar": {
              "outlinewidth": 0,
              "ticks": ""
             }
            },
            "type": "scattergeo"
           }
          ],
          "scattergl": [
           {
            "marker": {
             "colorbar": {
              "outlinewidth": 0,
              "ticks": ""
             }
            },
            "type": "scattergl"
           }
          ],
          "scattermapbox": [
           {
            "marker": {
             "colorbar": {
              "outlinewidth": 0,
              "ticks": ""
             }
            },
            "type": "scattermapbox"
           }
          ],
          "scatterpolar": [
           {
            "marker": {
             "colorbar": {
              "outlinewidth": 0,
              "ticks": ""
             }
            },
            "type": "scatterpolar"
           }
          ],
          "scatterpolargl": [
           {
            "marker": {
             "colorbar": {
              "outlinewidth": 0,
              "ticks": ""
             }
            },
            "type": "scatterpolargl"
           }
          ],
          "scatterternary": [
           {
            "marker": {
             "colorbar": {
              "outlinewidth": 0,
              "ticks": ""
             }
            },
            "type": "scatterternary"
           }
          ],
          "surface": [
           {
            "colorbar": {
             "outlinewidth": 0,
             "ticks": ""
            },
            "colorscale": [
             [
              0,
              "#0d0887"
             ],
             [
              0.1111111111111111,
              "#46039f"
             ],
             [
              0.2222222222222222,
              "#7201a8"
             ],
             [
              0.3333333333333333,
              "#9c179e"
             ],
             [
              0.4444444444444444,
              "#bd3786"
             ],
             [
              0.5555555555555556,
              "#d8576b"
             ],
             [
              0.6666666666666666,
              "#ed7953"
             ],
             [
              0.7777777777777778,
              "#fb9f3a"
             ],
             [
              0.8888888888888888,
              "#fdca26"
             ],
             [
              1,
              "#f0f921"
             ]
            ],
            "type": "surface"
           }
          ],
          "table": [
           {
            "cells": {
             "fill": {
              "color": "#EBF0F8"
             },
             "line": {
              "color": "white"
             }
            },
            "header": {
             "fill": {
              "color": "#C8D4E3"
             },
             "line": {
              "color": "white"
             }
            },
            "type": "table"
           }
          ]
         },
         "layout": {
          "annotationdefaults": {
           "arrowcolor": "#2a3f5f",
           "arrowhead": 0,
           "arrowwidth": 1
          },
          "autotypenumbers": "strict",
          "coloraxis": {
           "colorbar": {
            "outlinewidth": 0,
            "ticks": ""
           }
          },
          "colorscale": {
           "diverging": [
            [
             0,
             "#8e0152"
            ],
            [
             0.1,
             "#c51b7d"
            ],
            [
             0.2,
             "#de77ae"
            ],
            [
             0.3,
             "#f1b6da"
            ],
            [
             0.4,
             "#fde0ef"
            ],
            [
             0.5,
             "#f7f7f7"
            ],
            [
             0.6,
             "#e6f5d0"
            ],
            [
             0.7,
             "#b8e186"
            ],
            [
             0.8,
             "#7fbc41"
            ],
            [
             0.9,
             "#4d9221"
            ],
            [
             1,
             "#276419"
            ]
           ],
           "sequential": [
            [
             0,
             "#0d0887"
            ],
            [
             0.1111111111111111,
             "#46039f"
            ],
            [
             0.2222222222222222,
             "#7201a8"
            ],
            [
             0.3333333333333333,
             "#9c179e"
            ],
            [
             0.4444444444444444,
             "#bd3786"
            ],
            [
             0.5555555555555556,
             "#d8576b"
            ],
            [
             0.6666666666666666,
             "#ed7953"
            ],
            [
             0.7777777777777778,
             "#fb9f3a"
            ],
            [
             0.8888888888888888,
             "#fdca26"
            ],
            [
             1,
             "#f0f921"
            ]
           ],
           "sequentialminus": [
            [
             0,
             "#0d0887"
            ],
            [
             0.1111111111111111,
             "#46039f"
            ],
            [
             0.2222222222222222,
             "#7201a8"
            ],
            [
             0.3333333333333333,
             "#9c179e"
            ],
            [
             0.4444444444444444,
             "#bd3786"
            ],
            [
             0.5555555555555556,
             "#d8576b"
            ],
            [
             0.6666666666666666,
             "#ed7953"
            ],
            [
             0.7777777777777778,
             "#fb9f3a"
            ],
            [
             0.8888888888888888,
             "#fdca26"
            ],
            [
             1,
             "#f0f921"
            ]
           ]
          },
          "colorway": [
           "#636efa",
           "#EF553B",
           "#00cc96",
           "#ab63fa",
           "#FFA15A",
           "#19d3f3",
           "#FF6692",
           "#B6E880",
           "#FF97FF",
           "#FECB52"
          ],
          "font": {
           "color": "#2a3f5f"
          },
          "geo": {
           "bgcolor": "white",
           "lakecolor": "white",
           "landcolor": "#E5ECF6",
           "showlakes": true,
           "showland": true,
           "subunitcolor": "white"
          },
          "hoverlabel": {
           "align": "left"
          },
          "hovermode": "closest",
          "mapbox": {
           "style": "light"
          },
          "paper_bgcolor": "white",
          "plot_bgcolor": "#E5ECF6",
          "polar": {
           "angularaxis": {
            "gridcolor": "white",
            "linecolor": "white",
            "ticks": ""
           },
           "bgcolor": "#E5ECF6",
           "radialaxis": {
            "gridcolor": "white",
            "linecolor": "white",
            "ticks": ""
           }
          },
          "scene": {
           "xaxis": {
            "backgroundcolor": "#E5ECF6",
            "gridcolor": "white",
            "gridwidth": 2,
            "linecolor": "white",
            "showbackground": true,
            "ticks": "",
            "zerolinecolor": "white"
           },
           "yaxis": {
            "backgroundcolor": "#E5ECF6",
            "gridcolor": "white",
            "gridwidth": 2,
            "linecolor": "white",
            "showbackground": true,
            "ticks": "",
            "zerolinecolor": "white"
           },
           "zaxis": {
            "backgroundcolor": "#E5ECF6",
            "gridcolor": "white",
            "gridwidth": 2,
            "linecolor": "white",
            "showbackground": true,
            "ticks": "",
            "zerolinecolor": "white"
           }
          },
          "shapedefaults": {
           "line": {
            "color": "#2a3f5f"
           }
          },
          "ternary": {
           "aaxis": {
            "gridcolor": "white",
            "linecolor": "white",
            "ticks": ""
           },
           "baxis": {
            "gridcolor": "white",
            "linecolor": "white",
            "ticks": ""
           },
           "bgcolor": "#E5ECF6",
           "caxis": {
            "gridcolor": "white",
            "linecolor": "white",
            "ticks": ""
           }
          },
          "title": {
           "x": 0.05
          },
          "xaxis": {
           "automargin": true,
           "gridcolor": "white",
           "linecolor": "white",
           "ticks": "",
           "title": {
            "standoff": 15
           },
           "zerolinecolor": "white",
           "zerolinewidth": 2
          },
          "yaxis": {
           "automargin": true,
           "gridcolor": "white",
           "linecolor": "white",
           "ticks": "",
           "title": {
            "standoff": 15
           },
           "zerolinecolor": "white",
           "zerolinewidth": 2
          }
         }
        },
        "title": {
         "text": "First 3 PCs on Mean Response of Each Cell to Each SG Stimulus Over Time"
        },
        "width": 800
       }
      },
      "image/png": "[encoded data removed]",
      "text/html": [
       "<div>                            <div id=\"d87167bf-aaf0-4a25-b886-5bdf9e0252fb\" class=\"plotly-graph-div\" style=\"height:600px; width:800px;\"></div>            <script type=\"text/javascript\">                require([\"plotly\"], function(Plotly) {                    window.PLOTLYENV=window.PLOTLYENV || {};                                    if (document.getElementById(\"d87167bf-aaf0-4a25-b886-5bdf9e0252fb\")) {                    Plotly.newPlot(                        \"d87167bf-aaf0-4a25-b886-5bdf9e0252fb\",                        [{\"hovertemplate\":\"Session=1\\u003cbr\\u003ePC1=%{x}\\u003cbr\\u003ePC2=%{y}\\u003cbr\\u003ePC3=%{z}\\u003cextra\\u003e\\u003c\\u002fextra\\u003e\",\"legendgroup\":\"1\",\"marker\":{\"color\":\"#636efa\",\"symbol\":\"circle\",\"size\":3},\"mode\":\"markers\",\"name\":\"1\",\"scene\":\"scene\",\"showlegend\":true,\"x\":[-0.0060340145455196285,0.005999037104727285,0.020632514544844674,0.0032083397673772964,-0.013795807054097596,-0.01024226834182193,-0.017320652140999808,0.02199625109630198,-0.013455200585467644,-0.008319932012550373,0.028190791406444808,0.033335967681984546,0.020447897440589002,-0.012841632580810593,0.03398917188584791,0.01529404590676321,0.005212065289392984,0.018329937832291483,0.013893196545652077,0.010773828800333824,0.10042968824570034,0.032856864821120754,-0.014070683883748833,0.02717007160994722,-0.010630062307956795,0.00045929319763733916,0.0001411216841773861,-0.00285773815546337,-0.0003330799992451952,-0.009213889582376969,-0.0037244722517460237,-0.015599486220141017,-0.001727617675316429,-0.009655642606165069,0.00019991976042663183,-0.009643684831868341,-0.0032116963935398244,-0.011255870120812979,0.002481309814461601,-0.015540809717333499,0.005599553635964334,0.060232083410515586,-0.007690290504907504,0.004081797745951884,-0.011712165705817436,-0.008491106641578743,-0.011680932628253902,-0.006862458601303721,0.0003998297470926234,-0.004470795485454383,-0.0024977936863378345,-0.00625220970301188,-0.012022824214279372,-0.002204970313604384,0.000281498869700206,-0.004351668837597876,0.013895336682331488,-0.007788030936857331,0.021273679921144015,0.023749956904276438,0.000917345314045527,-0.011337479619562111,-0.009765173246237387,0.020429914331250708,0.002695702407919412,-0.018123317933854667,-0.004177808198452064,-0.012343777895344426,-0.00958986940877192,-0.005097993086655117,-0.0019591508956094713,-0.01044042221785614,0.008014280842945927,-0.014041132511658675,0.019071704749845205,0.00917128087855009,-0.003235025376621791,0.018100338977887463,0.0026409867298984166,-0.004210705978224974,4.826114203997057e-05,-7.720341137921365e-05,-0.0010506297619270217,0.01218516124015298,-0.0038166550778340395,-0.002611965316260696,-0.010331938260554585,-0.003434959754787503,-0.014065699357992486,-0.01604586344782351,0.01291441193663229,-0.017071638504527996,-0.007871613520234945,-0.004582751746595874,0.025303259572011582,-0.017715734082079673,-0.0031698128275369592,-0.00876656796181699,0.0028578569915302843,-0.0022452276457747234,0.01000987081981997,-0.007155656656233732,0.0045939860108259204,0.10182400163269704,0.015726777726924265,0.010443078148626139,0.0048562106594413025,0.016840627345341593,-0.010022459427721599,-0.003478770680358303,-0.005530290114292301,-0.0015344328601915114,-0.0021250343334664155,0.003403924560665951,0.019445044641031483,-0.012175263387317345,-0.003793152989887243,-0.015346745900975671,-0.012039471255028456,-0.003538386359865364,-0.0034072500557964062],\"y\":[-0.0054251972819043814,-0.002175728650850749,0.006134387799582549,-0.0035155637495292076,-0.003639718935397346,-0.013054817510236735,-0.013090318722579052,-0.0038772174406190582,-0.004494851280703832,-0.017605346200925617,-0.009638709512528237,0.007959737203685771,0.004787216966883081,-0.014749136606128163,0.005486302429107145,0.029500635858624984,0.005944372420804691,-0.007536787211083398,-0.00953483522840713,-0.004630139295232887,-0.014285464478080396,0.03136350729680042,0.03058967138727722,-0.005056236327385324,-0.00021264585457199327,0.020010046100516522,0.02881157166222508,0.037004898580954945,-0.006980278374717918,-0.0045849820727237,0.0043774756424863615,0.003120007538685854,-0.01534835161881679,-0.010423047992527431,0.0042740121019584545,-0.008114531422193542,-0.01260392724924397,-0.012556209046744603,0.006095894265441585,-0.0020213181958672723,-0.010723131352716816,-0.001863930470462126,-0.00758799386079036,-0.011849367860500087,-0.007734022666447898,-0.012552843885968334,-0.011397901125812161,-0.004429155324419064,-0.006414668400587448,-0.003853276220525463,-0.005507535118963954,-0.002532434234423989,-0.00747500150001233,-0.014217204915317165,-0.006363425387372338,-0.0013082388667849543,-0.005329433318118587,-0.003080668264317856,-0.011855771843335139,0.002258840430110758,0.017135969613537097,-0.016325206956627463,0.011815068209377876,0.021139692998548065,2.985516108421852e-05,-0.00888854776079024,0.017853964983644298,-0.009855046976464435,0.018321529332724094,-0.010597773387361014,-0.011548966555595785,0.01336453308444103,-0.012645036737174292,-0.0043925967119982645,-0.0004427784785386705,-0.013134546375079057,-0.0006245336045528585,0.002542606546433559,0.0008212870833087527,-0.008981105786147945,0.045283680362648675,0.002182979492839658,-0.01287980927434913,0.006016436565734793,-0.008825455872904203,-0.010674915290381991,0.0070111385007589865,0.01048347288966325,0.00014739129889953845,-0.014431823139764204,-0.005214241750081479,-0.00801754270404848,-0.002354540123365091,-0.010681935679385909,0.003815916275210507,-0.013132532797403545,-0.006759758497225992,-0.008998913512437864,-0.006955033543594849,-0.007237199967933046,-0.0019736760945852586,0.08555112197328918,-0.007607190013732157,-0.009077271420463473,0.09598611179444516,0.06374464002143854,0.0036747510670829767,-0.0011188480743417127,0.006591957060657589,-0.0029052867674715303,0.006318239801364209,-0.0018360259991211194,0.0014437827116606863,-0.003652163940845464,-0.011236125040100136,-0.016176084071691944,-0.005828837949008491,-0.003038598806637641,-0.010409270476051748,-0.00919283052555953,-0.007524311444007118],\"z\":[0.00636519844787772,-0.0033120806023376795,-0.006543157528634,0.0033012320318713496,0.0005711408877834042,0.0015290939425870922,-0.003244781329436234,-0.010109156472347844,0.0050453876102784356,-0.003845704895936394,-0.003445904694197602,-4.288008650027149e-05,0.005971712815660498,-0.005340711413788453,-0.0025127016577626265,0.010081717591771698,0.008860304801162972,0.0022770721864519704,-0.0014155505270433777,0.011007066686806326,0.002137942398967219,0.00696167837031394,-0.039345194861586136,0.00975683553837632,0.002971801402232091,0.010344206557317893,-0.030336407683535488,-0.03984662868988264,-0.0078104374930779265,-0.008869136805480337,-0.011687167396189066,0.0035952184840582525,-0.0046315928958746005,-0.010941322140264461,0.016216054259709147,-0.0024714637775632826,0.0024552881651967585,-0.000943380386160701,-0.015976497242211028,-0.005592114343833464,-0.0023567819316403027,0.010324027992684925,-0.008186538850734573,-0.004422531854697959,-0.004302304064615854,-0.006953550427932569,0.0018992955814666204,-0.0036969432314158408,-0.005868605195253764,0.00013387425463914183,-0.005915162545762237,0.00043197686017320045,-0.006656062797138535,-0.003760405388753024,-0.009998181629836305,-0.008192651635557527,-0.0014254787625470975,0.0029427612294175205,0.0020058435402171533,0.004721820766501414,0.027103715792437966,-0.0028791761158438126,0.005623954952926519,0.030894470432830022,-0.00040015676730367853,0.007550691958201838,-0.02229987077880193,0.0076413674925223055,0.0020577494286865856,0.006133780273344835,0.002201454272496937,-0.0006360704692743814,-0.0015067600136403991,-0.007782700184574812,0.004590183377587216,0.008351682661304639,0.004580078177888157,0.0020227105708868027,0.0015228958496265883,-0.005912987809831234,0.074529609786805,0.02156335277958402,0.0006899045842982787,-0.0029274141454744243,0.00885526894568137,0.00863433606674141,0.013495393160203803,0.03747146584468329,0.007957300396385605,-0.0009385445949152354,0.002051447207591331,0.006102706272225526,-0.004204449773673808,-0.004340507446594475,-0.0016658398953499527,-0.0014690446565992009,0.005023609911153772,-0.011165547504540824,-0.002072665538821124,-0.00017749129006579484,-0.0050060785980559405,-0.015483105781114002,0.00330896529367983,0.006409920130909264,-0.0037753547634876558,0.013917054302954066,0.004873779943765553,0.0044692257341273686,0.015452111267382596,0.004465968391111914,0.006009512254187701,0.0030056741252125273,0.0023999321127308277,0.010219626746019632,-0.005945712822630259,-0.00016491469173423684,0.001660888154804837,0.008716259387183132,-0.001909029801574852,-0.006151442881693867,7.319436618909576e-05],\"type\":\"scatter3d\"},{\"hovertemplate\":\"Session=2\\u003cbr\\u003ePC1=%{x}\\u003cbr\\u003ePC2=%{y}\\u003cbr\\u003ePC3=%{z}\\u003cextra\\u003e\\u003c\\u002fextra\\u003e\",\"legendgroup\":\"2\",\"marker\":{\"color\":\"#EF553B\",\"symbol\":\"circle\",\"size\":3},\"mode\":\"markers\",\"name\":\"2\",\"scene\":\"scene\",\"showlegend\":true,\"x\":[-0.0007497263283227779,-0.012253438472167045,-0.011271522371943163,0.008517571197323034,-0.018655520809226663,0.003023855519047453,0.0020332336330932187,-0.018084343945384433,0.0016815493843076804,-0.005831110552691673,0.004492761018082541,0.0021551862438353594,-0.0063386364461689455,0.0014813016972978872,-0.004855543147109724,-0.0032575382104076873,-0.0024263872225143367,0.014101485038896912,-0.005712241344231197,0.006870079473012914,0.11121893897105233,0.0005341639411530026,-0.009704592009344119,0.004359131597855206,-0.012592421952285944,0.01792207920063406,-0.015461435918387521,-0.012531787950570734,-0.015610539143820082,-0.010413442549304618,-0.0010403847404880724,-0.010991118677104145,-0.01546812721698702,-0.005700512037320377,-0.011841082155536574,-0.0027411777242668496,-0.007395835155583103,-0.0007706106051630394,-0.012008123819558757,-0.009298457460673122,0.016488166843171392,0.03371481487667539,-0.003985766092511955,-0.018352081722947545,-0.014818603736954719,-0.007199975467014585,-0.007117997570232231,-0.01322048691973872,-0.0070506834901659194,-0.0005475367549353802,-0.011775623582436954,-0.012871891000534041,-0.019049680394825092,-0.0028681361770036633,0.004121157846162618,0.013752671520040255,-0.0034318895106574213,0.004831772340244844,0.0023271611041684208,0.03839759119047358,-0.013043949144495349,-0.011538881507598766,-0.0021272711300445576,-0.003996773879091493,-0.00800142571696344,-0.011823226236542805,-0.013531352097731802,-0.008872262545592776,-0.018224670568040856,-0.013582344089382258,-0.005429075385179628,0.012222737600718825,-0.007564149103131588,-0.006748096953837372,-0.01137603045039482,-0.01040929903584701,-0.0033706776898885463,-0.0005216322775316697,-0.0057841580472428634,-0.0027201656237022666,-0.007779309931975631,-0.01619217492051492,0.014101931010764415,0.018775971728567608,-0.013523420174646701,-0.010339396030783826,-0.01828158838433908,-0.02093748265165856,-0.014385297409300543,0.004066359844552231,-0.0006269461868029197,-0.009856310733682245,-0.013802568547428758,-0.0032296915780731955,-0.005439649402880912,-0.009486532868949146,-0.0009317808944055228,-0.014911381460736482,-0.009314533854125099,-0.0030549101935851454,0.03525073043247179,0.001340916547105062,0.006966218393583886,0.13565954729539728,0.005220402814257659,-0.003699617858587436,0.005942278260534369,0.0015980567960172782,-0.004713015326535409,-0.005762132362585128,-0.008221778462676058,0.0021938239095925004,0.0003971682048685666,0.014698897026282224,-0.006220164397363436,-0.014021831037193825,-0.009670785301866798,-0.005828306481023673,0.0070638038568680145,-0.013514344873928323,-0.0004526087085140203],\"y\":[0.0015847233653181894,-0.004744076213342553,0.007737646714331796,0.005270993212218355,-0.014632580125340496,-0.00686648816597801,-0.015566407142440723,-0.013891439488435128,-0.003395266339732733,-0.008927077045664887,0.0015314715013732706,-0.01788414110015813,-0.00770190616489473,0.02522830966232479,-0.011255563858437595,-0.017438874555926076,-0.01416175353007506,-0.0020735504988636778,-0.006798713707885955,-0.004086253789795582,-0.015265210430964113,0.02098810868094432,0.0635967962563102,-0.007213587962551804,-0.00970326451321053,0.0010746935587276508,0.04559025466590855,0.01886077348746741,-0.006205274593793436,-0.014825621095004977,-0.012283114530440887,-0.0068674294523020825,-0.005137046841141922,-0.006499405147252278,-0.010291703930848108,-0.011803575638707115,-0.00866329248418919,-0.01171342187098351,-0.013910997015833667,-0.00414302258521546,-0.0023400762463079063,-0.005969746284542195,0.026076372119810013,-0.007104886813190804,-0.0002057559488616524,-0.014077150852936331,-0.004385619963225322,-0.012694104093891828,0.008395988658450763,-0.004385325764379961,-0.006359308704389381,-0.011019193344615982,-0.00813417240885209,0.0040399909684384686,-0.01617387067029573,-0.01361041379939077,-0.016143521370335732,-0.009137664059330738,-0.00037364925076698724,-0.0015951630885146892,-0.008968930876704938,-0.001253634276130405,-0.002102871031037677,-0.00581187836716803,-0.0015960894787163606,0.0009325611967742134,-0.00886249814866475,0.007777511750769734,-0.008217583419281603,-0.015462652701522408,-0.008109590959691576,-0.01699563096832562,-0.016429726742518767,-0.010547103246950094,-0.015752720263001518,-0.015180365798345752,-0.008861947860418093,-0.006620027783178642,-0.010605906667344372,-0.009159454327154202,0.04125957199190415,0.015551058891797595,-0.018402257915457326,-0.007259504735262211,0.004191319120164413,-0.006365563847094736,0.012745327162734814,0.015083025029000819,-0.008183916598326665,-0.010040454308443181,-0.005900293701368123,-0.008721266336414254,-0.012939113952765816,-0.01646168691406574,-0.006784592333954111,0.010771521724926375,-0.016235126243186612,-0.012432684303205052,0.013405680872035183,-0.012322319955954618,0.01725536302582204,0.06341619133434742,-0.003494551188529954,0.000963629438846543,0.08463042656841165,0.05558288310470103,-0.004685529095563725,-0.0011633468628534439,-0.0019567259977033334,0.00588966686820646,0.0021540769787157473,0.008560769180692067,0.0017064755259180153,0.009927455117794616,-0.0031012176942213474,-0.01664544240528997,0.011300334588807923,-0.008410089598861683,-8.232189113999144e-06,-0.0034605589075216597,-0.0033828050076229305],\"z\":[-0.0012349014003366656,0.0010260952025001957,0.004610919653299901,0.012198022885468607,-0.0061253039651231,0.015294292069881085,-0.0005145835985060827,-0.0026752921956452267,-0.010658900465612915,0.0026339451574563816,-0.016792561700708482,-0.004701085726484736,-0.0015631671297066435,-0.018731706675757607,-1.036581331586954e-05,-0.005907856448092753,-0.0037269294286872683,-0.012607143012717011,-0.009880816306207128,0.0026078960400384857,-0.006868551995898163,-0.014833588504364413,-0.05659868296454197,-0.013648322777400024,-0.008360680158325588,0.005223883199748086,-0.03954060227920172,-0.02020170898808171,0.0035329500757323587,0.00020978566465059464,-0.004951078059307966,-0.00507749946942608,-0.0005704117901835146,0.011997979765881907,0.0009230876219083637,-0.00375153669595661,-0.004354501601308602,-0.0053085636233335095,-0.007172350095444824,-0.012204096753274859,0.0024326812888263395,-0.003906528082756611,-0.034711329847509555,0.0030781701000053468,0.0031124311996389327,0.0024067407553108352,0.0033247394514720023,-0.005356472697414601,0.0026047761463677222,-0.0011289372502470048,0.0011247662899778934,0.00478286515574217,-0.0012970151821210334,-0.0039596476922214695,-0.005460613046887518,-0.0023550967189035913,-0.003298087112929105,0.009067258893739428,-0.006965903214982779,0.004810624726200956,0.014463535714984049,0.0013835298439604455,-0.0028392968918528882,0.0065368371511655915,0.0034945583805446215,0.012853194753510072,0.0047492972022078125,0.0038056144444808737,-0.005378490815509597,-0.002786459783035748,-0.00403972437267385,-0.0031960545411125496,-0.004992986271224722,-0.00411527103738939,-9.85000729688287e-05,-0.004634915163654386,-0.0010200142940319603,0.006732953684166918,-0.0010260526682791804,-0.004993931472642929,0.0656554224711024,0.03012744146269123,-0.002217673277516153,-9.21084284397788e-05,0.013627473655695815,0.001515449107764673,0.042529725699070896,0.04090374519963954,0.005355723416812499,0.003034049458260667,-0.009377151840017445,-0.0042863956881625045,-0.006202795054398528,-0.005125549349199665,-0.001273799902282539,0.005445137870548836,-0.0025653821313388224,-0.0026671415969235046,0.009117665544856875,0.006952887021280407,-0.0026011363662388413,-0.022332596481640515,0.011543928648586981,0.02467913631745464,-0.01258513585723691,0.001957773035581847,-0.00694747039207821,-0.00431388213529305,0.0006276068350180659,-0.01665309268754702,0.0015157491168132076,0.013072237216345765,0.01122301035925936,-0.004607361325278434,0.013257318242927328,-0.005940169431434825,0.01335096723870771,-0.009858658666593731,0.005788476857886617,-0.002979613713629874,0.0014181441574036254],\"type\":\"scatter3d\"},{\"hovertemplate\":\"Session=3\\u003cbr\\u003ePC1=%{x}\\u003cbr\\u003ePC2=%{y}\\u003cbr\\u003ePC3=%{z}\\u003cextra\\u003e\\u003c\\u002fextra\\u003e\",\"legendgroup\":\"3\",\"marker\":{\"color\":\"#00cc96\",\"symbol\":\"circle\",\"size\":3},\"mode\":\"markers\",\"name\":\"3\",\"scene\":\"scene\",\"showlegend\":true,\"x\":[-0.015182824599642828,0.004781360833145209,-0.005097056487847801,0.012643312293306636,0.0041249403506113305,-0.01513079730613022,-0.004778692777923827,-0.01220175411497634,-0.006521650617749466,-0.010411335119282671,-0.013792000623259554,-0.010909658949398784,-0.009096183994163945,0.021622494091552126,-0.011774482332734504,-0.011253763622686208,-0.010637217773444032,0.01921433938374335,0.008769631823302752,-0.0060032456271867105,0.12523446669238922,0.03296455498875921,-0.005763748287374001,-0.01597402851458244,-0.006895403504788653,0.02857642730666867,0.0018608155298406202,-0.01740619732204027,-0.00969685685085876,0.00999680024095731,-0.01048848956803365,-0.010059792528187162,-0.009897946383679215,-0.019009502008263165,-0.011294005720329903,-0.01559172428696854,0.004135981128028305,-0.001554640790758603,0.00014775041258531518,-0.0033710881340528595,0.021776046211421905,0.06716262694384315,-0.01129571793823217,-0.0013946925313449228,-0.00803896061379332,-0.011095701846743421,-0.0076158574085862345,-0.013387459888359477,-0.009942303411557905,-0.011557294108477086,-0.01952776350741863,0.016798129597701477,-0.006199313685171544,0.003998476441851782,-0.014079149992906093,-0.008980035094851449,0.01777395997062965,0.012011068358655376,-0.008720198860119762,0.005548977429997844,-0.010922792213783164,-0.018331720276302848,-0.0025222104148376256,-0.00048369755484499195,0.017821422598572292,0.0044379002413413755,-0.006185974870248026,-0.010913872807881033,-0.01239672768099618,-0.008570919779016105,-0.014836922711281368,-0.010217288052327992,-0.014990386446657613,0.001033987461158771,-0.005475995407972479,-0.012850023898935229,-0.008775851845473104,0.01040803471435687,0.012584623543214195,0.023510791741640946,-0.019962578280159314,-0.01853225302603806,-0.007000055202999808,0.06021764528966919,-0.015673715612590303,-0.0169507122223871,-0.012245167518582917,-0.006191892571389936,-0.013117670096444309,-0.01775866259016895,-0.0193571148036475,-0.00753530052033873,-0.013780590707203994,-0.0034345186089431786,0.011620578425905463,0.0028953603795949124,-0.004316087465891409,-0.012409659392591171,-0.009816999837147213,-0.01968454929000474,0.04139941332897322,-0.018711241448962437,0.0016980377317685385,0.19160492642695692,0.017299915731392397,-0.013041543269875165,-0.011705558624427776,0.005528235403439814,-0.008077488899925407,-0.0037285612386304566,-0.014708670632271636,-0.012131131813546324,0.006037125393764315,-0.014510089028558168,-0.009059580187621513,0.00722824107919598,-0.010604468633600178,-0.011268760298317625,-0.006471193434857419,0.010570222512688677,-0.006736949216217047],\"y\":[-0.004834726586076175,0.00171097129369436,0.013790105872488533,0.0010180191786281338,0.0051087902606999636,-0.007425606731999292,-0.013832846920724926,-0.008215810922325944,-0.003270381052150337,-0.0028620129376198565,-0.0027255111499545574,-0.013251023864424524,-0.01204991549835073,0.0015955102718389494,-0.012484621555897617,-0.01623480002130305,-0.008442708210945695,-0.010021069761162245,-0.0080639270934722,0.007439680914497241,-0.012496775549450057,0.034431666563542296,0.06217128502536827,-0.008279859779766877,-0.014426795654788833,0.008018261864987906,0.04071738701809291,0.04729539096993758,-0.007541991589129851,0.02080976738449425,-0.014845020392413782,-0.009959064875034009,-0.00016852519140072176,-0.01198755243532175,-0.014020107432463829,-0.004409074514413674,-0.010927490631890163,-0.016910489356291178,-0.011538616033835181,-0.0074161553691716574,0.002935939596851584,-0.006729290886897837,0.011069151111908473,0.0015692627743070743,-0.011987697571142972,-0.005777174660270349,-0.00827671598795965,-0.009901749567529403,-0.01639725567916233,-0.011779319060697655,-0.019029269579551346,0.01703515866276886,-0.008841452418194572,-0.015632806266272035,-0.0021886136579278015,-0.008012085400091245,-0.013485465572875029,-0.006137157450200962,-0.008430405565191751,0.01343958215104465,0.0010650886978535155,-0.012138993291571669,-0.008205191043187014,0.031215622876986177,-0.013553300808652703,-0.011029666945123981,0.00044882718998572675,-0.008471116012950483,0.002011724442613417,-0.0023254420591105386,-0.00679189835320386,-0.011404676572813488,-0.011494699152214424,-0.0028427103206221287,-0.0054859417411742585,-0.0006375019999586974,-0.007869761160431268,-0.003090972506085683,0.004018413419665804,-0.007683212260224679,0.06643823273714208,-0.0005111613547240917,-0.0040964854454006066,0.047675100630050676,-0.009739858175599678,0.00555779287165674,0.00801331757754682,0.016489259815640523,0.008939617672810046,-0.0056051204763756645,0.014757603110767323,-0.0052241929725796755,0.007375956129614487,-0.011913929400967672,-0.017238602489346007,-0.004453366346182845,-0.010388795306558268,-0.011160053727880774,-0.00786874436274493,0.0040234452829189535,0.01077757325625744,0.10678743089778563,0.0076570587709408,-0.02006808428571985,0.060076895071722355,0.14260105757137778,-0.0047437140153973375,-0.005571054390148266,0.013103920646988107,0.004421090851257093,-0.007710433376596085,-0.011427307760548166,-0.010206935044896955,-0.003112032465405406,-0.013600761481371614,0.016523096208805536,-0.01555095279298757,0.003689077960988621,-0.01033399810161022,0.006485079995411568,-0.004620980528887718],\"z\":[-0.004741156530668205,-0.009554987799481756,0.005547458862548394,0.010181351666863105,0.006433958616421199,-0.003384510344541778,-0.005349102875530051,-0.0020761281340443936,0.004348843908981116,-0.0013534994209825403,-0.0012259794361002248,-0.002551505344771693,-0.010907653820153743,-0.0009753161728247826,-0.005286498719645107,-0.005068056784524868,0.005761739840802381,0.0038995926758929643,-0.007868115600197137,0.0048914904019288575,-0.006968042530254485,-0.017086570999139933,-0.057844504562204184,-0.010239350612624307,-0.008698431229903578,-0.010888391530789888,-0.04446519610240808,-0.03395340569535241,-0.010908343231050109,0.0032450514453946744,-0.0051630028006124495,-0.002244827193097593,0.000838939535176559,-0.004399934406933394,-0.004486866774957068,0.009420547130722882,-0.009121469516669796,-0.004616684796962506,0.00021181684215824796,0.011124438738330748,-0.006330623853675196,-0.007013991314796844,-0.006495760168070303,-0.01300500255851937,-0.006036497534552513,-0.0070460366973830015,0.007137234597648761,0.00028273653920365613,-0.00503892707558707,-0.0023549416223410894,-0.00441860517219516,-0.024028785715570617,-0.0018670505901380822,-0.007292055762608208,-0.004120885080577019,0.015012719931271927,0.0007751632014039541,0.003104307693616945,-0.0017219714098032158,0.006058014861959872,0.027074553855825793,0.001875066253334259,0.0050547181733230084,0.015468762347807925,0.006201551532227029,0.004824957511610517,0.015719449058730923,0.0022276881445830853,-0.002946149580334894,-0.0017959951537255723,-0.008889753800787789,-0.00021596145220594107,-0.001325128017262231,-0.006411457305293834,-0.013930720139436666,0.015832220109134022,0.004770713871787931,-0.011386859141225175,0.0011003646905107293,-0.007118164654890852,0.11347305208975195,0.00634121854361134,0.004255396447349028,0.017411922583856262,0.011884070694367456,-0.0020896885757191986,0.02882080950359213,0.03986680103926915,0.02701257716688709,-0.009765229723424963,-0.001274495584589543,-0.002460192311585533,-0.008636125040537053,-0.0013416633131235547,-0.00037688514496501507,0.0008553638541585868,-0.011548351376288511,-0.00014834673297356893,0.0005253338672364843,-0.01159724216438446,-0.007880883875965592,-0.022810692252584884,-0.0035720447396134602,-0.007972914824764159,0.0035021871944228775,0.0017723934311439354,-0.001626257136084005,0.003786670068728691,0.011352297898106685,0.006310405108168304,0.005636695442167505,-0.003688947825627847,-0.0030768981986163055,-0.0009686889553553553,-0.002819896055687552,0.008219142070325968,0.0011119221051462053,-0.007756132126488374,0.0033078830054439215,0.002777464337831422,-0.0027056522837590005],\"type\":\"scatter3d\"}],                        {\"template\":{\"data\":{\"histogram2dcontour\":[{\"type\":\"histogram2dcontour\",\"colorbar\":{\"outlinewidth\":0,\"ticks\":\"\"},\"colorscale\":[[0.0,\"#0d0887\"],[0.1111111111111111,\"#46039f\"],[0.2222222222222222,\"#7201a8\"],[0.3333333333333333,\"#9c179e\"],[0.4444444444444444,\"#bd3786\"],[0.5555555555555556,\"#d8576b\"],[0.6666666666666666,\"#ed7953\"],[0.7777777777777778,\"#fb9f3a\"],[0.8888888888888888,\"#fdca26\"],[1.0,\"#f0f921\"]]}],\"choropleth\":[{\"type\":\"choropleth\",\"colorbar\":{\"outlinewidth\":0,\"ticks\":\"\"}}],\"histogram2d\":[{\"type\":\"histogram2d\",\"colorbar\":{\"outlinewidth\":0,\"ticks\":\"\"},\"colorscale\":[[0.0,\"#0d0887\"],[0.1111111111111111,\"#46039f\"],[0.2222222222222222,\"#7201a8\"],[0.3333333333333333,\"#9c179e\"],[0.4444444444444444,\"#bd3786\"],[0.5555555555555556,\"#d8576b\"],[0.6666666666666666,\"#ed7953\"],[0.7777777777777778,\"#fb9f3a\"],[0.8888888888888888,\"#fdca26\"],[1.0,\"#f0f921\"]]}],\"heatmap\":[{\"type\":\"heatmap\",\"colorbar\":{\"outlinewidth\":0,\"ticks\":\"\"},\"colorscale\":[[0.0,\"#0d0887\"],[0.1111111111111111,\"#46039f\"],[0.2222222222222222,\"#7201a8\"],[0.3333333333333333,\"#9c179e\"],[0.4444444444444444,\"#bd3786\"],[0.5555555555555556,\"#d8576b\"],[0.6666666666666666,\"#ed7953\"],[0.7777777777777778,\"#fb9f3a\"],[0.8888888888888888,\"#fdca26\"],[1.0,\"#f0f921\"]]}],\"heatmapgl\":[{\"type\":\"heatmapgl\",\"colorbar\":{\"outlinewidth\":0,\"ticks\":\"\"},\"colorscale\":[[0.0,\"#0d0887\"],[0.1111111111111111,\"#46039f\"],[0.2222222222222222,\"#7201a8\"],[0.3333333333333333,\"#9c179e\"],[0.4444444444444444,\"#bd3786\"],[0.5555555555555556,\"#d8576b\"],[0.6666666666666666,\"#ed7953\"],[0.7777777777777778,\"#fb9f3a\"],[0.8888888888888888,\"#fdca26\"],[1.0,\"#f0f921\"]]}],\"contourcarpet\":[{\"type\":\"contourcarpet\",\"colorbar\":{\"outlinewidth\":0,\"ticks\":\"\"}}],\"contour\":[{\"type\":\"contour\",\"colorbar\":{\"outlinewidth\":0,\"ticks\":\"\"},\"colorscale\":[[0.0,\"#0d0887\"],[0.1111111111111111,\"#46039f\"],[0.2222222222222222,\"#7201a8\"],[0.3333333333333333,\"#9c179e\"],[0.4444444444444444,\"#bd3786\"],[0.5555555555555556,\"#d8576b\"],[0.6666666666666666,\"#ed7953\"],[0.7777777777777778,\"#fb9f3a\"],[0.8888888888888888,\"#fdca26\"],[1.0,\"#f0f921\"]]}],\"surface\":[{\"type\":\"surface\",\"colorbar\":{\"outlinewidth\":0,\"ticks\":\"\"},\"colorscale\":[[0.0,\"#0d0887\"],[0.1111111111111111,\"#46039f\"],[0.2222222222222222,\"#7201a8\"],[0.3333333333333333,\"#9c179e\"],[0.4444444444444444,\"#bd3786\"],[0.5555555555555556,\"#d8576b\"],[0.6666666666666666,\"#ed7953\"],[0.7777777777777778,\"#fb9f3a\"],[0.8888888888888888,\"#fdca26\"],[1.0,\"#f0f921\"]]}],\"mesh3d\":[{\"type\":\"mesh3d\",\"colorbar\":{\"outlinewidth\":0,\"ticks\":\"\"}}],\"scatter\":[{\"fillpattern\":{\"fillmode\":\"overlay\",\"size\":10,\"solidity\":0.2},\"type\":\"scatter\"}],\"parcoords\":[{\"type\":\"parcoords\",\"line\":{\"colorbar\":{\"outlinewidth\":0,\"ticks\":\"\"}}}],\"scatterpolargl\":[{\"type\":\"scatterpolargl\",\"marker\":{\"colorbar\":{\"outlinewidth\":0,\"ticks\":\"\"}}}],\"bar\":[{\"error_x\":{\"color\":\"#2a3f5f\"},\"error_y\":{\"color\":\"#2a3f5f\"},\"marker\":{\"line\":{\"color\":\"#E5ECF6\",\"width\":0.5},\"pattern\":{\"fillmode\":\"overlay\",\"size\":10,\"solidity\":0.2}},\"type\":\"bar\"}],\"scattergeo\":[{\"type\":\"scattergeo\",\"marker\":{\"colorbar\":{\"outlinewidth\":0,\"ticks\":\"\"}}}],\"scatterpolar\":[{\"type\":\"scatterpolar\",\"marker\":{\"colorbar\":{\"outlinewidth\":0,\"ticks\":\"\"}}}],\"histogram\":[{\"marker\":{\"pattern\":{\"fillmode\":\"overlay\",\"size\":10,\"solidity\":0.2}},\"type\":\"histogram\"}],\"scattergl\":[{\"type\":\"scattergl\",\"marker\":{\"colorbar\":{\"outlinewidth\":0,\"ticks\":\"\"}}}],\"scatter3d\":[{\"type\":\"scatter3d\",\"line\":{\"colorbar\":{\"outlinewidth\":0,\"ticks\":\"\"}},\"marker\":{\"colorbar\":{\"outlinewidth\":0,\"ticks\":\"\"}}}],\"scattermapbox\":[{\"type\":\"scattermapbox\",\"marker\":{\"colorbar\":{\"outlinewidth\":0,\"ticks\":\"\"}}}],\"scatterternary\":[{\"type\":\"scatterternary\",\"marker\":{\"colorbar\":{\"outlinewidth\":0,\"ticks\":\"\"}}}],\"scattercarpet\":[{\"type\":\"scattercarpet\",\"marker\":{\"colorbar\":{\"outlinewidth\":0,\"ticks\":\"\"}}}],\"carpet\":[{\"aaxis\":{\"endlinecolor\":\"#2a3f5f\",\"gridcolor\":\"white\",\"linecolor\":\"white\",\"minorgridcolor\":\"white\",\"startlinecolor\":\"#2a3f5f\"},\"baxis\":{\"endlinecolor\":\"#2a3f5f\",\"gridcolor\":\"white\",\"linecolor\":\"white\",\"minorgridcolor\":\"white\",\"startlinecolor\":\"#2a3f5f\"},\"type\":\"carpet\"}],\"table\":[{\"cells\":{\"fill\":{\"color\":\"#EBF0F8\"},\"line\":{\"color\":\"white\"}},\"header\":{\"fill\":{\"color\":\"#C8D4E3\"},\"line\":{\"color\":\"white\"}},\"type\":\"table\"}],\"barpolar\":[{\"marker\":{\"line\":{\"color\":\"#E5ECF6\",\"width\":0.5},\"pattern\":{\"fillmode\":\"overlay\",\"size\":10,\"solidity\":0.2}},\"type\":\"barpolar\"}],\"pie\":[{\"automargin\":true,\"type\":\"pie\"}]},\"layout\":{\"autotypenumbers\":\"strict\",\"colorway\":[\"#636efa\",\"#EF553B\",\"#00cc96\",\"#ab63fa\",\"#FFA15A\",\"#19d3f3\",\"#FF6692\",\"#B6E880\",\"#FF97FF\",\"#FECB52\"],\"font\":{\"color\":\"#2a3f5f\"},\"hovermode\":\"closest\",\"hoverlabel\":{\"align\":\"left\"},\"paper_bgcolor\":\"white\",\"plot_bgcolor\":\"#E5ECF6\",\"polar\":{\"bgcolor\":\"#E5ECF6\",\"angularaxis\":{\"gridcolor\":\"white\",\"linecolor\":\"white\",\"ticks\":\"\"},\"radialaxis\":{\"gridcolor\":\"white\",\"linecolor\":\"white\",\"ticks\":\"\"}},\"ternary\":{\"bgcolor\":\"#E5ECF6\",\"aaxis\":{\"gridcolor\":\"white\",\"linecolor\":\"white\",\"ticks\":\"\"},\"baxis\":{\"gridcolor\":\"white\",\"linecolor\":\"white\",\"ticks\":\"\"},\"caxis\":{\"gridcolor\":\"white\",\"linecolor\":\"white\",\"ticks\":\"\"}},\"coloraxis\":{\"colorbar\":{\"outlinewidth\":0,\"ticks\":\"\"}},\"colorscale\":{\"sequential\":[[0.0,\"#0d0887\"],[0.1111111111111111,\"#46039f\"],[0.2222222222222222,\"#7201a8\"],[0.3333333333333333,\"#9c179e\"],[0.4444444444444444,\"#bd3786\"],[0.5555555555555556,\"#d8576b\"],[0.6666666666666666,\"#ed7953\"],[0.7777777777777778,\"#fb9f3a\"],[0.8888888888888888,\"#fdca26\"],[1.0,\"#f0f921\"]],\"sequentialminus\":[[0.0,\"#0d0887\"],[0.1111111111111111,\"#46039f\"],[0.2222222222222222,\"#7201a8\"],[0.3333333333333333,\"#9c179e\"],[0.4444444444444444,\"#bd3786\"],[0.5555555555555556,\"#d8576b\"],[0.6666666666666666,\"#ed7953\"],[0.7777777777777778,\"#fb9f3a\"],[0.8888888888888888,\"#fdca26\"],[1.0,\"#f0f921\"]],\"diverging\":[[0,\"#8e0152\"],[0.1,\"#c51b7d\"],[0.2,\"#de77ae\"],[0.3,\"#f1b6da\"],[0.4,\"#fde0ef\"],[0.5,\"#f7f7f7\"],[0.6,\"#e6f5d0\"],[0.7,\"#b8e186\"],[0.8,\"#7fbc41\"],[0.9,\"#4d9221\"],[1,\"#276419\"]]},\"xaxis\":{\"gridcolor\":\"white\",\"linecolor\":\"white\",\"ticks\":\"\",\"title\":{\"standoff\":15},\"zerolinecolor\":\"white\",\"automargin\":true,\"zerolinewidth\":2},\"yaxis\":{\"gridcolor\":\"white\",\"linecolor\":\"white\",\"ticks\":\"\",\"title\":{\"standoff\":15},\"zerolinecolor\":\"white\",\"automargin\":true,\"zerolinewidth\":2},\"scene\":{\"xaxis\":{\"backgroundcolor\":\"#E5ECF6\",\"gridcolor\":\"white\",\"linecolor\":\"white\",\"showbackground\":true,\"ticks\":\"\",\"zerolinecolor\":\"white\",\"gridwidth\":2},\"yaxis\":{\"backgroundcolor\":\"#E5ECF6\",\"gridcolor\":\"white\",\"linecolor\":\"white\",\"showbackground\":true,\"ticks\":\"\",\"zerolinecolor\":\"white\",\"gridwidth\":2},\"zaxis\":{\"backgroundcolor\":\"#E5ECF6\",\"gridcolor\":\"white\",\"linecolor\":\"white\",\"showbackground\":true,\"ticks\":\"\",\"zerolinecolor\":\"white\",\"gridwidth\":2}},\"shapedefaults\":{\"line\":{\"color\":\"#2a3f5f\"}},\"annotationdefaults\":{\"arrowcolor\":\"#2a3f5f\",\"arrowhead\":0,\"arrowwidth\":1},\"geo\":{\"bgcolor\":\"white\",\"landcolor\":\"#E5ECF6\",\"subunitcolor\":\"white\",\"showland\":true,\"showlakes\":true,\"lakecolor\":\"white\"},\"title\":{\"x\":0.05},\"mapbox\":{\"style\":\"light\"}}},\"scene\":{\"domain\":{\"x\":[0.0,1.0],\"y\":[0.0,1.0]},\"xaxis\":{\"title\":{\"text\":\"PC1\"}},\"yaxis\":{\"title\":{\"text\":\"PC2\"}},\"zaxis\":{\"title\":{\"text\":\"PC3\"}},\"camera\":{\"eye\":{\"x\":0.2,\"y\":-2.0,\"z\":1}},\"aspectmode\":\"data\"},\"legend\":{\"title\":{\"text\":\"Session\"},\"tracegroupgap\":0},\"title\":{\"text\":\"First 3 PCs on Mean Response of Each Cell to Each SG Stimulus Over Time\"},\"font\":{\"size\":11},\"width\":800,\"height\":600},                        {\"responsive\": true}                    ).then(function(){\n",
       "                            \n",
       "var gd = document.getElementById('d87167bf-aaf0-4a25-b886-5bdf9e0252fb');\n",
       "var x = new MutationObserver(function (mutations, observer) {{\n",
       "        var display = window.getComputedStyle(gd).display;\n",
       "        if (!display || display === 'none') {{\n",
       "            console.log([gd, 'removed!']);\n",
       "            Plotly.purge(gd);\n",
       "            observer.disconnect();\n",
       "        }}\n",
       "}});\n",
       "\n",
       "// Listen for the removal of the full notebook cells\n",
       "var notebookContainer = gd.closest('#notebook-container');\n",
       "if (notebookContainer) {{\n",
       "    x.observe(notebookContainer, {childList: true});\n",
       "}}\n",
       "\n",
       "// Listen for the clearing of the current output cell\n",
       "var outputEl = gd.closest('.output');\n",
       "if (outputEl) {{\n",
       "    x.observe(outputEl, {childList: true});\n",
       "}}\n",
       "\n",
       "                        })                };                });            </script>        </div>"
      ]
     },
     "metadata": {},
     "output_type": "display_data"
    }
   ],
   "source": [
    "# PCA Model: 3D Visualization\n",
    "fig = px.scatter_3d(transformed_data_sg, x=0, y=1, z=2, color=\"Session\", labels = {\"0\": \"PC1\",\"1\": \"PC2\", \"2\": \"PC3\"}, title = \"First 3 PCs on Mean Response of Each Cell to Each SG Stimulus Over Time\")\n",
    "fig.update_traces(marker_size=3) # reduce size of scatter points from default size\n",
    "fig.update_layout(width=800, height=600, font_size=11, scene_aspectmode=\"data\", scene_camera_eye= dict(x=0.2, y=-2.0, z=1)) # adjust plot appearance\n",
    "fig.show()"
   ]
  },
  {
   "cell_type": "code",
   "execution_count": null,
   "id": "38bf688d",
   "metadata": {},
   "outputs": [],
   "source": [
    "# Natural Scenes"
   ]
  },
  {
   "cell_type": "code",
   "execution_count": 32,
   "id": "c3f7e0ff",
   "metadata": {},
   "outputs": [],
   "source": [
    "# Get response matrics\n",
    "response1, response2, response3, ns1_responses_by_stimulus, ns2_responses_by_stimulus, ns3_responses_by_stimulus = get_all_relevant_tables_dg_sg_ns(688678764, \"natural_scenes\")\n",
    "\n",
    "# Transform data for PCA n=3\n",
    "transformed_data_ns = pca_transform_data(ns1_responses_by_stimulus, ns2_responses_by_stimulus, ns3_responses_by_stimulus, 3)\n"
   ]
  },
  {
   "cell_type": "code",
   "execution_count": 35,
   "id": "071287ac",
   "metadata": {},
   "outputs": [
    {
     "data": {
      "image/png": "[encoded data removed]",
      "text/plain": [
       "<Figure size 576x360 with 1 Axes>"
      ]
     },
     "metadata": {
      "needs_background": "light"
     },
     "output_type": "display_data"
    }
   ],
   "source": [
    "# PCA Model: 2D Visualization\n",
    "fig, ax = plt.subplots(figsize=(8,5))\n",
    "\n",
    "ax.scatter(transformed_data_ns[transformed_data_ns.Session==\"1\"][0], transformed_data_ns[transformed_data_ns.Session==\"1\"][1], label=\"session 1\")\n",
    "ax.scatter(transformed_data_ns[transformed_data_ns.Session==\"2\"][0], transformed_data_ns[transformed_data_ns.Session==\"2\"][1], label=\"session 2\")\n",
    "ax.scatter(transformed_data_ns[transformed_data_ns.Session==\"3\"][0], transformed_data_ns[transformed_data_ns.Session==\"3\"][1], label=\"session 3\")\n",
    "ax.set_xlabel(\"1st PC\")\n",
    "ax.set_ylabel(\"2nd PC\")\n",
    "ax.set_title(\"PCA Analysis on Mean Response of Each Cell to Each SG Stimulus Over Time\")\n",
    "plt.legend(loc=\"upper right\")\n",
    "plt.show()\n"
   ]
  },
  {
   "cell_type": "code",
   "execution_count": 42,
   "id": "ece23890",
   "metadata": {},
   "outputs": [
    {
     "data": {
      "application/vnd.plotly.v1+json": {
       "config": {
        "plotlyServerURL": "https://plot.ly"
       },
       "data": [
        {
         "hovertemplate": "Session=1<br>PC1=%{x}<br>PC2=%{y}<br>PC3=%{z}<extra></extra>",
         "legendgroup": "1",
         "marker": {
          "color": "#636efa",
          "size": 3,
          "symbol": "circle"
         },
         "mode": "markers",
         "name": "1",
         "scene": "scene",
         "showlegend": true,
         "type": "scatter3d",
         "x": [
          -0.03018905987126857,
          0.013274253870705237,
          0.04188236369106663,
          0.024174029323403783,
          -0.02202383866486398,
          -0.002201218326680497,
          -0.01957174499023185,
          -0.00836803333317222,
          -0.0001221479709169835,
          0.005586997943312595,
          0.00689970337786816,
          0.05477189094700378,
          0.1551222303108501,
          -0.006201426547775658,
          0.0031264800664937585,
          -0.03324136314937142,
          -0.002094295072782359,
          0.009683631433148102,
          -0.013661341408103298,
          -0.023995076496582113,
          0.026127410844377585,
          -0.0023387999866477573,
          0.02347812423205145,
          0.017863945547045436,
          -0.017500456836462085,
          0.02117149552488307,
          0.010114036218196527,
          0.01118927696793227,
          0.00953323294601961,
          -0.013006100566231365,
          -0.018572430783844695,
          -0.019251413440055022,
          -0.004173742574578311,
          -0.012738516199442867,
          -0.0008598738367861566,
          0.002352334859877284,
          0.005547988961175339,
          0.04334651493769032,
          -0.03207646827498539,
          -0.01347504649775133,
          0.002929306649201921,
          -0.005820163742749664,
          0.02148423729923358,
          -0.0008329780405903324,
          -0.029767974941116916,
          -0.025272041748051543,
          0.031210127725060308,
          -0.008133514725213902,
          0.0019242422021137871,
          0.008695475773174297,
          0.004798628969180881,
          0.009016628439621699,
          0.003109472598351647,
          -0.0036990898665146448,
          0.003461722296713328,
          -1.806223155351172e-05,
          0.046337123457919224,
          -0.012736641142846731,
          0.04547169548315341,
          0.004356485464521113,
          -0.00442498897232947,
          0.004763921649851607,
          -0.009293508521509388,
          -0.019432715946737976,
          0.012137787642747387,
          -0.004499387361767783,
          -0.033957285718215297,
          -0.027211790326364897,
          -0.010982591591533284,
          0.025442463517657235,
          0.03196565222861721,
          -0.006083724840843731,
          -0.04207312811852815,
          -0.011479848933796583,
          0.0051840803703637785,
          -0.01859163958704527,
          -0.015759127105206924,
          -0.011875341684078004,
          0.003146629435361564,
          0.006614125394031532,
          -0.01540081918713185,
          0.047587684812874745,
          -0.04241157943161529,
          0.014735862890811566,
          -0.009950673635909117,
          0.025621602697305422,
          -0.017265357958893612,
          -0.017024509554091266,
          0.016331592614694995,
          -0.001696204905888462,
          0.011112421246875672,
          0.04432385393130767,
          0.00044769099328033054,
          0.010793666421486638,
          0.014743346531119573,
          0.01976699138665645,
          -0.013048740650545048,
          -0.004037731115682609,
          -0.022705727560424743,
          0.11768057344827151,
          -0.0305056340894031,
          0.01842894676402821,
          -0.0030240623751385262,
          0.005744558026006629,
          -0.017959844974133277,
          0.023605595706897145,
          -0.014690187287393063,
          -0.014761825312656362,
          0.0011021230722964587,
          -0.003919146842908837,
          -0.01339907415700118,
          -0.008339598949077662,
          -0.007696377140941954,
          -3.402352687259611e-05,
          0.004475100830532979,
          -0.022415551100576178,
          -0.0070028468044698285,
          -0.007869814873067251,
          0.005425961481951045
         ],
         "y": [
          0.0019303722369710212,
          -0.004767877974619618,
          -0.015178816943920016,
          0.0023994901194198765,
          0.02153590068127493,
          -0.0005865021579725743,
          0.045131065482302654,
          0.007097810686545723,
          -0.005445077505163938,
          0.0038024460856858353,
          0.03125812937749156,
          -0.022809265859047717,
          -0.009476505488939534,
          0.010656050992808957,
          -0.007093710774065642,
          -0.022281781354118072,
          -0.006709957631352707,
          -0.0004189881538514495,
          0.002229539650767322,
          -0.014679671897635773,
          0.00015113078001916446,
          -0.005884159292882453,
          -0.005428473483514213,
          -0.007121552409887841,
          -0.0050500768231053214,
          -0.01651256939410009,
          -0.014892529807299408,
          0.01627099960528546,
          0.05305273179018836,
          0.004864659907199765,
          0.011976385643424063,
          -0.0006532641996740219,
          -0.019354986355640817,
          0.011719616293817403,
          0.003969998504506784,
          -0.002276560699839723,
          -0.009614650561281378,
          -0.00562521293729838,
          0.0003423256471384898,
          -0.006562799013304078,
          -0.005752205684037887,
          0.023014174610350727,
          -0.003527617013393626,
          -0.012613392822913523,
          0.017473371053309747,
          -0.014711658677723349,
          0.04425631349545993,
          -0.011980996680783165,
          -0.006692473132948655,
          0.016922122952732706,
          -0.005809816436910531,
          -0.00898094522000751,
          0.013898568324427823,
          -0.0019867524962023345,
          -0.0041454429929714,
          0.0013200648046236634,
          0.01484068623693591,
          -0.008355439412028506,
          -0.010142395997448553,
          -0.006972052294786027,
          -0.007905508951331275,
          -0.0003402813904700483,
          -0.01583842305547631,
          -0.015044538526336946,
          -0.0039526078614734745,
          0.0017113694787412492,
          -0.020628143783599052,
          0.02114432760467505,
          -0.005320962513246153,
          4.8505679404981395e-05,
          -0.0224942004255127,
          -0.00983583586458257,
          -0.03535738147492222,
          -0.0047269701808226715,
          -0.006615865203357719,
          -0.010495006170502313,
          -0.010155798764982347,
          -0.0028216953328501996,
          -0.01138068766005827,
          0.005270973521315847,
          -0.024620063992053617,
          0.010109225145234896,
          -0.017395570547885673,
          -0.010021223531866097,
          0.022304646834325658,
          -0.005038491157434463,
          -0.01381628606495308,
          -0.0037997589027600875,
          -0.013560668779667842,
          -0.010508224412373559,
          -0.001491168314158295,
          -0.01165531221599593,
          0.014728627887741496,
          -0.0059807418514596315,
          0.0755424002298528,
          -0.009976885835757912,
          -0.01123304423614821,
          0.002434176917871003,
          -0.001382842793138231,
          -0.04133715553623145,
          -0.01290004446005864,
          -0.008750697755101329,
          -0.0048538317368821615,
          -0.006390657534244024,
          0.05935154808481539,
          -0.006829658206840329,
          -0.012276108802139312,
          -0.004131902009962705,
          -0.013206505529544652,
          -0.0001420694818498316,
          0.0018790437002578209,
          -0.01396100927038347,
          0.22473360395119968,
          0.021995071405071624,
          -0.006322425396076871,
          -0.007307121719442814,
          -0.01125709047473201,
          -8.051786686898827e-05,
          -0.005324837201887653
         ],
         "z": [
          -0.01096341570618267,
          -0.017402005280658595,
          -0.00337668913017819,
          0.0881630759940032,
          0.004386539294995179,
          0.005626770351227857,
          -0.01686464126063532,
          0.0009651006648138565,
          -0.0004682628668607764,
          0.041769404345232825,
          0.002021998229521176,
          0.012234286917775594,
          -0.047958248333973295,
          -0.010205849846201043,
          -0.009041521142600515,
          -0.0033300382763271352,
          -0.00487930408787402,
          0.018487617677674234,
          0.00559205695167366,
          -0.006847965400428161,
          0.013020077481458135,
          0.0006892677971683157,
          0.03690236967463773,
          0.025789202748527112,
          0.016169806989315888,
          0.008030001942821567,
          0.005464554307436507,
          0.022534460625439706,
          -0.0038089763124509106,
          0.007864896635066093,
          0.0005332417642250869,
          -0.006928594707838756,
          -0.00868838290885306,
          -0.010869519409225648,
          -0.006498401302619077,
          -0.002544527580554401,
          -0.009909044308417485,
          0.015933131084609416,
          -0.011155684375451669,
          -0.0036964456162852464,
          0.044486957303575825,
          -0.014830760787269089,
          0.0954815362790528,
          0.004259698962839738,
          -0.0103821036196901,
          0.000263135112430481,
          0.07776250527384912,
          0.0005776253976144509,
          -0.004081577212289956,
          0.014551241034704331,
          -0.008966501620821743,
          0.02483220343954942,
          0.002008665627862752,
          0.0022007667240517247,
          0.008805700096458952,
          0.022068674842700864,
          0.13386837755987693,
          -0.012088077391277796,
          -0.0007858910371743699,
          0.01696274686296543,
          -0.01563902533553245,
          0.004045652407480609,
          -0.008883161720655647,
          -0.016495815881373162,
          -0.007294327537453433,
          -0.015121630664724509,
          -0.019757288839274748,
          -0.01438543626125203,
          0.018690385663067938,
          -0.012410680293318332,
          0.01948897157915018,
          0.01845002984521881,
          -0.014778018272125106,
          -0.012046137895321388,
          0.020943706341519867,
          0.010952755478631258,
          0.00024730295052206776,
          0.007139180321181473,
          -0.013033344681889715,
          0.007327728948226516,
          -0.023112770574131535,
          -0.02668300003540135,
          -0.0167097956893967,
          -0.0005934803982848855,
          0.02203788363072026,
          0.01761141518067784,
          -0.008040624355548719,
          -0.013825749848381953,
          0.013762751398988101,
          -0.0127222735361972,
          -0.013553208636269087,
          0.035955999084780144,
          -0.0060959112093540956,
          -0.014612222257017037,
          0.015326424405079031,
          0.003131535617523314,
          -0.0004039760212491599,
          0.01166335787772336,
          -0.003923977598576114,
          0.004336718494989964,
          -0.016761739139644412,
          -0.0080121416529632,
          -0.0021733057469722054,
          -0.01708961288649214,
          -0.010524712819606893,
          0.04403146937225367,
          -0.012602942123391171,
          0.012448053497143865,
          -0.006716242004684737,
          -0.01725061203501882,
          0.0022623798866818336,
          0.023892189260260713,
          -0.03310918437171863,
          -0.006565979051933436,
          0.009174810865089651,
          -0.010202635300152267,
          0.003034076057589993,
          -0.0036736064533447665,
          0.035777903672077636
         ]
        },
        {
         "hovertemplate": "Session=2<br>PC1=%{x}<br>PC2=%{y}<br>PC3=%{z}<extra></extra>",
         "legendgroup": "2",
         "marker": {
          "color": "#EF553B",
          "size": 3,
          "symbol": "circle"
         },
         "mode": "markers",
         "name": "2",
         "scene": "scene",
         "showlegend": true,
         "type": "scatter3d",
         "x": [
          -0.004382576896221854,
          -0.007638248660680752,
          0.0761623188303582,
          0.05393434038170985,
          0.011299056197608535,
          0.00399988100794681,
          -0.0018676915827573679,
          -0.008847934912119791,
          0.017294406893202892,
          0.004305974695661897,
          0.003296488318264891,
          0.002557583195511296,
          0.17446297140819061,
          0.00659323089831723,
          0.002713797408569865,
          -0.018716060976350177,
          -0.013537903353127847,
          -0.010458167889263034,
          0.005526152058062824,
          -0.026613982114901083,
          -0.004983107390941207,
          -0.005204623018985256,
          -0.007758747586893335,
          0.03101575765342214,
          -0.01470394452805719,
          0.00154491106380579,
          -0.01043019906801985,
          0.034238425010402564,
          0.04545005827427506,
          -0.01302753015337571,
          0.0113264474434231,
          -0.019535885149736615,
          -0.014709056248405022,
          0.03582505418201673,
          -0.010256671023234527,
          -0.005535386634351047,
          -0.004597306729226693,
          -0.011896300368169774,
          -0.002209072737392594,
          -0.019060761856869765,
          -0.0022733993470247897,
          0.017577501287199693,
          0.022528519714304602,
          -0.004086906830254613,
          -0.008550083315734584,
          -0.028432967926846617,
          0.016744930793652114,
          0.004791598677677462,
          -0.008522260816213644,
          0.019794150617400884,
          0.013710823820805445,
          0.01338631550173104,
          -0.002711408490605089,
          -0.018295944295887615,
          -0.014145234661777344,
          0.02017784364278702,
          0.0023016200369141535,
          -0.024410527707777085,
          0.000161926917250272,
          -0.016099920484520604,
          -0.018697921512322732,
          -0.012921650468222204,
          -0.013297029382101349,
          -0.0014680117515663334,
          -0.011416381478586644,
          -0.01094891787445645,
          -0.038525089189257816,
          -0.012941848255931077,
          -0.010731280060088305,
          -0.007080952869050287,
          0.013852749589379758,
          0.002374980331569446,
          -0.028116772023535186,
          0.02426564079316338,
          -0.009644641399126155,
          0.006084390401129025,
          0.010388701724400724,
          -0.018699014969807755,
          -0.013862840869714234,
          -0.004778940862788762,
          -0.03146658821178353,
          0.0835024588854669,
          -0.027961854032349784,
          -0.004184889480058554,
          0.020501447454079873,
          -0.004223282175542127,
          -0.015435704829061977,
          -0.006499376132501053,
          -0.0019783288071551393,
          -0.008503492514923338,
          0.004623447329436813,
          0.0003154932078997968,
          -0.005510890546220434,
          0.0029771007169699932,
          -0.0024573425050556856,
          0.02316093760607913,
          -0.01705419700464722,
          -0.009312836157107568,
          0.00014680333513700456,
          0.10966376708963639,
          -0.035159016937363854,
          0.0916926112065888,
          -0.0055408153615809485,
          -0.025772426434538805,
          0.0008979251570654535,
          0.0096683595155629,
          -0.03329397190359573,
          -0.010158159431696984,
          0.014227158024980091,
          -0.001817718085292215,
          0.02147122087506672,
          -0.014511427157237173,
          0.001968140148812962,
          -0.006065544576692875,
          -0.018513216049745602,
          -0.001867733886781197,
          -0.03327173765015304,
          -0.02583441427012395,
          -0.004659674075529752
         ],
         "y": [
          -0.008082942544480942,
          -0.009557027379572177,
          -0.008052249416287852,
          0.001343404708791431,
          -0.007993943607559076,
          -0.018368844906431907,
          0.011157249033448554,
          0.020041198309265457,
          0.011210634350400709,
          0.011802253930035601,
          0.02080750985747315,
          -0.0055988889456315225,
          0.008390074534497124,
          0.004375416861860285,
          -0.004800102425142883,
          -0.01708349538750921,
          -0.006047668035676907,
          -0.003227426079436353,
          0.008616732716965371,
          -0.014103039814699276,
          -0.0015875351834311133,
          -0.015754261492191782,
          -0.013061756418777208,
          -0.0037474347785441463,
          -0.002322880956941833,
          -0.017505965894379208,
          -0.013733859962229769,
          -0.003744326707669576,
          0.06767400073393397,
          -0.007334975210155048,
          -0.0022600684600405808,
          -0.00450460492258608,
          -0.006225278175719224,
          0.0032032949033682094,
          0.0031497969308070966,
          -0.0053586959165630695,
          -0.005098678436617976,
          -0.00086885518556738,
          -0.01823710441110915,
          -0.0070992607640823005,
          -0.00931744225744486,
          0.00018848760130964583,
          -0.006689888509898691,
          -0.002655132215013602,
          0.023371685036881713,
          -0.006027715034211253,
          0.05452303197961582,
          -0.013985844601885114,
          0.002990835433959116,
          -0.0021023014013821055,
          -0.008210786337577639,
          -0.00780835660756123,
          0.005321442686258576,
          -0.010642645983198099,
          -0.004330775261178121,
          -0.011400870976165699,
          0.009023173425956614,
          0.0017297314949082678,
          0.0109902530477885,
          -0.0033546098534710887,
          -0.008823643610762308,
          -0.006830268363714975,
          -0.015192404022981382,
          -0.01174003904929361,
          -0.00406406747550409,
          0.00710224052673113,
          -0.03280130020213341,
          -0.005336459816114696,
          -0.006283361407453274,
          0.005922909640105783,
          -0.017862661832503617,
          -0.00419190972590115,
          -0.017207743278538513,
          -0.007266662744962496,
          -0.02114167578872575,
          -0.015277429921337527,
          -0.012053091107087566,
          -0.009623062397100804,
          -0.008032799051637729,
          -0.0034589852159225155,
          -0.022852986860361087,
          -0.004640908691609138,
          -0.0007782246130875403,
          0.005397454436064065,
          0.02373495659399592,
          -0.0005453852432367784,
          -0.0064884556835680075,
          -0.010516869815945388,
          -0.013953760004185748,
          0.007593215719662493,
          0.003439907641795488,
          0.00022331818276300017,
          -0.004987854851447865,
          -0.012511828514889606,
          0.03787471406545972,
          0.00696978976253128,
          0.001323395730569545,
          0.021620799878770525,
          -0.00811022576673431,
          -0.037054165635293984,
          -0.02561654749031416,
          -0.014996470991607582,
          -0.0068032808364421925,
          0.011766446398956437,
          -0.009258793330555926,
          -0.005995039279770209,
          -0.008915630457893859,
          -0.005744426288239559,
          -0.00893819783934563,
          -0.005628033059722005,
          0.012054795474165974,
          0.0017010475184311086,
          0.1721037760187964,
          0.010771263211459966,
          -0.005291579204693461,
          -0.0036794363256390265,
          -0.007329379872659618,
          -0.011618846023761904,
          0.0254156565100668
         ],
         "z": [
          -0.017514497988905222,
          -0.011184172752140682,
          -0.014090240869986783,
          0.11087241618339509,
          0.004322967850557075,
          -0.015503903190179198,
          0.0036161364525059063,
          0.03250093633095384,
          -0.005896295452972019,
          0.04489167580821972,
          0.005981283578767016,
          -0.015320203174724963,
          -0.05480924758421492,
          -0.019401674870000267,
          -0.012704236482521928,
          0.006171365759868853,
          -0.0073127505827211715,
          0.010183390440786349,
          0.007755333791539979,
          -0.011856359043805073,
          0.016804189674129614,
          -0.014125913878710691,
          0.0032610582356075784,
          0.0054854168845778345,
          -0.004578054625891326,
          0.002758009449022593,
          0.002211926929068906,
          0.02022079227231771,
          -0.016624139927873777,
          -0.007308574189746352,
          0.0011838822240344401,
          -0.007560265838463269,
          -0.011375155905081005,
          -0.009974945694771146,
          0.00449163075671693,
          -0.011935614958875355,
          -0.006348785134495261,
          -0.008349393079182548,
          -0.01854597574011437,
          -0.007173561390189711,
          0.008084188922418542,
          -0.0014531869919598294,
          0.07787046017070513,
          -0.009137673899577635,
          -0.019444402811180796,
          -0.00859094569585645,
          0.05094773971201345,
          0.001168780035353477,
          0.0031652804834005144,
          0.005669676367331699,
          -0.002039107267870478,
          0.02027969291211459,
          0.008337175857212305,
          -0.016857710264313756,
          -0.004943019240856801,
          -0.013245499550903789,
          0.06489306255878995,
          -0.0017646146376019381,
          -0.01340143957424511,
          -0.004614744784807997,
          0.013805218644172276,
          -0.005661581839116125,
          -0.02865629920205903,
          -0.0206213875699597,
          -0.0033937320260934833,
          -0.003131127609858887,
          -0.006133434484889443,
          -0.005077306366395711,
          0.00349256718427304,
          0.0017339785934339675,
          0.01577372010748399,
          0.013359292223946554,
          -0.014687424529032895,
          0.0019997022948346904,
          -0.009177391079471159,
          -0.010352223692403042,
          0.0006181558952207734,
          0.0017187770644979759,
          -0.007365445954688978,
          -0.004161437923450243,
          -0.012296536668913817,
          -0.037305784612026764,
          -0.018253563563373654,
          -0.006517465842935574,
          -0.0010017352265960767,
          -0.004861895511486818,
          0.007239556136606663,
          -0.005592810497406272,
          0.0008426815707417106,
          -0.009841489794080265,
          0.014311656701600827,
          0.010565765558657193,
          -0.007306681529320369,
          -0.014327180860522372,
          0.016324395076538996,
          0.004054337837099591,
          -0.012285370893927977,
          0.006654884177032871,
          -0.017618694195697435,
          -0.02865059413431815,
          -0.0247099508248443,
          -0.03127694198197252,
          -0.010510553955965002,
          -0.009206028145888763,
          0.00018220570806304348,
          0.01858354465782018,
          -0.011615085056638816,
          0.004831339507568442,
          -0.021168207980135554,
          -0.006988796566074392,
          0.002718617951390015,
          0.019660721915481436,
          -0.03158796482424551,
          -0.004637754103737791,
          -0.007915689995392057,
          -0.023676656324732752,
          -0.0008060096044290518,
          -0.004842066392738445,
          0.019657666384438874
         ]
        },
        {
         "hovertemplate": "Session=3<br>PC1=%{x}<br>PC2=%{y}<br>PC3=%{z}<extra></extra>",
         "legendgroup": "3",
         "marker": {
          "color": "#00cc96",
          "size": 3,
          "symbol": "circle"
         },
         "mode": "markers",
         "name": "3",
         "scene": "scene",
         "showlegend": true,
         "type": "scatter3d",
         "x": [
          -0.02748273910793012,
          -0.014041295549000892,
          0.05448235952093346,
          0.03654067358867214,
          -0.005989999561958311,
          -0.03331409390583651,
          -0.007897516820382859,
          -0.015479394128455393,
          0.005751004129346986,
          0.00926142504664644,
          0.009378872400700438,
          0.0005752037806136436,
          0.17923687587545473,
          -0.00692645370642039,
          0.008546136067709412,
          -0.0257281728705746,
          -0.008066150496373797,
          -0.00259334316979466,
          0.02589078369605413,
          -0.0294476299129172,
          0.002323330009175706,
          0.015389497570836803,
          0.013277180463466053,
          -0.003791603232773319,
          -0.02889238865564293,
          -0.003360101997423955,
          -0.004999643163496192,
          0.018831865669069137,
          0.002759544351621942,
          -0.0053329671475990425,
          -0.018955857671441582,
          -0.007622993572186661,
          -0.0067486612119073185,
          0.01628363731549339,
          0.0032899064946597077,
          0.0015407934961630216,
          -0.020847537725108077,
          -0.025464690002237667,
          -0.023904312293140145,
          -0.023751233480700774,
          -0.003988690127281093,
          -0.020458080705188765,
          0.013548228030051866,
          -0.009362361969684476,
          -0.02832941808563051,
          -0.02127619733903717,
          -0.007878020828820578,
          -0.013661976972725575,
          0.0003186945446071571,
          0.013489815874348918,
          -0.021919042884806873,
          -0.0007619607955320724,
          -0.021284694232180087,
          -0.014209570009406782,
          -0.016863858827235647,
          -0.010227028540520933,
          -0.0005760272759955691,
          -0.031699005645489206,
          -0.015011279738263942,
          -0.012785011345766073,
          -0.02731388302108095,
          -0.008700045183788824,
          -0.02277229427899409,
          -0.022188778672809432,
          -0.010650842173449348,
          -0.006926313524524556,
          -0.03970644273540237,
          -0.019923672670983373,
          0.0056253302153076645,
          0.008343697368046282,
          0.005205096015842979,
          -0.01908892690528611,
          -0.014610417809852299,
          -0.017939173193103886,
          -0.02711604307094554,
          -0.01880100982437635,
          -0.017606558499588483,
          -0.010234889143301016,
          -0.009230403249822794,
          -0.020602563865235488,
          -0.017225480925897936,
          0.11195276563876654,
          -0.03475408947824136,
          -0.01502136599342697,
          -0.006628307461243192,
          0.01958407432234231,
          -0.019188055567625588,
          -0.013845293148276858,
          0.00399293657715763,
          -0.007034212050911651,
          0.028035186956546748,
          0.013003093417612258,
          -0.00646082273886138,
          -0.008154050378155213,
          0.01711114349869717,
          -0.001446826268009245,
          0.005314771545995998,
          -0.018173007665612362,
          0.007981726499449003,
          0.09162492892407653,
          -0.025540135027962454,
          0.0370183797594377,
          -0.023079821378294146,
          -0.023776568872773723,
          -0.006778130577277538,
          -0.00402772695553802,
          -0.03107895852387597,
          0.013958595432075649,
          -0.006169937450618766,
          0.022894374400858945,
          -0.0051148118597726935,
          0.01478260330648484,
          -0.005447478935777005,
          0.012384034049786986,
          -0.011045741904783177,
          -0.019844190327274577,
          -0.018889970582920808,
          -0.015917307684564175,
          -0.0038187369983091676
         ],
         "y": [
          0.0007773165082281463,
          -0.013419385307643987,
          -0.007603296461330034,
          -0.0035725329214317397,
          -0.002438014118889053,
          -0.009299274867333953,
          0.026079247810622107,
          0.003412367760808516,
          -0.0048235044629252885,
          0.002432214185682404,
          0.03139980861910065,
          0.006841290218925969,
          -0.011048514204553012,
          0.00510180163000639,
          -0.0075729924586675195,
          -0.00790955929663798,
          -0.00316054513796925,
          -0.011258356870131233,
          -0.007721238777857421,
          -0.006103289683236574,
          -0.004201578287386324,
          -0.011510947404170684,
          0.009622428162450973,
          0.0034535678797105846,
          -0.017478785684671014,
          -0.013290523392027161,
          -0.002375862137497829,
          -0.0005470656747861066,
          0.07266516848583571,
          -0.002296804059090129,
          -0.007245784925423509,
          -0.004304446773456775,
          -0.0021788782163699645,
          0.004321976508646518,
          0.007452119941380317,
          -0.010423358454095118,
          -0.00734766174936628,
          -0.007981423520064165,
          -0.0107121824025636,
          -0.002757517030750885,
          -0.008589130095826894,
          0.004326716967749058,
          0.001308248654256361,
          -0.006216601652088402,
          0.02278011195981025,
          -0.0065535940369475226,
          0.05505839516168043,
          -0.0014235361731355781,
          0.005645077784612129,
          0.0002795723264462694,
          -0.009505873247731765,
          -0.008970917387015344,
          0.022046082540105323,
          -0.011779254075296256,
          -0.003546190139807938,
          -0.014342935247805902,
          0.019469153754151133,
          -0.004720141903116034,
          0.00733878054186786,
          -0.005885229615325566,
          -0.00801080370184786,
          -0.010362902669039834,
          -0.016322167207152995,
          -0.003142250222156606,
          -0.009093232558388085,
          0.0022008282917849375,
          -0.01141834202256266,
          0.005647666771003004,
          -0.010382220488280483,
          -0.004287821573117757,
          -0.01608921001847895,
          -0.011758091989025523,
          -0.018757155117910977,
          -0.005671264545211963,
          -0.007019973981290427,
          0.0006471885806492599,
          -0.009782734802554073,
          -0.003205195667717037,
          0.0024739207611943837,
          -0.0014757220526567952,
          -0.021810418062011325,
          -0.005753515383637855,
          -0.015112799654197472,
          0.006765048959814404,
          0.03317280945921597,
          -0.010468642111736629,
          -0.00586139488448869,
          -0.013156470745354195,
          -0.011272655959809875,
          -0.0038030148205989668,
          0.011032087975671146,
          0.008798410774662885,
          -0.006988574148428619,
          0.00806263174725758,
          0.06485188072960704,
          -0.0052449312101759795,
          -0.006494042762662189,
          -0.0061071537642465226,
          -0.010362728444112446,
          -0.02069391745488777,
          -0.015717947889545048,
          -0.0020779734063493408,
          0.0018434316423460893,
          -0.003329301403477477,
          0.001209438281755476,
          -0.003653701934281503,
          -0.007185646907648186,
          -0.00743967163288547,
          -0.004463703984070476,
          0.012486249747265664,
          -0.005434329595540195,
          -0.004391938303416186,
          0.2219998970846026,
          0.028361688608495784,
          0.017737903506495987,
          -0.00610362373038241,
          -0.016533170844692732,
          -0.0015971039192680834,
          0.010451723323570217
         ],
         "z": [
          -0.0022715756813799916,
          -0.008392284442562174,
          -0.006234963805543776,
          0.09967240112754035,
          -0.002981399875261875,
          -0.012275905377846954,
          -0.002928024990075645,
          0.0009201546266842407,
          5.9320138844788824e-05,
          0.036398416584777556,
          -0.0036136312213345834,
          -0.004276724356719658,
          -0.06865645001447565,
          -0.011264034688483773,
          0.001424777208553856,
          0.00015189699568744254,
          -0.010997050908351848,
          0.007217600323479987,
          -0.0009447136538427341,
          -0.01162480183059516,
          0.023543055350785453,
          -0.017343415307311538,
          0.0252872721337791,
          0.022465635554991828,
          0.00807792986197999,
          0.006106163074616684,
          -0.005053359726587102,
          -0.004059907393442172,
          -0.008255354806233694,
          -0.0021817332233048017,
          -0.002225052490475045,
          -0.014170286837526868,
          -0.010831746327669905,
          -0.0020661890254296622,
          -0.008395980821457899,
          -0.0013549741855391599,
          -0.0035595125539525443,
          -0.004081425989458031,
          0.003506762865046952,
          -0.012709923263502159,
          0.03488917509704556,
          -0.003339658730262851,
          0.08946325831662887,
          -0.006091286757933645,
          -0.012522570490294552,
          0.0027079834094586265,
          0.0430551891501932,
          0.007665563114344806,
          -0.005349183133626416,
          -0.008876297707449018,
          -0.001019526388031797,
          0.013651075754512168,
          -0.01760401901934592,
          -0.010453481954586227,
          0.003857793194010734,
          0.008141883506046237,
          0.08790010887156942,
          -0.008057419086180538,
          -0.0067270106280677075,
          0.005673317984723926,
          -0.012828941589359363,
          -0.01697193866214846,
          -0.026698319039430183,
          -0.017506499723215975,
          -0.011762024825115937,
          -0.009960467594611227,
          -0.009932611566074376,
          0.009195060880042587,
          0.0009790066455652169,
          0.002314919032514659,
          -0.01087065908609151,
          0.026553658059451143,
          -0.01147840607634867,
          -0.008790505435918729,
          -0.00912256943825556,
          -0.0019122620594508879,
          -0.009464250092126023,
          -0.006788849521304122,
          -0.014410941577660246,
          -0.0013721540327270635,
          -0.015646640509953465,
          -0.08283316699202707,
          -0.014487668558710304,
          -0.012406934638182317,
          0.017055794266639793,
          0.0026389136232128426,
          0.00110747422148302,
          -0.0025793079504283813,
          -0.01413615370331036,
          -0.02946036711384371,
          0.0018692084968711074,
          0.004840809629727572,
          -0.01775124709628183,
          -0.02179059974926872,
          0.007553250555852148,
          -0.0006985302514483686,
          -0.013203079917653172,
          -0.006125216921312295,
          -0.015185692914946465,
          -0.02177331414253557,
          -0.015227550043328006,
          -0.0229704363815932,
          -0.008319165651145948,
          -0.008440502425406119,
          -0.00901511696503668,
          0.028329757151198842,
          -0.015696717820625698,
          -0.003059727309661391,
          0.015433277239188962,
          -0.012251925458396895,
          0.0015452180647265576,
          0.021428541600287617,
          -0.04073699944217993,
          -0.013352451790425435,
          -0.008928380933680305,
          -0.0036217765832848607,
          -0.004445559487404794,
          -0.02085000745418405,
          0.011260867934477567
         ]
        }
       ],
       "layout": {
        "font": {
         "size": 11
        },
        "height": 600,
        "legend": {
         "title": {
          "text": "Session"
         },
         "tracegroupgap": 0
        },
        "scene": {
         "aspectmode": "data",
         "aspectratio": {
          "x": 0.9480329251645223,
          "y": 1.1380356342576754,
          "z": 0.926874039724736
         },
         "camera": {
          "eye": {
           "x": 0.2,
           "y": -2,
           "z": 1
          }
         },
         "domain": {
          "x": [
           0,
           1
          ],
          "y": [
           0,
           1
          ]
         },
         "xaxis": {
          "title": {
           "text": "PC1"
          },
          "type": "linear"
         },
         "yaxis": {
          "title": {
           "text": "PC2"
          },
          "type": "linear"
         },
         "zaxis": {
          "title": {
           "text": "PC3"
          },
          "type": "linear"
         }
        },
        "template": {
         "data": {
          "bar": [
           {
            "error_x": {
             "color": "#2a3f5f"
            },
            "error_y": {
             "color": "#2a3f5f"
            },
            "marker": {
             "line": {
              "color": "#E5ECF6",
              "width": 0.5
             },
             "pattern": {
              "fillmode": "overlay",
              "size": 10,
              "solidity": 0.2
             }
            },
            "type": "bar"
           }
          ],
          "barpolar": [
           {
            "marker": {
             "line": {
              "color": "#E5ECF6",
              "width": 0.5
             },
             "pattern": {
              "fillmode": "overlay",
              "size": 10,
              "solidity": 0.2
             }
            },
            "type": "barpolar"
           }
          ],
          "carpet": [
           {
            "aaxis": {
             "endlinecolor": "#2a3f5f",
             "gridcolor": "white",
             "linecolor": "white",
             "minorgridcolor": "white",
             "startlinecolor": "#2a3f5f"
            },
            "baxis": {
             "endlinecolor": "#2a3f5f",
             "gridcolor": "white",
             "linecolor": "white",
             "minorgridcolor": "white",
             "startlinecolor": "#2a3f5f"
            },
            "type": "carpet"
           }
          ],
          "choropleth": [
           {
            "colorbar": {
             "outlinewidth": 0,
             "ticks": ""
            },
            "type": "choropleth"
           }
          ],
          "contour": [
           {
            "colorbar": {
             "outlinewidth": 0,
             "ticks": ""
            },
            "colorscale": [
             [
              0,
              "#0d0887"
             ],
             [
              0.1111111111111111,
              "#46039f"
             ],
             [
              0.2222222222222222,
              "#7201a8"
             ],
             [
              0.3333333333333333,
              "#9c179e"
             ],
             [
              0.4444444444444444,
              "#bd3786"
             ],
             [
              0.5555555555555556,
              "#d8576b"
             ],
             [
              0.6666666666666666,
              "#ed7953"
             ],
             [
              0.7777777777777778,
              "#fb9f3a"
             ],
             [
              0.8888888888888888,
              "#fdca26"
             ],
             [
              1,
              "#f0f921"
             ]
            ],
            "type": "contour"
           }
          ],
          "contourcarpet": [
           {
            "colorbar": {
             "outlinewidth": 0,
             "ticks": ""
            },
            "type": "contourcarpet"
           }
          ],
          "heatmap": [
           {
            "colorbar": {
             "outlinewidth": 0,
             "ticks": ""
            },
            "colorscale": [
             [
              0,
              "#0d0887"
             ],
             [
              0.1111111111111111,
              "#46039f"
             ],
             [
              0.2222222222222222,
              "#7201a8"
             ],
             [
              0.3333333333333333,
              "#9c179e"
             ],
             [
              0.4444444444444444,
              "#bd3786"
             ],
             [
              0.5555555555555556,
              "#d8576b"
             ],
             [
              0.6666666666666666,
              "#ed7953"
             ],
             [
              0.7777777777777778,
              "#fb9f3a"
             ],
             [
              0.8888888888888888,
              "#fdca26"
             ],
             [
              1,
              "#f0f921"
             ]
            ],
            "type": "heatmap"
           }
          ],
          "heatmapgl": [
           {
            "colorbar": {
             "outlinewidth": 0,
             "ticks": ""
            },
            "colorscale": [
             [
              0,
              "#0d0887"
             ],
             [
              0.1111111111111111,
              "#46039f"
             ],
             [
              0.2222222222222222,
              "#7201a8"
             ],
             [
              0.3333333333333333,
              "#9c179e"
             ],
             [
              0.4444444444444444,
              "#bd3786"
             ],
             [
              0.5555555555555556,
              "#d8576b"
             ],
             [
              0.6666666666666666,
              "#ed7953"
             ],
             [
              0.7777777777777778,
              "#fb9f3a"
             ],
             [
              0.8888888888888888,
              "#fdca26"
             ],
             [
              1,
              "#f0f921"
             ]
            ],
            "type": "heatmapgl"
           }
          ],
          "histogram": [
           {
            "marker": {
             "pattern": {
              "fillmode": "overlay",
              "size": 10,
              "solidity": 0.2
             }
            },
            "type": "histogram"
           }
          ],
          "histogram2d": [
           {
            "colorbar": {
             "outlinewidth": 0,
             "ticks": ""
            },
            "colorscale": [
             [
              0,
              "#0d0887"
             ],
             [
              0.1111111111111111,
              "#46039f"
             ],
             [
              0.2222222222222222,
              "#7201a8"
             ],
             [
              0.3333333333333333,
              "#9c179e"
             ],
             [
              0.4444444444444444,
              "#bd3786"
             ],
             [
              0.5555555555555556,
              "#d8576b"
             ],
             [
              0.6666666666666666,
              "#ed7953"
             ],
             [
              0.7777777777777778,
              "#fb9f3a"
             ],
             [
              0.8888888888888888,
              "#fdca26"
             ],
             [
              1,
              "#f0f921"
             ]
            ],
            "type": "histogram2d"
           }
          ],
          "histogram2dcontour": [
           {
            "colorbar": {
             "outlinewidth": 0,
             "ticks": ""
            },
            "colorscale": [
             [
              0,
              "#0d0887"
             ],
             [
              0.1111111111111111,
              "#46039f"
             ],
             [
              0.2222222222222222,
              "#7201a8"
             ],
             [
              0.3333333333333333,
              "#9c179e"
             ],
             [
              0.4444444444444444,
              "#bd3786"
             ],
             [
              0.5555555555555556,
              "#d8576b"
             ],
             [
              0.6666666666666666,
              "#ed7953"
             ],
             [
              0.7777777777777778,
              "#fb9f3a"
             ],
             [
              0.8888888888888888,
              "#fdca26"
             ],
             [
              1,
              "#f0f921"
             ]
            ],
            "type": "histogram2dcontour"
           }
          ],
          "mesh3d": [
           {
            "colorbar": {
             "outlinewidth": 0,
             "ticks": ""
            },
            "type": "mesh3d"
           }
          ],
          "parcoords": [
           {
            "line": {
             "colorbar": {
              "outlinewidth": 0,
              "ticks": ""
             }
            },
            "type": "parcoords"
           }
          ],
          "pie": [
           {
            "automargin": true,
            "type": "pie"
           }
          ],
          "scatter": [
           {
            "fillpattern": {
             "fillmode": "overlay",
             "size": 10,
             "solidity": 0.2
            },
            "type": "scatter"
           }
          ],
          "scatter3d": [
           {
            "line": {
             "colorbar": {
              "outlinewidth": 0,
              "ticks": ""
             }
            },
            "marker": {
             "colorbar": {
              "outlinewidth": 0,
              "ticks": ""
             }
            },
            "type": "scatter3d"
           }
          ],
          "scattercarpet": [
           {
            "marker": {
             "colorbar": {
              "outlinewidth": 0,
              "ticks": ""
             }
            },
            "type": "scattercarpet"
           }
          ],
          "scattergeo": [
           {
            "marker": {
             "colorbar": {
              "outlinewidth": 0,
              "ticks": ""
             }
            },
            "type": "scattergeo"
           }
          ],
          "scattergl": [
           {
            "marker": {
             "colorbar": {
              "outlinewidth": 0,
              "ticks": ""
             }
            },
            "type": "scattergl"
           }
          ],
          "scattermapbox": [
           {
            "marker": {
             "colorbar": {
              "outlinewidth": 0,
              "ticks": ""
             }
            },
            "type": "scattermapbox"
           }
          ],
          "scatterpolar": [
           {
            "marker": {
             "colorbar": {
              "outlinewidth": 0,
              "ticks": ""
             }
            },
            "type": "scatterpolar"
           }
          ],
          "scatterpolargl": [
           {
            "marker": {
             "colorbar": {
              "outlinewidth": 0,
              "ticks": ""
             }
            },
            "type": "scatterpolargl"
           }
          ],
          "scatterternary": [
           {
            "marker": {
             "colorbar": {
              "outlinewidth": 0,
              "ticks": ""
             }
            },
            "type": "scatterternary"
           }
          ],
          "surface": [
           {
            "colorbar": {
             "outlinewidth": 0,
             "ticks": ""
            },
            "colorscale": [
             [
              0,
              "#0d0887"
             ],
             [
              0.1111111111111111,
              "#46039f"
             ],
             [
              0.2222222222222222,
              "#7201a8"
             ],
             [
              0.3333333333333333,
              "#9c179e"
             ],
             [
              0.4444444444444444,
              "#bd3786"
             ],
             [
              0.5555555555555556,
              "#d8576b"
             ],
             [
              0.6666666666666666,
              "#ed7953"
             ],
             [
              0.7777777777777778,
              "#fb9f3a"
             ],
             [
              0.8888888888888888,
              "#fdca26"
             ],
             [
              1,
              "#f0f921"
             ]
            ],
            "type": "surface"
           }
          ],
          "table": [
           {
            "cells": {
             "fill": {
              "color": "#EBF0F8"
             },
             "line": {
              "color": "white"
             }
            },
            "header": {
             "fill": {
              "color": "#C8D4E3"
             },
             "line": {
              "color": "white"
             }
            },
            "type": "table"
           }
          ]
         },
         "layout": {
          "annotationdefaults": {
           "arrowcolor": "#2a3f5f",
           "arrowhead": 0,
           "arrowwidth": 1
          },
          "autotypenumbers": "strict",
          "coloraxis": {
           "colorbar": {
            "outlinewidth": 0,
            "ticks": ""
           }
          },
          "colorscale": {
           "diverging": [
            [
             0,
             "#8e0152"
            ],
            [
             0.1,
             "#c51b7d"
            ],
            [
             0.2,
             "#de77ae"
            ],
            [
             0.3,
             "#f1b6da"
            ],
            [
             0.4,
             "#fde0ef"
            ],
            [
             0.5,
             "#f7f7f7"
            ],
            [
             0.6,
             "#e6f5d0"
            ],
            [
             0.7,
             "#b8e186"
            ],
            [
             0.8,
             "#7fbc41"
            ],
            [
             0.9,
             "#4d9221"
            ],
            [
             1,
             "#276419"
            ]
           ],
           "sequential": [
            [
             0,
             "#0d0887"
            ],
            [
             0.1111111111111111,
             "#46039f"
            ],
            [
             0.2222222222222222,
             "#7201a8"
            ],
            [
             0.3333333333333333,
             "#9c179e"
            ],
            [
             0.4444444444444444,
             "#bd3786"
            ],
            [
             0.5555555555555556,
             "#d8576b"
            ],
            [
             0.6666666666666666,
             "#ed7953"
            ],
            [
             0.7777777777777778,
             "#fb9f3a"
            ],
            [
             0.8888888888888888,
             "#fdca26"
            ],
            [
             1,
             "#f0f921"
            ]
           ],
           "sequentialminus": [
            [
             0,
             "#0d0887"
            ],
            [
             0.1111111111111111,
             "#46039f"
            ],
            [
             0.2222222222222222,
             "#7201a8"
            ],
            [
             0.3333333333333333,
             "#9c179e"
            ],
            [
             0.4444444444444444,
             "#bd3786"
            ],
            [
             0.5555555555555556,
             "#d8576b"
            ],
            [
             0.6666666666666666,
             "#ed7953"
            ],
            [
             0.7777777777777778,
             "#fb9f3a"
            ],
            [
             0.8888888888888888,
             "#fdca26"
            ],
            [
             1,
             "#f0f921"
            ]
           ]
          },
          "colorway": [
           "#636efa",
           "#EF553B",
           "#00cc96",
           "#ab63fa",
           "#FFA15A",
           "#19d3f3",
           "#FF6692",
           "#B6E880",
           "#FF97FF",
           "#FECB52"
          ],
          "font": {
           "color": "#2a3f5f"
          },
          "geo": {
           "bgcolor": "white",
           "lakecolor": "white",
           "landcolor": "#E5ECF6",
           "showlakes": true,
           "showland": true,
           "subunitcolor": "white"
          },
          "hoverlabel": {
           "align": "left"
          },
          "hovermode": "closest",
          "mapbox": {
           "style": "light"
          },
          "paper_bgcolor": "white",
          "plot_bgcolor": "#E5ECF6",
          "polar": {
           "angularaxis": {
            "gridcolor": "white",
            "linecolor": "white",
            "ticks": ""
           },
           "bgcolor": "#E5ECF6",
           "radialaxis": {
            "gridcolor": "white",
            "linecolor": "white",
            "ticks": ""
           }
          },
          "scene": {
           "xaxis": {
            "backgroundcolor": "#E5ECF6",
            "gridcolor": "white",
            "gridwidth": 2,
            "linecolor": "white",
            "showbackground": true,
            "ticks": "",
            "zerolinecolor": "white"
           },
           "yaxis": {
            "backgroundcolor": "#E5ECF6",
            "gridcolor": "white",
            "gridwidth": 2,
            "linecolor": "white",
            "showbackground": true,
            "ticks": "",
            "zerolinecolor": "white"
           },
           "zaxis": {
            "backgroundcolor": "#E5ECF6",
            "gridcolor": "white",
            "gridwidth": 2,
            "linecolor": "white",
            "showbackground": true,
            "ticks": "",
            "zerolinecolor": "white"
           }
          },
          "shapedefaults": {
           "line": {
            "color": "#2a3f5f"
           }
          },
          "ternary": {
           "aaxis": {
            "gridcolor": "white",
            "linecolor": "white",
            "ticks": ""
           },
           "baxis": {
            "gridcolor": "white",
            "linecolor": "white",
            "ticks": ""
           },
           "bgcolor": "#E5ECF6",
           "caxis": {
            "gridcolor": "white",
            "linecolor": "white",
            "ticks": ""
           }
          },
          "title": {
           "x": 0.05
          },
          "xaxis": {
           "automargin": true,
           "gridcolor": "white",
           "linecolor": "white",
           "ticks": "",
           "title": {
            "standoff": 15
           },
           "zerolinecolor": "white",
           "zerolinewidth": 2
          },
          "yaxis": {
           "automargin": true,
           "gridcolor": "white",
           "linecolor": "white",
           "ticks": "",
           "title": {
            "standoff": 15
           },
           "zerolinecolor": "white",
           "zerolinewidth": 2
          }
         }
        },
        "title": {
         "text": "First 3 PCs on Mean Response of Each Cell to Each NS Stimulus Over Time"
        },
        "width": 800
       }
      },
      "image/png": "[encoded data removed]",
      "text/html": [
       "<div>                            <div id=\"08747099-2d27-4a9f-8313-978518beff93\" class=\"plotly-graph-div\" style=\"height:600px; width:800px;\"></div>            <script type=\"text/javascript\">                require([\"plotly\"], function(Plotly) {                    window.PLOTLYENV=window.PLOTLYENV || {};                                    if (document.getElementById(\"08747099-2d27-4a9f-8313-978518beff93\")) {                    Plotly.newPlot(                        \"08747099-2d27-4a9f-8313-978518beff93\",                        [{\"hovertemplate\":\"Session=1\\u003cbr\\u003ePC1=%{x}\\u003cbr\\u003ePC2=%{y}\\u003cbr\\u003ePC3=%{z}\\u003cextra\\u003e\\u003c\\u002fextra\\u003e\",\"legendgroup\":\"1\",\"marker\":{\"color\":\"#636efa\",\"symbol\":\"circle\",\"size\":3},\"mode\":\"markers\",\"name\":\"1\",\"scene\":\"scene\",\"showlegend\":true,\"x\":[-0.03018905987126857,0.013274253870705237,0.04188236369106663,0.024174029323403783,-0.02202383866486398,-0.002201218326680497,-0.01957174499023185,-0.00836803333317222,-0.0001221479709169835,0.005586997943312595,0.00689970337786816,0.05477189094700378,0.1551222303108501,-0.006201426547775658,0.0031264800664937585,-0.03324136314937142,-0.002094295072782359,0.009683631433148102,-0.013661341408103298,-0.023995076496582113,0.026127410844377585,-0.0023387999866477573,0.02347812423205145,0.017863945547045436,-0.017500456836462085,0.02117149552488307,0.010114036218196527,0.01118927696793227,0.00953323294601961,-0.013006100566231365,-0.018572430783844695,-0.019251413440055022,-0.004173742574578311,-0.012738516199442867,-0.0008598738367861566,0.002352334859877284,0.005547988961175339,0.04334651493769032,-0.03207646827498539,-0.01347504649775133,0.002929306649201921,-0.005820163742749664,0.02148423729923358,-0.0008329780405903324,-0.029767974941116916,-0.025272041748051543,0.031210127725060308,-0.008133514725213902,0.0019242422021137871,0.008695475773174297,0.004798628969180881,0.009016628439621699,0.003109472598351647,-0.0036990898665146448,0.003461722296713328,-1.806223155351172e-05,0.046337123457919224,-0.012736641142846731,0.04547169548315341,0.004356485464521113,-0.00442498897232947,0.004763921649851607,-0.009293508521509388,-0.019432715946737976,0.012137787642747387,-0.004499387361767783,-0.033957285718215297,-0.027211790326364897,-0.010982591591533284,0.025442463517657235,0.03196565222861721,-0.006083724840843731,-0.04207312811852815,-0.011479848933796583,0.0051840803703637785,-0.01859163958704527,-0.015759127105206924,-0.011875341684078004,0.003146629435361564,0.006614125394031532,-0.01540081918713185,0.047587684812874745,-0.04241157943161529,0.014735862890811566,-0.009950673635909117,0.025621602697305422,-0.017265357958893612,-0.017024509554091266,0.016331592614694995,-0.001696204905888462,0.011112421246875672,0.04432385393130767,0.00044769099328033054,0.010793666421486638,0.014743346531119573,0.01976699138665645,-0.013048740650545048,-0.004037731115682609,-0.022705727560424743,0.11768057344827151,-0.0305056340894031,0.01842894676402821,-0.0030240623751385262,0.005744558026006629,-0.017959844974133277,0.023605595706897145,-0.014690187287393063,-0.014761825312656362,0.0011021230722964587,-0.003919146842908837,-0.01339907415700118,-0.008339598949077662,-0.007696377140941954,-3.402352687259611e-05,0.004475100830532979,-0.022415551100576178,-0.0070028468044698285,-0.007869814873067251,0.005425961481951045],\"y\":[0.0019303722369710212,-0.004767877974619618,-0.015178816943920016,0.0023994901194198765,0.02153590068127493,-0.0005865021579725743,0.045131065482302654,0.007097810686545723,-0.005445077505163938,0.0038024460856858353,0.03125812937749156,-0.022809265859047717,-0.009476505488939534,0.010656050992808957,-0.007093710774065642,-0.022281781354118072,-0.006709957631352707,-0.0004189881538514495,0.002229539650767322,-0.014679671897635773,0.00015113078001916446,-0.005884159292882453,-0.005428473483514213,-0.007121552409887841,-0.0050500768231053214,-0.01651256939410009,-0.014892529807299408,0.01627099960528546,0.05305273179018836,0.004864659907199765,0.011976385643424063,-0.0006532641996740219,-0.019354986355640817,0.011719616293817403,0.003969998504506784,-0.002276560699839723,-0.009614650561281378,-0.00562521293729838,0.0003423256471384898,-0.006562799013304078,-0.005752205684037887,0.023014174610350727,-0.003527617013393626,-0.012613392822913523,0.017473371053309747,-0.014711658677723349,0.04425631349545993,-0.011980996680783165,-0.006692473132948655,0.016922122952732706,-0.005809816436910531,-0.00898094522000751,0.013898568324427823,-0.0019867524962023345,-0.0041454429929714,0.0013200648046236634,0.01484068623693591,-0.008355439412028506,-0.010142395997448553,-0.006972052294786027,-0.007905508951331275,-0.0003402813904700483,-0.01583842305547631,-0.015044538526336946,-0.0039526078614734745,0.0017113694787412492,-0.020628143783599052,0.02114432760467505,-0.005320962513246153,4.8505679404981395e-05,-0.0224942004255127,-0.00983583586458257,-0.03535738147492222,-0.0047269701808226715,-0.006615865203357719,-0.010495006170502313,-0.010155798764982347,-0.0028216953328501996,-0.01138068766005827,0.005270973521315847,-0.024620063992053617,0.010109225145234896,-0.017395570547885673,-0.010021223531866097,0.022304646834325658,-0.005038491157434463,-0.01381628606495308,-0.0037997589027600875,-0.013560668779667842,-0.010508224412373559,-0.001491168314158295,-0.01165531221599593,0.014728627887741496,-0.0059807418514596315,0.0755424002298528,-0.009976885835757912,-0.01123304423614821,0.002434176917871003,-0.001382842793138231,-0.04133715553623145,-0.01290004446005864,-0.008750697755101329,-0.0048538317368821615,-0.006390657534244024,0.05935154808481539,-0.006829658206840329,-0.012276108802139312,-0.004131902009962705,-0.013206505529544652,-0.0001420694818498316,0.0018790437002578209,-0.01396100927038347,0.22473360395119968,0.021995071405071624,-0.006322425396076871,-0.007307121719442814,-0.01125709047473201,-8.051786686898827e-05,-0.005324837201887653],\"z\":[-0.01096341570618267,-0.017402005280658595,-0.00337668913017819,0.0881630759940032,0.004386539294995179,0.005626770351227857,-0.01686464126063532,0.0009651006648138565,-0.0004682628668607764,0.041769404345232825,0.002021998229521176,0.012234286917775594,-0.047958248333973295,-0.010205849846201043,-0.009041521142600515,-0.0033300382763271352,-0.00487930408787402,0.018487617677674234,0.00559205695167366,-0.006847965400428161,0.013020077481458135,0.0006892677971683157,0.03690236967463773,0.025789202748527112,0.016169806989315888,0.008030001942821567,0.005464554307436507,0.022534460625439706,-0.0038089763124509106,0.007864896635066093,0.0005332417642250869,-0.006928594707838756,-0.00868838290885306,-0.010869519409225648,-0.006498401302619077,-0.002544527580554401,-0.009909044308417485,0.015933131084609416,-0.011155684375451669,-0.0036964456162852464,0.044486957303575825,-0.014830760787269089,0.0954815362790528,0.004259698962839738,-0.0103821036196901,0.000263135112430481,0.07776250527384912,0.0005776253976144509,-0.004081577212289956,0.014551241034704331,-0.008966501620821743,0.02483220343954942,0.002008665627862752,0.0022007667240517247,0.008805700096458952,0.022068674842700864,0.13386837755987693,-0.012088077391277796,-0.0007858910371743699,0.01696274686296543,-0.01563902533553245,0.004045652407480609,-0.008883161720655647,-0.016495815881373162,-0.007294327537453433,-0.015121630664724509,-0.019757288839274748,-0.01438543626125203,0.018690385663067938,-0.012410680293318332,0.01948897157915018,0.01845002984521881,-0.014778018272125106,-0.012046137895321388,0.020943706341519867,0.010952755478631258,0.00024730295052206776,0.007139180321181473,-0.013033344681889715,0.007327728948226516,-0.023112770574131535,-0.02668300003540135,-0.0167097956893967,-0.0005934803982848855,0.02203788363072026,0.01761141518067784,-0.008040624355548719,-0.013825749848381953,0.013762751398988101,-0.0127222735361972,-0.013553208636269087,0.035955999084780144,-0.0060959112093540956,-0.014612222257017037,0.015326424405079031,0.003131535617523314,-0.0004039760212491599,0.01166335787772336,-0.003923977598576114,0.004336718494989964,-0.016761739139644412,-0.0080121416529632,-0.0021733057469722054,-0.01708961288649214,-0.010524712819606893,0.04403146937225367,-0.012602942123391171,0.012448053497143865,-0.006716242004684737,-0.01725061203501882,0.0022623798866818336,0.023892189260260713,-0.03310918437171863,-0.006565979051933436,0.009174810865089651,-0.010202635300152267,0.003034076057589993,-0.0036736064533447665,0.035777903672077636],\"type\":\"scatter3d\"},{\"hovertemplate\":\"Session=2\\u003cbr\\u003ePC1=%{x}\\u003cbr\\u003ePC2=%{y}\\u003cbr\\u003ePC3=%{z}\\u003cextra\\u003e\\u003c\\u002fextra\\u003e\",\"legendgroup\":\"2\",\"marker\":{\"color\":\"#EF553B\",\"symbol\":\"circle\",\"size\":3},\"mode\":\"markers\",\"name\":\"2\",\"scene\":\"scene\",\"showlegend\":true,\"x\":[-0.004382576896221854,-0.007638248660680752,0.0761623188303582,0.05393434038170985,0.011299056197608535,0.00399988100794681,-0.0018676915827573679,-0.008847934912119791,0.017294406893202892,0.004305974695661897,0.003296488318264891,0.002557583195511296,0.17446297140819061,0.00659323089831723,0.002713797408569865,-0.018716060976350177,-0.013537903353127847,-0.010458167889263034,0.005526152058062824,-0.026613982114901083,-0.004983107390941207,-0.005204623018985256,-0.007758747586893335,0.03101575765342214,-0.01470394452805719,0.00154491106380579,-0.01043019906801985,0.034238425010402564,0.04545005827427506,-0.01302753015337571,0.0113264474434231,-0.019535885149736615,-0.014709056248405022,0.03582505418201673,-0.010256671023234527,-0.005535386634351047,-0.004597306729226693,-0.011896300368169774,-0.002209072737392594,-0.019060761856869765,-0.0022733993470247897,0.017577501287199693,0.022528519714304602,-0.004086906830254613,-0.008550083315734584,-0.028432967926846617,0.016744930793652114,0.004791598677677462,-0.008522260816213644,0.019794150617400884,0.013710823820805445,0.01338631550173104,-0.002711408490605089,-0.018295944295887615,-0.014145234661777344,0.02017784364278702,0.0023016200369141535,-0.024410527707777085,0.000161926917250272,-0.016099920484520604,-0.018697921512322732,-0.012921650468222204,-0.013297029382101349,-0.0014680117515663334,-0.011416381478586644,-0.01094891787445645,-0.038525089189257816,-0.012941848255931077,-0.010731280060088305,-0.007080952869050287,0.013852749589379758,0.002374980331569446,-0.028116772023535186,0.02426564079316338,-0.009644641399126155,0.006084390401129025,0.010388701724400724,-0.018699014969807755,-0.013862840869714234,-0.004778940862788762,-0.03146658821178353,0.0835024588854669,-0.027961854032349784,-0.004184889480058554,0.020501447454079873,-0.004223282175542127,-0.015435704829061977,-0.006499376132501053,-0.0019783288071551393,-0.008503492514923338,0.004623447329436813,0.0003154932078997968,-0.005510890546220434,0.0029771007169699932,-0.0024573425050556856,0.02316093760607913,-0.01705419700464722,-0.009312836157107568,0.00014680333513700456,0.10966376708963639,-0.035159016937363854,0.0916926112065888,-0.0055408153615809485,-0.025772426434538805,0.0008979251570654535,0.0096683595155629,-0.03329397190359573,-0.010158159431696984,0.014227158024980091,-0.001817718085292215,0.02147122087506672,-0.014511427157237173,0.001968140148812962,-0.006065544576692875,-0.018513216049745602,-0.001867733886781197,-0.03327173765015304,-0.02583441427012395,-0.004659674075529752],\"y\":[-0.008082942544480942,-0.009557027379572177,-0.008052249416287852,0.001343404708791431,-0.007993943607559076,-0.018368844906431907,0.011157249033448554,0.020041198309265457,0.011210634350400709,0.011802253930035601,0.02080750985747315,-0.0055988889456315225,0.008390074534497124,0.004375416861860285,-0.004800102425142883,-0.01708349538750921,-0.006047668035676907,-0.003227426079436353,0.008616732716965371,-0.014103039814699276,-0.0015875351834311133,-0.015754261492191782,-0.013061756418777208,-0.0037474347785441463,-0.002322880956941833,-0.017505965894379208,-0.013733859962229769,-0.003744326707669576,0.06767400073393397,-0.007334975210155048,-0.0022600684600405808,-0.00450460492258608,-0.006225278175719224,0.0032032949033682094,0.0031497969308070966,-0.0053586959165630695,-0.005098678436617976,-0.00086885518556738,-0.01823710441110915,-0.0070992607640823005,-0.00931744225744486,0.00018848760130964583,-0.006689888509898691,-0.002655132215013602,0.023371685036881713,-0.006027715034211253,0.05452303197961582,-0.013985844601885114,0.002990835433959116,-0.0021023014013821055,-0.008210786337577639,-0.00780835660756123,0.005321442686258576,-0.010642645983198099,-0.004330775261178121,-0.011400870976165699,0.009023173425956614,0.0017297314949082678,0.0109902530477885,-0.0033546098534710887,-0.008823643610762308,-0.006830268363714975,-0.015192404022981382,-0.01174003904929361,-0.00406406747550409,0.00710224052673113,-0.03280130020213341,-0.005336459816114696,-0.006283361407453274,0.005922909640105783,-0.017862661832503617,-0.00419190972590115,-0.017207743278538513,-0.007266662744962496,-0.02114167578872575,-0.015277429921337527,-0.012053091107087566,-0.009623062397100804,-0.008032799051637729,-0.0034589852159225155,-0.022852986860361087,-0.004640908691609138,-0.0007782246130875403,0.005397454436064065,0.02373495659399592,-0.0005453852432367784,-0.0064884556835680075,-0.010516869815945388,-0.013953760004185748,0.007593215719662493,0.003439907641795488,0.00022331818276300017,-0.004987854851447865,-0.012511828514889606,0.03787471406545972,0.00696978976253128,0.001323395730569545,0.021620799878770525,-0.00811022576673431,-0.037054165635293984,-0.02561654749031416,-0.014996470991607582,-0.0068032808364421925,0.011766446398956437,-0.009258793330555926,-0.005995039279770209,-0.008915630457893859,-0.005744426288239559,-0.00893819783934563,-0.005628033059722005,0.012054795474165974,0.0017010475184311086,0.1721037760187964,0.010771263211459966,-0.005291579204693461,-0.0036794363256390265,-0.007329379872659618,-0.011618846023761904,0.0254156565100668],\"z\":[-0.017514497988905222,-0.011184172752140682,-0.014090240869986783,0.11087241618339509,0.004322967850557075,-0.015503903190179198,0.0036161364525059063,0.03250093633095384,-0.005896295452972019,0.04489167580821972,0.005981283578767016,-0.015320203174724963,-0.05480924758421492,-0.019401674870000267,-0.012704236482521928,0.006171365759868853,-0.0073127505827211715,0.010183390440786349,0.007755333791539979,-0.011856359043805073,0.016804189674129614,-0.014125913878710691,0.0032610582356075784,0.0054854168845778345,-0.004578054625891326,0.002758009449022593,0.002211926929068906,0.02022079227231771,-0.016624139927873777,-0.007308574189746352,0.0011838822240344401,-0.007560265838463269,-0.011375155905081005,-0.009974945694771146,0.00449163075671693,-0.011935614958875355,-0.006348785134495261,-0.008349393079182548,-0.01854597574011437,-0.007173561390189711,0.008084188922418542,-0.0014531869919598294,0.07787046017070513,-0.009137673899577635,-0.019444402811180796,-0.00859094569585645,0.05094773971201345,0.001168780035353477,0.0031652804834005144,0.005669676367331699,-0.002039107267870478,0.02027969291211459,0.008337175857212305,-0.016857710264313756,-0.004943019240856801,-0.013245499550903789,0.06489306255878995,-0.0017646146376019381,-0.01340143957424511,-0.004614744784807997,0.013805218644172276,-0.005661581839116125,-0.02865629920205903,-0.0206213875699597,-0.0033937320260934833,-0.003131127609858887,-0.006133434484889443,-0.005077306366395711,0.00349256718427304,0.0017339785934339675,0.01577372010748399,0.013359292223946554,-0.014687424529032895,0.0019997022948346904,-0.009177391079471159,-0.010352223692403042,0.0006181558952207734,0.0017187770644979759,-0.007365445954688978,-0.004161437923450243,-0.012296536668913817,-0.037305784612026764,-0.018253563563373654,-0.006517465842935574,-0.0010017352265960767,-0.004861895511486818,0.007239556136606663,-0.005592810497406272,0.0008426815707417106,-0.009841489794080265,0.014311656701600827,0.010565765558657193,-0.007306681529320369,-0.014327180860522372,0.016324395076538996,0.004054337837099591,-0.012285370893927977,0.006654884177032871,-0.017618694195697435,-0.02865059413431815,-0.0247099508248443,-0.03127694198197252,-0.010510553955965002,-0.009206028145888763,0.00018220570806304348,0.01858354465782018,-0.011615085056638816,0.004831339507568442,-0.021168207980135554,-0.006988796566074392,0.002718617951390015,0.019660721915481436,-0.03158796482424551,-0.004637754103737791,-0.007915689995392057,-0.023676656324732752,-0.0008060096044290518,-0.004842066392738445,0.019657666384438874],\"type\":\"scatter3d\"},{\"hovertemplate\":\"Session=3\\u003cbr\\u003ePC1=%{x}\\u003cbr\\u003ePC2=%{y}\\u003cbr\\u003ePC3=%{z}\\u003cextra\\u003e\\u003c\\u002fextra\\u003e\",\"legendgroup\":\"3\",\"marker\":{\"color\":\"#00cc96\",\"symbol\":\"circle\",\"size\":3},\"mode\":\"markers\",\"name\":\"3\",\"scene\":\"scene\",\"showlegend\":true,\"x\":[-0.02748273910793012,-0.014041295549000892,0.05448235952093346,0.03654067358867214,-0.005989999561958311,-0.03331409390583651,-0.007897516820382859,-0.015479394128455393,0.005751004129346986,0.00926142504664644,0.009378872400700438,0.0005752037806136436,0.17923687587545473,-0.00692645370642039,0.008546136067709412,-0.0257281728705746,-0.008066150496373797,-0.00259334316979466,0.02589078369605413,-0.0294476299129172,0.002323330009175706,0.015389497570836803,0.013277180463466053,-0.003791603232773319,-0.02889238865564293,-0.003360101997423955,-0.004999643163496192,0.018831865669069137,0.002759544351621942,-0.0053329671475990425,-0.018955857671441582,-0.007622993572186661,-0.0067486612119073185,0.01628363731549339,0.0032899064946597077,0.0015407934961630216,-0.020847537725108077,-0.025464690002237667,-0.023904312293140145,-0.023751233480700774,-0.003988690127281093,-0.020458080705188765,0.013548228030051866,-0.009362361969684476,-0.02832941808563051,-0.02127619733903717,-0.007878020828820578,-0.013661976972725575,0.0003186945446071571,0.013489815874348918,-0.021919042884806873,-0.0007619607955320724,-0.021284694232180087,-0.014209570009406782,-0.016863858827235647,-0.010227028540520933,-0.0005760272759955691,-0.031699005645489206,-0.015011279738263942,-0.012785011345766073,-0.02731388302108095,-0.008700045183788824,-0.02277229427899409,-0.022188778672809432,-0.010650842173449348,-0.006926313524524556,-0.03970644273540237,-0.019923672670983373,0.0056253302153076645,0.008343697368046282,0.005205096015842979,-0.01908892690528611,-0.014610417809852299,-0.017939173193103886,-0.02711604307094554,-0.01880100982437635,-0.017606558499588483,-0.010234889143301016,-0.009230403249822794,-0.020602563865235488,-0.017225480925897936,0.11195276563876654,-0.03475408947824136,-0.01502136599342697,-0.006628307461243192,0.01958407432234231,-0.019188055567625588,-0.013845293148276858,0.00399293657715763,-0.007034212050911651,0.028035186956546748,0.013003093417612258,-0.00646082273886138,-0.008154050378155213,0.01711114349869717,-0.001446826268009245,0.005314771545995998,-0.018173007665612362,0.007981726499449003,0.09162492892407653,-0.025540135027962454,0.0370183797594377,-0.023079821378294146,-0.023776568872773723,-0.006778130577277538,-0.00402772695553802,-0.03107895852387597,0.013958595432075649,-0.006169937450618766,0.022894374400858945,-0.0051148118597726935,0.01478260330648484,-0.005447478935777005,0.012384034049786986,-0.011045741904783177,-0.019844190327274577,-0.018889970582920808,-0.015917307684564175,-0.0038187369983091676],\"y\":[0.0007773165082281463,-0.013419385307643987,-0.007603296461330034,-0.0035725329214317397,-0.002438014118889053,-0.009299274867333953,0.026079247810622107,0.003412367760808516,-0.0048235044629252885,0.002432214185682404,0.03139980861910065,0.006841290218925969,-0.011048514204553012,0.00510180163000639,-0.0075729924586675195,-0.00790955929663798,-0.00316054513796925,-0.011258356870131233,-0.007721238777857421,-0.006103289683236574,-0.004201578287386324,-0.011510947404170684,0.009622428162450973,0.0034535678797105846,-0.017478785684671014,-0.013290523392027161,-0.002375862137497829,-0.0005470656747861066,0.07266516848583571,-0.002296804059090129,-0.007245784925423509,-0.004304446773456775,-0.0021788782163699645,0.004321976508646518,0.007452119941380317,-0.010423358454095118,-0.00734766174936628,-0.007981423520064165,-0.0107121824025636,-0.002757517030750885,-0.008589130095826894,0.004326716967749058,0.001308248654256361,-0.006216601652088402,0.02278011195981025,-0.0065535940369475226,0.05505839516168043,-0.0014235361731355781,0.005645077784612129,0.0002795723264462694,-0.009505873247731765,-0.008970917387015344,0.022046082540105323,-0.011779254075296256,-0.003546190139807938,-0.014342935247805902,0.019469153754151133,-0.004720141903116034,0.00733878054186786,-0.005885229615325566,-0.00801080370184786,-0.010362902669039834,-0.016322167207152995,-0.003142250222156606,-0.009093232558388085,0.0022008282917849375,-0.01141834202256266,0.005647666771003004,-0.010382220488280483,-0.004287821573117757,-0.01608921001847895,-0.011758091989025523,-0.018757155117910977,-0.005671264545211963,-0.007019973981290427,0.0006471885806492599,-0.009782734802554073,-0.003205195667717037,0.0024739207611943837,-0.0014757220526567952,-0.021810418062011325,-0.005753515383637855,-0.015112799654197472,0.006765048959814404,0.03317280945921597,-0.010468642111736629,-0.00586139488448869,-0.013156470745354195,-0.011272655959809875,-0.0038030148205989668,0.011032087975671146,0.008798410774662885,-0.006988574148428619,0.00806263174725758,0.06485188072960704,-0.0052449312101759795,-0.006494042762662189,-0.0061071537642465226,-0.010362728444112446,-0.02069391745488777,-0.015717947889545048,-0.0020779734063493408,0.0018434316423460893,-0.003329301403477477,0.001209438281755476,-0.003653701934281503,-0.007185646907648186,-0.00743967163288547,-0.004463703984070476,0.012486249747265664,-0.005434329595540195,-0.004391938303416186,0.2219998970846026,0.028361688608495784,0.017737903506495987,-0.00610362373038241,-0.016533170844692732,-0.0015971039192680834,0.010451723323570217],\"z\":[-0.0022715756813799916,-0.008392284442562174,-0.006234963805543776,0.09967240112754035,-0.002981399875261875,-0.012275905377846954,-0.002928024990075645,0.0009201546266842407,5.9320138844788824e-05,0.036398416584777556,-0.0036136312213345834,-0.004276724356719658,-0.06865645001447565,-0.011264034688483773,0.001424777208553856,0.00015189699568744254,-0.010997050908351848,0.007217600323479987,-0.0009447136538427341,-0.01162480183059516,0.023543055350785453,-0.017343415307311538,0.0252872721337791,0.022465635554991828,0.00807792986197999,0.006106163074616684,-0.005053359726587102,-0.004059907393442172,-0.008255354806233694,-0.0021817332233048017,-0.002225052490475045,-0.014170286837526868,-0.010831746327669905,-0.0020661890254296622,-0.008395980821457899,-0.0013549741855391599,-0.0035595125539525443,-0.004081425989458031,0.003506762865046952,-0.012709923263502159,0.03488917509704556,-0.003339658730262851,0.08946325831662887,-0.006091286757933645,-0.012522570490294552,0.0027079834094586265,0.0430551891501932,0.007665563114344806,-0.005349183133626416,-0.008876297707449018,-0.001019526388031797,0.013651075754512168,-0.01760401901934592,-0.010453481954586227,0.003857793194010734,0.008141883506046237,0.08790010887156942,-0.008057419086180538,-0.0067270106280677075,0.005673317984723926,-0.012828941589359363,-0.01697193866214846,-0.026698319039430183,-0.017506499723215975,-0.011762024825115937,-0.009960467594611227,-0.009932611566074376,0.009195060880042587,0.0009790066455652169,0.002314919032514659,-0.01087065908609151,0.026553658059451143,-0.01147840607634867,-0.008790505435918729,-0.00912256943825556,-0.0019122620594508879,-0.009464250092126023,-0.006788849521304122,-0.014410941577660246,-0.0013721540327270635,-0.015646640509953465,-0.08283316699202707,-0.014487668558710304,-0.012406934638182317,0.017055794266639793,0.0026389136232128426,0.00110747422148302,-0.0025793079504283813,-0.01413615370331036,-0.02946036711384371,0.0018692084968711074,0.004840809629727572,-0.01775124709628183,-0.02179059974926872,0.007553250555852148,-0.0006985302514483686,-0.013203079917653172,-0.006125216921312295,-0.015185692914946465,-0.02177331414253557,-0.015227550043328006,-0.0229704363815932,-0.008319165651145948,-0.008440502425406119,-0.00901511696503668,0.028329757151198842,-0.015696717820625698,-0.003059727309661391,0.015433277239188962,-0.012251925458396895,0.0015452180647265576,0.021428541600287617,-0.04073699944217993,-0.013352451790425435,-0.008928380933680305,-0.0036217765832848607,-0.004445559487404794,-0.02085000745418405,0.011260867934477567],\"type\":\"scatter3d\"}],                        {\"template\":{\"data\":{\"histogram2dcontour\":[{\"type\":\"histogram2dcontour\",\"colorbar\":{\"outlinewidth\":0,\"ticks\":\"\"},\"colorscale\":[[0.0,\"#0d0887\"],[0.1111111111111111,\"#46039f\"],[0.2222222222222222,\"#7201a8\"],[0.3333333333333333,\"#9c179e\"],[0.4444444444444444,\"#bd3786\"],[0.5555555555555556,\"#d8576b\"],[0.6666666666666666,\"#ed7953\"],[0.7777777777777778,\"#fb9f3a\"],[0.8888888888888888,\"#fdca26\"],[1.0,\"#f0f921\"]]}],\"choropleth\":[{\"type\":\"choropleth\",\"colorbar\":{\"outlinewidth\":0,\"ticks\":\"\"}}],\"histogram2d\":[{\"type\":\"histogram2d\",\"colorbar\":{\"outlinewidth\":0,\"ticks\":\"\"},\"colorscale\":[[0.0,\"#0d0887\"],[0.1111111111111111,\"#46039f\"],[0.2222222222222222,\"#7201a8\"],[0.3333333333333333,\"#9c179e\"],[0.4444444444444444,\"#bd3786\"],[0.5555555555555556,\"#d8576b\"],[0.6666666666666666,\"#ed7953\"],[0.7777777777777778,\"#fb9f3a\"],[0.8888888888888888,\"#fdca26\"],[1.0,\"#f0f921\"]]}],\"heatmap\":[{\"type\":\"heatmap\",\"colorbar\":{\"outlinewidth\":0,\"ticks\":\"\"},\"colorscale\":[[0.0,\"#0d0887\"],[0.1111111111111111,\"#46039f\"],[0.2222222222222222,\"#7201a8\"],[0.3333333333333333,\"#9c179e\"],[0.4444444444444444,\"#bd3786\"],[0.5555555555555556,\"#d8576b\"],[0.6666666666666666,\"#ed7953\"],[0.7777777777777778,\"#fb9f3a\"],[0.8888888888888888,\"#fdca26\"],[1.0,\"#f0f921\"]]}],\"heatmapgl\":[{\"type\":\"heatmapgl\",\"colorbar\":{\"outlinewidth\":0,\"ticks\":\"\"},\"colorscale\":[[0.0,\"#0d0887\"],[0.1111111111111111,\"#46039f\"],[0.2222222222222222,\"#7201a8\"],[0.3333333333333333,\"#9c179e\"],[0.4444444444444444,\"#bd3786\"],[0.5555555555555556,\"#d8576b\"],[0.6666666666666666,\"#ed7953\"],[0.7777777777777778,\"#fb9f3a\"],[0.8888888888888888,\"#fdca26\"],[1.0,\"#f0f921\"]]}],\"contourcarpet\":[{\"type\":\"contourcarpet\",\"colorbar\":{\"outlinewidth\":0,\"ticks\":\"\"}}],\"contour\":[{\"type\":\"contour\",\"colorbar\":{\"outlinewidth\":0,\"ticks\":\"\"},\"colorscale\":[[0.0,\"#0d0887\"],[0.1111111111111111,\"#46039f\"],[0.2222222222222222,\"#7201a8\"],[0.3333333333333333,\"#9c179e\"],[0.4444444444444444,\"#bd3786\"],[0.5555555555555556,\"#d8576b\"],[0.6666666666666666,\"#ed7953\"],[0.7777777777777778,\"#fb9f3a\"],[0.8888888888888888,\"#fdca26\"],[1.0,\"#f0f921\"]]}],\"surface\":[{\"type\":\"surface\",\"colorbar\":{\"outlinewidth\":0,\"ticks\":\"\"},\"colorscale\":[[0.0,\"#0d0887\"],[0.1111111111111111,\"#46039f\"],[0.2222222222222222,\"#7201a8\"],[0.3333333333333333,\"#9c179e\"],[0.4444444444444444,\"#bd3786\"],[0.5555555555555556,\"#d8576b\"],[0.6666666666666666,\"#ed7953\"],[0.7777777777777778,\"#fb9f3a\"],[0.8888888888888888,\"#fdca26\"],[1.0,\"#f0f921\"]]}],\"mesh3d\":[{\"type\":\"mesh3d\",\"colorbar\":{\"outlinewidth\":0,\"ticks\":\"\"}}],\"scatter\":[{\"fillpattern\":{\"fillmode\":\"overlay\",\"size\":10,\"solidity\":0.2},\"type\":\"scatter\"}],\"parcoords\":[{\"type\":\"parcoords\",\"line\":{\"colorbar\":{\"outlinewidth\":0,\"ticks\":\"\"}}}],\"scatterpolargl\":[{\"type\":\"scatterpolargl\",\"marker\":{\"colorbar\":{\"outlinewidth\":0,\"ticks\":\"\"}}}],\"bar\":[{\"error_x\":{\"color\":\"#2a3f5f\"},\"error_y\":{\"color\":\"#2a3f5f\"},\"marker\":{\"line\":{\"color\":\"#E5ECF6\",\"width\":0.5},\"pattern\":{\"fillmode\":\"overlay\",\"size\":10,\"solidity\":0.2}},\"type\":\"bar\"}],\"scattergeo\":[{\"type\":\"scattergeo\",\"marker\":{\"colorbar\":{\"outlinewidth\":0,\"ticks\":\"\"}}}],\"scatterpolar\":[{\"type\":\"scatterpolar\",\"marker\":{\"colorbar\":{\"outlinewidth\":0,\"ticks\":\"\"}}}],\"histogram\":[{\"marker\":{\"pattern\":{\"fillmode\":\"overlay\",\"size\":10,\"solidity\":0.2}},\"type\":\"histogram\"}],\"scattergl\":[{\"type\":\"scattergl\",\"marker\":{\"colorbar\":{\"outlinewidth\":0,\"ticks\":\"\"}}}],\"scatter3d\":[{\"type\":\"scatter3d\",\"line\":{\"colorbar\":{\"outlinewidth\":0,\"ticks\":\"\"}},\"marker\":{\"colorbar\":{\"outlinewidth\":0,\"ticks\":\"\"}}}],\"scattermapbox\":[{\"type\":\"scattermapbox\",\"marker\":{\"colorbar\":{\"outlinewidth\":0,\"ticks\":\"\"}}}],\"scatterternary\":[{\"type\":\"scatterternary\",\"marker\":{\"colorbar\":{\"outlinewidth\":0,\"ticks\":\"\"}}}],\"scattercarpet\":[{\"type\":\"scattercarpet\",\"marker\":{\"colorbar\":{\"outlinewidth\":0,\"ticks\":\"\"}}}],\"carpet\":[{\"aaxis\":{\"endlinecolor\":\"#2a3f5f\",\"gridcolor\":\"white\",\"linecolor\":\"white\",\"minorgridcolor\":\"white\",\"startlinecolor\":\"#2a3f5f\"},\"baxis\":{\"endlinecolor\":\"#2a3f5f\",\"gridcolor\":\"white\",\"linecolor\":\"white\",\"minorgridcolor\":\"white\",\"startlinecolor\":\"#2a3f5f\"},\"type\":\"carpet\"}],\"table\":[{\"cells\":{\"fill\":{\"color\":\"#EBF0F8\"},\"line\":{\"color\":\"white\"}},\"header\":{\"fill\":{\"color\":\"#C8D4E3\"},\"line\":{\"color\":\"white\"}},\"type\":\"table\"}],\"barpolar\":[{\"marker\":{\"line\":{\"color\":\"#E5ECF6\",\"width\":0.5},\"pattern\":{\"fillmode\":\"overlay\",\"size\":10,\"solidity\":0.2}},\"type\":\"barpolar\"}],\"pie\":[{\"automargin\":true,\"type\":\"pie\"}]},\"layout\":{\"autotypenumbers\":\"strict\",\"colorway\":[\"#636efa\",\"#EF553B\",\"#00cc96\",\"#ab63fa\",\"#FFA15A\",\"#19d3f3\",\"#FF6692\",\"#B6E880\",\"#FF97FF\",\"#FECB52\"],\"font\":{\"color\":\"#2a3f5f\"},\"hovermode\":\"closest\",\"hoverlabel\":{\"align\":\"left\"},\"paper_bgcolor\":\"white\",\"plot_bgcolor\":\"#E5ECF6\",\"polar\":{\"bgcolor\":\"#E5ECF6\",\"angularaxis\":{\"gridcolor\":\"white\",\"linecolor\":\"white\",\"ticks\":\"\"},\"radialaxis\":{\"gridcolor\":\"white\",\"linecolor\":\"white\",\"ticks\":\"\"}},\"ternary\":{\"bgcolor\":\"#E5ECF6\",\"aaxis\":{\"gridcolor\":\"white\",\"linecolor\":\"white\",\"ticks\":\"\"},\"baxis\":{\"gridcolor\":\"white\",\"linecolor\":\"white\",\"ticks\":\"\"},\"caxis\":{\"gridcolor\":\"white\",\"linecolor\":\"white\",\"ticks\":\"\"}},\"coloraxis\":{\"colorbar\":{\"outlinewidth\":0,\"ticks\":\"\"}},\"colorscale\":{\"sequential\":[[0.0,\"#0d0887\"],[0.1111111111111111,\"#46039f\"],[0.2222222222222222,\"#7201a8\"],[0.3333333333333333,\"#9c179e\"],[0.4444444444444444,\"#bd3786\"],[0.5555555555555556,\"#d8576b\"],[0.6666666666666666,\"#ed7953\"],[0.7777777777777778,\"#fb9f3a\"],[0.8888888888888888,\"#fdca26\"],[1.0,\"#f0f921\"]],\"sequentialminus\":[[0.0,\"#0d0887\"],[0.1111111111111111,\"#46039f\"],[0.2222222222222222,\"#7201a8\"],[0.3333333333333333,\"#9c179e\"],[0.4444444444444444,\"#bd3786\"],[0.5555555555555556,\"#d8576b\"],[0.6666666666666666,\"#ed7953\"],[0.7777777777777778,\"#fb9f3a\"],[0.8888888888888888,\"#fdca26\"],[1.0,\"#f0f921\"]],\"diverging\":[[0,\"#8e0152\"],[0.1,\"#c51b7d\"],[0.2,\"#de77ae\"],[0.3,\"#f1b6da\"],[0.4,\"#fde0ef\"],[0.5,\"#f7f7f7\"],[0.6,\"#e6f5d0\"],[0.7,\"#b8e186\"],[0.8,\"#7fbc41\"],[0.9,\"#4d9221\"],[1,\"#276419\"]]},\"xaxis\":{\"gridcolor\":\"white\",\"linecolor\":\"white\",\"ticks\":\"\",\"title\":{\"standoff\":15},\"zerolinecolor\":\"white\",\"automargin\":true,\"zerolinewidth\":2},\"yaxis\":{\"gridcolor\":\"white\",\"linecolor\":\"white\",\"ticks\":\"\",\"title\":{\"standoff\":15},\"zerolinecolor\":\"white\",\"automargin\":true,\"zerolinewidth\":2},\"scene\":{\"xaxis\":{\"backgroundcolor\":\"#E5ECF6\",\"gridcolor\":\"white\",\"linecolor\":\"white\",\"showbackground\":true,\"ticks\":\"\",\"zerolinecolor\":\"white\",\"gridwidth\":2},\"yaxis\":{\"backgroundcolor\":\"#E5ECF6\",\"gridcolor\":\"white\",\"linecolor\":\"white\",\"showbackground\":true,\"ticks\":\"\",\"zerolinecolor\":\"white\",\"gridwidth\":2},\"zaxis\":{\"backgroundcolor\":\"#E5ECF6\",\"gridcolor\":\"white\",\"linecolor\":\"white\",\"showbackground\":true,\"ticks\":\"\",\"zerolinecolor\":\"white\",\"gridwidth\":2}},\"shapedefaults\":{\"line\":{\"color\":\"#2a3f5f\"}},\"annotationdefaults\":{\"arrowcolor\":\"#2a3f5f\",\"arrowhead\":0,\"arrowwidth\":1},\"geo\":{\"bgcolor\":\"white\",\"landcolor\":\"#E5ECF6\",\"subunitcolor\":\"white\",\"showland\":true,\"showlakes\":true,\"lakecolor\":\"white\"},\"title\":{\"x\":0.05},\"mapbox\":{\"style\":\"light\"}}},\"scene\":{\"domain\":{\"x\":[0.0,1.0],\"y\":[0.0,1.0]},\"xaxis\":{\"title\":{\"text\":\"PC1\"}},\"yaxis\":{\"title\":{\"text\":\"PC2\"}},\"zaxis\":{\"title\":{\"text\":\"PC3\"}},\"camera\":{\"eye\":{\"x\":0.2,\"y\":-2.0,\"z\":1}},\"aspectmode\":\"data\"},\"legend\":{\"title\":{\"text\":\"Session\"},\"tracegroupgap\":0},\"title\":{\"text\":\"First 3 PCs on Mean Response of Each Cell to Each NS Stimulus Over Time\"},\"font\":{\"size\":11},\"width\":800,\"height\":600},                        {\"responsive\": true}                    ).then(function(){\n",
       "                            \n",
       "var gd = document.getElementById('08747099-2d27-4a9f-8313-978518beff93');\n",
       "var x = new MutationObserver(function (mutations, observer) {{\n",
       "        var display = window.getComputedStyle(gd).display;\n",
       "        if (!display || display === 'none') {{\n",
       "            console.log([gd, 'removed!']);\n",
       "            Plotly.purge(gd);\n",
       "            observer.disconnect();\n",
       "        }}\n",
       "}});\n",
       "\n",
       "// Listen for the removal of the full notebook cells\n",
       "var notebookContainer = gd.closest('#notebook-container');\n",
       "if (notebookContainer) {{\n",
       "    x.observe(notebookContainer, {childList: true});\n",
       "}}\n",
       "\n",
       "// Listen for the clearing of the current output cell\n",
       "var outputEl = gd.closest('.output');\n",
       "if (outputEl) {{\n",
       "    x.observe(outputEl, {childList: true});\n",
       "}}\n",
       "\n",
       "                        })                };                });            </script>        </div>"
      ]
     },
     "metadata": {},
     "output_type": "display_data"
    }
   ],
   "source": [
    "# PCA Model: 3D Visualization\n",
    "fig = px.scatter_3d(transformed_data_ns, x=0, y=1, z=2, color=\"Session\", labels = {\"0\": \"PC1\",\"1\": \"PC2\", \"2\": \"PC3\"}, title = \"First 3 PCs on Mean Response of Each Cell to Each NS Stimulus Over Time\")\n",
    "fig.update_traces(marker_size=3) # reduce size of scatter points from default size\n",
    "fig.update_layout(width=800, height=600, font_size=11, scene_aspectmode=\"data\", scene_camera_eye= dict(x=0.2, y=-2.0, z=1)) # adjust plot appearance\n",
    "fig.show()"
   ]
  },
  {
   "cell_type": "code",
   "execution_count": null,
   "id": "1b2bfa6f",
   "metadata": {},
   "outputs": [],
   "source": []
  }
 ],
 "metadata": {
  "kernelspec": {
   "display_name": "Python 3",
   "language": "python",
   "name": "python3"
  },
  "language_info": {
   "codemirror_mode": {
    "name": "ipython",
    "version": 3
   },
   "file_extension": ".py",
   "mimetype": "text/x-python",
   "name": "python",
   "nbconvert_exporter": "python",
   "pygments_lexer": "ipython3",
   "version": "3.8.5"
  }
 },
 "nbformat": 4,
 "nbformat_minor": 5
}
