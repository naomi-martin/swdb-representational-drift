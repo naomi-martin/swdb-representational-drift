{
 "cells": [
  {
   "cell_type": "code",
   "execution_count": 49,
   "id": "0d9c7889",
   "metadata": {},
   "outputs": [],
   "source": [
    "# We need to import these modules to get started\n",
    "import numpy as np\n",
    "import pandas as pd\n",
    "import os\n",
    "import platform\n",
    "from sklearn.decomposition import PCA\n",
    "from sklearn.manifold import TSNE\n",
    "from sklearn.preprocessing import StandardScaler\n",
    "from event_utils import get_events\n",
    "from create_stim_table import create_stim_df\n",
    "import matplotlib.pyplot as plt\n",
    "import plotly.express as px\n",
    "%matplotlib inline\n",
    "\n",
    "# This patch of code just ensures we get an easy to read font size for the duration of the notebook\n",
    "import matplotlib\n",
    "font = {'weight' : 'bold',\n",
    "        'size'   : 15}\n",
    "matplotlib.rc('font', **font)"
   ]
  },
  {
   "cell_type": "code",
   "execution_count": 2,
   "id": "c412394d",
   "metadata": {},
   "outputs": [],
   "source": [
    "# Set file location based on platform. \n",
    "platstring = platform.platform()\n",
    "if ('Darwin' in platstring) or ('macOS' in platstring):\n",
    "    # macOS \n",
    "    data_root = \"/Volumes/Brain2023/\"\n",
    "elif 'Windows'  in platstring:\n",
    "    # Windows (replace with the drive letter of USB drive)\n",
    "    data_root = \"E:/\"\n",
    "elif ('amzn' in platstring):\n",
    "    # then on Code Ocean\n",
    "    data_root = \"/data/\"\n",
    "else:\n",
    "    # then your own linux platform\n",
    "    # EDIT location where you mounted hard drive\n",
    "    data_root = \"/media/$USERNAME/Brain2023/\""
   ]
  },
  {
   "cell_type": "code",
   "execution_count": 3,
   "id": "2b78b7a2",
   "metadata": {},
   "outputs": [],
   "source": [
    "def find_divide_indices(stim_table):\n",
    "    '''\n",
    "    Finds the indices where each new stimulus presentation after the first presentation\n",
    "    starts.\n",
    "    \n",
    "    Returns:\n",
    "        List of indices representing the start of the next stimulus\n",
    "    '''\n",
    "    # Find the indices where each new stimulus presentation after the first presentation starts\n",
    "    divide_indices = []\n",
    "\n",
    "    for i in range(min(stim_table.index), max(stim_table.index)):\n",
    "        try:\n",
    "            if stim_table.start[i+1]-stim_table.end[i] > 100:\n",
    "                divide_indices.append(i) # saves index where new stim presentation begins\n",
    "        except:\n",
    "            pass\n",
    "    return divide_indices"
   ]
  },
  {
   "cell_type": "code",
   "execution_count": 4,
   "id": "ea570cd7",
   "metadata": {},
   "outputs": [],
   "source": [
    "def divide_stim_table(stim_table, divide_indices=[]):\n",
    "    '''\n",
    "    Divides input stimulus table based on indices corresponding to separate stimulus\n",
    "    presentations.\n",
    "    If there were 3 presentations, three dataframes for each presentation are returned. \n",
    "    If there were 2 presentations, three dataframes for each presentation are still \n",
    "    returned with the third being null.\n",
    "    \n",
    "    Returns:\n",
    "        3 divided stimulus tables corresponding to first, second, and third or null stimulus\n",
    "        presentation start. \n",
    "    '''\n",
    "    if len(divide_indices)==2: # 3 presentations \n",
    "        return stim_table.loc[:divide_indices[0]], stim_table.loc[divide_indices[0]+1:divide_indices[1]], stim_table.loc[divide_indices[1]+1:]\n",
    "    elif len(divide_indices) == 1: # 2 presentations\n",
    "        return stim_table.loc[:divide_indices[0]], stim_table.loc[divide_indices[0]+1:], pd.DataFrame()\n",
    "    else:\n",
    "        raise Exception(\"Stimulis has only one presentation. Nothing to divide.\")"
   ]
  },
  {
   "cell_type": "code",
   "execution_count": 5,
   "id": "c4e5f1c5",
   "metadata": {},
   "outputs": [],
   "source": [
    "def generate_response_matrices(stim_table, all_events):\n",
    "    '''\n",
    "    This function generates response matrices given an input stimulus table. \n",
    "    Stimulus table can be divided based on stimulus presentations, or undivided.\n",
    "    \n",
    "    Returns:\n",
    "        orientation_matrix: 1D array with orientation value for each frame\n",
    "        frequency_matrix: 1D array with frequency value for each frame\n",
    "        response: matrix of shape (# cells, # stimuli, 60) with response of each\n",
    "            cell to each stimulus over its presentation period of 60 frames \n",
    "    '''\n",
    "    stim_table = stim_table.reset_index(drop=True)\n",
    "    if stim_table.stim_category[0] == \"drifting_gratings\": # need to split stim ID\n",
    "        # generate response matrix\n",
    "        response = np.empty((len(all_events.index), len(stim_table), 60)) # 3d array for responses at each frame to each stimulus for each neuron\n",
    "        for i in range(len(stim_table)):\n",
    "            for cell_index in range(len(all_events.index)):\n",
    "                response[cell_index,i,:] = all_events.iloc[cell_index, stim_table.start[i]:stim_table.start[i]+60]\n",
    "        return response\n",
    "    elif stim_table.stim_category[0] == \"static_gratings\" or stim_table.stim_category[0] == \"natural_scenes\":\n",
    "        # generate response matrix\n",
    "        response = np.empty((len(all_events.index), len(stim_table), 7)) # 3d array for responses at each frame to each stimulus for each neuron\n",
    "        stim_table = stim_table.reset_index(drop=True)\n",
    "        for i in range(len(stim_table)):\n",
    "            for cell_index in range(len(all_events.index)):\n",
    "                response[cell_index,i,:] = all_events.iloc[cell_index, stim_table.start[i]:stim_table.start[i]+7]\n",
    "        return response"
   ]
  },
  {
   "cell_type": "code",
   "execution_count": 6,
   "id": "5702ad04",
   "metadata": {},
   "outputs": [],
   "source": [
    "def responses_per_stimulus(stim_table, response_matrix):\n",
    "    '''\n",
    "    response_matrix: contains all recorded responses in the divided time frame \n",
    "    '''\n",
    "    responses_by_stimulus = pd.DataFrame(columns=[\"stim_id\",\"response_matrix\"])\n",
    "    \n",
    "    for stim_id in np.unique(stim_table.stim_id):\n",
    "        stim_table_reset = stim_table.reset_index(drop=True) # reset full stim table indices \n",
    "        temp_stim_id_df = stim_table_reset[stim_table_reset.stim_id==stim_id] # to index specific stimuli\n",
    "        response_stimulus_matrix = response_matrix[:,list(temp_stim_id_df.index),:]\n",
    "        responses_by_stimulus.loc[len(responses_by_stimulus)] = [stim_id, response_stimulus_matrix]\n",
    "    \n",
    "    return responses_by_stimulus"
   ]
  },
  {
   "cell_type": "code",
   "execution_count": 110,
   "id": "88044e2e",
   "metadata": {},
   "outputs": [],
   "source": [
    "def get_all_relevant_tables_dg_sg_ns(container_id, stimulus_type):\n",
    "    '''\n",
    "    Extracts the responses to each stimulus for each of the three sessions of drifting gratings, \n",
    "    static gratings, and natural scenes. \n",
    "    Returns full responses matrices (array) and response matrices to each stimulus ID (dataframe)\n",
    "    '''\n",
    "     # Select the relevant data for chosen container ID\n",
    "    desired_container_id = container_id\n",
    "    desired_container = boc.get_ophys_experiments(experiment_container_ids=[desired_container_id])\n",
    "    desired_container = sorted(desired_container, key=lambda x: x['session_type']) # sort based on session type so A comes first\n",
    "\n",
    "    # Get session IDs for each session\n",
    "    session_one_id = desired_container[0][\"id\"]\n",
    "\n",
    "    # load in session data for each session\n",
    "    session_one = boc.get_ophys_experiment_data(ophys_experiment_id=session_one_id)\n",
    "\n",
    "    # Get all event traces for all neurons in given session \n",
    "    all_events = get_events(boc, session_one_id, \"VISp\")\n",
    "\n",
    "    # Get full stimulus table for a given session\n",
    "    stim_table = create_stim_df(boc, session_one_id)\n",
    "    \n",
    "    # Isolate desired stimuli from stimulus table \n",
    "    desired_stimulus_table = stim_table[stim_table.stim_category == stimulus_type]\n",
    "    # Find indices to divide stimulus table based on session\n",
    "    divide_indices = find_divide_indices(desired_stimulus_table)\n",
    "    # Divide stimulus table based on divide indices\n",
    "    stim1, stim2, stim3 = divide_stim_table(desired_stimulus_table, divide_indices)\n",
    "\n",
    "    # Generate response matrices for each session\n",
    "    response1 = generate_response_matrices(stim1, all_events)\n",
    "    response2 = generate_response_matrices(stim2, all_events)\n",
    "    response3 = generate_response_matrices(stim3, all_events)\n",
    "\n",
    "    # Create dataframe with response matrix for each drifting gratings stimulus ID\n",
    "    stim1_responses_by_stimulus = responses_per_stimulus(stim1, response1)\n",
    "    stim2_responses_by_stimulus = responses_per_stimulus(stim2, response2)\n",
    "    stim3_responses_by_stimulus = responses_per_stimulus(stim3, response3)\n",
    "\n",
    "    return response1, response2, response3, stim1_responses_by_stimulus, stim2_responses_by_stimulus, stim3_responses_by_stimulus"
   ]
  },
  {
   "cell_type": "code",
   "execution_count": 122,
   "id": "055932eb",
   "metadata": {},
   "outputs": [],
   "source": [
    "def pca_transform_data(stim1_responses_by_stimulus, stim2_responses_by_stimulus, stim3_responses_by_stimulus, pca_n_components):\n",
    "    \n",
    "    # Average each cell's response to each stimulus (# stimuli, # neurons) across three sessions\n",
    "    # Session 1\n",
    "    mean_responses1 = []\n",
    "    for i in range(len(stim1_responses_by_stimulus.stim_id)):\n",
    "        reshape_dims = (stim1_responses_by_stimulus.response_matrix[i].shape[0], stim1_responses_by_stimulus.response_matrix[i].shape[1]*stim1_responses_by_stimulus.response_matrix[i].shape[2])\n",
    "        reshaped = np.reshape(stim1_responses_by_stimulus.response_matrix[i], reshape_dims)\n",
    "        mean_matrix = np.mean(reshaped, axis=1)\n",
    "        mean_responses1.append(mean_matrix)\n",
    "    mean_responses1 = np.asarray(mean_responses1)\n",
    "    # Session 2\n",
    "    mean_responses2 = []\n",
    "    for i in range(len(stim2_responses_by_stimulus.stim_id)):\n",
    "        reshape_dims = (stim2_responses_by_stimulus.response_matrix[i].shape[0], stim2_responses_by_stimulus.response_matrix[i].shape[1]*stim2_responses_by_stimulus.response_matrix[i].shape[2])\n",
    "        reshaped = np.reshape(stim2_responses_by_stimulus.response_matrix[i], reshape_dims)\n",
    "        mean_matrix = np.mean(reshaped, axis=1)\n",
    "        mean_responses2.append(mean_matrix)\n",
    "    mean_responses2 = np.asarray(mean_responses2)\n",
    "    # Session 3\n",
    "    mean_responses3 = []\n",
    "    for i in range(len(stim3_responses_by_stimulus.stim_id)):\n",
    "        reshape_dims = (stim3_responses_by_stimulus.response_matrix[i].shape[0], stim3_responses_by_stimulus.response_matrix[i].shape[1]*stim3_responses_by_stimulus.response_matrix[i].shape[2])\n",
    "        reshaped = np.reshape(stim3_responses_by_stimulus.response_matrix[i], reshape_dims)\n",
    "        mean_matrix = np.mean(reshaped, axis=1)\n",
    "        mean_responses3.append(mean_matrix)\n",
    "    mean_responses3 = np.asarray(mean_responses3)\n",
    "    # Concatenate mean matrices to fit PCA model\n",
    "    concat_mean_matrices = np.concatenate((mean_responses1, mean_responses2, mean_responses3), axis=0)\n",
    "    # represents mean response of each cell to each stimulus across all sessions.\n",
    "    # Shape (# total stimuli, # neurons)\n",
    "    \n",
    "    # Perform PCA\n",
    "    warnings.filterwarnings('ignore')\n",
    "    pca = PCA(n_components=pca_n_components) # create PCA model\n",
    "    pca.fit_transform(concat_mean_matrices) # fit the model with the dataset\n",
    "    transformed_data_pca1 = pca.transform(mean_responses1) # transform dataset \n",
    "    transformed_data_pca2 = pca.transform(mean_responses2) # transform dataset \n",
    "    transformed_data_pca3 = pca.transform(mean_responses3) # transform dataset \n",
    "    # Concatenate dataframes for easy plotting\n",
    "    transformed_data_pca1_df = pd.DataFrame(transformed_data_pca1)\n",
    "    transformed_data_pca1_df[\"Session\"] = list(\"1\"*len(transformed_data_pca1))\n",
    "    transformed_data_pca2_df = pd.DataFrame(transformed_data_pca2)\n",
    "    transformed_data_pca2_df[\"Session\"] = list(\"2\"*len(transformed_data_pca2))\n",
    "    transformed_data_pca3_df = pd.DataFrame(transformed_data_pca3)\n",
    "    transformed_data_pca3_df[\"Session\"] = list(\"3\"*len(transformed_data_pca3))\n",
    "    transformed_data_pca = pd.concat((transformed_data_pca1_df, transformed_data_pca2_df, transformed_data_pca3_df), axis=0)\n",
    "\n",
    "    return transformed_data_pca"
   ]
  },
  {
   "cell_type": "code",
   "execution_count": 7,
   "id": "f6e252db",
   "metadata": {},
   "outputs": [],
   "source": [
    "from allensdk.core.brain_observatory_cache import BrainObservatoryCache\n",
    "\n",
    "manifest_file = os.path.join(data_root,'allen-brain-observatory/visual-coding-2p/manifest.json')\n",
    "\n",
    "# Create data cache object \n",
    "boc = BrainObservatoryCache(manifest_file=manifest_file)"
   ]
  },
  {
   "cell_type": "code",
   "execution_count": 8,
   "id": "58e8e31f",
   "metadata": {},
   "outputs": [],
   "source": [
    "# Select the relevant data for chosen container ID\n",
    "desired_container_id = 688678764\n",
    "desired_container = boc.get_ophys_experiments(experiment_container_ids=[desired_container_id])\n",
    "desired_container = sorted(desired_container, key=lambda x: x['session_type']) # sort based on session type so A comes first\n",
    "\n",
    "# Get session IDs for each session\n",
    "session_one_id = desired_container[0][\"id\"]\n",
    "\n",
    "# load in session data for each session\n",
    "session_one = boc.get_ophys_experiment_data(ophys_experiment_id=session_one_id)\n",
    "\n",
    "# Get all event traces for all neurons in given session \n",
    "all_events = get_events(boc, session_one_id, \"VISp\")\n",
    "\n",
    "# Get full stimulus table for a given session\n",
    "stim_table = create_stim_df(boc, session_one_id)"
   ]
  },
  {
   "cell_type": "code",
   "execution_count": 9,
   "id": "e1701db5",
   "metadata": {},
   "outputs": [],
   "source": [
    "# Drifting gratings"
   ]
  },
  {
   "cell_type": "code",
   "execution_count": 10,
   "id": "7825a41c",
   "metadata": {
    "tags": []
   },
   "outputs": [],
   "source": [
    "# Isolate drifting gratings stimuli from stimulus table \n",
    "drifting_gratings_table = stim_table[stim_table.stim_category == \"drifting_gratings\"]\n",
    "\n",
    "# Find indices to divide stimulus table based on session\n",
    "divide_indices = find_divide_indices(drifting_gratings_table)\n",
    "\n",
    "# Divide stimulus table based on divide indices\n",
    "dg1, dg2, dg3 = divide_stim_table(drifting_gratings_table, divide_indices)"
   ]
  },
  {
   "cell_type": "code",
   "execution_count": 11,
   "id": "b89d1043",
   "metadata": {
    "tags": []
   },
   "outputs": [],
   "source": [
    "# Generate response matrices for each session\n",
    "response1 = generate_response_matrices(dg1, all_events)\n",
    "response2 = generate_response_matrices(dg2, all_events)\n",
    "response3 = generate_response_matrices(dg3, all_events)"
   ]
  },
  {
   "cell_type": "code",
   "execution_count": 12,
   "id": "523454ac",
   "metadata": {},
   "outputs": [],
   "source": [
    "# Create dataframe with response matrix for each drifting gratings stimulus ID\n",
    "dg1_responses_by_stimulus = responses_per_stimulus(dg1, response1)\n",
    "dg2_responses_by_stimulus = responses_per_stimulus(dg2, response2)\n",
    "dg3_responses_by_stimulus = responses_per_stimulus(dg3, response3)"
   ]
  },
  {
   "cell_type": "code",
   "execution_count": 13,
   "id": "61b5b7c0",
   "metadata": {},
   "outputs": [],
   "source": [
    "# Average each cell's response to each stimulus (40 stimuli, 475 neurons) across three sessions"
   ]
  },
  {
   "cell_type": "code",
   "execution_count": 14,
   "id": "8eec81b1",
   "metadata": {},
   "outputs": [],
   "source": [
    "# Session 1\n",
    "mean_responses1 = []\n",
    "for i in range(len(dg1_responses_by_stimulus.stim_id)):\n",
    "    reshape_dims = (dg1_responses_by_stimulus.response_matrix[i].shape[0], dg1_responses_by_stimulus.response_matrix[i].shape[1]*dg1_responses_by_stimulus.response_matrix[i].shape[2])\n",
    "    reshaped = np.reshape(dg1_responses_by_stimulus.response_matrix[i], reshape_dims)\n",
    "    mean_matrix = np.mean(reshaped, axis=1)\n",
    "    mean_responses1.append(mean_matrix)\n",
    "mean_responses1 = np.asarray(mean_responses1)\n",
    "\n",
    "# Session 2\n",
    "mean_responses2 = []\n",
    "for i in range(len(dg2_responses_by_stimulus.stim_id)):\n",
    "    reshape_dims = (dg2_responses_by_stimulus.response_matrix[i].shape[0], dg2_responses_by_stimulus.response_matrix[i].shape[1]*dg2_responses_by_stimulus.response_matrix[i].shape[2])\n",
    "    reshaped = np.reshape(dg2_responses_by_stimulus.response_matrix[i], reshape_dims)\n",
    "    mean_matrix = np.mean(reshaped, axis=1)\n",
    "    mean_responses2.append(mean_matrix)\n",
    "mean_responses2 = np.asarray(mean_responses2)\n",
    "\n",
    "# Session 3\n",
    "mean_responses3 = []\n",
    "for i in range(len(dg3_responses_by_stimulus.stim_id)):\n",
    "    reshape_dims = (dg3_responses_by_stimulus.response_matrix[i].shape[0], dg3_responses_by_stimulus.response_matrix[i].shape[1]*dg3_responses_by_stimulus.response_matrix[i].shape[2])\n",
    "    reshaped = np.reshape(dg3_responses_by_stimulus.response_matrix[i], reshape_dims)\n",
    "    mean_matrix = np.mean(reshaped, axis=1)\n",
    "    mean_responses3.append(mean_matrix)\n",
    "mean_responses3 = np.asarray(mean_responses3)\n",
    "\n",
    "# Concatenate mean matrices to fit PCA model\n",
    "concat_mean_matrices = np.concatenate((mean_responses1, mean_responses2, mean_responses3), axis=0)\n",
    "# represents mean response of each cell to each stimulus across all sessions.\n",
    "# Shape (122,475) or (# total stimuli, # neurons)"
   ]
  },
  {
   "cell_type": "code",
   "execution_count": 85,
   "id": "1e93d370",
   "metadata": {},
   "outputs": [],
   "source": [
    "transformed_data_pca1_df = pd.DataFrame(transformed_data_pca1)\n",
    "transformed_data_pca1_df[\"Session\"] = list(\"1\"*len(transformed_data_pca1))\n",
    "\n",
    "transformed_data_pca2_df = pd.DataFrame(transformed_data_pca2)\n",
    "transformed_data_pca2_df[\"Session\"] = list(\"2\"*len(transformed_data_pca2))\n",
    "\n",
    "transformed_data_pca3_df = pd.DataFrame(transformed_data_pca3)\n",
    "transformed_data_pca3_df[\"Session\"] = list(\"3\"*len(transformed_data_pca3))\n",
    "\n",
    "transformed_data_pca = pd.concat((transformed_data_pca1_df, transformed_data_pca2_df, transformed_data_pca3_df), axis=0)"
   ]
  },
  {
   "cell_type": "code",
   "execution_count": 121,
   "id": "a2479986",
   "metadata": {},
   "outputs": [
    {
     "data": {
      "application/vnd.plotly.v1+json": {
       "config": {
        "plotlyServerURL": "https://plot.ly"
       },
       "data": [
        {
         "hovertemplate": "Session=1<br>PC1=%{x}<br>PC2=%{y}<br>PC3=%{z}<extra></extra>",
         "legendgroup": "1",
         "marker": {
          "color": "#636efa",
          "size": 3,
          "symbol": "circle"
         },
         "mode": "markers",
         "name": "1",
         "scene": "scene",
         "showlegend": true,
         "type": "scatter3d",
         "x": [
          -0.012853427132513123,
          -0.026966621826937952,
          -0.030378441602135906,
          -0.009512018208515802,
          -0.022674257424766295,
          -0.015488915743597419,
          -0.01857323844497301,
          -0.015211344283082389,
          -0.01761439420669744,
          -0.010523557891246238,
          -0.021256515020919027,
          -0.03316499950769956,
          -0.04034325174206557,
          -0.044301215911461335,
          -0.03277791448877459,
          -0.052774146926665655,
          -0.06389019013694312,
          -0.09857925423653169,
          -0.08403684188997118,
          -0.0917956729320947,
          0.07207399300349143,
          0.03106116616877841,
          0.04644621519210039,
          0.06305849491395363,
          0.041024164554669854,
          -0.0058937243527461885,
          -0.009452940426158374,
          0.0016850052463942872,
          -0.01015243877665983,
          -0.005228899750853753,
          -0.046083594237594075,
          -0.029315318489437206,
          -0.043977109181663664,
          -0.0408990957303269,
          -0.043687364178031186,
          0.07315674485105123,
          0.03526926173989847,
          0.06048416513995324,
          0.04681039851920553,
          0.04572811776306936,
          -0.011680275060150406
         ],
         "y": [
          0.0382351864793691,
          0.08816815666365359,
          0.14691598772978434,
          0.03466012546295579,
          0.10045167110831783,
          0.05419277896810897,
          0.05830468189113861,
          0.041977366927721076,
          0.080172306329037,
          0.030143100612421304,
          0.02487319420238561,
          0.04269171050304092,
          0.03600402998643261,
          0.08369076794805765,
          0.06759365611265133,
          -0.03025375869133968,
          0.07510200157111799,
          0.07292529588772202,
          0.039671606692106044,
          0.02248836067207085,
          0.10599231151893174,
          0.0344349463295303,
          0.07811170810181974,
          0.09985005965067505,
          0.10691448613415691,
          0.0360707379038005,
          0.03985369866358357,
          0.017741495218004947,
          0.07152198000116129,
          0.03785122916988475,
          0.07977974481193047,
          0.030853837585777977,
          0.12607187790825214,
          0.10513737982819457,
          0.08903505421636718,
          0.07824388328849359,
          0.07936560402142444,
          0.1326215210527786,
          0.04866827693289413,
          0.10153152350316912,
          0.054858347508356914
         ],
         "z": [
          -0.028372486067671454,
          -0.015657538944875635,
          -0.007619480742387984,
          -0.03500638796330215,
          -0.01787447530664773,
          -0.01648634485792838,
          -0.01776595490642014,
          -0.019296685714904505,
          -0.01666373155992347,
          -0.02917217736307498,
          -0.0031345871758255393,
          -0.011537696317252821,
          0.014443541333937888,
          0.02024635852883198,
          0.000976588789707149,
          0.035256749861000816,
          0.04187086232162718,
          0.10158602255067418,
          0.08144830157307763,
          0.08569672779976617,
          0.03277042458797975,
          -0.0006282537199999608,
          0.02539324677281589,
          0.033839222460454156,
          0.018342121558974456,
          -0.035118569777679465,
          -0.030738535162118746,
          -0.037064150535010595,
          -0.02890600653272991,
          -0.039114064122055786,
          -0.009704369606555734,
          -0.006471081199145031,
          -0.014295568943677913,
          -0.0050033096603864895,
          -0.015248133239364386,
          0.05294269435014474,
          0.010516854642567415,
          0.048081782790348526,
          0.020371586894170117,
          0.023092628008005704,
          -0.023213582819669103
         ]
        },
        {
         "hovertemplate": "Session=2<br>PC1=%{x}<br>PC2=%{y}<br>PC3=%{z}<extra></extra>",
         "legendgroup": "2",
         "marker": {
          "color": "#EF553B",
          "size": 3,
          "symbol": "circle"
         },
         "mode": "markers",
         "name": "2",
         "scene": "scene",
         "showlegend": true,
         "type": "scatter3d",
         "x": [
          -0.014001590843093995,
          -0.012933373699224248,
          -0.01411586320058547,
          -0.01135450636543647,
          -0.013410564673541214,
          0.0033041629503185975,
          0.0016338932135567487,
          -0.0065095780634965555,
          0.0011876806558070736,
          0.0008243605545923023,
          -0.03898506770874659,
          -0.008062202269877401,
          -0.05683375722853476,
          -0.04580550761109292,
          -0.03637654448124519,
          -0.07550270381642694,
          -0.030753221580541217,
          -0.12122784923441687,
          -0.10544583449966996,
          -0.062260276748441507,
          0.12114106410187193,
          0.047580225369405926,
          0.0799663139427052,
          0.0684437469990744,
          0.1066917494896972,
          0.0023131126897111692,
          -0.002531816107544713,
          0.0016849004586193435,
          0.00042418642419197496,
          0.0030335543234522827,
          -0.03247011400895521,
          -0.017817090348343244,
          -0.02724040062819536,
          -0.02335198975879356,
          -0.02398003175677965,
          0.11935969232265953,
          0.050839809617485576,
          0.13357617683392634,
          0.10972994142182031,
          0.1428885718944108,
          -0.007462762186063829
         ],
         "y": [
          -0.022530490494113174,
          -0.027323411951526808,
          -0.018971575847219257,
          -0.02482404164372632,
          -0.023682970589548092,
          -0.028788289424286177,
          -0.028425714751209807,
          -0.024255811978441042,
          -0.031562195272734316,
          -0.030629101684775978,
          -0.03538781570995691,
          -0.02109556174333923,
          -0.052434971364550456,
          -0.05047511877110606,
          -0.041503582804628486,
          -0.04997618542927902,
          -0.03785419018738248,
          -0.06410172383476094,
          -0.06720884377246199,
          -0.0538967618965124,
          -0.007264210470930815,
          -0.033817851217299966,
          -0.026544080353541513,
          -0.027281703917198447,
          -0.03253225312925179,
          -0.02668367505690258,
          -0.024355765052368337,
          -0.02786552471348839,
          -0.028489924528289415,
          -0.031377563774647246,
          -0.022723323433743364,
          -0.03026599705008771,
          -0.022390656431233794,
          -0.011468484166402698,
          -0.024437307515186822,
          -0.014383288407955717,
          -0.03637943338758806,
          -0.010030353281659087,
          -0.03665677525047833,
          -0.043450970464914064,
          -0.028339942789483454
         ],
         "z": [
          -0.02749212142240126,
          -0.03350842211532881,
          -0.0323639330234303,
          -0.04306966068717939,
          -0.03317016655799898,
          -0.03120373193940226,
          -0.040904297086152466,
          -0.027703701096866318,
          -0.03882772275169345,
          -0.04034827594032196,
          0.010114227715963417,
          -0.02630878774949231,
          0.031171466598052706,
          0.015457613122598371,
          0.0016264965276833222,
          0.06933431205798414,
          -0.0011941577481761308,
          0.13053658893390552,
          0.10981603224794148,
          0.047709754996441214,
          0.04429053368497314,
          0.00847806950850815,
          0.012977595133874888,
          0.003049518007084635,
          0.029558153266803923,
          -0.043315329349760893,
          -0.04660412493063292,
          -0.044510039040267034,
          -0.04514414300991591,
          -0.044979312091417555,
          -0.008740013641562358,
          -0.01684216451971394,
          -0.02373466967534542,
          -0.02430584337243731,
          -0.017319482484636,
          0.053597614287514785,
          -0.003731293066930413,
          0.059097773654485486,
          0.036865971697450456,
          0.05197624749509761,
          -0.02877654428293
         ]
        },
        {
         "hovertemplate": "Session=3<br>PC1=%{x}<br>PC2=%{y}<br>PC3=%{z}<extra></extra>",
         "legendgroup": "3",
         "marker": {
          "color": "#00cc96",
          "size": 3,
          "symbol": "circle"
         },
         "mode": "markers",
         "name": "3",
         "scene": "scene",
         "showlegend": true,
         "type": "scatter3d",
         "x": [
          -0.0016525886659643756,
          -0.009659430855597922,
          -0.004162984359795903,
          -0.004241959554180389,
          -0.006816517438726103,
          0.00031463377660643707,
          -0.0004792966998557772,
          -0.0010007427753141755,
          -0.001654965138276647,
          -0.022713054370790978,
          -0.01073843216574305,
          -0.04049071738322427,
          -0.043940177095767204,
          -0.011917170365623148,
          -0.07769243138603953,
          -0.05225238753590336,
          -0.07494505448203467,
          -0.10736767073571316,
          -0.05992810452308778,
          0.09081920535637163,
          0.06173677494863852,
          0.06559085140299065,
          0.051020865122300155,
          0.07069414770549858,
          -9.639124894781324e-05,
          -0.0014418605907874135,
          -0.0020404020050734497,
          0.00295927372694164,
          0.0007931040852765547,
          -0.03502851855171833,
          -0.03462357756184759,
          -0.03126726913225922,
          -0.024282533605385275,
          -0.023444780103508936,
          0.16303107623239188,
          0.11847354773740193,
          0.11145171550475175,
          0.10458855586599088,
          0.10869135392131009,
          -0.00018733085091646
         ],
         "y": [
          -0.019400206245514074,
          -0.03657557805770882,
          -0.02147843190134286,
          -0.02657296101092741,
          -0.029202635496633256,
          -0.027662145763789187,
          -0.028898675752875035,
          -0.03223127950527143,
          -0.032839693958371614,
          -0.03380076428367816,
          -0.035742449814923825,
          -0.046761843245382656,
          -0.0434999672530359,
          -0.02915560692812473,
          -0.056195984270338215,
          -0.0534851899144545,
          -0.05242991580084189,
          -0.07375609783731456,
          -0.04685284484493605,
          -0.014120737027472954,
          -0.03611494748025822,
          -0.026793298124050798,
          -0.02962102836949587,
          -0.03680020816204919,
          -0.026435380554991894,
          -0.03401705049415372,
          -0.03238294939506417,
          -0.03143546099022142,
          -0.027594413108769797,
          -0.013509868814063882,
          -0.04344215006803552,
          -0.024017545865878006,
          -0.03269110555846097,
          -0.03622752051740239,
          -0.014901485435022559,
          -0.04633738379709402,
          -0.030764982919103047,
          -0.03951030687735203,
          -0.045330024326355155,
          -0.032260367090970944
         ],
         "z": [
          -0.041158136665304594,
          -0.041591188589316104,
          -0.03756022962452747,
          -0.0457498000916499,
          -0.036807796425361174,
          -0.04200653630324039,
          -0.046228700624094274,
          -0.03757888954000055,
          -0.03729119489397137,
          0.0008289987269005355,
          -0.03729594709583241,
          0.013586231868060244,
          0.01519213658709967,
          -0.029345493265012915,
          0.06908631211931222,
          0.023425838712866253,
          0.0657253124166894,
          0.10975235091928412,
          0.05121057246822972,
          0.02121830021550989,
          -0.004244385196311847,
          -0.0002396579546680988,
          -0.012352038155860771,
          -0.0011224376355658617,
          -0.03795014546704714,
          -0.04866165631164279,
          -0.03884113758880424,
          -0.0496104169336167,
          -0.04832477084505978,
          -0.0063467585975939215,
          0.002570376740579974,
          -0.015221668102732658,
          -0.022958372989620425,
          -0.01905674908470531,
          0.08222257748606307,
          0.04776923645342655,
          0.036374777377777376,
          0.027825112752525118,
          0.032143299487189095,
          -0.03572990028781807
         ]
        }
       ],
       "layout": {
        "font": {
         "size": 11
        },
        "height": 600,
        "legend": {
         "title": {
          "text": "Session"
         },
         "tracegroupgap": 0
        },
        "scene": {
         "aspectmode": "data",
         "aspectratio": {
          "x": 1.2667315594283377,
          "y": 0.9833720950491458,
          "z": 0.8027818204623364
         },
         "camera": {
          "center": {
           "x": 0,
           "y": 0,
           "z": 0
          },
          "eye": {
           "x": -0.028516381564190146,
           "y": -0.5027719201136633,
           "z": 0.040188173939713745
          },
          "projection": {
           "type": "perspective"
          },
          "up": {
           "x": 0.009445610562426302,
           "y": -0.0005393167249421728,
           "z": 0.9999552437877274
          }
         },
         "domain": {
          "x": [
           0,
           1
          ],
          "y": [
           0,
           1
          ]
         },
         "xaxis": {
          "title": {
           "text": "PC1"
          },
          "type": "linear"
         },
         "yaxis": {
          "title": {
           "text": "PC2"
          },
          "type": "linear"
         },
         "zaxis": {
          "title": {
           "text": "PC3"
          },
          "type": "linear"
         }
        },
        "template": {
         "data": {
          "bar": [
           {
            "error_x": {
             "color": "#2a3f5f"
            },
            "error_y": {
             "color": "#2a3f5f"
            },
            "marker": {
             "line": {
              "color": "#E5ECF6",
              "width": 0.5
             },
             "pattern": {
              "fillmode": "overlay",
              "size": 10,
              "solidity": 0.2
             }
            },
            "type": "bar"
           }
          ],
          "barpolar": [
           {
            "marker": {
             "line": {
              "color": "#E5ECF6",
              "width": 0.5
             },
             "pattern": {
              "fillmode": "overlay",
              "size": 10,
              "solidity": 0.2
             }
            },
            "type": "barpolar"
           }
          ],
          "carpet": [
           {
            "aaxis": {
             "endlinecolor": "#2a3f5f",
             "gridcolor": "white",
             "linecolor": "white",
             "minorgridcolor": "white",
             "startlinecolor": "#2a3f5f"
            },
            "baxis": {
             "endlinecolor": "#2a3f5f",
             "gridcolor": "white",
             "linecolor": "white",
             "minorgridcolor": "white",
             "startlinecolor": "#2a3f5f"
            },
            "type": "carpet"
           }
          ],
          "choropleth": [
           {
            "colorbar": {
             "outlinewidth": 0,
             "ticks": ""
            },
            "type": "choropleth"
           }
          ],
          "contour": [
           {
            "colorbar": {
             "outlinewidth": 0,
             "ticks": ""
            },
            "colorscale": [
             [
              0,
              "#0d0887"
             ],
             [
              0.1111111111111111,
              "#46039f"
             ],
             [
              0.2222222222222222,
              "#7201a8"
             ],
             [
              0.3333333333333333,
              "#9c179e"
             ],
             [
              0.4444444444444444,
              "#bd3786"
             ],
             [
              0.5555555555555556,
              "#d8576b"
             ],
             [
              0.6666666666666666,
              "#ed7953"
             ],
             [
              0.7777777777777778,
              "#fb9f3a"
             ],
             [
              0.8888888888888888,
              "#fdca26"
             ],
             [
              1,
              "#f0f921"
             ]
            ],
            "type": "contour"
           }
          ],
          "contourcarpet": [
           {
            "colorbar": {
             "outlinewidth": 0,
             "ticks": ""
            },
            "type": "contourcarpet"
           }
          ],
          "heatmap": [
           {
            "colorbar": {
             "outlinewidth": 0,
             "ticks": ""
            },
            "colorscale": [
             [
              0,
              "#0d0887"
             ],
             [
              0.1111111111111111,
              "#46039f"
             ],
             [
              0.2222222222222222,
              "#7201a8"
             ],
             [
              0.3333333333333333,
              "#9c179e"
             ],
             [
              0.4444444444444444,
              "#bd3786"
             ],
             [
              0.5555555555555556,
              "#d8576b"
             ],
             [
              0.6666666666666666,
              "#ed7953"
             ],
             [
              0.7777777777777778,
              "#fb9f3a"
             ],
             [
              0.8888888888888888,
              "#fdca26"
             ],
             [
              1,
              "#f0f921"
             ]
            ],
            "type": "heatmap"
           }
          ],
          "heatmapgl": [
           {
            "colorbar": {
             "outlinewidth": 0,
             "ticks": ""
            },
            "colorscale": [
             [
              0,
              "#0d0887"
             ],
             [
              0.1111111111111111,
              "#46039f"
             ],
             [
              0.2222222222222222,
              "#7201a8"
             ],
             [
              0.3333333333333333,
              "#9c179e"
             ],
             [
              0.4444444444444444,
              "#bd3786"
             ],
             [
              0.5555555555555556,
              "#d8576b"
             ],
             [
              0.6666666666666666,
              "#ed7953"
             ],
             [
              0.7777777777777778,
              "#fb9f3a"
             ],
             [
              0.8888888888888888,
              "#fdca26"
             ],
             [
              1,
              "#f0f921"
             ]
            ],
            "type": "heatmapgl"
           }
          ],
          "histogram": [
           {
            "marker": {
             "pattern": {
              "fillmode": "overlay",
              "size": 10,
              "solidity": 0.2
             }
            },
            "type": "histogram"
           }
          ],
          "histogram2d": [
           {
            "colorbar": {
             "outlinewidth": 0,
             "ticks": ""
            },
            "colorscale": [
             [
              0,
              "#0d0887"
             ],
             [
              0.1111111111111111,
              "#46039f"
             ],
             [
              0.2222222222222222,
              "#7201a8"
             ],
             [
              0.3333333333333333,
              "#9c179e"
             ],
             [
              0.4444444444444444,
              "#bd3786"
             ],
             [
              0.5555555555555556,
              "#d8576b"
             ],
             [
              0.6666666666666666,
              "#ed7953"
             ],
             [
              0.7777777777777778,
              "#fb9f3a"
             ],
             [
              0.8888888888888888,
              "#fdca26"
             ],
             [
              1,
              "#f0f921"
             ]
            ],
            "type": "histogram2d"
           }
          ],
          "histogram2dcontour": [
           {
            "colorbar": {
             "outlinewidth": 0,
             "ticks": ""
            },
            "colorscale": [
             [
              0,
              "#0d0887"
             ],
             [
              0.1111111111111111,
              "#46039f"
             ],
             [
              0.2222222222222222,
              "#7201a8"
             ],
             [
              0.3333333333333333,
              "#9c179e"
             ],
             [
              0.4444444444444444,
              "#bd3786"
             ],
             [
              0.5555555555555556,
              "#d8576b"
             ],
             [
              0.6666666666666666,
              "#ed7953"
             ],
             [
              0.7777777777777778,
              "#fb9f3a"
             ],
             [
              0.8888888888888888,
              "#fdca26"
             ],
             [
              1,
              "#f0f921"
             ]
            ],
            "type": "histogram2dcontour"
           }
          ],
          "mesh3d": [
           {
            "colorbar": {
             "outlinewidth": 0,
             "ticks": ""
            },
            "type": "mesh3d"
           }
          ],
          "parcoords": [
           {
            "line": {
             "colorbar": {
              "outlinewidth": 0,
              "ticks": ""
             }
            },
            "type": "parcoords"
           }
          ],
          "pie": [
           {
            "automargin": true,
            "type": "pie"
           }
          ],
          "scatter": [
           {
            "fillpattern": {
             "fillmode": "overlay",
             "size": 10,
             "solidity": 0.2
            },
            "type": "scatter"
           }
          ],
          "scatter3d": [
           {
            "line": {
             "colorbar": {
              "outlinewidth": 0,
              "ticks": ""
             }
            },
            "marker": {
             "colorbar": {
              "outlinewidth": 0,
              "ticks": ""
             }
            },
            "type": "scatter3d"
           }
          ],
          "scattercarpet": [
           {
            "marker": {
             "colorbar": {
              "outlinewidth": 0,
              "ticks": ""
             }
            },
            "type": "scattercarpet"
           }
          ],
          "scattergeo": [
           {
            "marker": {
             "colorbar": {
              "outlinewidth": 0,
              "ticks": ""
             }
            },
            "type": "scattergeo"
           }
          ],
          "scattergl": [
           {
            "marker": {
             "colorbar": {
              "outlinewidth": 0,
              "ticks": ""
             }
            },
            "type": "scattergl"
           }
          ],
          "scattermapbox": [
           {
            "marker": {
             "colorbar": {
              "outlinewidth": 0,
              "ticks": ""
             }
            },
            "type": "scattermapbox"
           }
          ],
          "scatterpolar": [
           {
            "marker": {
             "colorbar": {
              "outlinewidth": 0,
              "ticks": ""
             }
            },
            "type": "scatterpolar"
           }
          ],
          "scatterpolargl": [
           {
            "marker": {
             "colorbar": {
              "outlinewidth": 0,
              "ticks": ""
             }
            },
            "type": "scatterpolargl"
           }
          ],
          "scatterternary": [
           {
            "marker": {
             "colorbar": {
              "outlinewidth": 0,
              "ticks": ""
             }
            },
            "type": "scatterternary"
           }
          ],
          "surface": [
           {
            "colorbar": {
             "outlinewidth": 0,
             "ticks": ""
            },
            "colorscale": [
             [
              0,
              "#0d0887"
             ],
             [
              0.1111111111111111,
              "#46039f"
             ],
             [
              0.2222222222222222,
              "#7201a8"
             ],
             [
              0.3333333333333333,
              "#9c179e"
             ],
             [
              0.4444444444444444,
              "#bd3786"
             ],
             [
              0.5555555555555556,
              "#d8576b"
             ],
             [
              0.6666666666666666,
              "#ed7953"
             ],
             [
              0.7777777777777778,
              "#fb9f3a"
             ],
             [
              0.8888888888888888,
              "#fdca26"
             ],
             [
              1,
              "#f0f921"
             ]
            ],
            "type": "surface"
           }
          ],
          "table": [
           {
            "cells": {
             "fill": {
              "color": "#EBF0F8"
             },
             "line": {
              "color": "white"
             }
            },
            "header": {
             "fill": {
              "color": "#C8D4E3"
             },
             "line": {
              "color": "white"
             }
            },
            "type": "table"
           }
          ]
         },
         "layout": {
          "annotationdefaults": {
           "arrowcolor": "#2a3f5f",
           "arrowhead": 0,
           "arrowwidth": 1
          },
          "autotypenumbers": "strict",
          "coloraxis": {
           "colorbar": {
            "outlinewidth": 0,
            "ticks": ""
           }
          },
          "colorscale": {
           "diverging": [
            [
             0,
             "#8e0152"
            ],
            [
             0.1,
             "#c51b7d"
            ],
            [
             0.2,
             "#de77ae"
            ],
            [
             0.3,
             "#f1b6da"
            ],
            [
             0.4,
             "#fde0ef"
            ],
            [
             0.5,
             "#f7f7f7"
            ],
            [
             0.6,
             "#e6f5d0"
            ],
            [
             0.7,
             "#b8e186"
            ],
            [
             0.8,
             "#7fbc41"
            ],
            [
             0.9,
             "#4d9221"
            ],
            [
             1,
             "#276419"
            ]
           ],
           "sequential": [
            [
             0,
             "#0d0887"
            ],
            [
             0.1111111111111111,
             "#46039f"
            ],
            [
             0.2222222222222222,
             "#7201a8"
            ],
            [
             0.3333333333333333,
             "#9c179e"
            ],
            [
             0.4444444444444444,
             "#bd3786"
            ],
            [
             0.5555555555555556,
             "#d8576b"
            ],
            [
             0.6666666666666666,
             "#ed7953"
            ],
            [
             0.7777777777777778,
             "#fb9f3a"
            ],
            [
             0.8888888888888888,
             "#fdca26"
            ],
            [
             1,
             "#f0f921"
            ]
           ],
           "sequentialminus": [
            [
             0,
             "#0d0887"
            ],
            [
             0.1111111111111111,
             "#46039f"
            ],
            [
             0.2222222222222222,
             "#7201a8"
            ],
            [
             0.3333333333333333,
             "#9c179e"
            ],
            [
             0.4444444444444444,
             "#bd3786"
            ],
            [
             0.5555555555555556,
             "#d8576b"
            ],
            [
             0.6666666666666666,
             "#ed7953"
            ],
            [
             0.7777777777777778,
             "#fb9f3a"
            ],
            [
             0.8888888888888888,
             "#fdca26"
            ],
            [
             1,
             "#f0f921"
            ]
           ]
          },
          "colorway": [
           "#636efa",
           "#EF553B",
           "#00cc96",
           "#ab63fa",
           "#FFA15A",
           "#19d3f3",
           "#FF6692",
           "#B6E880",
           "#FF97FF",
           "#FECB52"
          ],
          "font": {
           "color": "#2a3f5f"
          },
          "geo": {
           "bgcolor": "white",
           "lakecolor": "white",
           "landcolor": "#E5ECF6",
           "showlakes": true,
           "showland": true,
           "subunitcolor": "white"
          },
          "hoverlabel": {
           "align": "left"
          },
          "hovermode": "closest",
          "mapbox": {
           "style": "light"
          },
          "paper_bgcolor": "white",
          "plot_bgcolor": "#E5ECF6",
          "polar": {
           "angularaxis": {
            "gridcolor": "white",
            "linecolor": "white",
            "ticks": ""
           },
           "bgcolor": "#E5ECF6",
           "radialaxis": {
            "gridcolor": "white",
            "linecolor": "white",
            "ticks": ""
           }
          },
          "scene": {
           "xaxis": {
            "backgroundcolor": "#E5ECF6",
            "gridcolor": "white",
            "gridwidth": 2,
            "linecolor": "white",
            "showbackground": true,
            "ticks": "",
            "zerolinecolor": "white"
           },
           "yaxis": {
            "backgroundcolor": "#E5ECF6",
            "gridcolor": "white",
            "gridwidth": 2,
            "linecolor": "white",
            "showbackground": true,
            "ticks": "",
            "zerolinecolor": "white"
           },
           "zaxis": {
            "backgroundcolor": "#E5ECF6",
            "gridcolor": "white",
            "gridwidth": 2,
            "linecolor": "white",
            "showbackground": true,
            "ticks": "",
            "zerolinecolor": "white"
           }
          },
          "shapedefaults": {
           "line": {
            "color": "#2a3f5f"
           }
          },
          "ternary": {
           "aaxis": {
            "gridcolor": "white",
            "linecolor": "white",
            "ticks": ""
           },
           "baxis": {
            "gridcolor": "white",
            "linecolor": "white",
            "ticks": ""
           },
           "bgcolor": "#E5ECF6",
           "caxis": {
            "gridcolor": "white",
            "linecolor": "white",
            "ticks": ""
           }
          },
          "title": {
           "x": 0.05
          },
          "xaxis": {
           "automargin": true,
           "gridcolor": "white",
           "linecolor": "white",
           "ticks": "",
           "title": {
            "standoff": 15
           },
           "zerolinecolor": "white",
           "zerolinewidth": 2
          },
          "yaxis": {
           "automargin": true,
           "gridcolor": "white",
           "linecolor": "white",
           "ticks": "",
           "title": {
            "standoff": 15
           },
           "zerolinecolor": "white",
           "zerolinewidth": 2
          }
         }
        },
        "title": {
         "text": "First 3 PCs on Mean Response of Each Cell to Each DG Stimulus Over Time"
        },
        "width": 800
       }
      },
      "image/png": "[encoded data removed]",
      "text/html": [
       "<div>                            <div id=\"e3f3b388-c5e0-4100-93fe-a65a79149eba\" class=\"plotly-graph-div\" style=\"height:600px; width:800px;\"></div>            <script type=\"text/javascript\">                require([\"plotly\"], function(Plotly) {                    window.PLOTLYENV=window.PLOTLYENV || {};                                    if (document.getElementById(\"e3f3b388-c5e0-4100-93fe-a65a79149eba\")) {                    Plotly.newPlot(                        \"e3f3b388-c5e0-4100-93fe-a65a79149eba\",                        [{\"hovertemplate\":\"Session=1\\u003cbr\\u003ePC1=%{x}\\u003cbr\\u003ePC2=%{y}\\u003cbr\\u003ePC3=%{z}\\u003cextra\\u003e\\u003c\\u002fextra\\u003e\",\"legendgroup\":\"1\",\"marker\":{\"color\":\"#636efa\",\"symbol\":\"circle\",\"size\":3},\"mode\":\"markers\",\"name\":\"1\",\"scene\":\"scene\",\"showlegend\":true,\"x\":[-0.012853427132513123,-0.026966621826937952,-0.030378441602135906,-0.009512018208515802,-0.022674257424766295,-0.015488915743597419,-0.01857323844497301,-0.015211344283082389,-0.01761439420669744,-0.010523557891246238,-0.021256515020919027,-0.03316499950769956,-0.04034325174206557,-0.044301215911461335,-0.03277791448877459,-0.052774146926665655,-0.06389019013694312,-0.09857925423653169,-0.08403684188997118,-0.0917956729320947,0.07207399300349143,0.03106116616877841,0.04644621519210039,0.06305849491395363,0.041024164554669854,-0.0058937243527461885,-0.009452940426158374,0.0016850052463942872,-0.01015243877665983,-0.005228899750853753,-0.046083594237594075,-0.029315318489437206,-0.043977109181663664,-0.0408990957303269,-0.043687364178031186,0.07315674485105123,0.03526926173989847,0.06048416513995324,0.04681039851920553,0.04572811776306936,-0.011680275060150406],\"y\":[0.0382351864793691,0.08816815666365359,0.14691598772978434,0.03466012546295579,0.10045167110831783,0.05419277896810897,0.05830468189113861,0.041977366927721076,0.080172306329037,0.030143100612421304,0.02487319420238561,0.04269171050304092,0.03600402998643261,0.08369076794805765,0.06759365611265133,-0.03025375869133968,0.07510200157111799,0.07292529588772202,0.039671606692106044,0.02248836067207085,0.10599231151893174,0.0344349463295303,0.07811170810181974,0.09985005965067505,0.10691448613415691,0.0360707379038005,0.03985369866358357,0.017741495218004947,0.07152198000116129,0.03785122916988475,0.07977974481193047,0.030853837585777977,0.12607187790825214,0.10513737982819457,0.08903505421636718,0.07824388328849359,0.07936560402142444,0.1326215210527786,0.04866827693289413,0.10153152350316912,0.054858347508356914],\"z\":[-0.028372486067671454,-0.015657538944875635,-0.007619480742387984,-0.03500638796330215,-0.01787447530664773,-0.01648634485792838,-0.01776595490642014,-0.019296685714904505,-0.01666373155992347,-0.02917217736307498,-0.0031345871758255393,-0.011537696317252821,0.014443541333937888,0.02024635852883198,0.000976588789707149,0.035256749861000816,0.04187086232162718,0.10158602255067418,0.08144830157307763,0.08569672779976617,0.03277042458797975,-0.0006282537199999608,0.02539324677281589,0.033839222460454156,0.018342121558974456,-0.035118569777679465,-0.030738535162118746,-0.037064150535010595,-0.02890600653272991,-0.039114064122055786,-0.009704369606555734,-0.006471081199145031,-0.014295568943677913,-0.0050033096603864895,-0.015248133239364386,0.05294269435014474,0.010516854642567415,0.048081782790348526,0.020371586894170117,0.023092628008005704,-0.023213582819669103],\"type\":\"scatter3d\"},{\"hovertemplate\":\"Session=2\\u003cbr\\u003ePC1=%{x}\\u003cbr\\u003ePC2=%{y}\\u003cbr\\u003ePC3=%{z}\\u003cextra\\u003e\\u003c\\u002fextra\\u003e\",\"legendgroup\":\"2\",\"marker\":{\"color\":\"#EF553B\",\"symbol\":\"circle\",\"size\":3},\"mode\":\"markers\",\"name\":\"2\",\"scene\":\"scene\",\"showlegend\":true,\"x\":[-0.014001590843093995,-0.012933373699224248,-0.01411586320058547,-0.01135450636543647,-0.013410564673541214,0.0033041629503185975,0.0016338932135567487,-0.0065095780634965555,0.0011876806558070736,0.0008243605545923023,-0.03898506770874659,-0.008062202269877401,-0.05683375722853476,-0.04580550761109292,-0.03637654448124519,-0.07550270381642694,-0.030753221580541217,-0.12122784923441687,-0.10544583449966996,-0.062260276748441507,0.12114106410187193,0.047580225369405926,0.0799663139427052,0.0684437469990744,0.1066917494896972,0.0023131126897111692,-0.002531816107544713,0.0016849004586193435,0.00042418642419197496,0.0030335543234522827,-0.03247011400895521,-0.017817090348343244,-0.02724040062819536,-0.02335198975879356,-0.02398003175677965,0.11935969232265953,0.050839809617485576,0.13357617683392634,0.10972994142182031,0.1428885718944108,-0.007462762186063829],\"y\":[-0.022530490494113174,-0.027323411951526808,-0.018971575847219257,-0.02482404164372632,-0.023682970589548092,-0.028788289424286177,-0.028425714751209807,-0.024255811978441042,-0.031562195272734316,-0.030629101684775978,-0.03538781570995691,-0.02109556174333923,-0.052434971364550456,-0.05047511877110606,-0.041503582804628486,-0.04997618542927902,-0.03785419018738248,-0.06410172383476094,-0.06720884377246199,-0.0538967618965124,-0.007264210470930815,-0.033817851217299966,-0.026544080353541513,-0.027281703917198447,-0.03253225312925179,-0.02668367505690258,-0.024355765052368337,-0.02786552471348839,-0.028489924528289415,-0.031377563774647246,-0.022723323433743364,-0.03026599705008771,-0.022390656431233794,-0.011468484166402698,-0.024437307515186822,-0.014383288407955717,-0.03637943338758806,-0.010030353281659087,-0.03665677525047833,-0.043450970464914064,-0.028339942789483454],\"z\":[-0.02749212142240126,-0.03350842211532881,-0.0323639330234303,-0.04306966068717939,-0.03317016655799898,-0.03120373193940226,-0.040904297086152466,-0.027703701096866318,-0.03882772275169345,-0.04034827594032196,0.010114227715963417,-0.02630878774949231,0.031171466598052706,0.015457613122598371,0.0016264965276833222,0.06933431205798414,-0.0011941577481761308,0.13053658893390552,0.10981603224794148,0.047709754996441214,0.04429053368497314,0.00847806950850815,0.012977595133874888,0.003049518007084635,0.029558153266803923,-0.043315329349760893,-0.04660412493063292,-0.044510039040267034,-0.04514414300991591,-0.044979312091417555,-0.008740013641562358,-0.01684216451971394,-0.02373466967534542,-0.02430584337243731,-0.017319482484636,0.053597614287514785,-0.003731293066930413,0.059097773654485486,0.036865971697450456,0.05197624749509761,-0.02877654428293],\"type\":\"scatter3d\"},{\"hovertemplate\":\"Session=3\\u003cbr\\u003ePC1=%{x}\\u003cbr\\u003ePC2=%{y}\\u003cbr\\u003ePC3=%{z}\\u003cextra\\u003e\\u003c\\u002fextra\\u003e\",\"legendgroup\":\"3\",\"marker\":{\"color\":\"#00cc96\",\"symbol\":\"circle\",\"size\":3},\"mode\":\"markers\",\"name\":\"3\",\"scene\":\"scene\",\"showlegend\":true,\"x\":[-0.0016525886659643756,-0.009659430855597922,-0.004162984359795903,-0.004241959554180389,-0.006816517438726103,0.00031463377660643707,-0.0004792966998557772,-0.0010007427753141755,-0.001654965138276647,-0.022713054370790978,-0.01073843216574305,-0.04049071738322427,-0.043940177095767204,-0.011917170365623148,-0.07769243138603953,-0.05225238753590336,-0.07494505448203467,-0.10736767073571316,-0.05992810452308778,0.09081920535637163,0.06173677494863852,0.06559085140299065,0.051020865122300155,0.07069414770549858,-9.639124894781324e-05,-0.0014418605907874135,-0.0020404020050734497,0.00295927372694164,0.0007931040852765547,-0.03502851855171833,-0.03462357756184759,-0.03126726913225922,-0.024282533605385275,-0.023444780103508936,0.16303107623239188,0.11847354773740193,0.11145171550475175,0.10458855586599088,0.10869135392131009,-0.00018733085091646],\"y\":[-0.019400206245514074,-0.03657557805770882,-0.02147843190134286,-0.02657296101092741,-0.029202635496633256,-0.027662145763789187,-0.028898675752875035,-0.03223127950527143,-0.032839693958371614,-0.03380076428367816,-0.035742449814923825,-0.046761843245382656,-0.0434999672530359,-0.02915560692812473,-0.056195984270338215,-0.0534851899144545,-0.05242991580084189,-0.07375609783731456,-0.04685284484493605,-0.014120737027472954,-0.03611494748025822,-0.026793298124050798,-0.02962102836949587,-0.03680020816204919,-0.026435380554991894,-0.03401705049415372,-0.03238294939506417,-0.03143546099022142,-0.027594413108769797,-0.013509868814063882,-0.04344215006803552,-0.024017545865878006,-0.03269110555846097,-0.03622752051740239,-0.014901485435022559,-0.04633738379709402,-0.030764982919103047,-0.03951030687735203,-0.045330024326355155,-0.032260367090970944],\"z\":[-0.041158136665304594,-0.041591188589316104,-0.03756022962452747,-0.0457498000916499,-0.036807796425361174,-0.04200653630324039,-0.046228700624094274,-0.03757888954000055,-0.03729119489397137,0.0008289987269005355,-0.03729594709583241,0.013586231868060244,0.01519213658709967,-0.029345493265012915,0.06908631211931222,0.023425838712866253,0.0657253124166894,0.10975235091928412,0.05121057246822972,0.02121830021550989,-0.004244385196311847,-0.0002396579546680988,-0.012352038155860771,-0.0011224376355658617,-0.03795014546704714,-0.04866165631164279,-0.03884113758880424,-0.0496104169336167,-0.04832477084505978,-0.0063467585975939215,0.002570376740579974,-0.015221668102732658,-0.022958372989620425,-0.01905674908470531,0.08222257748606307,0.04776923645342655,0.036374777377777376,0.027825112752525118,0.032143299487189095,-0.03572990028781807],\"type\":\"scatter3d\"}],                        {\"template\":{\"data\":{\"histogram2dcontour\":[{\"type\":\"histogram2dcontour\",\"colorbar\":{\"outlinewidth\":0,\"ticks\":\"\"},\"colorscale\":[[0.0,\"#0d0887\"],[0.1111111111111111,\"#46039f\"],[0.2222222222222222,\"#7201a8\"],[0.3333333333333333,\"#9c179e\"],[0.4444444444444444,\"#bd3786\"],[0.5555555555555556,\"#d8576b\"],[0.6666666666666666,\"#ed7953\"],[0.7777777777777778,\"#fb9f3a\"],[0.8888888888888888,\"#fdca26\"],[1.0,\"#f0f921\"]]}],\"choropleth\":[{\"type\":\"choropleth\",\"colorbar\":{\"outlinewidth\":0,\"ticks\":\"\"}}],\"histogram2d\":[{\"type\":\"histogram2d\",\"colorbar\":{\"outlinewidth\":0,\"ticks\":\"\"},\"colorscale\":[[0.0,\"#0d0887\"],[0.1111111111111111,\"#46039f\"],[0.2222222222222222,\"#7201a8\"],[0.3333333333333333,\"#9c179e\"],[0.4444444444444444,\"#bd3786\"],[0.5555555555555556,\"#d8576b\"],[0.6666666666666666,\"#ed7953\"],[0.7777777777777778,\"#fb9f3a\"],[0.8888888888888888,\"#fdca26\"],[1.0,\"#f0f921\"]]}],\"heatmap\":[{\"type\":\"heatmap\",\"colorbar\":{\"outlinewidth\":0,\"ticks\":\"\"},\"colorscale\":[[0.0,\"#0d0887\"],[0.1111111111111111,\"#46039f\"],[0.2222222222222222,\"#7201a8\"],[0.3333333333333333,\"#9c179e\"],[0.4444444444444444,\"#bd3786\"],[0.5555555555555556,\"#d8576b\"],[0.6666666666666666,\"#ed7953\"],[0.7777777777777778,\"#fb9f3a\"],[0.8888888888888888,\"#fdca26\"],[1.0,\"#f0f921\"]]}],\"heatmapgl\":[{\"type\":\"heatmapgl\",\"colorbar\":{\"outlinewidth\":0,\"ticks\":\"\"},\"colorscale\":[[0.0,\"#0d0887\"],[0.1111111111111111,\"#46039f\"],[0.2222222222222222,\"#7201a8\"],[0.3333333333333333,\"#9c179e\"],[0.4444444444444444,\"#bd3786\"],[0.5555555555555556,\"#d8576b\"],[0.6666666666666666,\"#ed7953\"],[0.7777777777777778,\"#fb9f3a\"],[0.8888888888888888,\"#fdca26\"],[1.0,\"#f0f921\"]]}],\"contourcarpet\":[{\"type\":\"contourcarpet\",\"colorbar\":{\"outlinewidth\":0,\"ticks\":\"\"}}],\"contour\":[{\"type\":\"contour\",\"colorbar\":{\"outlinewidth\":0,\"ticks\":\"\"},\"colorscale\":[[0.0,\"#0d0887\"],[0.1111111111111111,\"#46039f\"],[0.2222222222222222,\"#7201a8\"],[0.3333333333333333,\"#9c179e\"],[0.4444444444444444,\"#bd3786\"],[0.5555555555555556,\"#d8576b\"],[0.6666666666666666,\"#ed7953\"],[0.7777777777777778,\"#fb9f3a\"],[0.8888888888888888,\"#fdca26\"],[1.0,\"#f0f921\"]]}],\"surface\":[{\"type\":\"surface\",\"colorbar\":{\"outlinewidth\":0,\"ticks\":\"\"},\"colorscale\":[[0.0,\"#0d0887\"],[0.1111111111111111,\"#46039f\"],[0.2222222222222222,\"#7201a8\"],[0.3333333333333333,\"#9c179e\"],[0.4444444444444444,\"#bd3786\"],[0.5555555555555556,\"#d8576b\"],[0.6666666666666666,\"#ed7953\"],[0.7777777777777778,\"#fb9f3a\"],[0.8888888888888888,\"#fdca26\"],[1.0,\"#f0f921\"]]}],\"mesh3d\":[{\"type\":\"mesh3d\",\"colorbar\":{\"outlinewidth\":0,\"ticks\":\"\"}}],\"scatter\":[{\"fillpattern\":{\"fillmode\":\"overlay\",\"size\":10,\"solidity\":0.2},\"type\":\"scatter\"}],\"parcoords\":[{\"type\":\"parcoords\",\"line\":{\"colorbar\":{\"outlinewidth\":0,\"ticks\":\"\"}}}],\"scatterpolargl\":[{\"type\":\"scatterpolargl\",\"marker\":{\"colorbar\":{\"outlinewidth\":0,\"ticks\":\"\"}}}],\"bar\":[{\"error_x\":{\"color\":\"#2a3f5f\"},\"error_y\":{\"color\":\"#2a3f5f\"},\"marker\":{\"line\":{\"color\":\"#E5ECF6\",\"width\":0.5},\"pattern\":{\"fillmode\":\"overlay\",\"size\":10,\"solidity\":0.2}},\"type\":\"bar\"}],\"scattergeo\":[{\"type\":\"scattergeo\",\"marker\":{\"colorbar\":{\"outlinewidth\":0,\"ticks\":\"\"}}}],\"scatterpolar\":[{\"type\":\"scatterpolar\",\"marker\":{\"colorbar\":{\"outlinewidth\":0,\"ticks\":\"\"}}}],\"histogram\":[{\"marker\":{\"pattern\":{\"fillmode\":\"overlay\",\"size\":10,\"solidity\":0.2}},\"type\":\"histogram\"}],\"scattergl\":[{\"type\":\"scattergl\",\"marker\":{\"colorbar\":{\"outlinewidth\":0,\"ticks\":\"\"}}}],\"scatter3d\":[{\"type\":\"scatter3d\",\"line\":{\"colorbar\":{\"outlinewidth\":0,\"ticks\":\"\"}},\"marker\":{\"colorbar\":{\"outlinewidth\":0,\"ticks\":\"\"}}}],\"scattermapbox\":[{\"type\":\"scattermapbox\",\"marker\":{\"colorbar\":{\"outlinewidth\":0,\"ticks\":\"\"}}}],\"scatterternary\":[{\"type\":\"scatterternary\",\"marker\":{\"colorbar\":{\"outlinewidth\":0,\"ticks\":\"\"}}}],\"scattercarpet\":[{\"type\":\"scattercarpet\",\"marker\":{\"colorbar\":{\"outlinewidth\":0,\"ticks\":\"\"}}}],\"carpet\":[{\"aaxis\":{\"endlinecolor\":\"#2a3f5f\",\"gridcolor\":\"white\",\"linecolor\":\"white\",\"minorgridcolor\":\"white\",\"startlinecolor\":\"#2a3f5f\"},\"baxis\":{\"endlinecolor\":\"#2a3f5f\",\"gridcolor\":\"white\",\"linecolor\":\"white\",\"minorgridcolor\":\"white\",\"startlinecolor\":\"#2a3f5f\"},\"type\":\"carpet\"}],\"table\":[{\"cells\":{\"fill\":{\"color\":\"#EBF0F8\"},\"line\":{\"color\":\"white\"}},\"header\":{\"fill\":{\"color\":\"#C8D4E3\"},\"line\":{\"color\":\"white\"}},\"type\":\"table\"}],\"barpolar\":[{\"marker\":{\"line\":{\"color\":\"#E5ECF6\",\"width\":0.5},\"pattern\":{\"fillmode\":\"overlay\",\"size\":10,\"solidity\":0.2}},\"type\":\"barpolar\"}],\"pie\":[{\"automargin\":true,\"type\":\"pie\"}]},\"layout\":{\"autotypenumbers\":\"strict\",\"colorway\":[\"#636efa\",\"#EF553B\",\"#00cc96\",\"#ab63fa\",\"#FFA15A\",\"#19d3f3\",\"#FF6692\",\"#B6E880\",\"#FF97FF\",\"#FECB52\"],\"font\":{\"color\":\"#2a3f5f\"},\"hovermode\":\"closest\",\"hoverlabel\":{\"align\":\"left\"},\"paper_bgcolor\":\"white\",\"plot_bgcolor\":\"#E5ECF6\",\"polar\":{\"bgcolor\":\"#E5ECF6\",\"angularaxis\":{\"gridcolor\":\"white\",\"linecolor\":\"white\",\"ticks\":\"\"},\"radialaxis\":{\"gridcolor\":\"white\",\"linecolor\":\"white\",\"ticks\":\"\"}},\"ternary\":{\"bgcolor\":\"#E5ECF6\",\"aaxis\":{\"gridcolor\":\"white\",\"linecolor\":\"white\",\"ticks\":\"\"},\"baxis\":{\"gridcolor\":\"white\",\"linecolor\":\"white\",\"ticks\":\"\"},\"caxis\":{\"gridcolor\":\"white\",\"linecolor\":\"white\",\"ticks\":\"\"}},\"coloraxis\":{\"colorbar\":{\"outlinewidth\":0,\"ticks\":\"\"}},\"colorscale\":{\"sequential\":[[0.0,\"#0d0887\"],[0.1111111111111111,\"#46039f\"],[0.2222222222222222,\"#7201a8\"],[0.3333333333333333,\"#9c179e\"],[0.4444444444444444,\"#bd3786\"],[0.5555555555555556,\"#d8576b\"],[0.6666666666666666,\"#ed7953\"],[0.7777777777777778,\"#fb9f3a\"],[0.8888888888888888,\"#fdca26\"],[1.0,\"#f0f921\"]],\"sequentialminus\":[[0.0,\"#0d0887\"],[0.1111111111111111,\"#46039f\"],[0.2222222222222222,\"#7201a8\"],[0.3333333333333333,\"#9c179e\"],[0.4444444444444444,\"#bd3786\"],[0.5555555555555556,\"#d8576b\"],[0.6666666666666666,\"#ed7953\"],[0.7777777777777778,\"#fb9f3a\"],[0.8888888888888888,\"#fdca26\"],[1.0,\"#f0f921\"]],\"diverging\":[[0,\"#8e0152\"],[0.1,\"#c51b7d\"],[0.2,\"#de77ae\"],[0.3,\"#f1b6da\"],[0.4,\"#fde0ef\"],[0.5,\"#f7f7f7\"],[0.6,\"#e6f5d0\"],[0.7,\"#b8e186\"],[0.8,\"#7fbc41\"],[0.9,\"#4d9221\"],[1,\"#276419\"]]},\"xaxis\":{\"gridcolor\":\"white\",\"linecolor\":\"white\",\"ticks\":\"\",\"title\":{\"standoff\":15},\"zerolinecolor\":\"white\",\"automargin\":true,\"zerolinewidth\":2},\"yaxis\":{\"gridcolor\":\"white\",\"linecolor\":\"white\",\"ticks\":\"\",\"title\":{\"standoff\":15},\"zerolinecolor\":\"white\",\"automargin\":true,\"zerolinewidth\":2},\"scene\":{\"xaxis\":{\"backgroundcolor\":\"#E5ECF6\",\"gridcolor\":\"white\",\"linecolor\":\"white\",\"showbackground\":true,\"ticks\":\"\",\"zerolinecolor\":\"white\",\"gridwidth\":2},\"yaxis\":{\"backgroundcolor\":\"#E5ECF6\",\"gridcolor\":\"white\",\"linecolor\":\"white\",\"showbackground\":true,\"ticks\":\"\",\"zerolinecolor\":\"white\",\"gridwidth\":2},\"zaxis\":{\"backgroundcolor\":\"#E5ECF6\",\"gridcolor\":\"white\",\"linecolor\":\"white\",\"showbackground\":true,\"ticks\":\"\",\"zerolinecolor\":\"white\",\"gridwidth\":2}},\"shapedefaults\":{\"line\":{\"color\":\"#2a3f5f\"}},\"annotationdefaults\":{\"arrowcolor\":\"#2a3f5f\",\"arrowhead\":0,\"arrowwidth\":1},\"geo\":{\"bgcolor\":\"white\",\"landcolor\":\"#E5ECF6\",\"subunitcolor\":\"white\",\"showland\":true,\"showlakes\":true,\"lakecolor\":\"white\"},\"title\":{\"x\":0.05},\"mapbox\":{\"style\":\"light\"}}},\"scene\":{\"domain\":{\"x\":[0.0,1.0],\"y\":[0.0,1.0]},\"xaxis\":{\"title\":{\"text\":\"PC1\"}},\"yaxis\":{\"title\":{\"text\":\"PC2\"}},\"zaxis\":{\"title\":{\"text\":\"PC3\"}},\"camera\":{\"eye\":{\"x\":0.2,\"y\":-2.0,\"z\":1}},\"aspectmode\":\"data\"},\"legend\":{\"title\":{\"text\":\"Session\"},\"tracegroupgap\":0},\"title\":{\"text\":\"First 3 PCs on Mean Response of Each Cell to Each DG Stimulus Over Time\"},\"font\":{\"size\":11},\"width\":800,\"height\":600},                        {\"responsive\": true}                    ).then(function(){\n",
       "                            \n",
       "var gd = document.getElementById('e3f3b388-c5e0-4100-93fe-a65a79149eba');\n",
       "var x = new MutationObserver(function (mutations, observer) {{\n",
       "        var display = window.getComputedStyle(gd).display;\n",
       "        if (!display || display === 'none') {{\n",
       "            console.log([gd, 'removed!']);\n",
       "            Plotly.purge(gd);\n",
       "            observer.disconnect();\n",
       "        }}\n",
       "}});\n",
       "\n",
       "// Listen for the removal of the full notebook cells\n",
       "var notebookContainer = gd.closest('#notebook-container');\n",
       "if (notebookContainer) {{\n",
       "    x.observe(notebookContainer, {childList: true});\n",
       "}}\n",
       "\n",
       "// Listen for the clearing of the current output cell\n",
       "var outputEl = gd.closest('.output');\n",
       "if (outputEl) {{\n",
       "    x.observe(outputEl, {childList: true});\n",
       "}}\n",
       "\n",
       "                        })                };                });            </script>        </div>"
      ]
     },
     "metadata": {},
     "output_type": "display_data"
    }
   ],
   "source": [
    "# PCA Model: 3D Visualization\n",
    "import warnings\n",
    "warnings.filterwarnings('ignore')\n",
    "\n",
    "pca = PCA(n_components=3) # create PCA model\n",
    "pca.fit_transform(concat_mean_matrices) # fit the model with the dataset\n",
    "transformed_data_pca1 = pca.transform(mean_responses1) # transform dataset \n",
    "transformed_data_pca2 = pca.transform(mean_responses2) # transform dataset \n",
    "transformed_data_pca3 = pca.transform(mean_responses3) # transform dataset \n",
    "\n",
    "# Concatenate dataframes for easy plotting\n",
    "transformed_data_pca1_df = pd.DataFrame(transformed_data_pca1)\n",
    "transformed_data_pca1_df[\"Session\"] = list(\"1\"*len(transformed_data_pca1))\n",
    "transformed_data_pca2_df = pd.DataFrame(transformed_data_pca2)\n",
    "transformed_data_pca2_df[\"Session\"] = list(\"2\"*len(transformed_data_pca2))\n",
    "transformed_data_pca3_df = pd.DataFrame(transformed_data_pca3)\n",
    "transformed_data_pca3_df[\"Session\"] = list(\"3\"*len(transformed_data_pca3))\n",
    "transformed_data_pca = pd.concat((transformed_data_pca1_df, transformed_data_pca2_df, transformed_data_pca3_df), axis=0)\n",
    "\n",
    "fig = px.scatter_3d(transformed_data_pca, x=0, y=1, z=2, color=\"Session\", labels = {\"0\": \"PC1\",\"1\": \"PC2\", \"2\": \"PC3\"}, title = \"First 3 PCs on Mean Response of Each Cell to Each DG Stimulus Over Time\")\n",
    "fig.update_traces(marker_size=3) # reduce size of scatter points from default size\n",
    "fig.update_layout(width=800, height=600, font_size=11, scene_aspectmode=\"data\", scene_camera_eye= dict(x=0.2, y=-2.0, z=1)) # adjust plot appearance\n",
    "fig.show()"
   ]
  },
  {
   "cell_type": "code",
   "execution_count": 123,
   "id": "7c89e2df",
   "metadata": {},
   "outputs": [],
   "source": [
    "transformed_data_pca = pca_transform_data(dg1_responses_by_stimulus, dg2_responses_by_stimulus, dg3_responses_by_stimulus, 3)"
   ]
  },
  {
   "cell_type": "code",
   "execution_count": 138,
   "id": "e9a89cf1",
   "metadata": {},
   "outputs": [
    {
     "data": {
      "image/png": "[encoded data removed]",
      "text/plain": [
       "<Figure size 576x360 with 1 Axes>"
      ]
     },
     "metadata": {
      "needs_background": "light"
     },
     "output_type": "display_data"
    }
   ],
   "source": [
    "# PCA Model: 2D Visualization\n",
    "fig, ax = plt.subplots(figsize=(8,5))\n",
    "\n",
    "ax.scatter(transformed_data_pca[transformed_data_pca.Session==\"1\"][0], transformed_data_pca[transformed_data_pca.Session==\"1\"][1], label=\"session 1\")\n",
    "ax.scatter(transformed_data_pca[transformed_data_pca.Session==\"2\"][0], transformed_data_pca[transformed_data_pca.Session==\"2\"][1], label=\"session 2\")\n",
    "ax.scatter(transformed_data_pca[transformed_data_pca.Session==\"3\"][0], transformed_data_pca[transformed_data_pca.Session==\"3\"][1], label=\"session 3\")\n",
    "ax.set_xlabel(\"1st PC\")\n",
    "ax.set_ylabel(\"2nd PC\")\n",
    "ax.set_title(\"PCA Analysis on Mean Response of Each Cell to Each DG Stimulus Over Time\")\n",
    "plt.legend(loc=\"upper right\")\n",
    "plt.show()\n"
   ]
  },
  {
   "cell_type": "code",
   "execution_count": 139,
   "id": "cb864003",
   "metadata": {},
   "outputs": [
    {
     "data": {
      "application/vnd.plotly.v1+json": {
       "config": {
        "plotlyServerURL": "https://plot.ly"
       },
       "data": [
        {
         "hovertemplate": "Session=1<br>PC1=%{x}<br>PC2=%{y}<br>PC3=%{z}<extra></extra>",
         "legendgroup": "1",
         "marker": {
          "color": "#636efa",
          "size": 3,
          "symbol": "circle"
         },
         "mode": "markers",
         "name": "1",
         "scene": "scene",
         "showlegend": true,
         "type": "scatter3d",
         "x": [
          -0.012853427132513123,
          -0.026966621826937952,
          -0.030378441602135906,
          -0.009512018208515802,
          -0.022674257424766295,
          -0.015488915743597419,
          -0.01857323844497301,
          -0.015211344283082389,
          -0.01761439420669744,
          -0.010523557891246238,
          -0.021256515020919027,
          -0.03316499950769956,
          -0.04034325174206557,
          -0.044301215911461335,
          -0.03277791448877459,
          -0.052774146926665655,
          -0.06389019013694312,
          -0.09857925423653169,
          -0.08403684188997118,
          -0.0917956729320947,
          0.07207399300349143,
          0.03106116616877841,
          0.04644621519210039,
          0.06305849491395363,
          0.041024164554669854,
          -0.0058937243527461885,
          -0.009452940426158374,
          0.0016850052463942872,
          -0.01015243877665983,
          -0.005228899750853753,
          -0.046083594237594075,
          -0.029315318489437206,
          -0.043977109181663664,
          -0.0408990957303269,
          -0.043687364178031186,
          0.07315674485105123,
          0.03526926173989847,
          0.06048416513995324,
          0.04681039851920553,
          0.04572811776306936,
          -0.011680275060150406
         ],
         "y": [
          0.0382351864793691,
          0.08816815666365359,
          0.14691598772978434,
          0.03466012546295579,
          0.10045167110831783,
          0.05419277896810897,
          0.05830468189113861,
          0.041977366927721076,
          0.080172306329037,
          0.030143100612421304,
          0.02487319420238561,
          0.04269171050304092,
          0.03600402998643261,
          0.08369076794805765,
          0.06759365611265133,
          -0.03025375869133968,
          0.07510200157111799,
          0.07292529588772202,
          0.039671606692106044,
          0.02248836067207085,
          0.10599231151893174,
          0.0344349463295303,
          0.07811170810181974,
          0.09985005965067505,
          0.10691448613415691,
          0.0360707379038005,
          0.03985369866358357,
          0.017741495218004947,
          0.07152198000116129,
          0.03785122916988475,
          0.07977974481193047,
          0.030853837585777977,
          0.12607187790825214,
          0.10513737982819457,
          0.08903505421636718,
          0.07824388328849359,
          0.07936560402142444,
          0.1326215210527786,
          0.04866827693289413,
          0.10153152350316912,
          0.054858347508356914
         ],
         "z": [
          -0.028372486067671454,
          -0.015657538944875635,
          -0.007619480742387984,
          -0.03500638796330215,
          -0.01787447530664773,
          -0.01648634485792838,
          -0.01776595490642014,
          -0.019296685714904505,
          -0.01666373155992347,
          -0.02917217736307498,
          -0.0031345871758255393,
          -0.011537696317252821,
          0.014443541333937888,
          0.02024635852883198,
          0.000976588789707149,
          0.035256749861000816,
          0.04187086232162718,
          0.10158602255067418,
          0.08144830157307763,
          0.08569672779976617,
          0.03277042458797975,
          -0.0006282537199999608,
          0.02539324677281589,
          0.033839222460454156,
          0.018342121558974456,
          -0.035118569777679465,
          -0.030738535162118746,
          -0.037064150535010595,
          -0.02890600653272991,
          -0.039114064122055786,
          -0.009704369606555734,
          -0.006471081199145031,
          -0.014295568943677913,
          -0.0050033096603864895,
          -0.015248133239364386,
          0.05294269435014474,
          0.010516854642567415,
          0.048081782790348526,
          0.020371586894170117,
          0.023092628008005704,
          -0.023213582819669103
         ]
        },
        {
         "hovertemplate": "Session=2<br>PC1=%{x}<br>PC2=%{y}<br>PC3=%{z}<extra></extra>",
         "legendgroup": "2",
         "marker": {
          "color": "#EF553B",
          "size": 3,
          "symbol": "circle"
         },
         "mode": "markers",
         "name": "2",
         "scene": "scene",
         "showlegend": true,
         "type": "scatter3d",
         "x": [
          -0.014001590843093995,
          -0.012933373699224248,
          -0.01411586320058547,
          -0.01135450636543647,
          -0.013410564673541214,
          0.0033041629503185975,
          0.0016338932135567487,
          -0.0065095780634965555,
          0.0011876806558070736,
          0.0008243605545923023,
          -0.03898506770874659,
          -0.008062202269877401,
          -0.05683375722853476,
          -0.04580550761109292,
          -0.03637654448124519,
          -0.07550270381642694,
          -0.030753221580541217,
          -0.12122784923441687,
          -0.10544583449966996,
          -0.062260276748441507,
          0.12114106410187193,
          0.047580225369405926,
          0.0799663139427052,
          0.0684437469990744,
          0.1066917494896972,
          0.0023131126897111692,
          -0.002531816107544713,
          0.0016849004586193435,
          0.00042418642419197496,
          0.0030335543234522827,
          -0.03247011400895521,
          -0.017817090348343244,
          -0.02724040062819536,
          -0.02335198975879356,
          -0.02398003175677965,
          0.11935969232265953,
          0.050839809617485576,
          0.13357617683392634,
          0.10972994142182031,
          0.1428885718944108,
          -0.007462762186063829
         ],
         "y": [
          -0.022530490494113174,
          -0.027323411951526808,
          -0.018971575847219257,
          -0.02482404164372632,
          -0.023682970589548092,
          -0.028788289424286177,
          -0.028425714751209807,
          -0.024255811978441042,
          -0.031562195272734316,
          -0.030629101684775978,
          -0.03538781570995691,
          -0.02109556174333923,
          -0.052434971364550456,
          -0.05047511877110606,
          -0.041503582804628486,
          -0.04997618542927902,
          -0.03785419018738248,
          -0.06410172383476094,
          -0.06720884377246199,
          -0.0538967618965124,
          -0.007264210470930815,
          -0.033817851217299966,
          -0.026544080353541513,
          -0.027281703917198447,
          -0.03253225312925179,
          -0.02668367505690258,
          -0.024355765052368337,
          -0.02786552471348839,
          -0.028489924528289415,
          -0.031377563774647246,
          -0.022723323433743364,
          -0.03026599705008771,
          -0.022390656431233794,
          -0.011468484166402698,
          -0.024437307515186822,
          -0.014383288407955717,
          -0.03637943338758806,
          -0.010030353281659087,
          -0.03665677525047833,
          -0.043450970464914064,
          -0.028339942789483454
         ],
         "z": [
          -0.02749212142240126,
          -0.03350842211532881,
          -0.0323639330234303,
          -0.04306966068717939,
          -0.03317016655799898,
          -0.03120373193940226,
          -0.040904297086152466,
          -0.027703701096866318,
          -0.03882772275169345,
          -0.04034827594032196,
          0.010114227715963417,
          -0.02630878774949231,
          0.031171466598052706,
          0.015457613122598371,
          0.0016264965276833222,
          0.06933431205798414,
          -0.0011941577481761308,
          0.13053658893390552,
          0.10981603224794148,
          0.047709754996441214,
          0.04429053368497314,
          0.00847806950850815,
          0.012977595133874888,
          0.003049518007084635,
          0.029558153266803923,
          -0.043315329349760893,
          -0.04660412493063292,
          -0.044510039040267034,
          -0.04514414300991591,
          -0.044979312091417555,
          -0.008740013641562358,
          -0.01684216451971394,
          -0.02373466967534542,
          -0.02430584337243731,
          -0.017319482484636,
          0.053597614287514785,
          -0.003731293066930413,
          0.059097773654485486,
          0.036865971697450456,
          0.05197624749509761,
          -0.02877654428293
         ]
        },
        {
         "hovertemplate": "Session=3<br>PC1=%{x}<br>PC2=%{y}<br>PC3=%{z}<extra></extra>",
         "legendgroup": "3",
         "marker": {
          "color": "#00cc96",
          "size": 3,
          "symbol": "circle"
         },
         "mode": "markers",
         "name": "3",
         "scene": "scene",
         "showlegend": true,
         "type": "scatter3d",
         "x": [
          -0.0016525886659643756,
          -0.009659430855597922,
          -0.004162984359795903,
          -0.004241959554180389,
          -0.006816517438726103,
          0.00031463377660643707,
          -0.0004792966998557772,
          -0.0010007427753141755,
          -0.001654965138276647,
          -0.022713054370790978,
          -0.01073843216574305,
          -0.04049071738322427,
          -0.043940177095767204,
          -0.011917170365623148,
          -0.07769243138603953,
          -0.05225238753590336,
          -0.07494505448203467,
          -0.10736767073571316,
          -0.05992810452308778,
          0.09081920535637163,
          0.06173677494863852,
          0.06559085140299065,
          0.051020865122300155,
          0.07069414770549858,
          -9.639124894781324e-05,
          -0.0014418605907874135,
          -0.0020404020050734497,
          0.00295927372694164,
          0.0007931040852765547,
          -0.03502851855171833,
          -0.03462357756184759,
          -0.03126726913225922,
          -0.024282533605385275,
          -0.023444780103508936,
          0.16303107623239188,
          0.11847354773740193,
          0.11145171550475175,
          0.10458855586599088,
          0.10869135392131009,
          -0.00018733085091646
         ],
         "y": [
          -0.019400206245514074,
          -0.03657557805770882,
          -0.02147843190134286,
          -0.02657296101092741,
          -0.029202635496633256,
          -0.027662145763789187,
          -0.028898675752875035,
          -0.03223127950527143,
          -0.032839693958371614,
          -0.03380076428367816,
          -0.035742449814923825,
          -0.046761843245382656,
          -0.0434999672530359,
          -0.02915560692812473,
          -0.056195984270338215,
          -0.0534851899144545,
          -0.05242991580084189,
          -0.07375609783731456,
          -0.04685284484493605,
          -0.014120737027472954,
          -0.03611494748025822,
          -0.026793298124050798,
          -0.02962102836949587,
          -0.03680020816204919,
          -0.026435380554991894,
          -0.03401705049415372,
          -0.03238294939506417,
          -0.03143546099022142,
          -0.027594413108769797,
          -0.013509868814063882,
          -0.04344215006803552,
          -0.024017545865878006,
          -0.03269110555846097,
          -0.03622752051740239,
          -0.014901485435022559,
          -0.04633738379709402,
          -0.030764982919103047,
          -0.03951030687735203,
          -0.045330024326355155,
          -0.032260367090970944
         ],
         "z": [
          -0.041158136665304594,
          -0.041591188589316104,
          -0.03756022962452747,
          -0.0457498000916499,
          -0.036807796425361174,
          -0.04200653630324039,
          -0.046228700624094274,
          -0.03757888954000055,
          -0.03729119489397137,
          0.0008289987269005355,
          -0.03729594709583241,
          0.013586231868060244,
          0.01519213658709967,
          -0.029345493265012915,
          0.06908631211931222,
          0.023425838712866253,
          0.0657253124166894,
          0.10975235091928412,
          0.05121057246822972,
          0.02121830021550989,
          -0.004244385196311847,
          -0.0002396579546680988,
          -0.012352038155860771,
          -0.0011224376355658617,
          -0.03795014546704714,
          -0.04866165631164279,
          -0.03884113758880424,
          -0.0496104169336167,
          -0.04832477084505978,
          -0.0063467585975939215,
          0.002570376740579974,
          -0.015221668102732658,
          -0.022958372989620425,
          -0.01905674908470531,
          0.08222257748606307,
          0.04776923645342655,
          0.036374777377777376,
          0.027825112752525118,
          0.032143299487189095,
          -0.03572990028781807
         ]
        }
       ],
       "layout": {
        "font": {
         "size": 11
        },
        "height": 600,
        "legend": {
         "title": {
          "text": "Session"
         },
         "tracegroupgap": 0
        },
        "scene": {
         "aspectmode": "data",
         "aspectratio": {
          "x": 1.2667315594283377,
          "y": 0.9833720950491458,
          "z": 0.8027818204623364
         },
         "camera": {
          "center": {
           "x": 0,
           "y": 0,
           "z": 0
          },
          "eye": {
           "x": 0.1602290290151737,
           "y": -2.063709291489751,
           "z": 0.04197090695972118
          },
          "projection": {
           "type": "perspective"
          },
          "up": {
           "x": 0,
           "y": 0,
           "z": 1
          }
         },
         "domain": {
          "x": [
           0,
           1
          ],
          "y": [
           0,
           1
          ]
         },
         "xaxis": {
          "title": {
           "text": "PC1"
          },
          "type": "linear"
         },
         "yaxis": {
          "title": {
           "text": "PC2"
          },
          "type": "linear"
         },
         "zaxis": {
          "title": {
           "text": "PC3"
          },
          "type": "linear"
         }
        },
        "template": {
         "data": {
          "bar": [
           {
            "error_x": {
             "color": "#2a3f5f"
            },
            "error_y": {
             "color": "#2a3f5f"
            },
            "marker": {
             "line": {
              "color": "#E5ECF6",
              "width": 0.5
             },
             "pattern": {
              "fillmode": "overlay",
              "size": 10,
              "solidity": 0.2
             }
            },
            "type": "bar"
           }
          ],
          "barpolar": [
           {
            "marker": {
             "line": {
              "color": "#E5ECF6",
              "width": 0.5
             },
             "pattern": {
              "fillmode": "overlay",
              "size": 10,
              "solidity": 0.2
             }
            },
            "type": "barpolar"
           }
          ],
          "carpet": [
           {
            "aaxis": {
             "endlinecolor": "#2a3f5f",
             "gridcolor": "white",
             "linecolor": "white",
             "minorgridcolor": "white",
             "startlinecolor": "#2a3f5f"
            },
            "baxis": {
             "endlinecolor": "#2a3f5f",
             "gridcolor": "white",
             "linecolor": "white",
             "minorgridcolor": "white",
             "startlinecolor": "#2a3f5f"
            },
            "type": "carpet"
           }
          ],
          "choropleth": [
           {
            "colorbar": {
             "outlinewidth": 0,
             "ticks": ""
            },
            "type": "choropleth"
           }
          ],
          "contour": [
           {
            "colorbar": {
             "outlinewidth": 0,
             "ticks": ""
            },
            "colorscale": [
             [
              0,
              "#0d0887"
             ],
             [
              0.1111111111111111,
              "#46039f"
             ],
             [
              0.2222222222222222,
              "#7201a8"
             ],
             [
              0.3333333333333333,
              "#9c179e"
             ],
             [
              0.4444444444444444,
              "#bd3786"
             ],
             [
              0.5555555555555556,
              "#d8576b"
             ],
             [
              0.6666666666666666,
              "#ed7953"
             ],
             [
              0.7777777777777778,
              "#fb9f3a"
             ],
             [
              0.8888888888888888,
              "#fdca26"
             ],
             [
              1,
              "#f0f921"
             ]
            ],
            "type": "contour"
           }
          ],
          "contourcarpet": [
           {
            "colorbar": {
             "outlinewidth": 0,
             "ticks": ""
            },
            "type": "contourcarpet"
           }
          ],
          "heatmap": [
           {
            "colorbar": {
             "outlinewidth": 0,
             "ticks": ""
            },
            "colorscale": [
             [
              0,
              "#0d0887"
             ],
             [
              0.1111111111111111,
              "#46039f"
             ],
             [
              0.2222222222222222,
              "#7201a8"
             ],
             [
              0.3333333333333333,
              "#9c179e"
             ],
             [
              0.4444444444444444,
              "#bd3786"
             ],
             [
              0.5555555555555556,
              "#d8576b"
             ],
             [
              0.6666666666666666,
              "#ed7953"
             ],
             [
              0.7777777777777778,
              "#fb9f3a"
             ],
             [
              0.8888888888888888,
              "#fdca26"
             ],
             [
              1,
              "#f0f921"
             ]
            ],
            "type": "heatmap"
           }
          ],
          "heatmapgl": [
           {
            "colorbar": {
             "outlinewidth": 0,
             "ticks": ""
            },
            "colorscale": [
             [
              0,
              "#0d0887"
             ],
             [
              0.1111111111111111,
              "#46039f"
             ],
             [
              0.2222222222222222,
              "#7201a8"
             ],
             [
              0.3333333333333333,
              "#9c179e"
             ],
             [
              0.4444444444444444,
              "#bd3786"
             ],
             [
              0.5555555555555556,
              "#d8576b"
             ],
             [
              0.6666666666666666,
              "#ed7953"
             ],
             [
              0.7777777777777778,
              "#fb9f3a"
             ],
             [
              0.8888888888888888,
              "#fdca26"
             ],
             [
              1,
              "#f0f921"
             ]
            ],
            "type": "heatmapgl"
           }
          ],
          "histogram": [
           {
            "marker": {
             "pattern": {
              "fillmode": "overlay",
              "size": 10,
              "solidity": 0.2
             }
            },
            "type": "histogram"
           }
          ],
          "histogram2d": [
           {
            "colorbar": {
             "outlinewidth": 0,
             "ticks": ""
            },
            "colorscale": [
             [
              0,
              "#0d0887"
             ],
             [
              0.1111111111111111,
              "#46039f"
             ],
             [
              0.2222222222222222,
              "#7201a8"
             ],
             [
              0.3333333333333333,
              "#9c179e"
             ],
             [
              0.4444444444444444,
              "#bd3786"
             ],
             [
              0.5555555555555556,
              "#d8576b"
             ],
             [
              0.6666666666666666,
              "#ed7953"
             ],
             [
              0.7777777777777778,
              "#fb9f3a"
             ],
             [
              0.8888888888888888,
              "#fdca26"
             ],
             [
              1,
              "#f0f921"
             ]
            ],
            "type": "histogram2d"
           }
          ],
          "histogram2dcontour": [
           {
            "colorbar": {
             "outlinewidth": 0,
             "ticks": ""
            },
            "colorscale": [
             [
              0,
              "#0d0887"
             ],
             [
              0.1111111111111111,
              "#46039f"
             ],
             [
              0.2222222222222222,
              "#7201a8"
             ],
             [
              0.3333333333333333,
              "#9c179e"
             ],
             [
              0.4444444444444444,
              "#bd3786"
             ],
             [
              0.5555555555555556,
              "#d8576b"
             ],
             [
              0.6666666666666666,
              "#ed7953"
             ],
             [
              0.7777777777777778,
              "#fb9f3a"
             ],
             [
              0.8888888888888888,
              "#fdca26"
             ],
             [
              1,
              "#f0f921"
             ]
            ],
            "type": "histogram2dcontour"
           }
          ],
          "mesh3d": [
           {
            "colorbar": {
             "outlinewidth": 0,
             "ticks": ""
            },
            "type": "mesh3d"
           }
          ],
          "parcoords": [
           {
            "line": {
             "colorbar": {
              "outlinewidth": 0,
              "ticks": ""
             }
            },
            "type": "parcoords"
           }
          ],
          "pie": [
           {
            "automargin": true,
            "type": "pie"
           }
          ],
          "scatter": [
           {
            "fillpattern": {
             "fillmode": "overlay",
             "size": 10,
             "solidity": 0.2
            },
            "type": "scatter"
           }
          ],
          "scatter3d": [
           {
            "line": {
             "colorbar": {
              "outlinewidth": 0,
              "ticks": ""
             }
            },
            "marker": {
             "colorbar": {
              "outlinewidth": 0,
              "ticks": ""
             }
            },
            "type": "scatter3d"
           }
          ],
          "scattercarpet": [
           {
            "marker": {
             "colorbar": {
              "outlinewidth": 0,
              "ticks": ""
             }
            },
            "type": "scattercarpet"
           }
          ],
          "scattergeo": [
           {
            "marker": {
             "colorbar": {
              "outlinewidth": 0,
              "ticks": ""
             }
            },
            "type": "scattergeo"
           }
          ],
          "scattergl": [
           {
            "marker": {
             "colorbar": {
              "outlinewidth": 0,
              "ticks": ""
             }
            },
            "type": "scattergl"
           }
          ],
          "scattermapbox": [
           {
            "marker": {
             "colorbar": {
              "outlinewidth": 0,
              "ticks": ""
             }
            },
            "type": "scattermapbox"
           }
          ],
          "scatterpolar": [
           {
            "marker": {
             "colorbar": {
              "outlinewidth": 0,
              "ticks": ""
             }
            },
            "type": "scatterpolar"
           }
          ],
          "scatterpolargl": [
           {
            "marker": {
             "colorbar": {
              "outlinewidth": 0,
              "ticks": ""
             }
            },
            "type": "scatterpolargl"
           }
          ],
          "scatterternary": [
           {
            "marker": {
             "colorbar": {
              "outlinewidth": 0,
              "ticks": ""
             }
            },
            "type": "scatterternary"
           }
          ],
          "surface": [
           {
            "colorbar": {
             "outlinewidth": 0,
             "ticks": ""
            },
            "colorscale": [
             [
              0,
              "#0d0887"
             ],
             [
              0.1111111111111111,
              "#46039f"
             ],
             [
              0.2222222222222222,
              "#7201a8"
             ],
             [
              0.3333333333333333,
              "#9c179e"
             ],
             [
              0.4444444444444444,
              "#bd3786"
             ],
             [
              0.5555555555555556,
              "#d8576b"
             ],
             [
              0.6666666666666666,
              "#ed7953"
             ],
             [
              0.7777777777777778,
              "#fb9f3a"
             ],
             [
              0.8888888888888888,
              "#fdca26"
             ],
             [
              1,
              "#f0f921"
             ]
            ],
            "type": "surface"
           }
          ],
          "table": [
           {
            "cells": {
             "fill": {
              "color": "#EBF0F8"
             },
             "line": {
              "color": "white"
             }
            },
            "header": {
             "fill": {
              "color": "#C8D4E3"
             },
             "line": {
              "color": "white"
             }
            },
            "type": "table"
           }
          ]
         },
         "layout": {
          "annotationdefaults": {
           "arrowcolor": "#2a3f5f",
           "arrowhead": 0,
           "arrowwidth": 1
          },
          "autotypenumbers": "strict",
          "coloraxis": {
           "colorbar": {
            "outlinewidth": 0,
            "ticks": ""
           }
          },
          "colorscale": {
           "diverging": [
            [
             0,
             "#8e0152"
            ],
            [
             0.1,
             "#c51b7d"
            ],
            [
             0.2,
             "#de77ae"
            ],
            [
             0.3,
             "#f1b6da"
            ],
            [
             0.4,
             "#fde0ef"
            ],
            [
             0.5,
             "#f7f7f7"
            ],
            [
             0.6,
             "#e6f5d0"
            ],
            [
             0.7,
             "#b8e186"
            ],
            [
             0.8,
             "#7fbc41"
            ],
            [
             0.9,
             "#4d9221"
            ],
            [
             1,
             "#276419"
            ]
           ],
           "sequential": [
            [
             0,
             "#0d0887"
            ],
            [
             0.1111111111111111,
             "#46039f"
            ],
            [
             0.2222222222222222,
             "#7201a8"
            ],
            [
             0.3333333333333333,
             "#9c179e"
            ],
            [
             0.4444444444444444,
             "#bd3786"
            ],
            [
             0.5555555555555556,
             "#d8576b"
            ],
            [
             0.6666666666666666,
             "#ed7953"
            ],
            [
             0.7777777777777778,
             "#fb9f3a"
            ],
            [
             0.8888888888888888,
             "#fdca26"
            ],
            [
             1,
             "#f0f921"
            ]
           ],
           "sequentialminus": [
            [
             0,
             "#0d0887"
            ],
            [
             0.1111111111111111,
             "#46039f"
            ],
            [
             0.2222222222222222,
             "#7201a8"
            ],
            [
             0.3333333333333333,
             "#9c179e"
            ],
            [
             0.4444444444444444,
             "#bd3786"
            ],
            [
             0.5555555555555556,
             "#d8576b"
            ],
            [
             0.6666666666666666,
             "#ed7953"
            ],
            [
             0.7777777777777778,
             "#fb9f3a"
            ],
            [
             0.8888888888888888,
             "#fdca26"
            ],
            [
             1,
             "#f0f921"
            ]
           ]
          },
          "colorway": [
           "#636efa",
           "#EF553B",
           "#00cc96",
           "#ab63fa",
           "#FFA15A",
           "#19d3f3",
           "#FF6692",
           "#B6E880",
           "#FF97FF",
           "#FECB52"
          ],
          "font": {
           "color": "#2a3f5f"
          },
          "geo": {
           "bgcolor": "white",
           "lakecolor": "white",
           "landcolor": "#E5ECF6",
           "showlakes": true,
           "showland": true,
           "subunitcolor": "white"
          },
          "hoverlabel": {
           "align": "left"
          },
          "hovermode": "closest",
          "mapbox": {
           "style": "light"
          },
          "paper_bgcolor": "white",
          "plot_bgcolor": "#E5ECF6",
          "polar": {
           "angularaxis": {
            "gridcolor": "white",
            "linecolor": "white",
            "ticks": ""
           },
           "bgcolor": "#E5ECF6",
           "radialaxis": {
            "gridcolor": "white",
            "linecolor": "white",
            "ticks": ""
           }
          },
          "scene": {
           "xaxis": {
            "backgroundcolor": "#E5ECF6",
            "gridcolor": "white",
            "gridwidth": 2,
            "linecolor": "white",
            "showbackground": true,
            "ticks": "",
            "zerolinecolor": "white"
           },
           "yaxis": {
            "backgroundcolor": "#E5ECF6",
            "gridcolor": "white",
            "gridwidth": 2,
            "linecolor": "white",
            "showbackground": true,
            "ticks": "",
            "zerolinecolor": "white"
           },
           "zaxis": {
            "backgroundcolor": "#E5ECF6",
            "gridcolor": "white",
            "gridwidth": 2,
            "linecolor": "white",
            "showbackground": true,
            "ticks": "",
            "zerolinecolor": "white"
           }
          },
          "shapedefaults": {
           "line": {
            "color": "#2a3f5f"
           }
          },
          "ternary": {
           "aaxis": {
            "gridcolor": "white",
            "linecolor": "white",
            "ticks": ""
           },
           "baxis": {
            "gridcolor": "white",
            "linecolor": "white",
            "ticks": ""
           },
           "bgcolor": "#E5ECF6",
           "caxis": {
            "gridcolor": "white",
            "linecolor": "white",
            "ticks": ""
           }
          },
          "title": {
           "x": 0.05
          },
          "xaxis": {
           "automargin": true,
           "gridcolor": "white",
           "linecolor": "white",
           "ticks": "",
           "title": {
            "standoff": 15
           },
           "zerolinecolor": "white",
           "zerolinewidth": 2
          },
          "yaxis": {
           "automargin": true,
           "gridcolor": "white",
           "linecolor": "white",
           "ticks": "",
           "title": {
            "standoff": 15
           },
           "zerolinecolor": "white",
           "zerolinewidth": 2
          }
         }
        },
        "title": {
         "text": "First 3 PCs on Mean Response of Each Cell to Each DG Stimulus Over Time"
        },
        "width": 800
       }
      },
      "image/png": "[encoded data removed]",
      "text/html": [
       "<div>                            <div id=\"12c1079b-533d-41f3-b13b-c4797cff7571\" class=\"plotly-graph-div\" style=\"height:600px; width:800px;\"></div>            <script type=\"text/javascript\">                require([\"plotly\"], function(Plotly) {                    window.PLOTLYENV=window.PLOTLYENV || {};                                    if (document.getElementById(\"12c1079b-533d-41f3-b13b-c4797cff7571\")) {                    Plotly.newPlot(                        \"12c1079b-533d-41f3-b13b-c4797cff7571\",                        [{\"hovertemplate\":\"Session=1\\u003cbr\\u003ePC1=%{x}\\u003cbr\\u003ePC2=%{y}\\u003cbr\\u003ePC3=%{z}\\u003cextra\\u003e\\u003c\\u002fextra\\u003e\",\"legendgroup\":\"1\",\"marker\":{\"color\":\"#636efa\",\"symbol\":\"circle\",\"size\":3},\"mode\":\"markers\",\"name\":\"1\",\"scene\":\"scene\",\"showlegend\":true,\"x\":[-0.012853427132513123,-0.026966621826937952,-0.030378441602135906,-0.009512018208515802,-0.022674257424766295,-0.015488915743597419,-0.01857323844497301,-0.015211344283082389,-0.01761439420669744,-0.010523557891246238,-0.021256515020919027,-0.03316499950769956,-0.04034325174206557,-0.044301215911461335,-0.03277791448877459,-0.052774146926665655,-0.06389019013694312,-0.09857925423653169,-0.08403684188997118,-0.0917956729320947,0.07207399300349143,0.03106116616877841,0.04644621519210039,0.06305849491395363,0.041024164554669854,-0.0058937243527461885,-0.009452940426158374,0.0016850052463942872,-0.01015243877665983,-0.005228899750853753,-0.046083594237594075,-0.029315318489437206,-0.043977109181663664,-0.0408990957303269,-0.043687364178031186,0.07315674485105123,0.03526926173989847,0.06048416513995324,0.04681039851920553,0.04572811776306936,-0.011680275060150406],\"y\":[0.0382351864793691,0.08816815666365359,0.14691598772978434,0.03466012546295579,0.10045167110831783,0.05419277896810897,0.05830468189113861,0.041977366927721076,0.080172306329037,0.030143100612421304,0.02487319420238561,0.04269171050304092,0.03600402998643261,0.08369076794805765,0.06759365611265133,-0.03025375869133968,0.07510200157111799,0.07292529588772202,0.039671606692106044,0.02248836067207085,0.10599231151893174,0.0344349463295303,0.07811170810181974,0.09985005965067505,0.10691448613415691,0.0360707379038005,0.03985369866358357,0.017741495218004947,0.07152198000116129,0.03785122916988475,0.07977974481193047,0.030853837585777977,0.12607187790825214,0.10513737982819457,0.08903505421636718,0.07824388328849359,0.07936560402142444,0.1326215210527786,0.04866827693289413,0.10153152350316912,0.054858347508356914],\"z\":[-0.028372486067671454,-0.015657538944875635,-0.007619480742387984,-0.03500638796330215,-0.01787447530664773,-0.01648634485792838,-0.01776595490642014,-0.019296685714904505,-0.01666373155992347,-0.02917217736307498,-0.0031345871758255393,-0.011537696317252821,0.014443541333937888,0.02024635852883198,0.000976588789707149,0.035256749861000816,0.04187086232162718,0.10158602255067418,0.08144830157307763,0.08569672779976617,0.03277042458797975,-0.0006282537199999608,0.02539324677281589,0.033839222460454156,0.018342121558974456,-0.035118569777679465,-0.030738535162118746,-0.037064150535010595,-0.02890600653272991,-0.039114064122055786,-0.009704369606555734,-0.006471081199145031,-0.014295568943677913,-0.0050033096603864895,-0.015248133239364386,0.05294269435014474,0.010516854642567415,0.048081782790348526,0.020371586894170117,0.023092628008005704,-0.023213582819669103],\"type\":\"scatter3d\"},{\"hovertemplate\":\"Session=2\\u003cbr\\u003ePC1=%{x}\\u003cbr\\u003ePC2=%{y}\\u003cbr\\u003ePC3=%{z}\\u003cextra\\u003e\\u003c\\u002fextra\\u003e\",\"legendgroup\":\"2\",\"marker\":{\"color\":\"#EF553B\",\"symbol\":\"circle\",\"size\":3},\"mode\":\"markers\",\"name\":\"2\",\"scene\":\"scene\",\"showlegend\":true,\"x\":[-0.014001590843093995,-0.012933373699224248,-0.01411586320058547,-0.01135450636543647,-0.013410564673541214,0.0033041629503185975,0.0016338932135567487,-0.0065095780634965555,0.0011876806558070736,0.0008243605545923023,-0.03898506770874659,-0.008062202269877401,-0.05683375722853476,-0.04580550761109292,-0.03637654448124519,-0.07550270381642694,-0.030753221580541217,-0.12122784923441687,-0.10544583449966996,-0.062260276748441507,0.12114106410187193,0.047580225369405926,0.0799663139427052,0.0684437469990744,0.1066917494896972,0.0023131126897111692,-0.002531816107544713,0.0016849004586193435,0.00042418642419197496,0.0030335543234522827,-0.03247011400895521,-0.017817090348343244,-0.02724040062819536,-0.02335198975879356,-0.02398003175677965,0.11935969232265953,0.050839809617485576,0.13357617683392634,0.10972994142182031,0.1428885718944108,-0.007462762186063829],\"y\":[-0.022530490494113174,-0.027323411951526808,-0.018971575847219257,-0.02482404164372632,-0.023682970589548092,-0.028788289424286177,-0.028425714751209807,-0.024255811978441042,-0.031562195272734316,-0.030629101684775978,-0.03538781570995691,-0.02109556174333923,-0.052434971364550456,-0.05047511877110606,-0.041503582804628486,-0.04997618542927902,-0.03785419018738248,-0.06410172383476094,-0.06720884377246199,-0.0538967618965124,-0.007264210470930815,-0.033817851217299966,-0.026544080353541513,-0.027281703917198447,-0.03253225312925179,-0.02668367505690258,-0.024355765052368337,-0.02786552471348839,-0.028489924528289415,-0.031377563774647246,-0.022723323433743364,-0.03026599705008771,-0.022390656431233794,-0.011468484166402698,-0.024437307515186822,-0.014383288407955717,-0.03637943338758806,-0.010030353281659087,-0.03665677525047833,-0.043450970464914064,-0.028339942789483454],\"z\":[-0.02749212142240126,-0.03350842211532881,-0.0323639330234303,-0.04306966068717939,-0.03317016655799898,-0.03120373193940226,-0.040904297086152466,-0.027703701096866318,-0.03882772275169345,-0.04034827594032196,0.010114227715963417,-0.02630878774949231,0.031171466598052706,0.015457613122598371,0.0016264965276833222,0.06933431205798414,-0.0011941577481761308,0.13053658893390552,0.10981603224794148,0.047709754996441214,0.04429053368497314,0.00847806950850815,0.012977595133874888,0.003049518007084635,0.029558153266803923,-0.043315329349760893,-0.04660412493063292,-0.044510039040267034,-0.04514414300991591,-0.044979312091417555,-0.008740013641562358,-0.01684216451971394,-0.02373466967534542,-0.02430584337243731,-0.017319482484636,0.053597614287514785,-0.003731293066930413,0.059097773654485486,0.036865971697450456,0.05197624749509761,-0.02877654428293],\"type\":\"scatter3d\"},{\"hovertemplate\":\"Session=3\\u003cbr\\u003ePC1=%{x}\\u003cbr\\u003ePC2=%{y}\\u003cbr\\u003ePC3=%{z}\\u003cextra\\u003e\\u003c\\u002fextra\\u003e\",\"legendgroup\":\"3\",\"marker\":{\"color\":\"#00cc96\",\"symbol\":\"circle\",\"size\":3},\"mode\":\"markers\",\"name\":\"3\",\"scene\":\"scene\",\"showlegend\":true,\"x\":[-0.0016525886659643756,-0.009659430855597922,-0.004162984359795903,-0.004241959554180389,-0.006816517438726103,0.00031463377660643707,-0.0004792966998557772,-0.0010007427753141755,-0.001654965138276647,-0.022713054370790978,-0.01073843216574305,-0.04049071738322427,-0.043940177095767204,-0.011917170365623148,-0.07769243138603953,-0.05225238753590336,-0.07494505448203467,-0.10736767073571316,-0.05992810452308778,0.09081920535637163,0.06173677494863852,0.06559085140299065,0.051020865122300155,0.07069414770549858,-9.639124894781324e-05,-0.0014418605907874135,-0.0020404020050734497,0.00295927372694164,0.0007931040852765547,-0.03502851855171833,-0.03462357756184759,-0.03126726913225922,-0.024282533605385275,-0.023444780103508936,0.16303107623239188,0.11847354773740193,0.11145171550475175,0.10458855586599088,0.10869135392131009,-0.00018733085091646],\"y\":[-0.019400206245514074,-0.03657557805770882,-0.02147843190134286,-0.02657296101092741,-0.029202635496633256,-0.027662145763789187,-0.028898675752875035,-0.03223127950527143,-0.032839693958371614,-0.03380076428367816,-0.035742449814923825,-0.046761843245382656,-0.0434999672530359,-0.02915560692812473,-0.056195984270338215,-0.0534851899144545,-0.05242991580084189,-0.07375609783731456,-0.04685284484493605,-0.014120737027472954,-0.03611494748025822,-0.026793298124050798,-0.02962102836949587,-0.03680020816204919,-0.026435380554991894,-0.03401705049415372,-0.03238294939506417,-0.03143546099022142,-0.027594413108769797,-0.013509868814063882,-0.04344215006803552,-0.024017545865878006,-0.03269110555846097,-0.03622752051740239,-0.014901485435022559,-0.04633738379709402,-0.030764982919103047,-0.03951030687735203,-0.045330024326355155,-0.032260367090970944],\"z\":[-0.041158136665304594,-0.041591188589316104,-0.03756022962452747,-0.0457498000916499,-0.036807796425361174,-0.04200653630324039,-0.046228700624094274,-0.03757888954000055,-0.03729119489397137,0.0008289987269005355,-0.03729594709583241,0.013586231868060244,0.01519213658709967,-0.029345493265012915,0.06908631211931222,0.023425838712866253,0.0657253124166894,0.10975235091928412,0.05121057246822972,0.02121830021550989,-0.004244385196311847,-0.0002396579546680988,-0.012352038155860771,-0.0011224376355658617,-0.03795014546704714,-0.04866165631164279,-0.03884113758880424,-0.0496104169336167,-0.04832477084505978,-0.0063467585975939215,0.002570376740579974,-0.015221668102732658,-0.022958372989620425,-0.01905674908470531,0.08222257748606307,0.04776923645342655,0.036374777377777376,0.027825112752525118,0.032143299487189095,-0.03572990028781807],\"type\":\"scatter3d\"}],                        {\"template\":{\"data\":{\"histogram2dcontour\":[{\"type\":\"histogram2dcontour\",\"colorbar\":{\"outlinewidth\":0,\"ticks\":\"\"},\"colorscale\":[[0.0,\"#0d0887\"],[0.1111111111111111,\"#46039f\"],[0.2222222222222222,\"#7201a8\"],[0.3333333333333333,\"#9c179e\"],[0.4444444444444444,\"#bd3786\"],[0.5555555555555556,\"#d8576b\"],[0.6666666666666666,\"#ed7953\"],[0.7777777777777778,\"#fb9f3a\"],[0.8888888888888888,\"#fdca26\"],[1.0,\"#f0f921\"]]}],\"choropleth\":[{\"type\":\"choropleth\",\"colorbar\":{\"outlinewidth\":0,\"ticks\":\"\"}}],\"histogram2d\":[{\"type\":\"histogram2d\",\"colorbar\":{\"outlinewidth\":0,\"ticks\":\"\"},\"colorscale\":[[0.0,\"#0d0887\"],[0.1111111111111111,\"#46039f\"],[0.2222222222222222,\"#7201a8\"],[0.3333333333333333,\"#9c179e\"],[0.4444444444444444,\"#bd3786\"],[0.5555555555555556,\"#d8576b\"],[0.6666666666666666,\"#ed7953\"],[0.7777777777777778,\"#fb9f3a\"],[0.8888888888888888,\"#fdca26\"],[1.0,\"#f0f921\"]]}],\"heatmap\":[{\"type\":\"heatmap\",\"colorbar\":{\"outlinewidth\":0,\"ticks\":\"\"},\"colorscale\":[[0.0,\"#0d0887\"],[0.1111111111111111,\"#46039f\"],[0.2222222222222222,\"#7201a8\"],[0.3333333333333333,\"#9c179e\"],[0.4444444444444444,\"#bd3786\"],[0.5555555555555556,\"#d8576b\"],[0.6666666666666666,\"#ed7953\"],[0.7777777777777778,\"#fb9f3a\"],[0.8888888888888888,\"#fdca26\"],[1.0,\"#f0f921\"]]}],\"heatmapgl\":[{\"type\":\"heatmapgl\",\"colorbar\":{\"outlinewidth\":0,\"ticks\":\"\"},\"colorscale\":[[0.0,\"#0d0887\"],[0.1111111111111111,\"#46039f\"],[0.2222222222222222,\"#7201a8\"],[0.3333333333333333,\"#9c179e\"],[0.4444444444444444,\"#bd3786\"],[0.5555555555555556,\"#d8576b\"],[0.6666666666666666,\"#ed7953\"],[0.7777777777777778,\"#fb9f3a\"],[0.8888888888888888,\"#fdca26\"],[1.0,\"#f0f921\"]]}],\"contourcarpet\":[{\"type\":\"contourcarpet\",\"colorbar\":{\"outlinewidth\":0,\"ticks\":\"\"}}],\"contour\":[{\"type\":\"contour\",\"colorbar\":{\"outlinewidth\":0,\"ticks\":\"\"},\"colorscale\":[[0.0,\"#0d0887\"],[0.1111111111111111,\"#46039f\"],[0.2222222222222222,\"#7201a8\"],[0.3333333333333333,\"#9c179e\"],[0.4444444444444444,\"#bd3786\"],[0.5555555555555556,\"#d8576b\"],[0.6666666666666666,\"#ed7953\"],[0.7777777777777778,\"#fb9f3a\"],[0.8888888888888888,\"#fdca26\"],[1.0,\"#f0f921\"]]}],\"surface\":[{\"type\":\"surface\",\"colorbar\":{\"outlinewidth\":0,\"ticks\":\"\"},\"colorscale\":[[0.0,\"#0d0887\"],[0.1111111111111111,\"#46039f\"],[0.2222222222222222,\"#7201a8\"],[0.3333333333333333,\"#9c179e\"],[0.4444444444444444,\"#bd3786\"],[0.5555555555555556,\"#d8576b\"],[0.6666666666666666,\"#ed7953\"],[0.7777777777777778,\"#fb9f3a\"],[0.8888888888888888,\"#fdca26\"],[1.0,\"#f0f921\"]]}],\"mesh3d\":[{\"type\":\"mesh3d\",\"colorbar\":{\"outlinewidth\":0,\"ticks\":\"\"}}],\"scatter\":[{\"fillpattern\":{\"fillmode\":\"overlay\",\"size\":10,\"solidity\":0.2},\"type\":\"scatter\"}],\"parcoords\":[{\"type\":\"parcoords\",\"line\":{\"colorbar\":{\"outlinewidth\":0,\"ticks\":\"\"}}}],\"scatterpolargl\":[{\"type\":\"scatterpolargl\",\"marker\":{\"colorbar\":{\"outlinewidth\":0,\"ticks\":\"\"}}}],\"bar\":[{\"error_x\":{\"color\":\"#2a3f5f\"},\"error_y\":{\"color\":\"#2a3f5f\"},\"marker\":{\"line\":{\"color\":\"#E5ECF6\",\"width\":0.5},\"pattern\":{\"fillmode\":\"overlay\",\"size\":10,\"solidity\":0.2}},\"type\":\"bar\"}],\"scattergeo\":[{\"type\":\"scattergeo\",\"marker\":{\"colorbar\":{\"outlinewidth\":0,\"ticks\":\"\"}}}],\"scatterpolar\":[{\"type\":\"scatterpolar\",\"marker\":{\"colorbar\":{\"outlinewidth\":0,\"ticks\":\"\"}}}],\"histogram\":[{\"marker\":{\"pattern\":{\"fillmode\":\"overlay\",\"size\":10,\"solidity\":0.2}},\"type\":\"histogram\"}],\"scattergl\":[{\"type\":\"scattergl\",\"marker\":{\"colorbar\":{\"outlinewidth\":0,\"ticks\":\"\"}}}],\"scatter3d\":[{\"type\":\"scatter3d\",\"line\":{\"colorbar\":{\"outlinewidth\":0,\"ticks\":\"\"}},\"marker\":{\"colorbar\":{\"outlinewidth\":0,\"ticks\":\"\"}}}],\"scattermapbox\":[{\"type\":\"scattermapbox\",\"marker\":{\"colorbar\":{\"outlinewidth\":0,\"ticks\":\"\"}}}],\"scatterternary\":[{\"type\":\"scatterternary\",\"marker\":{\"colorbar\":{\"outlinewidth\":0,\"ticks\":\"\"}}}],\"scattercarpet\":[{\"type\":\"scattercarpet\",\"marker\":{\"colorbar\":{\"outlinewidth\":0,\"ticks\":\"\"}}}],\"carpet\":[{\"aaxis\":{\"endlinecolor\":\"#2a3f5f\",\"gridcolor\":\"white\",\"linecolor\":\"white\",\"minorgridcolor\":\"white\",\"startlinecolor\":\"#2a3f5f\"},\"baxis\":{\"endlinecolor\":\"#2a3f5f\",\"gridcolor\":\"white\",\"linecolor\":\"white\",\"minorgridcolor\":\"white\",\"startlinecolor\":\"#2a3f5f\"},\"type\":\"carpet\"}],\"table\":[{\"cells\":{\"fill\":{\"color\":\"#EBF0F8\"},\"line\":{\"color\":\"white\"}},\"header\":{\"fill\":{\"color\":\"#C8D4E3\"},\"line\":{\"color\":\"white\"}},\"type\":\"table\"}],\"barpolar\":[{\"marker\":{\"line\":{\"color\":\"#E5ECF6\",\"width\":0.5},\"pattern\":{\"fillmode\":\"overlay\",\"size\":10,\"solidity\":0.2}},\"type\":\"barpolar\"}],\"pie\":[{\"automargin\":true,\"type\":\"pie\"}]},\"layout\":{\"autotypenumbers\":\"strict\",\"colorway\":[\"#636efa\",\"#EF553B\",\"#00cc96\",\"#ab63fa\",\"#FFA15A\",\"#19d3f3\",\"#FF6692\",\"#B6E880\",\"#FF97FF\",\"#FECB52\"],\"font\":{\"color\":\"#2a3f5f\"},\"hovermode\":\"closest\",\"hoverlabel\":{\"align\":\"left\"},\"paper_bgcolor\":\"white\",\"plot_bgcolor\":\"#E5ECF6\",\"polar\":{\"bgcolor\":\"#E5ECF6\",\"angularaxis\":{\"gridcolor\":\"white\",\"linecolor\":\"white\",\"ticks\":\"\"},\"radialaxis\":{\"gridcolor\":\"white\",\"linecolor\":\"white\",\"ticks\":\"\"}},\"ternary\":{\"bgcolor\":\"#E5ECF6\",\"aaxis\":{\"gridcolor\":\"white\",\"linecolor\":\"white\",\"ticks\":\"\"},\"baxis\":{\"gridcolor\":\"white\",\"linecolor\":\"white\",\"ticks\":\"\"},\"caxis\":{\"gridcolor\":\"white\",\"linecolor\":\"white\",\"ticks\":\"\"}},\"coloraxis\":{\"colorbar\":{\"outlinewidth\":0,\"ticks\":\"\"}},\"colorscale\":{\"sequential\":[[0.0,\"#0d0887\"],[0.1111111111111111,\"#46039f\"],[0.2222222222222222,\"#7201a8\"],[0.3333333333333333,\"#9c179e\"],[0.4444444444444444,\"#bd3786\"],[0.5555555555555556,\"#d8576b\"],[0.6666666666666666,\"#ed7953\"],[0.7777777777777778,\"#fb9f3a\"],[0.8888888888888888,\"#fdca26\"],[1.0,\"#f0f921\"]],\"sequentialminus\":[[0.0,\"#0d0887\"],[0.1111111111111111,\"#46039f\"],[0.2222222222222222,\"#7201a8\"],[0.3333333333333333,\"#9c179e\"],[0.4444444444444444,\"#bd3786\"],[0.5555555555555556,\"#d8576b\"],[0.6666666666666666,\"#ed7953\"],[0.7777777777777778,\"#fb9f3a\"],[0.8888888888888888,\"#fdca26\"],[1.0,\"#f0f921\"]],\"diverging\":[[0,\"#8e0152\"],[0.1,\"#c51b7d\"],[0.2,\"#de77ae\"],[0.3,\"#f1b6da\"],[0.4,\"#fde0ef\"],[0.5,\"#f7f7f7\"],[0.6,\"#e6f5d0\"],[0.7,\"#b8e186\"],[0.8,\"#7fbc41\"],[0.9,\"#4d9221\"],[1,\"#276419\"]]},\"xaxis\":{\"gridcolor\":\"white\",\"linecolor\":\"white\",\"ticks\":\"\",\"title\":{\"standoff\":15},\"zerolinecolor\":\"white\",\"automargin\":true,\"zerolinewidth\":2},\"yaxis\":{\"gridcolor\":\"white\",\"linecolor\":\"white\",\"ticks\":\"\",\"title\":{\"standoff\":15},\"zerolinecolor\":\"white\",\"automargin\":true,\"zerolinewidth\":2},\"scene\":{\"xaxis\":{\"backgroundcolor\":\"#E5ECF6\",\"gridcolor\":\"white\",\"linecolor\":\"white\",\"showbackground\":true,\"ticks\":\"\",\"zerolinecolor\":\"white\",\"gridwidth\":2},\"yaxis\":{\"backgroundcolor\":\"#E5ECF6\",\"gridcolor\":\"white\",\"linecolor\":\"white\",\"showbackground\":true,\"ticks\":\"\",\"zerolinecolor\":\"white\",\"gridwidth\":2},\"zaxis\":{\"backgroundcolor\":\"#E5ECF6\",\"gridcolor\":\"white\",\"linecolor\":\"white\",\"showbackground\":true,\"ticks\":\"\",\"zerolinecolor\":\"white\",\"gridwidth\":2}},\"shapedefaults\":{\"line\":{\"color\":\"#2a3f5f\"}},\"annotationdefaults\":{\"arrowcolor\":\"#2a3f5f\",\"arrowhead\":0,\"arrowwidth\":1},\"geo\":{\"bgcolor\":\"white\",\"landcolor\":\"#E5ECF6\",\"subunitcolor\":\"white\",\"showland\":true,\"showlakes\":true,\"lakecolor\":\"white\"},\"title\":{\"x\":0.05},\"mapbox\":{\"style\":\"light\"}}},\"scene\":{\"domain\":{\"x\":[0.0,1.0],\"y\":[0.0,1.0]},\"xaxis\":{\"title\":{\"text\":\"PC1\"}},\"yaxis\":{\"title\":{\"text\":\"PC2\"}},\"zaxis\":{\"title\":{\"text\":\"PC3\"}},\"camera\":{\"eye\":{\"x\":0.2,\"y\":-2.0,\"z\":1}},\"aspectmode\":\"data\"},\"legend\":{\"title\":{\"text\":\"Session\"},\"tracegroupgap\":0},\"title\":{\"text\":\"First 3 PCs on Mean Response of Each Cell to Each DG Stimulus Over Time\"},\"font\":{\"size\":11},\"width\":800,\"height\":600},                        {\"responsive\": true}                    ).then(function(){\n",
       "                            \n",
       "var gd = document.getElementById('12c1079b-533d-41f3-b13b-c4797cff7571');\n",
       "var x = new MutationObserver(function (mutations, observer) {{\n",
       "        var display = window.getComputedStyle(gd).display;\n",
       "        if (!display || display === 'none') {{\n",
       "            console.log([gd, 'removed!']);\n",
       "            Plotly.purge(gd);\n",
       "            observer.disconnect();\n",
       "        }}\n",
       "}});\n",
       "\n",
       "// Listen for the removal of the full notebook cells\n",
       "var notebookContainer = gd.closest('#notebook-container');\n",
       "if (notebookContainer) {{\n",
       "    x.observe(notebookContainer, {childList: true});\n",
       "}}\n",
       "\n",
       "// Listen for the clearing of the current output cell\n",
       "var outputEl = gd.closest('.output');\n",
       "if (outputEl) {{\n",
       "    x.observe(outputEl, {childList: true});\n",
       "}}\n",
       "\n",
       "                        })                };                });            </script>        </div>"
      ]
     },
     "metadata": {},
     "output_type": "display_data"
    }
   ],
   "source": [
    "# PCA Model: 3D Visualization\n",
    "fig = px.scatter_3d(transformed_data_pca, x=0, y=1, z=2, color=\"Session\", labels = {\"0\": \"PC1\",\"1\": \"PC2\", \"2\": \"PC3\"}, title = \"First 3 PCs on Mean Response of Each Cell to Each DG Stimulus Over Time\")\n",
    "fig.update_traces(marker_size=3) # reduce size of scatter points from default size\n",
    "fig.update_layout(width=800, height=600, font_size=11, scene_aspectmode=\"data\", scene_camera_eye= dict(x=0.2, y=-2.0, z=1)) # adjust plot appearance\n",
    "fig.show()"
   ]
  },
  {
   "cell_type": "code",
   "execution_count": null,
   "id": "5f1db0d9",
   "metadata": {},
   "outputs": [],
   "source": []
  }
 ],
 "metadata": {
  "kernelspec": {
   "display_name": "Python 3",
   "language": "python",
   "name": "python3"
  },
  "language_info": {
   "codemirror_mode": {
    "name": "ipython",
    "version": 3
   },
   "file_extension": ".py",
   "mimetype": "text/x-python",
   "name": "python",
   "nbconvert_exporter": "python",
   "pygments_lexer": "ipython3",
   "version": "3.8.5"
  }
 },
 "nbformat": 4,
 "nbformat_minor": 5
}
