{
 "cells": [
  {
   "cell_type": "code",
   "execution_count": 1,
   "id": "e232b1c1",
   "metadata": {},
   "outputs": [],
   "source": [
    "# We need to import these modules to get started\n",
    "import numpy as np\n",
    "import pandas as pd\n",
    "import os\n",
    "import platform\n",
    "from sklearn.decomposition import PCA\n",
    "from sklearn.manifold import TSNE\n",
    "from sklearn.preprocessing import StandardScaler\n",
    "import warnings\n",
    "from event_utils import get_events\n",
    "from create_stim_table import create_stim_df\n",
    "import matplotlib.pyplot as plt\n",
    "import plotly.express as px\n",
    "%matplotlib inline\n",
    "\n",
    "# This patch of code just ensures we get an easy to read font size for the duration of the notebook\n",
    "import matplotlib\n",
    "font = {'weight' : 'bold',\n",
    "        'size'   : 15}\n",
    "matplotlib.rc('font', **font)"
   ]
  },
  {
   "cell_type": "code",
   "execution_count": 2,
   "id": "a56f908a",
   "metadata": {},
   "outputs": [],
   "source": [
    "def find_divide_indices(stim_table):\n",
    "    '''\n",
    "    Finds the indices where each new stimulus presentation after the first presentation\n",
    "    starts.\n",
    "    \n",
    "    Returns:\n",
    "        List of indices representing the start of the next stimulus\n",
    "    '''\n",
    "    # Find the indices where each new stimulus presentation after the first presentation starts\n",
    "    divide_indices = []\n",
    "\n",
    "    for i in range(min(stim_table.index), max(stim_table.index)):\n",
    "        try:\n",
    "            if stim_table.start[i+1]-stim_table.end[i] > 100:\n",
    "                divide_indices.append(i) # saves index where new stim presentation begins\n",
    "        except:\n",
    "            pass\n",
    "    return divide_indices"
   ]
  },
  {
   "cell_type": "code",
   "execution_count": 3,
   "id": "b515128e",
   "metadata": {},
   "outputs": [],
   "source": [
    "def divide_stim_table(stim_table, divide_indices=[]):\n",
    "    '''\n",
    "    Divides input stimulus table based on indices corresponding to separate stimulus\n",
    "    presentations.\n",
    "    If there were 3 presentations, three dataframes for each presentation are returned. \n",
    "    If there were 2 presentations, three dataframes for each presentation are still \n",
    "    returned with the third being null.\n",
    "    \n",
    "    Returns:\n",
    "        3 divided stimulus tables corresponding to first, second, and third or null stimulus\n",
    "        presentation start. \n",
    "    '''\n",
    "    if len(divide_indices)==2: # 3 presentations \n",
    "        return stim_table.loc[:divide_indices[0]], stim_table.loc[divide_indices[0]+1:divide_indices[1]], stim_table.loc[divide_indices[1]+1:]\n",
    "    elif len(divide_indices) == 1: # 2 presentations\n",
    "        return stim_table.loc[:divide_indices[0]], stim_table.loc[divide_indices[0]+1:], pd.DataFrame()\n",
    "    else:\n",
    "        raise Exception(\"Stimulis has only one presentation. Nothing to divide.\")"
   ]
  },
  {
   "cell_type": "code",
   "execution_count": 4,
   "id": "77894b52",
   "metadata": {},
   "outputs": [],
   "source": [
    "def generate_response_matrices_dg_sg_ns(stim_table, all_events):\n",
    "    '''\n",
    "    This function generates response matrices given an input stimulus table. \n",
    "    Stimulus table can be divided based on stimulus presentations, or undivided.\n",
    "    \n",
    "    Returns:\n",
    "        orientation_matrix: 1D array with orientation value for each frame\n",
    "        frequency_matrix: 1D array with frequency value for each frame\n",
    "        response: matrix of shape (# cells, # stimuli, 60) with response of each\n",
    "            cell to each stimulus over its presentation period of 60 frames \n",
    "    '''\n",
    "    stim_table = stim_table.reset_index(drop=True)\n",
    "    if stim_table.stim_category[0] == \"drifting_gratings\": # need to split stim ID\n",
    "        # generate response matrix\n",
    "        response = np.empty((len(all_events.index), len(stim_table), 60)) # 3d array for responses at each frame to each stimulus for each neuron\n",
    "        for i in range(len(stim_table)):\n",
    "            for cell_index in range(len(all_events.index)):\n",
    "                response[cell_index,i,:] = all_events.iloc[cell_index, stim_table.start[i]:stim_table.start[i]+60]\n",
    "        return response\n",
    "    elif stim_table.stim_category[0] == \"static_gratings\" or stim_table.stim_category[0] == \"natural_scenes\":\n",
    "        # generate response matrix\n",
    "        response = np.empty((len(all_events.index), len(stim_table), 7)) # 3d array for responses at each frame to each stimulus for each neuron\n",
    "        stim_table = stim_table.reset_index(drop=True)\n",
    "        for i in range(len(stim_table)):\n",
    "            for cell_index in range(len(all_events.index)):\n",
    "                response[cell_index,i,:] = all_events.iloc[cell_index, stim_table.start[i]:stim_table.start[i]+7]\n",
    "        return response"
   ]
  },
  {
   "cell_type": "code",
   "execution_count": 5,
   "id": "9457c876",
   "metadata": {},
   "outputs": [],
   "source": [
    "def responses_per_stimulus_dg_sg_ns(stim_table, response_matrix):\n",
    "    '''\n",
    "    response_matrix: contains all recorded responses in the divided time frame \n",
    "    '''\n",
    "    responses_by_stimulus = pd.DataFrame(columns=[\"stim_id\",\"response_matrix\"])\n",
    "    \n",
    "    for stim_id in np.unique(stim_table.stim_id):\n",
    "        stim_table_reset = stim_table.reset_index(drop=True) # reset full stim table indices \n",
    "        temp_stim_id_df = stim_table_reset[stim_table_reset.stim_id==stim_id] # to index specific stimuli\n",
    "        response_stimulus_matrix = response_matrix[:,list(temp_stim_id_df.index),:]\n",
    "        responses_by_stimulus.loc[len(responses_by_stimulus)] = [stim_id, response_stimulus_matrix]\n",
    "    \n",
    "    return responses_by_stimulus"
   ]
  },
  {
   "cell_type": "code",
   "execution_count": 18,
   "id": "3ef5ea58",
   "metadata": {},
   "outputs": [],
   "source": [
    "def get_all_relevant_tables_dg_sg_ns(container_id, stimulus_type):\n",
    "    '''\n",
    "    Extracts the responses to each stimulus for each of the three sessions of drifting gratings, \n",
    "    static gratings, and natural scenes. \n",
    "    Returns full responses matrices (array) and response matrices to each stimulus ID (dataframe)\n",
    "    '''\n",
    "     # Select the relevant data for chosen container ID\n",
    "    desired_container_id = container_id\n",
    "    desired_container = boc.get_ophys_experiments(experiment_container_ids=[desired_container_id])\n",
    "    desired_container = sorted(desired_container, key=lambda x: x['session_type']) # sort based on session type so A comes first\n",
    "    \n",
    "    if stimulus_type == \"drifting_gratings\":\n",
    "        session_index = 0\n",
    "    elif stimulus_type == \"static_gratings\" or stimulus_type == \"natural_scenes\":\n",
    "        session_index = 1\n",
    "        \n",
    "    # Get session IDs for each session\n",
    "    session_id = desired_container[session_index][\"id\"]\n",
    "\n",
    "    # load in session data \n",
    "    session = boc.get_ophys_experiment_data(ophys_experiment_id=session_id)\n",
    "\n",
    "    # Get all event traces for all neurons in given session \n",
    "    all_events = get_events(boc, session_id, \"VISp\")\n",
    "\n",
    "    # Get full stimulus table for a given session\n",
    "    stim_table = create_stim_df(boc, session_id)\n",
    "    \n",
    "    # Isolate desired stimuli from stimulus table \n",
    "    desired_stimulus_table = stim_table[stim_table.stim_category == stimulus_type]\n",
    "    # Find indices to divide stimulus table based on session\n",
    "    divide_indices = find_divide_indices(desired_stimulus_table)\n",
    "    # Divide stimulus table based on divide indices\n",
    "    stim1, stim2, stim3 = divide_stim_table(desired_stimulus_table, divide_indices)\n",
    "\n",
    "    # Generate response matrices for each session\n",
    "    response1 = generate_response_matrices_dg_sg_ns(stim1, all_events)\n",
    "    response2 = generate_response_matrices_dg_sg_ns(stim2, all_events)\n",
    "    response3 = generate_response_matrices_dg_sg_ns(stim3, all_events)\n",
    "\n",
    "    # Create dataframe with response matrix for each drifting gratings stimulus ID\n",
    "    stim1_responses_by_stimulus = responses_per_stimulus_dg_sg_ns(stim1, response1)\n",
    "    stim2_responses_by_stimulus = responses_per_stimulus_dg_sg_ns(stim2, response2)\n",
    "    stim3_responses_by_stimulus = responses_per_stimulus_dg_sg_ns(stim3, response3)\n",
    "\n",
    "    return response1, response2, response3, stim1_responses_by_stimulus, stim2_responses_by_stimulus, stim3_responses_by_stimulus"
   ]
  },
  {
   "cell_type": "code",
   "execution_count": 7,
   "id": "316218ff",
   "metadata": {},
   "outputs": [],
   "source": [
    "def get_mean_matrices_dg_sg_ns(stim1_responses_by_stimulus, stim2_responses_by_stimulus, stim3_responses_by_stimulus):\n",
    "        \n",
    "    # Average each cell's response to each stimulus (# stimuli, # neurons) across three sessions\n",
    "    # Session 1\n",
    "    mean_responses1 = []\n",
    "    for i in range(len(stim1_responses_by_stimulus.stim_id)):\n",
    "        reshape_dims = (stim1_responses_by_stimulus.response_matrix[i].shape[0], stim1_responses_by_stimulus.response_matrix[i].shape[1]*stim1_responses_by_stimulus.response_matrix[i].shape[2])\n",
    "        reshaped = np.reshape(stim1_responses_by_stimulus.response_matrix[i], reshape_dims)\n",
    "        mean_matrix = np.mean(reshaped, axis=1)\n",
    "        mean_responses1.append(mean_matrix)\n",
    "    mean_responses1 = np.asarray(mean_responses1)\n",
    "    # Session 2\n",
    "    mean_responses2 = []\n",
    "    for i in range(len(stim2_responses_by_stimulus.stim_id)):\n",
    "        reshape_dims = (stim2_responses_by_stimulus.response_matrix[i].shape[0], stim2_responses_by_stimulus.response_matrix[i].shape[1]*stim2_responses_by_stimulus.response_matrix[i].shape[2])\n",
    "        reshaped = np.reshape(stim2_responses_by_stimulus.response_matrix[i], reshape_dims)\n",
    "        mean_matrix = np.mean(reshaped, axis=1)\n",
    "        mean_responses2.append(mean_matrix)\n",
    "    mean_responses2 = np.asarray(mean_responses2)\n",
    "    # Session 3\n",
    "    mean_responses3 = []\n",
    "    for i in range(len(stim3_responses_by_stimulus.stim_id)):\n",
    "        reshape_dims = (stim3_responses_by_stimulus.response_matrix[i].shape[0], stim3_responses_by_stimulus.response_matrix[i].shape[1]*stim3_responses_by_stimulus.response_matrix[i].shape[2])\n",
    "        reshaped = np.reshape(stim3_responses_by_stimulus.response_matrix[i], reshape_dims)\n",
    "        mean_matrix = np.mean(reshaped, axis=1)\n",
    "        mean_responses3.append(mean_matrix)\n",
    "    mean_responses3 = np.asarray(mean_responses3)\n",
    "    \n",
    "    return mean_responses1, mean_responses2, mean_responses3"
   ]
  },
  {
   "cell_type": "code",
   "execution_count": 8,
   "id": "7ff4ca55",
   "metadata": {},
   "outputs": [],
   "source": [
    "def get_overlapping_cells(container_id):\n",
    "    \n",
    "    # Load in experiment container data \n",
    "    desired_container_id = container_id\n",
    "    desired_container = boc.get_ophys_experiments(experiment_container_ids=[desired_container_id])\n",
    "    desired_container = sorted(desired_container, key=lambda x: x['session_type']) # sort based on session type so A comes first\n",
    "    \n",
    "    # Create a list of three arrays that contains cell IDs for each session\n",
    "    cells_in_each_session = []\n",
    "    i=0\n",
    "    for session in desired_container:\n",
    "        session_id = session[\"id\"]\n",
    "        session_data = boc.get_ophys_experiment_data(ophys_experiment_id=session_id)\n",
    "        specimen_ids = session_data.get_cell_specimen_ids()\n",
    "        cells_in_each_session.append(specimen_ids)\n",
    "        i+=1\n",
    "        \n",
    "    # isolate the cell IDs for only the overlapping sessions\n",
    "    cells1 = list(cells_in_each_session[0])\n",
    "    cells2 = list(cells_in_each_session[1])\n",
    "    cells3 = list(cells_in_each_session[2])\n",
    "    overlapping_cell_ids = [cell for cell in cells1 if cell in cells2 and cell in cells3]\n",
    "    \n",
    "    return overlapping_cell_ids"
   ]
  },
  {
   "cell_type": "code",
   "execution_count": 9,
   "id": "be3b6769",
   "metadata": {},
   "outputs": [],
   "source": [
    "def round_frame(frame:int,events_array:pd.DataFrame,up_down:str)->int:\n",
    "    \"\"\"This function will round start, end frame to nearest bin in events \"\"\"\n",
    "    col_arr = events_array.columns.to_numpy()\n",
    "    if up_down == 'up':\n",
    "        bin_frame = col_arr[col_arr > frame].min()\n",
    "    elif up_down == 'down':\n",
    "        bin_frame = col_arr[col_arr < frame].max()\n",
    "    return bin_frame"
   ]
  },
  {
   "cell_type": "code",
   "execution_count": 10,
   "id": "07ef6b42",
   "metadata": {},
   "outputs": [],
   "source": [
    "def get_mean_response_matrix_movies(session_id, container_id, bin_size):\n",
    "    # Get all event traces for overlapping neurons across sessions \n",
    "    all_events = get_events(boc, session_id, \"VISp\", bin_size)\n",
    "    overlapping_cells = get_overlapping_cells(container_id)\n",
    "    overlapping_cell_events = all_events.loc[overlapping_cells]\n",
    "\n",
    "    # Get full stimulus table for a given session\n",
    "    stim_df = create_stim_df(boc, session_id)\n",
    "\n",
    "    movie_df = stim_df[stim_df['stim_category']==\"natural_movie_one\"]\n",
    "    bin_size = all_events.columns.to_list()[1]\n",
    "    num_movie_chunks = int(len(movie_df)/bin_size)\n",
    "    mean_response_mtx = np.zeros((num_movie_chunks,len(overlapping_cells)))\n",
    "\n",
    "    for i in range(num_movie_chunks):\n",
    "        chunk_df = movie_df.iloc[0 + (bin_size*i):(bin_size+(bin_size*i))]\n",
    "        start,end = chunk_df.start.to_list()[0],chunk_df.end.to_list()[-1]\n",
    "        try:\n",
    "            response = np.mean(overlapping_cell_events.loc[:,np.arange(round_frame(start,overlapping_cell_events,'down'),round_frame(end,overlapping_cell_events,'up')+bin_size, bin_size)],axis=1)\n",
    "            mean_response_mtx[i,:] = response\n",
    "        except Exception as e:\n",
    "            print(e)\n",
    "    \n",
    "    return mean_response_mtx"
   ]
  },
  {
   "cell_type": "code",
   "execution_count": 11,
   "id": "89831b45",
   "metadata": {},
   "outputs": [],
   "source": [
    "def get_all_relevant_tables_movies(container_id, bin_size):\n",
    "\n",
    "    # Select the relevant data for chosen container ID\n",
    "    desired_container_id = container_id\n",
    "    desired_container = boc.get_ophys_experiments(experiment_container_ids=[desired_container_id])\n",
    "    desired_container = sorted(desired_container, key=lambda x: x['session_type']) # sort based on session type so A comes first\n",
    "    \n",
    "    # Get full response matrix for each presentation on each day \n",
    "    response_matrix1 = get_response_matrix_movies(desired_container[0][\"id\"], container_id, bin_size)\n",
    "    response_matrix2 = get_response_matrix_movies(desired_container[1][\"id\"], container_id, bin_size)\n",
    "    response_matrix3 = get_response_matrix_movies(desired_container[2][\"id\"], container_id, bin_size)\n",
    "    \n",
    "    return response_matrix1, response_matrix2, response_matrix3"
   ]
  },
  {
   "cell_type": "code",
   "execution_count": 12,
   "id": "67e5eb71",
   "metadata": {},
   "outputs": [],
   "source": [
    "def pca_transform_data(mean_responses1, mean_responses2, mean_responses3, pca_n_components):\n",
    "    \n",
    "    # Concatenate mean matrices to fit PCA model\n",
    "    concat_mean_matrices = np.concatenate((mean_responses1, mean_responses2, mean_responses3), axis=0)\n",
    "    \n",
    "    # Perform PCA\n",
    "    warnings.filterwarnings('ignore')\n",
    "    pca = PCA(n_components=pca_n_components) # create PCA model\n",
    "    pca.fit_transform(concat_mean_matrices) # fit the model with the dataset\n",
    "    transformed_data_pca1 = pca.transform(mean_responses1) # transform dataset \n",
    "    transformed_data_pca2 = pca.transform(mean_responses2) # transform dataset \n",
    "    transformed_data_pca3 = pca.transform(mean_responses3) # transform dataset \n",
    "    # Concatenate dataframes for easy plotting\n",
    "    transformed_data_pca1_df = pd.DataFrame(transformed_data_pca1)\n",
    "    transformed_data_pca1_df[\"Session\"] = list(\"1\"*len(transformed_data_pca1))\n",
    "    transformed_data_pca2_df = pd.DataFrame(transformed_data_pca2)\n",
    "    transformed_data_pca2_df[\"Session\"] = list(\"2\"*len(transformed_data_pca2))\n",
    "    transformed_data_pca3_df = pd.DataFrame(transformed_data_pca3)\n",
    "    transformed_data_pca3_df[\"Session\"] = list(\"3\"*len(transformed_data_pca3))\n",
    "    transformed_data_pca = pd.concat((transformed_data_pca1_df, transformed_data_pca2_df, transformed_data_pca3_df), axis=0)\n",
    "\n",
    "    return transformed_data_pca"
   ]
  },
  {
   "cell_type": "code",
   "execution_count": 13,
   "id": "83fd204d",
   "metadata": {},
   "outputs": [],
   "source": [
    "# Set file location based on platform. \n",
    "platstring = platform.platform()\n",
    "if ('Darwin' in platstring) or ('macOS' in platstring):\n",
    "    # macOS \n",
    "    data_root = \"/Volumes/Brain2023/\"\n",
    "elif 'Windows'  in platstring:\n",
    "    # Windows (replace with the drive letter of USB drive)\n",
    "    data_root = \"E:/\"\n",
    "elif ('amzn' in platstring):\n",
    "    # then on Code Ocean\n",
    "    data_root = \"/data/\"\n",
    "else:\n",
    "    # then your own linux platform\n",
    "    # EDIT location where you mounted hard drive\n",
    "    data_root = \"/media/$USERNAME/Brain2023/\""
   ]
  },
  {
   "cell_type": "code",
   "execution_count": 14,
   "id": "3baff79d",
   "metadata": {},
   "outputs": [],
   "source": [
    "from allensdk.core.brain_observatory_cache import BrainObservatoryCache\n",
    "\n",
    "manifest_file = os.path.join(data_root,'allen-brain-observatory/visual-coding-2p/manifest.json')\n",
    "\n",
    "# Create data cache object \n",
    "boc = BrainObservatoryCache(manifest_file=manifest_file)"
   ]
  },
  {
   "cell_type": "code",
   "execution_count": 15,
   "id": "b7fac15f",
   "metadata": {},
   "outputs": [],
   "source": [
    "desired_container_id = 688678764"
   ]
  },
  {
   "cell_type": "code",
   "execution_count": null,
   "id": "829161e3",
   "metadata": {},
   "outputs": [],
   "source": []
  },
  {
   "cell_type": "code",
   "execution_count": 16,
   "id": "d1b33195",
   "metadata": {},
   "outputs": [],
   "source": [
    "# Drifting gratings"
   ]
  },
  {
   "cell_type": "code",
   "execution_count": 19,
   "id": "3fefa6bc",
   "metadata": {},
   "outputs": [],
   "source": [
    "response1, response2, response3, dg1_responses_by_stimulus, dg2_responses_by_stimulus, dg3_responses_by_stimulus = get_all_relevant_tables_dg_sg_ns(desired_container_id, \"drifting_gratings\")"
   ]
  },
  {
   "cell_type": "code",
   "execution_count": 21,
   "id": "51ef249c",
   "metadata": {},
   "outputs": [],
   "source": [
    "mean_response1, mean_response2, mean_response3 = get_mean_matrices_dg_sg_ns(dg1_responses_by_stimulus, dg2_responses_by_stimulus, dg3_responses_by_stimulus)\n",
    "transformed_data_pca = pca_transform_data(mean_response1, mean_response2, mean_response3, 3)"
   ]
  },
  {
   "cell_type": "code",
   "execution_count": 24,
   "id": "6370ffca",
   "metadata": {},
   "outputs": [
    {
     "data": {
      "image/png": "[encoded data removed]",
      "text/plain": [
       "<Figure size 576x360 with 1 Axes>"
      ]
     },
     "metadata": {
      "needs_background": "light"
     },
     "output_type": "display_data"
    }
   ],
   "source": [
    "# PCA Model: 2D Visualization\n",
    "fig, ax = plt.subplots(figsize=(8,5))\n",
    "\n",
    "ax.scatter(transformed_data_pca[transformed_data_pca.Session==\"1\"][0], transformed_data_pca[transformed_data_pca.Session==\"1\"][1], label=\"session 1\")\n",
    "ax.scatter(transformed_data_pca[transformed_data_pca.Session==\"2\"][0], transformed_data_pca[transformed_data_pca.Session==\"2\"][1], label=\"session 2\")\n",
    "ax.scatter(transformed_data_pca[transformed_data_pca.Session==\"3\"][0], transformed_data_pca[transformed_data_pca.Session==\"3\"][1], label=\"session 3\")\n",
    "ax.set_xlabel(\"1st PC\")\n",
    "ax.set_ylabel(\"2nd PC\")\n",
    "ax.set_title(\"PCA Analysis on Mean Response of Each Cell \\nto Each DG Stimulus Over Time\")\n",
    "plt.legend(loc=\"upper right\")\n",
    "plt.savefig(\"../results/pca_drifting_gratings.jpg\", dpi=200)\n",
    "plt.show()\n"
   ]
  },
  {
   "cell_type": "code",
   "execution_count": null,
   "id": "b4a31e91",
   "metadata": {},
   "outputs": [],
   "source": [
    "# PCA Model: 3D Visualization\n",
    "fig = px.scatter_3d(transformed_data_pca, x=0, y=1, z=2, color=\"Session\", labels = {\"0\": \"PC1\",\"1\": \"PC2\", \"2\": \"PC3\"}, title = \"First 3 PCs on Mean Response of Each Cell to Each DG Stimulus Over Time\")\n",
    "fig.update_traces(marker_size=3) # reduce size of scatter points from default size\n",
    "fig.update_layout(width=800, height=600, font_size=11, scene_aspectmode=\"data\", scene_camera_eye= dict(x=0.2, y=-2.0, z=1)) # adjust plot appearance\n",
    "fig.show()"
   ]
  },
  {
   "cell_type": "code",
   "execution_count": null,
   "id": "e68a8703",
   "metadata": {},
   "outputs": [],
   "source": [
    "# Static gratings"
   ]
  },
  {
   "cell_type": "code",
   "execution_count": null,
   "id": "c374bab7",
   "metadata": {},
   "outputs": [],
   "source": [
    "# Get response matrics\n",
    "response1, response2, response3, sg1_responses_by_stimulus, sg2_responses_by_stimulus, sg3_responses_by_stimulus = get_all_relevant_tables_dg_sg_ns(desired_container_id, \"static_gratings\")"
   ]
  },
  {
   "cell_type": "code",
   "execution_count": null,
   "id": "ca1109d9",
   "metadata": {},
   "outputs": [],
   "source": [
    "# Transform data for PCA n=3\n",
    "mean_response1, mean_response2, mean_response3 = get_mean_matrices_dg_sg_ns(sg1_responses_by_stimulus, sg2_responses_by_stimulus, sg3_responses_by_stimulus)\n",
    "transformed_data_sg = pca_transform_data(mean_response1, mean_response2, mean_response3, 3)"
   ]
  },
  {
   "cell_type": "code",
   "execution_count": null,
   "id": "5a3699d3",
   "metadata": {},
   "outputs": [],
   "source": [
    "# PCA Model: 2D Visualization\n",
    "fig, ax = plt.subplots(figsize=(8,5))\n",
    "\n",
    "ax.scatter(transformed_data_sg[transformed_data_sg.Session==\"1\"][0], transformed_data_sg[transformed_data_sg.Session==\"1\"][1], label=\"session 1\")\n",
    "ax.scatter(transformed_data_sg[transformed_data_sg.Session==\"2\"][0], transformed_data_sg[transformed_data_sg.Session==\"2\"][1], label=\"session 2\")\n",
    "ax.scatter(transformed_data_sg[transformed_data_sg.Session==\"3\"][0], transformed_data_sg[transformed_data_sg.Session==\"3\"][1], label=\"session 3\")\n",
    "ax.set_xlabel(\"1st PC\")\n",
    "ax.set_ylabel(\"2nd PC\")\n",
    "ax.set_title(\"PCA Analysis on Mean Response of Each Cell \\nto Each SG Stimulus Over Time\")\n",
    "plt.legend(loc=\"upper right\")\n",
    "plt.savefig(\"../results/pca_static_gratings.jpg\", dpi=200)\n",
    "plt.show()\n"
   ]
  },
  {
   "cell_type": "code",
   "execution_count": null,
   "id": "15efa397",
   "metadata": {},
   "outputs": [],
   "source": [
    "# PCA Model: 3D Visualization\n",
    "fig = px.scatter_3d(transformed_data_sg, x=0, y=1, z=2, color=\"Session\", labels = {\"0\": \"PC1\",\"1\": \"PC2\", \"2\": \"PC3\"}, title = \"First 3 PCs on Mean Response of Each Cell to Each SG Stimulus Over Time\")\n",
    "fig.update_traces(marker_size=3) # reduce size of scatter points from default size\n",
    "fig.update_layout(width=800, height=600, font_size=11, scene_aspectmode=\"data\", scene_camera_eye= dict(x=0.2, y=-2.0, z=1)) # adjust plot appearance\n",
    "fig.show()"
   ]
  },
  {
   "cell_type": "code",
   "execution_count": null,
   "id": "f1c21ec8",
   "metadata": {},
   "outputs": [],
   "source": [
    "# Natural Scenes"
   ]
  },
  {
   "cell_type": "code",
   "execution_count": null,
   "id": "e4f0d3af",
   "metadata": {},
   "outputs": [],
   "source": [
    "# Get response matrics\n",
    "response1, response2, response3, ns1_responses_by_stimulus, ns2_responses_by_stimulus, ns3_responses_by_stimulus = get_all_relevant_tables_dg_sg_ns(desired_container_id, \"natural_scenes\")\n",
    "\n",
    "# Transform data for PCA n=3\n",
    "transformed_data_ns = pca_transform_data(ns1_responses_by_stimulus, ns2_responses_by_stimulus, ns3_responses_by_stimulus, 3)\n"
   ]
  },
  {
   "cell_type": "code",
   "execution_count": null,
   "id": "d8389b63",
   "metadata": {},
   "outputs": [],
   "source": [
    "# PCA Model: 2D Visualization\n",
    "fig, ax = plt.subplots(figsize=(8,5))\n",
    "\n",
    "ax.scatter(transformed_data_ns[transformed_data_ns.Session==\"1\"][0], transformed_data_ns[transformed_data_ns.Session==\"1\"][1], label=\"session 1\")\n",
    "ax.scatter(transformed_data_ns[transformed_data_ns.Session==\"2\"][0], transformed_data_ns[transformed_data_ns.Session==\"2\"][1], label=\"session 2\")\n",
    "ax.scatter(transformed_data_ns[transformed_data_ns.Session==\"3\"][0], transformed_data_ns[transformed_data_ns.Session==\"3\"][1], label=\"session 3\")\n",
    "ax.set_xlabel(\"1st PC\")\n",
    "ax.set_ylabel(\"2nd PC\")\n",
    "ax.set_title(\"PCA Analysis on Mean Response of Each Cell \\nto Each SG Stimulus Over Time\")\n",
    "plt.legend(loc=\"upper right\")\n",
    "plt.savefig(\"\")\n",
    "plt.savefig(\"../results/pca_natural_scenes.jpg\", dpi=200)\n",
    "plt.show()\n"
   ]
  },
  {
   "cell_type": "code",
   "execution_count": null,
   "id": "98fff01b",
   "metadata": {},
   "outputs": [],
   "source": [
    "# PCA Model: 3D Visualization\n",
    "fig = px.scatter_3d(transformed_data_ns, x=0, y=1, z=2, color=\"Session\", labels = {\"0\": \"PC1\",\"1\": \"PC2\", \"2\": \"PC3\"}, title = \"First 3 PCs on Mean Response of Each Cell to Each NS Stimulus Over Time\")\n",
    "fig.update_traces(marker_size=3) # reduce size of scatter points from default size\n",
    "fig.update_layout(width=800, height=600, font_size=11, scene_aspectmode=\"data\", scene_camera_eye= dict(x=0.2, y=-2.0, z=1)) # adjust plot appearance\n",
    "fig.show()"
   ]
  },
  {
   "cell_type": "code",
   "execution_count": null,
   "id": "307d928b",
   "metadata": {},
   "outputs": [],
   "source": [
    "# Natural Movie One"
   ]
  },
  {
   "cell_type": "code",
   "execution_count": null,
   "id": "d4470e7e",
   "metadata": {},
   "outputs": [],
   "source": [
    "mean_responses1,mean_responses2,mean_responses3 = get_all_relevant_tables_movies(688678764, 30)\n",
    "transformed_data_pca = pca_transform_data(mean_responses1, mean_responses2, mean_responses3, 3)"
   ]
  },
  {
   "cell_type": "code",
   "execution_count": null,
   "id": "3706e6ae",
   "metadata": {},
   "outputs": [],
   "source": [
    "# PCA Model: 2D Visualization\n",
    "fig, ax = plt.subplots(figsize=(8,5))\n",
    "\n",
    "ax.scatter(transformed_data_pca[transformed_data_pca.Session==\"1\"][0], transformed_data_pca[transformed_data_pca.Session==\"1\"][1], label=\"session 1\")\n",
    "ax.scatter(transformed_data_pca[transformed_data_pca.Session==\"2\"][0], transformed_data_pca[transformed_data_pca.Session==\"2\"][1], label=\"session 2\")\n",
    "ax.scatter(transformed_data_pca[transformed_data_pca.Session==\"3\"][0], transformed_data_pca[transformed_data_pca.Session==\"3\"][1], label=\"session 3\")\n",
    "ax.set_xlabel(\"1st PC\")\n",
    "ax.set_ylabel(\"2nd PC\")\n",
    "ax.set_title(\"PCA Analysis on Mean Response of Each Cell to \\nNM1 Stimulus (30 frame bin sizes) Across Days\")\n",
    "plt.legend(loc=\"upper right\")\n",
    "plt.savefig(\"../results/pca_natural_movie_one.jpg\", dpi=200)\n",
    "plt.show()\n"
   ]
  },
  {
   "cell_type": "code",
   "execution_count": null,
   "id": "adf941c8",
   "metadata": {},
   "outputs": [],
   "source": [
    "# PCA Model: 3D Visualization\n",
    "fig = px.scatter_3d(transformed_data_pca, x=0, y=1, z=2, color=\"Session\", labels = {\"0\": \"PC1\",\"1\": \"PC2\", \"2\": \"PC3\"}, title = \"First 3 PCs on Mean Response of Each Cell to NM1 Stimulus (30 frame bin sizes) Across Days\")\n",
    "fig.update_traces(marker_size=3) # reduce size of scatter points from default size\n",
    "fig.update_layout(width=800, height=600, font_size=11, scene_aspectmode=\"data\", scene_camera_eye= dict(x=0.2, y=-2.0, z=1)) # adjust plot appearance\n",
    "fig.show()"
   ]
  }
 ],
 "metadata": {
  "kernelspec": {
   "display_name": "Python 3",
   "language": "python",
   "name": "python3"
  },
  "language_info": {
   "codemirror_mode": {
    "name": "ipython",
    "version": 3
   },
   "file_extension": ".py",
   "mimetype": "text/x-python",
   "name": "python",
   "nbconvert_exporter": "python",
   "pygments_lexer": "ipython3",
   "version": "3.8.5"
  }
 },
 "nbformat": 4,
 "nbformat_minor": 5
}
