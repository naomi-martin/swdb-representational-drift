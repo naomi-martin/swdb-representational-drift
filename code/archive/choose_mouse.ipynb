{
 "cells": [
  {
   "cell_type": "code",
   "execution_count": 1,
   "id": "f1b05351",
   "metadata": {},
   "outputs": [],
   "source": [
    "# We need to import these modules to get started\n",
    "import numpy as np\n",
    "import pandas as pd\n",
    "import os\n",
    "import platform\n",
    "import matplotlib.pyplot as plt\n",
    "%matplotlib inline\n",
    "\n",
    "# This patch of code just ensures we get an easy to read font size for the duration of the notebook\n",
    "import matplotlib\n",
    "font = {'weight' : 'bold',\n",
    "        'size'   : 15}\n",
    "matplotlib.rc('font', **font)"
   ]
  },
  {
   "cell_type": "code",
   "execution_count": 2,
   "id": "d141ca10",
   "metadata": {},
   "outputs": [],
   "source": [
    "# Set file location based on platform. \n",
    "platstring = platform.platform()\n",
    "if ('Darwin' in platstring) or ('macOS' in platstring):\n",
    "    # macOS \n",
    "    data_root = \"/Volumes/Brain2023/\"\n",
    "elif 'Windows'  in platstring:\n",
    "    # Windows (replace with the drive letter of USB drive)\n",
    "    data_root = \"E:/\"\n",
    "elif ('amzn' in platstring):\n",
    "    # then on Code Ocean\n",
    "    data_root = \"/data/\"\n",
    "else:\n",
    "    # then your own linux platform\n",
    "    # EDIT location where you mounted hard drive\n",
    "    data_root = \"/media/$USERNAME/Brain2023/\""
   ]
  },
  {
   "cell_type": "code",
   "execution_count": 3,
   "id": "4b4c577d",
   "metadata": {},
   "outputs": [],
   "source": [
    "from allensdk.core.brain_observatory_cache import BrainObservatoryCache\n",
    "\n",
    "manifest_file = os.path.join(data_root,'allen-brain-observatory/visual-coding-2p/manifest.json')\n",
    "\n",
    "# Create data cache object \n",
    "boc = BrainObservatoryCache(manifest_file=manifest_file)"
   ]
  },
  {
   "cell_type": "code",
   "execution_count": 15,
   "id": "f7e1ca09",
   "metadata": {},
   "outputs": [],
   "source": [
    "# Get all experiments with target Cre line\n",
    "cre_line ='Slc17a7-IRES2-Cre'\n",
    "all_experiment_containers = pd.DataFrame(boc.get_experiment_containers(cre_lines=[cre_line]))"
   ]
  },
  {
   "cell_type": "code",
   "execution_count": 16,
   "id": "a5afe43e",
   "metadata": {},
   "outputs": [],
   "source": [
    "# Choose a random container ID\n",
    "experiment_container_id = all_experiment_containers.id[0]"
   ]
  },
  {
   "cell_type": "code",
   "execution_count": 17,
   "id": "616e8321",
   "metadata": {},
   "outputs": [],
   "source": [
    "# Get the session IDs for target container ID\n",
    "sessions = pd.DataFrame(boc.get_ophys_experiments(experiment_container_ids=[experiment_container_id]))\n",
    "session_id = sessions.id[0]"
   ]
  },
  {
   "cell_type": "code",
   "execution_count": 18,
   "id": "f59bc76d",
   "metadata": {},
   "outputs": [],
   "source": [
    "# Get the session daata for target session \n",
    "session_data1 = boc.get_ophys_experiment_data(ophys_experiment_id=sessions.id[0])"
   ]
  },
  {
   "cell_type": "code",
   "execution_count": 19,
   "id": "ab42539d",
   "metadata": {},
   "outputs": [
    {
     "data": {
      "text/plain": [
       "85"
      ]
     },
     "execution_count": 19,
     "metadata": {},
     "output_type": "execute_result"
    }
   ],
   "source": [
    "# See how many neurons were detected\n",
    "session_data1.get_cell_specimen_ids().shape[0]"
   ]
  },
  {
   "cell_type": "code",
   "execution_count": 52,
   "id": "0ac6ee30",
   "metadata": {
    "collapsed": true,
    "jupyter": {
     "outputs_hidden": true
    },
    "tags": []
   },
   "outputs": [
    {
     "name": "stdout",
     "output_type": "stream",
     "text": [
      "661437138\n",
      "673144414\n",
      "682734790\n",
      "644947714\n",
      "604328040\n",
      "676503916\n",
      "665413463\n",
      "666589599\n",
      "703308069\n",
      "658854759\n",
      "679700455\n",
      "653125128\n",
      "653551963\n",
      "680156909\n",
      "701046698\n",
      "627823721\n",
      "604576635\n",
      "646016202\n",
      "661732156\n",
      "662219850\n",
      "650389885\n",
      "647155120\n",
      "650885966\n",
      "670721587\n",
      "657391035\n",
      "663488406\n",
      "662358769\n",
      "652736297\n",
      "610222464\n",
      "653126875\n",
      "653122665\n",
      "707923643\n",
      "612536909\n",
      "656939125\n",
      "662974313\n",
      "672207945\n",
      "651366508\n",
      "662172425\n",
      "644013840\n",
      "679702882\n",
      "653932503\n",
      "612555401\n",
      "688678764\n",
      "660065749\n",
      "652842570\n",
      "702956471\n",
      "658536109\n",
      "657014785\n",
      "661744802\n",
      "638753614\n",
      "650389951\n",
      "659746623\n",
      "644061873\n",
      "657082052\n",
      "657785848\n",
      "639253041\n",
      "652096181\n"
     ]
    }
   ],
   "source": [
    "# Scan all 57 Slc17a7 experiments to see which one has the most neurons \n",
    "\n",
    "slc17a7_neurons = pd.DataFrame(columns = [\"experiment_container_id\", \"session_id\", \"targeted_structure\", \"imaging_depth\", \"number_cells\"])\n",
    "\n",
    "for i in range(len(all_experiment_containers)):\n",
    "    container_id = all_experiment_containers.loc[i,\"id\"]\n",
    "    print(container_id)\n",
    "    session_temp = pd.DataFrame(boc.get_ophys_experiments(experiment_container_ids=[container_id]))\n",
    "    targeted_structure = session_temp.targeted_structure[0]\n",
    "    imaging_depth = session_temp.imaging_depth[0]\n",
    "    for j in range(len(session_temp)):\n",
    "        session_id = session_temp.loc[j,\"id\"]\n",
    "        session_data_temp = boc.get_ophys_experiment_data(ophys_experiment_id=session_id)\n",
    "        num_cells = session_data_temp.get_cell_specimen_ids().shape[0]\n",
    "        slc17a7_neurons.loc[len(slc17a7_neurons.index)]=[container_id, session_id, targeted_structure, imaging_depth, num_cells]\n",
    "        "
   ]
  },
  {
   "cell_type": "code",
   "execution_count": 53,
   "id": "c6598f04",
   "metadata": {},
   "outputs": [],
   "source": [
    "slc17a7_neurons.to_csv(\"possible_sessions_to_study.csv\", index=False)"
   ]
  },
  {
   "cell_type": "code",
   "execution_count": null,
   "id": "4a8f19c0",
   "metadata": {},
   "outputs": [],
   "source": []
  }
 ],
 "metadata": {
  "kernelspec": {
   "display_name": "Python 3",
   "language": "python",
   "name": "python3"
  },
  "language_info": {
   "codemirror_mode": {
    "name": "ipython",
    "version": 3
   },
   "file_extension": ".py",
   "mimetype": "text/x-python",
   "name": "python",
   "nbconvert_exporter": "python",
   "pygments_lexer": "ipython3",
   "version": "3.8.5"
  }
 },
 "nbformat": 4,
 "nbformat_minor": 5
}
