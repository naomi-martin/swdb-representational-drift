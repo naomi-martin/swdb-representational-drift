{
 "cells": [
  {
   "cell_type": "code",
   "execution_count": null,
   "id": "3efb63be",
   "metadata": {},
   "outputs": [],
   "source": [
    "# We need to import these modules to get started\n",
    "import os\n",
    "import platform\n",
    "import pandas as pd\n",
    "import numpy as np\n",
    "import analysis_utils\n",
    "import warnings\n",
    "from event_utils import get_events\n",
    "from create_stim_table import create_stim_df\n",
    "import matplotlib.pyplot as plt\n",
    "import plotly.express as px\n",
    "%matplotlib inline\n",
    "\n",
    "# This patch of code just ensures we get an easy to read font size for the duration of the notebook\n",
    "import matplotlib\n",
    "font = {'weight' : 'bold',\n",
    "        'size'   : 15}\n",
    "matplotlib.rc('font', **font)"
   ]
  },
  {
   "cell_type": "code",
   "execution_count": null,
   "id": "fbf2373d",
   "metadata": {},
   "outputs": [],
   "source": [
    "# Set file location based on platform. \n",
    "platstring = platform.platform()\n",
    "if ('Darwin' in platstring) or ('macOS' in platstring):\n",
    "    # macOS \n",
    "    data_root = \"/Volumes/Brain2023/\"\n",
    "elif 'Windows'  in platstring:\n",
    "    # Windows (replace with the drive letter of USB drive)\n",
    "    data_root = \"E:/\"\n",
    "elif ('amzn' in platstring):\n",
    "    # then on Code Ocean\n",
    "    data_root = \"/data/\"\n",
    "else:\n",
    "    # then your own linux platform\n",
    "    # EDIT location where you mounted hard drive\n",
    "    data_root = \"/media/$USERNAME/Brain2023/\""
   ]
  },
  {
   "cell_type": "code",
   "execution_count": null,
   "id": "8d68d470",
   "metadata": {},
   "outputs": [],
   "source": [
    "from allensdk.core.brain_observatory_cache import BrainObservatoryCache\n",
    "\n",
    "manifest_file = os.path.join(data_root,'allen-brain-observatory/visual-coding-2p/manifest.json')\n",
    "\n",
    "# Create data cache object \n",
    "boc = BrainObservatoryCache(manifest_file=manifest_file)"
   ]
  },
  {
   "cell_type": "code",
   "execution_count": null,
   "id": "831ed3a6",
   "metadata": {},
   "outputs": [],
   "source": [
    "desired_container_id = 688678764"
   ]
  },
  {
   "cell_type": "code",
   "execution_count": null,
   "id": "09f4c556",
   "metadata": {},
   "outputs": [],
   "source": [
    "desired_container = boc.get_ophys_experiments(experiment_container_ids=[desired_container_id])\n",
    "desired_container = sorted(desired_container, key=lambda x: x['session_type']) # sort based on session type so A comes first\n",
    "\n",
    "session_indices_by_stimulus = {\"drifting_gratings\":\"0\",\n",
    "                              \"static_gratings\":\"1\",\n",
    "                              \"natural_scenes\":\"1\",\n",
    "                              \"natural_movie_one\":[\"1\",\"2\",\"3\"],\n",
    "                              \"natural_movie_three\":\"0\"}"
   ]
  },
  {
   "cell_type": "code",
   "execution_count": null,
   "id": "d3a31831",
   "metadata": {},
   "outputs": [],
   "source": []
  },
  {
   "cell_type": "code",
   "execution_count": null,
   "id": "27d7ef7a",
   "metadata": {},
   "outputs": [],
   "source": []
  }
 ],
 "metadata": {
  "kernelspec": {
   "display_name": "Python 3",
   "language": "python",
   "name": "python3"
  },
  "language_info": {
   "codemirror_mode": {
    "name": "ipython",
    "version": 3
   },
   "file_extension": ".py",
   "mimetype": "text/x-python",
   "name": "python",
   "nbconvert_exporter": "python",
   "pygments_lexer": "ipython3",
   "version": "3.8.5"
  }
 },
 "nbformat": 4,
 "nbformat_minor": 5
}
