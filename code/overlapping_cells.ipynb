{
 "cells": [
  {
   "cell_type": "code",
   "execution_count": 2,
   "id": "f80507c7",
   "metadata": {},
   "outputs": [],
   "source": [
    "# We need to import these modules to get started\n",
    "import numpy as np\n",
    "import pandas as pd\n",
    "import os\n",
    "import platform\n",
    "import matplotlib.pyplot as plt\n",
    "%matplotlib inline\n",
    "\n",
    "# This patch of code just ensures we get an easy to read font size for the duration of the notebook\n",
    "import matplotlib\n",
    "font = {'weight' : 'bold',\n",
    "        'size'   : 15}\n",
    "matplotlib.rc('font', **font)"
   ]
  },
  {
   "cell_type": "code",
   "execution_count": 3,
   "id": "5a7a8193",
   "metadata": {},
   "outputs": [],
   "source": [
    "# Set file location based on platform. \n",
    "platstring = platform.platform()\n",
    "if ('Darwin' in platstring) or ('macOS' in platstring):\n",
    "    # macOS \n",
    "    data_root = \"/Volumes/Brain2023/\"\n",
    "elif 'Windows'  in platstring:\n",
    "    # Windows (replace with the drive letter of USB drive)\n",
    "    data_root = \"E:/\"\n",
    "elif ('amzn' in platstring):\n",
    "    # then on Code Ocean\n",
    "    data_root = \"/data/\"\n",
    "else:\n",
    "    # then your own linux platform\n",
    "    # EDIT location where you mounted hard drive\n",
    "    data_root = \"/media/$USERNAME/Brain2023/\""
   ]
  },
  {
   "cell_type": "code",
   "execution_count": 4,
   "id": "2eea84c1",
   "metadata": {},
   "outputs": [],
   "source": [
    "from allensdk.core.brain_observatory_cache import BrainObservatoryCache\n",
    "\n",
    "manifest_file = os.path.join(data_root,'allen-brain-observatory/visual-coding-2p/manifest.json')\n",
    "\n",
    "# Create data cache object \n",
    "boc = BrainObservatoryCache(manifest_file=manifest_file)"
   ]
  },
  {
   "cell_type": "code",
   "execution_count": 5,
   "id": "10ffd1f8",
   "metadata": {},
   "outputs": [],
   "source": [
    "# Load in data for session with the most neurons"
   ]
  },
  {
   "cell_type": "code",
   "execution_count": 6,
   "id": "0f0408a1",
   "metadata": {},
   "outputs": [
    {
     "name": "stdout",
     "output_type": "stream",
     "text": [
      "Session 1 has 475 cells\n",
      "Session 2 has 347 cells\n",
      "Session 3 has 428 cells\n"
     ]
    }
   ],
   "source": [
    "slc17a7_sessions = pd.read_csv(\"possible_sessions_to_study.csv\")\n",
    "\n",
    "# Select the relevant data for the session with the most neurons\n",
    "desired_container_id = slc17a7_sessions.experiment_container_id[np.where(slc17a7_sessions.number_cells==max(slc17a7_sessions.number_cells))[0][0]]\n",
    "desired_container = boc.get_ophys_experiments(experiment_container_ids=[desired_container_id])\n",
    "desired_container = sorted(desired_container, key=lambda x: x['session_type']) # sort based on session type so A comes first\n",
    "\n",
    "# Create a list of three arrays that contains cell IDs for each session\n",
    "cells_in_each_session = []\n",
    "i=0\n",
    "for session in desired_container:\n",
    "    session_id = session[\"id\"]\n",
    "    session_data = boc.get_ophys_experiment_data(ophys_experiment_id=session_id)\n",
    "    specimen_ids = session_data.get_cell_specimen_ids()\n",
    "    cells_in_each_session.append(specimen_ids)\n",
    "    print(f\"Session {i+1} has {specimen_ids.shape[0]} cells\")\n",
    "    i+=1"
   ]
  },
  {
   "cell_type": "code",
   "execution_count": 8,
   "id": "6d93ee37",
   "metadata": {},
   "outputs": [],
   "source": [
    "# isolate the cell IDs for only the overlapping sessions\n",
    "cells1 = list(cells_in_each_session[0])\n",
    "cells2 = list(cells_in_each_session[1])\n",
    "cells3 = list(cells_in_each_session[2])\n",
    "\n",
    "overlapping_cell_ids = [cell for cell in cells1 if cell in cells2 and cell in cells3]\n",
    "np.savetxt(\"overlapping_cell_ids.txt\", overlapping_cell_ids)"
   ]
  },
  {
   "cell_type": "code",
   "execution_count": null,
   "id": "2434df2c",
   "metadata": {},
   "outputs": [],
   "source": [
    "# for each session, extract cell indices "
   ]
  },
  {
   "cell_type": "code",
   "execution_count": 9,
   "id": "57dfb000",
   "metadata": {},
   "outputs": [],
   "source": [
    "# Get session IDs for each session\n",
    "session_one_id = desired_container[0][\"id\"]\n",
    "session_two_id = desired_container[1][\"id\"]\n",
    "session_three_id = desired_container[2][\"id\"]\n",
    "\n",
    "# load in session data for each session\n",
    "session_one = boc.get_ophys_experiment_data(ophys_experiment_id=session_one_id)\n",
    "session_two = boc.get_ophys_experiment_data(ophys_experiment_id=session_two_id)\n",
    "session_three = boc.get_ophys_experiment_data(ophys_experiment_id=session_three_id)\n",
    "\n",
    "# Get indices for overlapping cells in each session - isolates analysis to only overlapping cells\n",
    "cell_indices_one = session_one.get_cell_specimen_indices(cell_specimen_ids=overlapping_cell_ids)\n",
    "cell_indices_two = session_two.get_cell_specimen_indices(cell_specimen_ids=overlapping_cell_ids)\n",
    "cell_indices_three = session_three.get_cell_specimen_indices(cell_specimen_ids=overlapping_cell_ids)"
   ]
  },
  {
   "cell_type": "code",
   "execution_count": null,
   "id": "95a7a76e",
   "metadata": {},
   "outputs": [],
   "source": []
  },
  {
   "cell_type": "code",
   "execution_count": null,
   "id": "8e38b899",
   "metadata": {},
   "outputs": [],
   "source": []
  },
  {
   "cell_type": "code",
   "execution_count": null,
   "id": "2353709c",
   "metadata": {},
   "outputs": [],
   "source": []
  }
 ],
 "metadata": {
  "kernelspec": {
   "display_name": "Python 3",
   "language": "python",
   "name": "python3"
  },
  "language_info": {
   "codemirror_mode": {
    "name": "ipython",
    "version": 3
   },
   "file_extension": ".py",
   "mimetype": "text/x-python",
   "name": "python",
   "nbconvert_exporter": "python",
   "pygments_lexer": "ipython3",
   "version": "3.8.5"
  }
 },
 "nbformat": 4,
 "nbformat_minor": 5
}
