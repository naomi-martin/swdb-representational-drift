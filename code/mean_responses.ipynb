{
 "cells": [
  {
   "cell_type": "code",
   "execution_count": null,
   "id": "ebc1a5dd",
   "metadata": {},
   "outputs": [],
   "source": [
    "# We need to import these modules to get started\n",
    "import numpy as np\n",
    "import pandas as pd\n",
    "import os\n",
    "import platform\n",
    "from sklearn import preprocessing\n",
    "from scipy.stats import linregress\n",
    "import pca_functions as pcafunc\n",
    "import warnings\n",
    "from event_utils import get_events\n",
    "from create_stim_table import create_stim_df\n",
    "import matplotlib.pyplot as plt\n",
    "import plotly.express as px\n",
    "%matplotlib inline\n",
    "\n",
    "# This patch of code just ensures we get an easy to read font size for the duration of the notebook\n",
    "import matplotlib\n",
    "font = {'weight' : 'bold',\n",
    "        'size'   : 15}\n",
    "matplotlib.rc('font', **font)"
   ]
  },
  {
   "cell_type": "code",
   "execution_count": null,
   "id": "32396ad0",
   "metadata": {},
   "outputs": [],
   "source": [
    "# Set file location based on platform. \n",
    "platstring = platform.platform()\n",
    "if ('Darwin' in platstring) or ('macOS' in platstring):\n",
    "    # macOS \n",
    "    data_root = \"/Volumes/Brain2023/\"\n",
    "elif 'Windows'  in platstring:\n",
    "    # Windows (replace with the drive letter of USB drive)\n",
    "    data_root = \"E:/\"\n",
    "elif ('amzn' in platstring):\n",
    "    # then on Code Ocean\n",
    "    data_root = \"/data/\"\n",
    "else:\n",
    "    # then your own linux platform\n",
    "    # EDIT location where you mounted hard drive\n",
    "    data_root = \"/media/$USERNAME/Brain2023/\""
   ]
  },
  {
   "cell_type": "code",
   "execution_count": null,
   "id": "f039bab2",
   "metadata": {},
   "outputs": [],
   "source": [
    "def find_divide_indices(stim_table):\n",
    "    '''\n",
    "    Finds the indices where each new stimulus presentation after the first presentation\n",
    "    starts.\n",
    "    \n",
    "    Returns:\n",
    "        List of indices representing the start of the next stimulus\n",
    "    '''\n",
    "    # Find the indices where each new stimulus presentation after the first presentation starts\n",
    "    divide_indices = []\n",
    "\n",
    "    for i in range(min(stim_table.index), max(stim_table.index)):\n",
    "        try:\n",
    "            if stim_table.start[i+1]-stim_table.end[i] > 100:\n",
    "                divide_indices.append(i) # saves index where new stim presentation begins\n",
    "        except:\n",
    "            pass\n",
    "    return divide_indices"
   ]
  },
  {
   "cell_type": "code",
   "execution_count": null,
   "id": "26f97829",
   "metadata": {},
   "outputs": [],
   "source": [
    "def divide_stim_table(stim_table, divide_indices=[]):\n",
    "    '''\n",
    "    Divides input stimulus table based on indices corresponding to separate stimulus\n",
    "    presentations.\n",
    "    If there were 3 presentations, three dataframes for each presentation are returned. \n",
    "    If there were 2 presentations, three dataframes for each presentation are still \n",
    "    returned with the third being null.\n",
    "    \n",
    "    Returns:\n",
    "        3 divided stimulus tables corresponding to first, second, and third or null stimulus\n",
    "        presentation start. \n",
    "    '''\n",
    "    if len(divide_indices)==2: # 3 presentations \n",
    "        return stim_table.loc[:divide_indices[0]], stim_table.loc[divide_indices[0]+1:divide_indices[1]], stim_table.loc[divide_indices[1]+1:]\n",
    "    elif len(divide_indices) == 1: # 2 presentations\n",
    "        return stim_table.loc[:divide_indices[0]], stim_table.loc[divide_indices[0]+1:], pd.DataFrame()\n",
    "    else:\n",
    "        raise Exception(\"Stimulis has only one presentation. Nothing to divide.\")"
   ]
  },
  {
   "cell_type": "code",
   "execution_count": null,
   "id": "e54da6ef",
   "metadata": {},
   "outputs": [],
   "source": [
    "def generate_response_matrices(stim_table, all_events):\n",
    "    '''\n",
    "    This function generates response matrices given an input stimulus table. \n",
    "    Stimulus table can be divided based on stimulus presentations, or undivided.\n",
    "    \n",
    "    Returns:\n",
    "        orientation_matrix: 1D array with orientation value for each frame\n",
    "        frequency_matrix: 1D array with frequency value for each frame\n",
    "        response: matrix of shape (# cells, # stimuli, 60) with response of each\n",
    "            cell to each stimulus over its presentation period of 60 frames \n",
    "    '''\n",
    "    stim_table = stim_table.reset_index(drop=True)\n",
    "    if stim_table.stim_category[0] == \"drifting_gratings\": # need to split stim ID\n",
    "        # generate response matrix\n",
    "        response = np.empty((len(all_events.index), len(stim_table), 60)) # 3d array for responses at each frame to each stimulus for each neuron\n",
    "        for i in range(len(stim_table)):\n",
    "            for cell_index in range(len(all_events.index)):\n",
    "                response[cell_index,i,:] = all_events.iloc[cell_index, stim_table.start[i]:stim_table.start[i]+60]\n",
    "        return response\n",
    "    elif stim_table.stim_category[0] == \"static_gratings\" or stim_table.stim_category[0] == \"natural_scenes\":\n",
    "        # generate response matrix\n",
    "        response = np.empty((len(all_events.index), len(stim_table), 7)) # 3d array for responses at each frame to each stimulus for each neuron\n",
    "        stim_table = stim_table.reset_index(drop=True)\n",
    "        for i in range(len(stim_table)):\n",
    "            for cell_index in range(len(all_events.index)):\n",
    "                response[cell_index,i,:] = all_events.iloc[cell_index, stim_table.start[i]:stim_table.start[i]+7]\n",
    "        return response\n",
    "    \n",
    "    \n",
    "# OLD: natural scenes stimulus matrix\n",
    "#         stimulus_matrix = np.zeros(len(stim_table))\n",
    "#         null = np.zeros(1)\n",
    "#         # Loop through each stimulus presentation, store its parameters\n",
    "#         for i in range(len(stim_table)):\n",
    "#             # extract orientation and temporal frequency info by splitting stimulus ID\n",
    "#             stimulus_matrix[i] = stim_table.stim_id[i]"
   ]
  },
  {
   "cell_type": "code",
   "execution_count": null,
   "id": "b11c5566",
   "metadata": {},
   "outputs": [],
   "source": [
    "def responses_per_stimulus(stim_table, response_matrix):\n",
    "    responses_by_stimulus = pd.DataFrame(columns=[\"stim_id\",\"response_matrix\"])\n",
    "    \n",
    "    for stim_id in np.unique(stim_table.stim_id):\n",
    "        temp_stim_id_df = stim_table[stim_table.stim_id==stim_id]\n",
    "        # below we are indexing the responses in the response matrix corresponding to the target \n",
    "        # stim ID values. The indices of target stim ID may be greater than the response matrix \n",
    "        # size since we devided the stimulus tables based on when the presentation was shown.\n",
    "        # So we subtract the indices of each target stim ID by the first index of the stim table, \n",
    "        # to normalize the values.\n",
    "        response_stimulus_matrix = response_matrix[:,list(temp_stim_id_df.index-stim_table.index[0]),:]\n",
    "        responses_by_stimulus.loc[len(responses_by_stimulus)] = [stim_id, response_stimulus_matrix]\n",
    "    \n",
    "    return responses_by_stimulus"
   ]
  },
  {
   "cell_type": "code",
   "execution_count": null,
   "id": "a430d8ea",
   "metadata": {},
   "outputs": [],
   "source": [
    "from allensdk.core.brain_observatory_cache import BrainObservatoryCache\n",
    "\n",
    "manifest_file = os.path.join(data_root,'allen-brain-observatory/visual-coding-2p/manifest.json')\n",
    "\n",
    "# Create data cache object \n",
    "boc = BrainObservatoryCache(manifest_file=manifest_file)"
   ]
  },
  {
   "cell_type": "code",
   "execution_count": null,
   "id": "11b72063",
   "metadata": {},
   "outputs": [],
   "source": [
    "# Select the relevant data for chosen container ID\n",
    "desired_container_id = 688678764\n",
    "desired_container = boc.get_ophys_experiments(experiment_container_ids=[desired_container_id])\n",
    "desired_container = sorted(desired_container, key=lambda x: x['session_type']) # sort based on session type so A comes first\n",
    "\n",
    "# Get session IDs for each session\n",
    "session_one_id = desired_container[0][\"id\"]\n",
    "\n",
    "# load in session data for each session\n",
    "session_one = boc.get_ophys_experiment_data(ophys_experiment_id=session_one_id)\n",
    "\n",
    "# Get all event traces for all neurons in given session \n",
    "all_events = get_events(boc, session_one_id, \"VISp\")\n",
    "\n",
    "# Get full stimulus table for a given session\n",
    "stim_table = create_stim_df(boc, session_one_id)"
   ]
  },
  {
   "cell_type": "code",
   "execution_count": null,
   "id": "762f9252",
   "metadata": {},
   "outputs": [],
   "source": [
    "# Drifting gratings, session 1"
   ]
  },
  {
   "cell_type": "code",
   "execution_count": null,
   "id": "c93cebb2",
   "metadata": {},
   "outputs": [],
   "source": [
    "drifting_gratings_table = stim_table[stim_table.stim_category == \"drifting_gratings\"]"
   ]
  },
  {
   "cell_type": "code",
   "execution_count": null,
   "id": "723ee66f",
   "metadata": {},
   "outputs": [],
   "source": [
    "divide_indices = find_divide_indices(drifting_gratings_table)"
   ]
  },
  {
   "cell_type": "code",
   "execution_count": null,
   "id": "523bf55f",
   "metadata": {},
   "outputs": [],
   "source": [
    "dg1, dg2, dg3 = divide_stim_table(drifting_gratings_table, divide_indices)"
   ]
  },
  {
   "cell_type": "code",
   "execution_count": null,
   "id": "1d62d3a6",
   "metadata": {},
   "outputs": [],
   "source": []
  },
  {
   "cell_type": "code",
   "execution_count": null,
   "id": "0ac06be0",
   "metadata": {},
   "outputs": [],
   "source": [
    "response1 = generate_response_matrices(dg1, all_events)\n",
    "response2 = generate_response_matrices(dg2, all_events)\n",
    "response3 = generate_response_matrices(dg3, all_events)"
   ]
  },
  {
   "cell_type": "code",
   "execution_count": null,
   "id": "30468832",
   "metadata": {},
   "outputs": [],
   "source": [
    "# Calculate mean responses "
   ]
  },
  {
   "cell_type": "code",
   "execution_count": null,
   "id": "a2494bc5",
   "metadata": {},
   "outputs": [],
   "source": [
    "mean1 = np.nanmean(response1)\n",
    "mean2 = np.nanmean(response2)\n",
    "mean3 = np.nanmean(response3)"
   ]
  },
  {
   "cell_type": "code",
   "execution_count": null,
   "id": "8e60a26a",
   "metadata": {},
   "outputs": [],
   "source": [
    "plt.bar([1,2,3],[mean1, mean2, mean3])\n",
    "plt.title(\"Mean responses for each presentation\")\n",
    "plt.xticks([1,2,3])\n",
    "plt.ylabel(\"Mean population response\")\n",
    "plt.xlabel(\"Presentation #\")\n",
    "plt.show()"
   ]
  },
  {
   "cell_type": "code",
   "execution_count": null,
   "id": "aba8ebdf",
   "metadata": {},
   "outputs": [],
   "source": [
    "# Fit a linear regression model\n",
    "slope, intercept, r_value, p_value, std_err = linregress(range(len([mean1, mean2, mean3])), [mean1, mean2, mean3])\n",
    "\n",
    "# Check if the slope is negative (indicating a decreasing trend) and if the p-value is below a significance level (e.g., 0.05)\n",
    "if slope < 0 and p_value < 0.05:\n",
    "    print(\"The decreasing trend is statistically significant.\")\n",
    "else:\n",
    "    print(f\"The trend is not statistically significant. p-value = {p_value}\")"
   ]
  },
  {
   "cell_type": "code",
   "execution_count": null,
   "id": "154f454c",
   "metadata": {},
   "outputs": [],
   "source": [
    "# Mean responses for each presentation for each stimulus"
   ]
  },
  {
   "cell_type": "code",
   "execution_count": null,
   "id": "cae8e007",
   "metadata": {},
   "outputs": [],
   "source": [
    "# Create dataframe with response matrix for each stimulus ID\n",
    "dg1_responses_by_stimulus = responses_per_stimulus(dg1, response1)\n",
    "dg2_responses_by_stimulus = responses_per_stimulus(dg2, response2)\n",
    "dg3_responses_by_stimulus = responses_per_stimulus(dg3, response3)\n",
    "\n",
    "# Merge dataframes\n",
    "responses_by_stimulus = pd.merge(dg1_responses_by_stimulus, dg2_responses_by_stimulus, on=\"stim_id\", how=\"outer\")\n",
    "responses_by_stimulus = pd.merge(responses_by_stimulus, dg3_responses_by_stimulus, on=\"stim_id\", how=\"outer\")\n",
    "responses_by_stimulus = responses_by_stimulus.rename(columns={\"response_matrix_x\": \"response_matrix1\", \"response_matrix_y\": \"response_matrix2\", \"response_matrix\": \"response_matrix3\"})"
   ]
  },
  {
   "cell_type": "code",
   "execution_count": null,
   "id": "89f6d9f7",
   "metadata": {},
   "outputs": [],
   "source": [
    "# Calculate mean responses for each stimulus\n",
    "means = pd.DataFrame(columns=[\"stim_id\", \"mean1\", \"mean2\", \"mean3\"])\n",
    "\n",
    "index=0\n",
    "for stim_id in np.unique(responses_by_stimulus.stim_id):\n",
    "    matrix1 = responses_by_stimulus[responses_by_stimulus.stim_id==stim_id].response_matrix1[index]\n",
    "    matrix2 = responses_by_stimulus[responses_by_stimulus.stim_id==stim_id].response_matrix2[index]\n",
    "    matrix3 = responses_by_stimulus[responses_by_stimulus.stim_id==stim_id].response_matrix3[index]\n",
    "\n",
    "    mean1 = np.nanmean(matrix1)\n",
    "    mean2 = np.nanmean(matrix2)\n",
    "    mean3 = np.nanmean(matrix3)\n",
    "\n",
    "    means.loc[len(means)] = [stim_id, mean1, mean2, mean3]\n",
    "    index+=1"
   ]
  },
  {
   "cell_type": "code",
   "execution_count": null,
   "id": "4f6fc780",
   "metadata": {},
   "outputs": [],
   "source": [
    "heatmap_array_dg = np.asarray((list(means.mean1), list(means.mean2), list(means.mean3)))\n",
    "#norm_heatmap_array_dg = preprocessing.normalize(heatmap_array_dg[~np.isnan(heatmap_array_dg)])"
   ]
  },
  {
   "cell_type": "code",
   "execution_count": null,
   "id": "1671d474",
   "metadata": {},
   "outputs": [],
   "source": [
    "heatmap_array_dg.shape"
   ]
  },
  {
   "cell_type": "code",
   "execution_count": null,
   "id": "b33bd06b",
   "metadata": {},
   "outputs": [],
   "source": [
    "fig, ax = plt.subplots(figsize = (15,6))\n",
    "im = ax.imshow(heatmap_array_dg)\n",
    "fig.colorbar(im, ax=ax)\n",
    "ax.set_yticks([0,1,2])\n",
    "ax.set_ylabel(\"Trial\")\n",
    "ax.set_xlabel(\"Stimulus type\")\n",
    "ax.set_title(\"Mean population response to each stimulus type for each trial: Drifting gratings\")\n",
    "plt.show()\n",
    "\n",
    "# Drifting gratings stimuli are sometimes shown more times in a session than other sessions"
   ]
  },
  {
   "cell_type": "code",
   "execution_count": null,
   "id": "e378319d",
   "metadata": {},
   "outputs": [],
   "source": [
    "fig, ax = plt.subplots(figsize = (15,6))\n",
    "im = ax.imshow(norm_heatmap_array_dg)\n",
    "fig.colorbar(im, ax=ax)\n",
    "ax.set_yticks([0,1,2])\n",
    "ax.set_ylabel(\"Trial\")\n",
    "ax.set_xlabel(\"Stimulus type\")\n",
    "ax.set_title(\"Normalized mean population response to each stimulus type for each trial: \\nDrifting gratings\")\n",
    "plt.show()\n",
    "\n",
    "# Drifting gratings stimuli are sometimes shown more times in a session than other sessions"
   ]
  },
  {
   "cell_type": "code",
   "execution_count": null,
   "id": "9efa7812",
   "metadata": {},
   "outputs": [],
   "source": [
    "# Static gratings, session 2 "
   ]
  },
  {
   "cell_type": "code",
   "execution_count": null,
   "id": "72f632e0",
   "metadata": {},
   "outputs": [],
   "source": [
    "# Get session IDs for each session\n",
    "session_two_id = desired_container[1][\"id\"]\n",
    "\n",
    "# load in session data for each session\n",
    "session_two = boc.get_ophys_experiment_data(ophys_experiment_id=session_two_id)\n",
    "\n",
    "# Get all event traces for all neurons in given session \n",
    "all_events = get_events(boc, session_two_id, \"VISp\")\n",
    "\n",
    "# Get full stimulus table for a given session\n",
    "stim_table = create_stim_df(boc, session_two_id)"
   ]
  },
  {
   "cell_type": "code",
   "execution_count": null,
   "id": "a639f661",
   "metadata": {},
   "outputs": [],
   "source": [
    "static_gratings_table = stim_table[stim_table.stim_category == \"static_gratings\"]"
   ]
  },
  {
   "cell_type": "code",
   "execution_count": null,
   "id": "891cd4fe",
   "metadata": {},
   "outputs": [],
   "source": [
    "divide_indices = find_divide_indices(static_gratings_table)"
   ]
  },
  {
   "cell_type": "code",
   "execution_count": null,
   "id": "ec62b9d3",
   "metadata": {},
   "outputs": [],
   "source": [
    "sg1, sg2, sg3 = divide_stim_table(static_gratings_table, divide_indices)"
   ]
  },
  {
   "cell_type": "code",
   "execution_count": null,
   "id": "474bd495",
   "metadata": {},
   "outputs": [],
   "source": [
    "response1_sg = generate_response_matrices(sg1, all_events)\n",
    "response2_sg = generate_response_matrices(sg2, all_events)\n",
    "response3_sg = generate_response_matrices(sg3, all_events)"
   ]
  },
  {
   "cell_type": "code",
   "execution_count": null,
   "id": "b0792205",
   "metadata": {},
   "outputs": [],
   "source": [
    "# Calculate total mean responses "
   ]
  },
  {
   "cell_type": "code",
   "execution_count": null,
   "id": "cdad6059",
   "metadata": {},
   "outputs": [],
   "source": [
    "mean1_sg = np.nanmean(response1_sg)\n",
    "mean2_sg = np.nanmean(response2_sg)\n",
    "mean3_sg = np.nanmean(response3_sg)"
   ]
  },
  {
   "cell_type": "code",
   "execution_count": null,
   "id": "2ec77c45",
   "metadata": {},
   "outputs": [],
   "source": [
    "plt.bar([1,2,3],[mean1_sg, mean2_sg, mean3_sg])\n",
    "plt.title(\"Mean responses for each presentation\")\n",
    "plt.xticks([1,2,3])\n",
    "plt.ylabel(\"Mean population response\")\n",
    "plt.xlabel(\"Presentation #\")\n",
    "plt.show()"
   ]
  },
  {
   "cell_type": "code",
   "execution_count": null,
   "id": "80254ab4",
   "metadata": {},
   "outputs": [],
   "source": [
    "# Fit a linear regression model\n",
    "slope, intercept, r_value, p_value, std_err = linregress(range(len([mean1_sg, mean2_sg, mean3_sg])), [mean1_sg, mean2_sg, mean3_sg])\n",
    "\n",
    "# Check if the slope is negative (indicating a decreasing trend) and if the p-value is below a significance level (e.g., 0.05)\n",
    "if slope < 0 and p_value < 0.05:\n",
    "    print(\"The decreasing trend is statistically significant.\")\n",
    "else:\n",
    "    print(f\"The trend is not statistically significant. p-value = {p_value}\")"
   ]
  },
  {
   "cell_type": "code",
   "execution_count": null,
   "id": "8e438b9d",
   "metadata": {},
   "outputs": [],
   "source": [
    "# Mean responses for each presentation for each stimulus"
   ]
  },
  {
   "cell_type": "code",
   "execution_count": null,
   "id": "dcb7ca6e",
   "metadata": {},
   "outputs": [],
   "source": [
    "# Create dataframe with response matrix for each stimulus ID \n",
    "sg1_responses_by_stimulus = responses_per_stimulus(sg1, response1_sg)\n",
    "sg2_responses_by_stimulus = responses_per_stimulus(sg2, response2_sg)\n",
    "sg3_responses_by_stimulus = responses_per_stimulus(sg3, response3_sg)\n",
    "\n",
    "# The below only works because the shape of the first dataframe is equal to or larger than the others\n",
    "sg_responses_by_stimulus = pd.merge(sg1_responses_by_stimulus, sg2_responses_by_stimulus, on=\"stim_id\", how=\"outer\")\n",
    "sg_responses_by_stimulus = pd.merge(sg_responses_by_stimulus, sg3_responses_by_stimulus, on=\"stim_id\", how=\"outer\")\n",
    "sg_responses_by_stimulus = sg_responses_by_stimulus.rename(columns={\"response_matrix_x\": \"response_matrix1\", \"response_matrix_y\": \"response_matrix2\", \"response_matrix\": \"response_matrix3\"})"
   ]
  },
  {
   "cell_type": "code",
   "execution_count": null,
   "id": "0d63fc8f",
   "metadata": {},
   "outputs": [],
   "source": [
    "# Calculate mean responses for each stimulus\n",
    "means_sg = pd.DataFrame(columns=[\"stim_id\", \"mean1\", \"mean2\", \"mean3\"])\n",
    "\n",
    "index=0\n",
    "for stim_id in np.unique(sg_responses_by_stimulus.stim_id):\n",
    "    matrix1 = sg_responses_by_stimulus[sg_responses_by_stimulus.stim_id==stim_id].response_matrix1[index]\n",
    "    matrix2 = sg_responses_by_stimulus[sg_responses_by_stimulus.stim_id==stim_id].response_matrix2[index]\n",
    "    matrix3 = sg_responses_by_stimulus[sg_responses_by_stimulus.stim_id==stim_id].response_matrix3[index]\n",
    "\n",
    "    mean1 = np.nanmean(matrix1)\n",
    "    mean2 = np.nanmean(matrix2)\n",
    "    mean3 = np.nanmean(matrix3)\n",
    "\n",
    "    means_sg.loc[len(means_sg)] = [stim_id, mean1, mean2, mean3]\n",
    "    index+=1"
   ]
  },
  {
   "cell_type": "code",
   "execution_count": null,
   "id": "297b63c8",
   "metadata": {},
   "outputs": [],
   "source": [
    "heatmap_array_sg = list((list(means_sg.mean1), list(means_sg.mean2), list(means_sg.mean3)))\n",
    "norm_heatmap_array_sg = preprocessing.normalize(heatmap_array_sg)"
   ]
  },
  {
   "cell_type": "code",
   "execution_count": null,
   "id": "2bcad2e5",
   "metadata": {},
   "outputs": [],
   "source": [
    "fig, ax = plt.subplots(figsize = (15,3))\n",
    "im = ax.imshow(heatmap_array_sg)\n",
    "fig.colorbar(im, ax=ax)\n",
    "ax.set_yticks([0,1,2])\n",
    "ax.set_ylabel(\"Trial\")\n",
    "ax.set_xlabel(\"Stimulus type\")\n",
    "ax.set_title(\"Mean population response to each stimulus type for each trial: Static gratings\")\n",
    "plt.show()"
   ]
  },
  {
   "cell_type": "code",
   "execution_count": null,
   "id": "e6cd5b6b",
   "metadata": {},
   "outputs": [],
   "source": [
    "fig, ax = plt.subplots(figsize = (15,3))\n",
    "im = ax.imshow(norm_heatmap_array_sg)\n",
    "fig.colorbar(im, ax=ax)\n",
    "ax.set_yticks([0,1,2])\n",
    "ax.set_ylabel(\"Trial\")\n",
    "ax.set_xlabel(\"Stimulus type\")\n",
    "ax.set_title(\"Normalized mean population response to each stimulus type for each trial: \\nStatic gratings\")\n",
    "plt.show()"
   ]
  },
  {
   "cell_type": "code",
   "execution_count": null,
   "id": "4a0c9e3f",
   "metadata": {},
   "outputs": [],
   "source": [
    "# Natural scenes, session 2 "
   ]
  },
  {
   "cell_type": "code",
   "execution_count": null,
   "id": "594b2ed9",
   "metadata": {},
   "outputs": [],
   "source": [
    "natural_scenes_table = stim_table[stim_table.stim_category == \"natural_scenes\"]"
   ]
  },
  {
   "cell_type": "code",
   "execution_count": null,
   "id": "2c14ef2b",
   "metadata": {},
   "outputs": [],
   "source": [
    "divide_indices = find_divide_indices(natural_scenes_table)"
   ]
  },
  {
   "cell_type": "code",
   "execution_count": null,
   "id": "f705aedc",
   "metadata": {},
   "outputs": [],
   "source": [
    "ns1, ns2, ns3 = divide_stim_table(natural_scenes_table, divide_indices)"
   ]
  },
  {
   "cell_type": "code",
   "execution_count": null,
   "id": "73878648",
   "metadata": {},
   "outputs": [],
   "source": [
    "response1_ns = generate_response_matrices(ns1, all_events)\n",
    "response2_ns = generate_response_matrices(ns2, all_events)\n",
    "response3_ns = generate_response_matrices(ns3, all_events)"
   ]
  },
  {
   "cell_type": "code",
   "execution_count": null,
   "id": "f944eeed",
   "metadata": {},
   "outputs": [],
   "source": [
    "# Calculate mean response"
   ]
  },
  {
   "cell_type": "code",
   "execution_count": null,
   "id": "39acd755",
   "metadata": {},
   "outputs": [],
   "source": [
    "mean1_ns = np.nanmean(response1_ns)\n",
    "mean2_ns = np.nanmean(response2_ns)\n",
    "mean3_ns = np.nanmean(response3_ns)"
   ]
  },
  {
   "cell_type": "code",
   "execution_count": null,
   "id": "ec7e26ff",
   "metadata": {},
   "outputs": [],
   "source": [
    "plt.bar([1,2,3],[mean1_ns, mean2_ns, mean3_ns])\n",
    "plt.title(\"Mean responses for each presentation\")\n",
    "plt.xticks([1,2,3])\n",
    "plt.ylabel(\"Mean population response\")\n",
    "plt.xlabel(\"Presentation #\")\n",
    "plt.show()"
   ]
  },
  {
   "cell_type": "code",
   "execution_count": null,
   "id": "68bc1d8a",
   "metadata": {},
   "outputs": [],
   "source": [
    "# Fit a linear regression model\n",
    "slope, intercept, r_value, p_value, std_err = linregress(range(len([mean1_ns, mean2_ns, mean3_ns])), [mean1_ns, mean2_ns, mean3_ns])\n",
    "\n",
    "# Check if the slope is negative (indicating a decreasing trend) and if the p-value is below a significance level (e.g., 0.05)\n",
    "if slope < 0 and p_value < 0.05:\n",
    "    print(\"The decreasing trend is statistically significant.\")\n",
    "else:\n",
    "    print(f\"The trend is not statistically significant. p-value = {p_value}\")"
   ]
  },
  {
   "cell_type": "code",
   "execution_count": null,
   "id": "4da51012",
   "metadata": {},
   "outputs": [],
   "source": [
    "# Mean responses for each presentation for each stimulus"
   ]
  },
  {
   "cell_type": "code",
   "execution_count": null,
   "id": "9a932e25",
   "metadata": {},
   "outputs": [],
   "source": [
    "# Create dataframe with response matrix for each stimulus ID \n",
    "ns1_responses_by_stimulus = responses_per_stimulus(ns1, response1_ns)\n",
    "ns2_responses_by_stimulus = responses_per_stimulus(ns2, response2_ns)\n",
    "ns3_responses_by_stimulus = responses_per_stimulus(ns3, response3_ns)\n",
    "\n",
    "# Combine dataframes\n",
    "ns_responses_by_stimulus = pd.merge(ns1_responses_by_stimulus, ns2_responses_by_stimulus, on=\"stim_id\", how=\"outer\")\n",
    "ns_responses_by_stimulus = pd.merge(ns_responses_by_stimulus, ns3_responses_by_stimulus, on=\"stim_id\", how=\"outer\")\n",
    "ns_responses_by_stimulus = ns_responses_by_stimulus.rename(columns={\"response_matrix_x\": \"response_matrix1\", \"response_matrix_y\": \"response_matrix2\", \"response_matrix\": \"response_matrix3\"})"
   ]
  },
  {
   "cell_type": "code",
   "execution_count": null,
   "id": "4bf3a70c",
   "metadata": {},
   "outputs": [],
   "source": [
    "# Calculate mean responses for each stimulus\n",
    "means_ns = pd.DataFrame(columns=[\"stim_id\", \"mean1\", \"mean2\", \"mean3\"])\n",
    "\n",
    "index=0\n",
    "for stim_id in np.unique(ns_responses_by_stimulus.stim_id):\n",
    "    matrix1 = ns_responses_by_stimulus[ns_responses_by_stimulus.stim_id==stim_id].response_matrix1[index]\n",
    "    matrix2 = ns_responses_by_stimulus[ns_responses_by_stimulus.stim_id==stim_id].response_matrix2[index]\n",
    "    matrix3 = ns_responses_by_stimulus[ns_responses_by_stimulus.stim_id==stim_id].response_matrix3[index]\n",
    "\n",
    "    mean1 = np.nanmean(matrix1)\n",
    "    mean2 = np.nanmean(matrix2)\n",
    "    mean3 = np.nanmean(matrix3)\n",
    "\n",
    "    means_ns.loc[len(means_ns)] = [stim_id, mean1, mean2, mean3]\n",
    "    index+=1"
   ]
  },
  {
   "cell_type": "code",
   "execution_count": null,
   "id": "7da725c8",
   "metadata": {},
   "outputs": [],
   "source": [
    "heatmap_array_ns = np.asarray((list(means_ns.mean1), list(means_ns.mean2), list(means_ns.mean3)))\n",
    "norm_heatmap_array_ns = preprocessing.normalize(heatmap_array_ns)"
   ]
  },
  {
   "cell_type": "code",
   "execution_count": null,
   "id": "f07e29f3",
   "metadata": {},
   "outputs": [],
   "source": [
    "# Plot heat map data\n",
    "fig, ax = plt.subplots(figsize = (15,3))\n",
    "im = ax.imshow(heatmap_array_ns)\n",
    "fig.colorbar(im, ax=ax)\n",
    "ax.set_yticks([0,1,2])\n",
    "ax.set_ylabel(\"Trial\")\n",
    "ax.set_xlabel(\"Stimulus type\")\n",
    "ax.set_title(\"Mean population response to each stimulus type for each trial: Natural scenes\")\n",
    "plt.show()\n"
   ]
  },
  {
   "cell_type": "code",
   "execution_count": null,
   "id": "07ed1a5a",
   "metadata": {},
   "outputs": [],
   "source": [
    "# Plot heat map data\n",
    "fig, ax = plt.subplots(figsize = (15,3))\n",
    "im = ax.imshow(norm_heatmap_array_ns)\n",
    "fig.colorbar(im, ax=ax)\n",
    "ax.set_yticks([0,1,2])\n",
    "ax.set_ylabel(\"Trial\")\n",
    "ax.set_xlabel(\"Stimulus type\")\n",
    "ax.set_title(\"Normalized mean population response to each stimulus type for each trial: \\nNatural scenes\")\n",
    "plt.show()"
   ]
  },
  {
   "cell_type": "code",
   "execution_count": null,
   "id": "adb8e5ef",
   "metadata": {},
   "outputs": [],
   "source": [
    "np.unique(natural_scenes_table.stim_id)"
   ]
  },
  {
   "cell_type": "code",
   "execution_count": null,
   "id": "fa5d3ef4",
   "metadata": {},
   "outputs": [],
   "source": [
    "natural_scene_tempate = session_two.get_stimulus_template('natural_scenes')\n",
    "scene_number=5\n",
    "plt.imshow(natural_scene_template[scene_number,:,:], cmap='gray')\n",
    "plt.axis('off');"
   ]
  },
  {
   "cell_type": "code",
   "execution_count": null,
   "id": "da3ec990",
   "metadata": {},
   "outputs": [],
   "source": []
  },
  {
   "cell_type": "code",
   "execution_count": null,
   "id": "b27c7c91",
   "metadata": {},
   "outputs": [],
   "source": [
    "# Natural movie one"
   ]
  },
  {
   "cell_type": "code",
   "execution_count": null,
   "id": "34f0469a",
   "metadata": {},
   "outputs": [],
   "source": [
    "mean_responses1, mean_responses2, mean_responses3 = pcafunc.get_all_relevant_tables_movie_one(688678764, 30, boc)"
   ]
  },
  {
   "cell_type": "code",
   "execution_count": null,
   "id": "9dc60a6e",
   "metadata": {},
   "outputs": [],
   "source": [
    "mean_responses1.shape"
   ]
  },
  {
   "cell_type": "code",
   "execution_count": null,
   "id": "db7b6d44",
   "metadata": {},
   "outputs": [],
   "source": [
    "# Take mean so that shape is (300,) which represents mean population response to each stimulus\n",
    "mean1 = np.mean(mean_responses1, axis=1)\n",
    "mean2 = np.mean(mean_responses2, axis=1)\n",
    "mean3 = np.mean(mean_responses3, axis=1)"
   ]
  },
  {
   "cell_type": "code",
   "execution_count": null,
   "id": "72c93e48",
   "metadata": {},
   "outputs": [],
   "source": [
    "plt.bar([1,2,3],[np.mean(mean1), np.mean(mean2), np.mean(mean3)])\n",
    "plt.title(\"Mean responses for each presentation\")\n",
    "plt.xticks([1,2,3])\n",
    "plt.ylabel(\"Mean population response\")\n",
    "plt.xlabel(\"Presentation #\")\n",
    "plt.show()"
   ]
  },
  {
   "cell_type": "code",
   "execution_count": null,
   "id": "f9a117a6",
   "metadata": {},
   "outputs": [],
   "source": [
    "# Fit a linear regression model\n",
    "slope, intercept, r_value, p_value, std_err = linregress(range(len([np.mean(mean1), np.mean(mean2), np.mean(mean3)])), [np.mean(mean1), np.mean(mean2), np.mean(mean3)])\n",
    "\n",
    "# Check if the p-value is below a significance level (e.g., 0.05)\n",
    "if p_value < 0.05:\n",
    "    print(\"The decreasing trend is statistically significant. p-value = {p_value}\")\n",
    "else:\n",
    "    print(f\"The trend is not statistically significant. p-value = {p_value}\")"
   ]
  },
  {
   "cell_type": "code",
   "execution_count": null,
   "id": "935d4609",
   "metadata": {},
   "outputs": [],
   "source": [
    "heatmap_array_nm = np.asarray((list(mean1), list(mean2), list(mean3)))\n",
    "norm_heatmap_array_nm = preprocessing.normalize(heatmap_array_nm)"
   ]
  },
  {
   "cell_type": "code",
   "execution_count": null,
   "id": "3e987779",
   "metadata": {},
   "outputs": [],
   "source": [
    "# Plot heat map data\n",
    "fig, ax = plt.subplots(figsize = (15,15))\n",
    "im = ax.imshow(heatmap_array_nm)\n",
    "#fig.colorbar(im, ax=ax)\n",
    "ax.set_yticks([0,1,2])\n",
    "ax.set_ylabel(\"Trial\")\n",
    "ax.set_xlabel(\"Stimulus type\")\n",
    "ax.set_title(\"Mean population response to each stimulus type for each trial: Natural scenes\")\n",
    "plt.show()"
   ]
  },
  {
   "cell_type": "code",
   "execution_count": null,
   "id": "10123d54",
   "metadata": {},
   "outputs": [],
   "source": [
    "# Plot heat map data\n",
    "fig, ax = plt.subplots(figsize = (15,15))\n",
    "im = ax.imshow(norm_heatmap_array_nm)\n",
    "#fig.colorbar(im, ax=ax)\n",
    "ax.set_yticks([0,1,2])\n",
    "ax.set_ylabel(\"Trial\")\n",
    "ax.set_xlabel(\"Stimulus type\")\n",
    "ax.set_title(\"Mean population response to each stimulus type for each trial: Natural scenes\")\n",
    "plt.show()\n"
   ]
  },
  {
   "cell_type": "code",
   "execution_count": null,
   "id": "fbb84190",
   "metadata": {},
   "outputs": [],
   "source": []
  }
 ],
 "metadata": {
  "kernelspec": {
   "display_name": "Python 3",
   "language": "python",
   "name": "python3"
  },
  "language_info": {
   "codemirror_mode": {
    "name": "ipython",
    "version": 3
   },
   "file_extension": ".py",
   "mimetype": "text/x-python",
   "name": "python",
   "nbconvert_exporter": "python",
   "pygments_lexer": "ipython3",
   "version": "3.8.5"
  }
 },
 "nbformat": 4,
 "nbformat_minor": 5
}
