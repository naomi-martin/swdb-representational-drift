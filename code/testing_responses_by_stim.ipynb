{
 "cells": [
  {
   "cell_type": "code",
   "execution_count": 1,
   "id": "aab289e5",
   "metadata": {},
   "outputs": [],
   "source": [
    "# We need to import these modules to get started\n",
    "import numpy as np\n",
    "import pandas as pd\n",
    "import os\n",
    "import platform\n",
    "from sklearn.decomposition import PCA\n",
    "from sklearn.preprocessing import StandardScaler\n",
    "from event_utils import get_events\n",
    "from create_stim_table import create_stim_df\n",
    "import matplotlib.pyplot as plt\n",
    "%matplotlib inline\n",
    "\n",
    "# This patch of code just ensures we get an easy to read font size for the duration of the notebook\n",
    "import matplotlib\n",
    "font = {'weight' : 'bold',\n",
    "        'size'   : 15}\n",
    "matplotlib.rc('font', **font)"
   ]
  },
  {
   "cell_type": "code",
   "execution_count": 2,
   "id": "069421df",
   "metadata": {},
   "outputs": [],
   "source": [
    "# Set file location based on platform. \n",
    "platstring = platform.platform()\n",
    "if ('Darwin' in platstring) or ('macOS' in platstring):\n",
    "    # macOS \n",
    "    data_root = \"/Volumes/Brain2023/\"\n",
    "elif 'Windows'  in platstring:\n",
    "    # Windows (replace with the drive letter of USB drive)\n",
    "    data_root = \"E:/\"\n",
    "elif ('amzn' in platstring):\n",
    "    # then on Code Ocean\n",
    "    data_root = \"/data/\"\n",
    "else:\n",
    "    # then your own linux platform\n",
    "    # EDIT location where you mounted hard drive\n",
    "    data_root = \"/media/$USERNAME/Brain2023/\""
   ]
  },
  {
   "cell_type": "code",
   "execution_count": 3,
   "id": "0e2dd79f",
   "metadata": {},
   "outputs": [],
   "source": [
    "def find_divide_indices(stim_table):\n",
    "    '''\n",
    "    Finds the indices where each new stimulus presentation after the first presentation\n",
    "    starts.\n",
    "    \n",
    "    Returns:\n",
    "        List of indices representing the start of the next stimulus\n",
    "    '''\n",
    "    # Find the indices where each new stimulus presentation after the first presentation starts\n",
    "    divide_indices = []\n",
    "\n",
    "    for i in range(min(stim_table.index), max(stim_table.index)):\n",
    "        try:\n",
    "            if stim_table.start[i+1]-stim_table.end[i] > 100:\n",
    "                divide_indices.append(i) # saves index where new stim presentation begins\n",
    "        except:\n",
    "            pass\n",
    "    return divide_indices"
   ]
  },
  {
   "cell_type": "code",
   "execution_count": 4,
   "id": "35b74b39",
   "metadata": {},
   "outputs": [],
   "source": [
    "def divide_stim_table(stim_table, divide_indices=[]):\n",
    "    '''\n",
    "    Divides input stimulus table based on indices corresponding to separate stimulus\n",
    "    presentations.\n",
    "    If there were 3 presentations, three dataframes for each presentation are returned. \n",
    "    If there were 2 presentations, three dataframes for each presentation are still \n",
    "    returned with the third being null.\n",
    "    \n",
    "    Returns:\n",
    "        3 divided stimulus tables corresponding to first, second, and third or null stimulus\n",
    "        presentation start. \n",
    "    '''\n",
    "    if len(divide_indices)==2: # 3 presentations \n",
    "        return stim_table.loc[:divide_indices[0]], stim_table.loc[divide_indices[0]+1:divide_indices[1]], stim_table.loc[divide_indices[1]+1:]\n",
    "    elif len(divide_indices) == 1: # 2 presentations\n",
    "        return stim_table.loc[:divide_indices[0]], stim_table.loc[divide_indices[0]+1:], pd.DataFrame()\n",
    "    else:\n",
    "        raise Exception(\"Stimulis has only one presentation. Nothing to divide.\")"
   ]
  },
  {
   "cell_type": "code",
   "execution_count": 5,
   "id": "e0221c32",
   "metadata": {},
   "outputs": [],
   "source": [
    "def generate_response_matrices(stim_table, all_events):\n",
    "    '''\n",
    "    This function generates response matrices given an input stimulus table. \n",
    "    Stimulus table can be divided based on stimulus presentations, or undivided.\n",
    "    \n",
    "    Returns:\n",
    "        orientation_matrix: 1D array with orientation value for each frame\n",
    "        frequency_matrix: 1D array with frequency value for each frame\n",
    "        response: matrix of shape (# cells, # stimuli, 60) with response of each\n",
    "            cell to each stimulus over its presentation period of 60 frames \n",
    "    '''\n",
    "    #stim_table = stim_table.reset_index(drop=True)\n",
    "    if stim_table.stim_category[0] == \"drifting_gratings\": # need to split stim ID\n",
    "        # generate response matrix\n",
    "        response = np.empty((len(all_events.index), len(stim_table), 60)) # 3d array for responses at each frame to each stimulus for each neuron\n",
    "        stim_table = stim_table.reset_index(drop=True)\n",
    "        for i in range(len(stim_table)):\n",
    "            for cell_index in range(len(all_events.index)):\n",
    "                response[cell_index,i,:] = all_events.iloc[cell_index, stim_table.start[i]:stim_table.start[i]+60] \n",
    "        return response\n",
    "    elif stim_table.stim_category[0] == \"static_gratings\" or stim_table.stim_category[0] == \"natural_scenes\":\n",
    "        # generate response matrix\n",
    "        response = np.empty((len(all_events.index), len(stim_table), 7)) # 3d array for responses at each frame to each stimulus for each neuron\n",
    "        stim_table = stim_table.reset_index(drop=True)\n",
    "        for i in range(len(stim_table)):\n",
    "            for cell_index in range(len(all_events.index)):\n",
    "                response[cell_index,i,:] = all_events.iloc[cell_index, stim_table.start[i]:stim_table.start[i]+7]\n",
    "        return response\n",
    "    \n",
    "    \n",
    "# OLD: natural scenes stimulus matrix\n",
    "#         stimulus_matrix = np.zeros(len(stim_table))\n",
    "#         null = np.zeros(1)\n",
    "#         # Loop through each stimulus presentation, store its parameters\n",
    "#         for i in range(len(stim_table)):\n",
    "#             # extract orientation and temporal frequency info by splitting stimulus ID\n",
    "#             stimulus_matrix[i] = stim_table.stim_id[i]"
   ]
  },
  {
   "cell_type": "code",
   "execution_count": null,
   "id": "2925f90a",
   "metadata": {},
   "outputs": [],
   "source": [
    "def responses_per_stimulus(stim_table, response_matrix):\n",
    "    '''\n",
    "    response_matrix: contains all recorded responses in the divided time frame \n",
    "    '''\n",
    "    responses_by_stimulus = pd.DataFrame(columns=[\"stim_id\",\"response_matrix\"])\n",
    "    \n",
    "    for stim_id in np.unique(stim_table.stim_id):\n",
    "        temp_stim_id_df = stim_table[stim_table.stim_id==stim_id]\n",
    "        # below we are indexing the responses in the response matrix corresponding to the target \n",
    "        # stim ID values. The indices of target stim ID may be greater than the response matrix \n",
    "        # size since we devided the stimulus tables based on when the presentation was shown.\n",
    "        # So we subtract the indices of each target stim ID by the first index of the stim table, \n",
    "        # to normalize the values.\n",
    "        response_stimulus_matrix = response_matrix[:,list(temp_stim_id_df.index-stim_table.index[0]),:]\n",
    "        responses_by_stimulus.loc[len(responses_by_stimulus)] = [stim_id, response_stimulus_matrix]\n",
    "    \n",
    "    return responses_by_stimulus"
   ]
  },
  {
   "cell_type": "code",
   "execution_count": 6,
   "id": "a3850190",
   "metadata": {},
   "outputs": [],
   "source": [
    "from allensdk.core.brain_observatory_cache import BrainObservatoryCache\n",
    "\n",
    "manifest_file = os.path.join(data_root,'allen-brain-observatory/visual-coding-2p/manifest.json')\n",
    "\n",
    "# Create data cache object \n",
    "boc = BrainObservatoryCache(manifest_file=manifest_file)"
   ]
  },
  {
   "cell_type": "code",
   "execution_count": 7,
   "id": "bb791848",
   "metadata": {},
   "outputs": [],
   "source": [
    "# Select the relevant data for chosen container ID\n",
    "desired_container_id = 688678764\n",
    "desired_container = boc.get_ophys_experiments(experiment_container_ids=[desired_container_id])\n",
    "desired_container = sorted(desired_container, key=lambda x: x['session_type']) # sort based on session type so A comes first\n",
    "\n",
    "# Get session IDs for each session\n",
    "session_one_id = desired_container[0][\"id\"]\n",
    "\n",
    "# load in session data for each session\n",
    "session_one = boc.get_ophys_experiment_data(ophys_experiment_id=session_one_id)\n",
    "\n",
    "# Get all event traces for all neurons in given session \n",
    "all_events = get_events(boc, session_one_id, \"VISp\")\n",
    "\n",
    "# Get full stimulus table for a given session\n",
    "stim_table = create_stim_df(boc, session_one_id)"
   ]
  },
  {
   "cell_type": "code",
   "execution_count": 8,
   "id": "2063b901",
   "metadata": {},
   "outputs": [],
   "source": [
    "drifting_gratings_table = stim_table[stim_table.stim_category == \"drifting_gratings\"]"
   ]
  },
  {
   "cell_type": "code",
   "execution_count": 114,
   "id": "a01ddb70",
   "metadata": {},
   "outputs": [],
   "source": [
    "divide_indices = find_divide_indices(drifting_gratings_table)\n",
    "dg1, dg2, dg3 = divide_stim_table(drifting_gratings_table, divide_indices)"
   ]
  },
  {
   "cell_type": "code",
   "execution_count": 170,
   "id": "fa9001b6",
   "metadata": {},
   "outputs": [],
   "source": [
    "#stim_table = stim_table.reset_index(drop=True)\n",
    "dg1 = dg1.reset_index(drop=True)\n",
    "if dg1.stim_category[0] == \"drifting_gratings\": # VERIFIED\n",
    "    # generate response matrix\n",
    "    response1 = np.empty((len(all_events.index), len(dg1), 60)) # 3d array for responses at each frame to each stimulus for each neuron\n",
    "    for i in range(len(dg1)): # for each stimulus\n",
    "        for cell_index in range(len(all_events.index)): # for each cell\n",
    "            response1[cell_index,i,:] = all_events.iloc[cell_index, dg1.start[i]:dg1.start[i]+60]"
   ]
  },
  {
   "cell_type": "code",
   "execution_count": 87,
   "id": "2ee37980",
   "metadata": {},
   "outputs": [],
   "source": [
    "#stim_table = stim_table.reset_index(drop=True)\n",
    "dg2 = dg2.reset_index(drop=True)\n",
    "if dg2.stim_category[0] == \"drifting_gratings\": # VERIFIED\n",
    "    # generate response matrix\n",
    "    response2 = np.empty((len(all_events.index), len(dg2), 60)) # 3d array for responses at each frame to each stimulus for each neuron\n",
    "    for i in range(len(dg2)): # for each stimulus\n",
    "        for cell_index in range(len(all_events.index)): # for each cell\n",
    "            response2[cell_index,i,:] = all_events.iloc[cell_index, dg2.start[i]:dg2.start[i]+60]"
   ]
  },
  {
   "cell_type": "code",
   "execution_count": 166,
   "id": "e8c6a61d",
   "metadata": {},
   "outputs": [],
   "source": [
    "responses_by_stimulus2 = pd.DataFrame(columns=[\"stim_id\",\"response_matrix\"])\n",
    "\n",
    "for stim_id in np.unique(dg2.stim_id):\n",
    "    dg2_reset=dg2.reset_index(drop=True)\n",
    "    temp_stim_id_df = dg2_reset[dg2_reset.stim_id==stim_id]\n",
    "    response_stimulus_matrix = response2[:,list(temp_stim_id_df.index),:]\n",
    "    responses_by_stimulus2.loc[len(responses_by_stimulus2)] = [stim_id, response_stimulus_matrix]"
   ]
  },
  {
   "cell_type": "code",
   "execution_count": 167,
   "id": "59853df8",
   "metadata": {},
   "outputs": [
    {
     "data": {
      "text/html": [
       "<div>\n",
       "<style scoped>\n",
       "    .dataframe tbody tr th:only-of-type {\n",
       "        vertical-align: middle;\n",
       "    }\n",
       "\n",
       "    .dataframe tbody tr th {\n",
       "        vertical-align: top;\n",
       "    }\n",
       "\n",
       "    .dataframe thead th {\n",
       "        text-align: right;\n",
       "    }\n",
       "</style>\n",
       "<table border=\"1\" class=\"dataframe\">\n",
       "  <thead>\n",
       "    <tr style=\"text-align: right;\">\n",
       "      <th></th>\n",
       "      <th>start</th>\n",
       "      <th>end</th>\n",
       "      <th>stim_id</th>\n",
       "      <th>stim_category</th>\n",
       "    </tr>\n",
       "  </thead>\n",
       "  <tbody>\n",
       "    <tr>\n",
       "      <th>49</th>\n",
       "      <td>53152</td>\n",
       "      <td>53212</td>\n",
       "      <td>0.0_15.0_0.0</td>\n",
       "      <td>drifting_gratings</td>\n",
       "    </tr>\n",
       "    <tr>\n",
       "      <th>77</th>\n",
       "      <td>55687</td>\n",
       "      <td>55747</td>\n",
       "      <td>0.0_15.0_0.0</td>\n",
       "      <td>drifting_gratings</td>\n",
       "    </tr>\n",
       "    <tr>\n",
       "      <th>78</th>\n",
       "      <td>55777</td>\n",
       "      <td>55837</td>\n",
       "      <td>0.0_15.0_0.0</td>\n",
       "      <td>drifting_gratings</td>\n",
       "    </tr>\n",
       "    <tr>\n",
       "      <th>127</th>\n",
       "      <td>60213</td>\n",
       "      <td>60273</td>\n",
       "      <td>0.0_15.0_0.0</td>\n",
       "      <td>drifting_gratings</td>\n",
       "    </tr>\n",
       "    <tr>\n",
       "      <th>187</th>\n",
       "      <td>65662</td>\n",
       "      <td>65722</td>\n",
       "      <td>0.0_15.0_0.0</td>\n",
       "      <td>drifting_gratings</td>\n",
       "    </tr>\n",
       "  </tbody>\n",
       "</table>\n",
       "</div>"
      ],
      "text/plain": [
       "     start    end       stim_id      stim_category\n",
       "49   53152  53212  0.0_15.0_0.0  drifting_gratings\n",
       "77   55687  55747  0.0_15.0_0.0  drifting_gratings\n",
       "78   55777  55837  0.0_15.0_0.0  drifting_gratings\n",
       "127  60213  60273  0.0_15.0_0.0  drifting_gratings\n",
       "187  65662  65722  0.0_15.0_0.0  drifting_gratings"
      ]
     },
     "execution_count": 167,
     "metadata": {},
     "output_type": "execute_result"
    }
   ],
   "source": [
    "dg2_reset[dg2_reset.stim_id == '0.0_15.0_0.0']"
   ]
  },
  {
   "cell_type": "code",
   "execution_count": 168,
   "id": "c19c5012",
   "metadata": {},
   "outputs": [
    {
     "data": {
      "text/plain": [
       "array([0.        , 0.        , 0.        , 0.        , 0.        ,\n",
       "       0.        , 0.        , 0.        , 0.        , 0.        ,\n",
       "       0.        , 0.        , 0.        , 0.        , 0.        ,\n",
       "       0.        , 0.        , 0.        , 0.        , 0.        ,\n",
       "       0.        , 0.        , 0.        , 0.        , 0.10525163,\n",
       "       0.        , 0.        , 0.        , 0.        , 0.        ,\n",
       "       0.        , 0.        , 0.        , 0.        , 0.        ,\n",
       "       0.        , 0.        , 0.        , 0.        , 0.        ,\n",
       "       0.        , 0.        , 0.        , 0.        , 0.        ,\n",
       "       0.        , 0.        , 0.        , 0.        , 0.        ,\n",
       "       0.        , 0.        , 0.        , 0.        , 0.        ,\n",
       "       0.        , 0.        , 0.        , 0.        , 0.        ])"
      ]
     },
     "execution_count": 168,
     "metadata": {},
     "output_type": "execute_result"
    }
   ],
   "source": [
    "response2[0][127]"
   ]
  },
  {
   "cell_type": "code",
   "execution_count": 169,
   "id": "8883d44f",
   "metadata": {},
   "outputs": [
    {
     "data": {
      "text/plain": [
       "array([0.        , 0.        , 0.        , 0.        , 0.        ,\n",
       "       0.        , 0.        , 0.        , 0.        , 0.        ,\n",
       "       0.        , 0.        , 0.        , 0.        , 0.        ,\n",
       "       0.        , 0.        , 0.        , 0.        , 0.        ,\n",
       "       0.        , 0.        , 0.        , 0.        , 0.10525163,\n",
       "       0.        , 0.        , 0.        , 0.        , 0.        ,\n",
       "       0.        , 0.        , 0.        , 0.        , 0.        ,\n",
       "       0.        , 0.        , 0.        , 0.        , 0.        ,\n",
       "       0.        , 0.        , 0.        , 0.        , 0.        ,\n",
       "       0.        , 0.        , 0.        , 0.        , 0.        ,\n",
       "       0.        , 0.        , 0.        , 0.        , 0.        ,\n",
       "       0.        , 0.        , 0.        , 0.        , 0.        ])"
      ]
     },
     "execution_count": 169,
     "metadata": {},
     "output_type": "execute_result"
    }
   ],
   "source": [
    "responses_by_stimulus2.response_matrix[1][0][3] \n",
    "# I think response matrix by stimulus is accurate too because of this result. compare with above"
   ]
  },
  {
   "cell_type": "code",
   "execution_count": 73,
   "id": "96c58672",
   "metadata": {
    "collapsed": true,
    "jupyter": {
     "outputs_hidden": true
    },
    "tags": []
   },
   "outputs": [
    {
     "data": {
      "text/plain": [
       "736    0.000000\n",
       "737    0.000000\n",
       "738    0.000000\n",
       "739    0.000000\n",
       "740    0.000000\n",
       "741    0.000000\n",
       "742    0.000000\n",
       "743    0.000000\n",
       "744    0.000000\n",
       "745    0.000000\n",
       "746    0.000000\n",
       "747    0.167026\n",
       "748    0.000000\n",
       "749    0.000000\n",
       "750    0.000000\n",
       "751    0.000000\n",
       "752    0.000000\n",
       "753    0.000000\n",
       "754    0.000000\n",
       "755    0.000000\n",
       "756    0.000000\n",
       "757    0.000000\n",
       "758    0.000000\n",
       "759    0.000000\n",
       "760    0.000000\n",
       "761    0.000000\n",
       "762    0.000000\n",
       "763    0.000000\n",
       "764    0.000000\n",
       "765    0.000000\n",
       "766    0.000000\n",
       "767    0.000000\n",
       "768    0.000000\n",
       "769    0.000000\n",
       "770    0.000000\n",
       "771    0.000000\n",
       "772    0.000000\n",
       "773    0.000000\n",
       "774    0.000000\n",
       "775    0.000000\n",
       "776    0.000000\n",
       "777    0.000000\n",
       "778    0.000000\n",
       "779    0.000000\n",
       "780    0.000000\n",
       "781    0.000000\n",
       "782    0.000000\n",
       "783    0.000000\n",
       "784    0.000000\n",
       "785    0.000000\n",
       "786    0.000000\n",
       "787    0.000000\n",
       "788    0.000000\n",
       "789    0.000000\n",
       "790    0.000000\n",
       "791    0.000000\n",
       "792    0.000000\n",
       "793    0.000000\n",
       "794    0.000000\n",
       "795    0.000000\n",
       "Name: 701728881, dtype: float64"
      ]
     },
     "execution_count": 73,
     "metadata": {},
     "output_type": "execute_result"
    }
   ],
   "source": [
    "all_events.iloc[0][736:796]\n",
    "# response matrix is correct because the first cell, first stimulus, 11th response is equal to that in\n",
    "# all events"
   ]
  },
  {
   "cell_type": "code",
   "execution_count": null,
   "id": "9e28580a",
   "metadata": {},
   "outputs": [],
   "source": []
  },
  {
   "cell_type": "code",
   "execution_count": null,
   "id": "a7f8d69c",
   "metadata": {},
   "outputs": [],
   "source": []
  },
  {
   "cell_type": "code",
   "execution_count": 172,
   "id": "0dd18342",
   "metadata": {},
   "outputs": [],
   "source": [
    "responses_by_stimulus1 = pd.DataFrame(columns=[\"stim_id\",\"response_matrix\"])\n",
    "\n",
    "for stim_id in np.unique(dg1.stim_id):\n",
    "    dg1_reset=dg1.reset_index(drop=True)\n",
    "    temp_stim_id_df = dg1_reset[dg1_reset.stim_id==stim_id]\n",
    "    response_stimulus_matrix = response1[:,list(temp_stim_id_df.index),:]\n",
    "    responses_by_stimulus1.loc[len(responses_by_stimulus1)] = [stim_id, response_stimulus_matrix]"
   ]
  },
  {
   "cell_type": "code",
   "execution_count": 178,
   "id": "bf80596e",
   "metadata": {},
   "outputs": [],
   "source": [
    "#stim_table = stim_table.reset_index(drop=True)\n",
    "dg3 = dg3.reset_index(drop=True)\n",
    "if dg3.stim_category[0] == \"drifting_gratings\": # VERIFIED\n",
    "    # generate response matrix\n",
    "    response3 = np.empty((len(all_events.index), len(dg3), 60)) # 3d array for responses at each frame to each stimulus for each neuron\n",
    "    for i in range(len(dg3)): # for each stimulus\n",
    "        for cell_index in range(len(all_events.index)): # for each cell\n",
    "            response3[cell_index,i,:] = all_events.iloc[cell_index, dg3.start[i]:dg3.start[i]+60]\n",
    "            \n",
    "responses_by_stimulus3 = pd.DataFrame(columns=[\"stim_id\",\"response_matrix\"])\n",
    "\n",
    "for stim_id in np.unique(dg3.stim_id):\n",
    "    dg3_reset=dg3.reset_index(drop=True)\n",
    "    temp_stim_id_df = dg3_reset[dg3_reset.stim_id==stim_id]\n",
    "    response_stimulus_matrix = response3[:,list(temp_stim_id_df.index),:]\n",
    "    responses_by_stimulus3.loc[len(responses_by_stimulus3)] = [stim_id, response_stimulus_matrix]"
   ]
  },
  {
   "cell_type": "code",
   "execution_count": 173,
   "id": "8105b406",
   "metadata": {},
   "outputs": [
    {
     "name": "stdout",
     "output_type": "stream",
     "text": [
      "(240, 475)\n"
     ]
    }
   ],
   "source": [
    "# Try PCA first on one stimulus \n",
    "test_pca_results_dict = {}\n",
    "\n",
    "test=responses_by_stimulus1[responses_by_stimulus1.stim_id == \"0.0_1.0_0.0\"].response_matrix[0]\n",
    "test = np.reshape(test, (test.shape[0],test.shape[1]*test.shape[2])).T\n",
    "print(test.shape)\n",
    "\n",
    "pca = PCA(n_components=2) # create PCA model\n",
    "test_transformed_data = pca.fit_transform(test) # fit the model with the dataset\n",
    "test_components = pca.components_ # list of principal components (PCs)\n",
    "test_explained_variance_ratio = pca.explained_variance_ratio_ # list of proportion of explained variance for each PC\n",
    "test_pca_results_dict[\"0.0_1.0_0.0\"] = {\"components\": test_components, \"explained_variance_ratio\": test_explained_variance_ratio} # add results to dictionary\n",
    "test_pca_results = pd.DataFrame(test_pca_results_dict).T # make a DataFrame"
   ]
  },
  {
   "cell_type": "code",
   "execution_count": 174,
   "id": "5457bd39",
   "metadata": {},
   "outputs": [
    {
     "data": {
      "text/plain": [
       "Text(0.5, 1.0, 'Drifting Gratings Stimulus 0.0_1.0_0.0 Session 1 PCA Analysis')"
      ]
     },
     "execution_count": 174,
     "metadata": {},
     "output_type": "execute_result"
    },
    {
     "data": {
      "image/png": "[encoded data removed]",
      "text/plain": [
       "<Figure size 432x288 with 1 Axes>"
      ]
     },
     "metadata": {
      "needs_background": "light"
     },
     "output_type": "display_data"
    }
   ],
   "source": [
    "plt.scatter(test_transformed_data[:,0], test_transformed_data[:,1])\n",
    "plt.xlabel(\"1st PC\")\n",
    "plt.ylabel(\"2nd PC\")\n",
    "plt.title(\"Drifting Gratings Stimulus 0.0_1.0_0.0 Session 1 PCA Analysis\")# Try PCA first on one stimulus, session 2, on session 1 model \n",
    "test_pca_results_dict = {}\n",
    "\n",
    "test=dg2_responses_by_stimulus[dg2_responses_by_stimulus.stim_id == \"0.0_1.0_0.0\"].response_matrix[0]\n",
    "test = np.reshape(test, (test.shape[0],test.shape[1]*test.shape[2])).T\n",
    "print(test.shape)\n",
    "\n",
    "#pca = PCA(n_components=2) # create PCA model\n",
    "test_transformed_data = pca.transform(test) # fit the model with the dataset\n",
    "test_components = pca.components_ # list of principal components (PCs)\n",
    "test_explained_variance_ratio = pca.explained_variance_ratio_ # list of proportion of explained variance for each PC\n",
    "test_pca_results_dict[\"0.0_1.0_0.0\"] = {\"components\": test_components, \"explained_variance_ratio\": test_explained_variance_ratio} # add results to dictionary\n",
    "test_pca_results = pd.DataFrame(test_pca_results_dict).T # make a DataFrameplt.scatter(test_transformed_data[:,0], test_transformed_data[:,1],cmap=)\n",
    "\n",
    "plt.scatter(test_transformed_data[:,0], test_transformed_data[:,1])\n",
    "plt.xlabel(\"1st PC\")\n",
    "plt.ylabel(\"2nd PC\")\n",
    "plt.title(\"Drifting Gratings Stimulus 0.0_1.0_0.0 Session 2 PCA Analysis Fit on Session 1\")\n"
   ]
  },
  {
   "cell_type": "code",
   "execution_count": 176,
   "id": "909636e8",
   "metadata": {},
   "outputs": [
    {
     "name": "stdout",
     "output_type": "stream",
     "text": [
      "(240, 475)\n"
     ]
    },
    {
     "data": {
      "text/plain": [
       "Text(0.5, 1.0, 'Drifting Gratings Stimulus 0.0_1.0_0.0 Session 2 PCA Analysis Fit on Session 1')"
      ]
     },
     "execution_count": 176,
     "metadata": {},
     "output_type": "execute_result"
    },
    {
     "data": {
      "image/png": "[encoded data removed]",
      "text/plain": [
       "<Figure size 432x288 with 1 Axes>"
      ]
     },
     "metadata": {
      "needs_background": "light"
     },
     "output_type": "display_data"
    }
   ],
   "source": [
    "# Try PCA first on one stimulus, session 2, on session 1 model \n",
    "test_pca_results_dict = {}\n",
    "\n",
    "test=responses_by_stimulus2[responses_by_stimulus2.stim_id == \"0.0_1.0_0.0\"].response_matrix[0]\n",
    "test = np.reshape(test, (test.shape[0],test.shape[1]*test.shape[2])).T\n",
    "print(test.shape)\n",
    "\n",
    "#pca = PCA(n_components=2) # create PCA model\n",
    "test_transformed_data = pca.transform(test) # fit the model with the dataset\n",
    "test_components = pca.components_ # list of principal components (PCs)\n",
    "test_explained_variance_ratio = pca.explained_variance_ratio_ # list of proportion of explained variance for each PC\n",
    "test_pca_results_dict[\"0.0_1.0_0.0\"] = {\"components\": test_components, \"explained_variance_ratio\": test_explained_variance_ratio} # add results to dictionary\n",
    "test_pca_results = pd.DataFrame(test_pca_results_dict).T # make a DataFrameplt.scatter(test_transformed_data[:,0], test_transformed_data[:,1],cmap=)\n",
    "\n",
    "plt.scatter(test_transformed_data[:,0], test_transformed_data[:,1])\n",
    "plt.xlabel(\"1st PC\")\n",
    "plt.ylabel(\"2nd PC\")\n",
    "plt.title(\"Drifting Gratings Stimulus 0.0_1.0_0.0 Session 2 PCA Analysis Fit on Session 1\")\n"
   ]
  },
  {
   "cell_type": "code",
   "execution_count": null,
   "id": "f4c003a3",
   "metadata": {},
   "outputs": [],
   "source": []
  },
  {
   "cell_type": "code",
   "execution_count": 179,
   "id": "d8e90dd6",
   "metadata": {},
   "outputs": [],
   "source": [
    "responses_by_stimulus = responses_by_stimulus1.copy()\n",
    "responses_by_stimulus[\"response_matrix2\"] = responses_by_stimulus2.response_matrix\n",
    "responses_by_stimulus[\"response_matrix3\"] = responses_by_stimulus3.response_matrix"
   ]
  },
  {
   "cell_type": "code",
   "execution_count": 180,
   "id": "84a80715",
   "metadata": {},
   "outputs": [
    {
     "name": "stderr",
     "output_type": "stream",
     "text": [
      "<ipython-input-180-01c8e3a2eece>:12: RuntimeWarning: Mean of empty slice\n",
      "  mean3 = np.nanmean(matrix3)\n"
     ]
    }
   ],
   "source": [
    "# Calculate mean responses for each stimulus\n",
    "means = pd.DataFrame(columns=[\"stim_id\", \"mean1\", \"mean2\", \"mean3\"])\n",
    "\n",
    "index=0\n",
    "for stim_id in np.unique(responses_by_stimulus.stim_id):\n",
    "    matrix1 = responses_by_stimulus[responses_by_stimulus.stim_id==stim_id].response_matrix[index]\n",
    "    matrix2 = responses_by_stimulus[responses_by_stimulus.stim_id==stim_id].response_matrix2[index]\n",
    "    matrix3 = responses_by_stimulus[responses_by_stimulus.stim_id==stim_id].response_matrix3[index]\n",
    "\n",
    "    mean1 = np.nanmean(matrix1)\n",
    "    mean2 = np.nanmean(matrix2)\n",
    "    mean3 = np.nanmean(matrix3)\n",
    "\n",
    "    means.loc[len(means)] = [stim_id, mean1, mean2, mean3]\n",
    "    index+=1"
   ]
  },
  {
   "cell_type": "code",
   "execution_count": 181,
   "id": "8c29bdcb",
   "metadata": {},
   "outputs": [],
   "source": [
    "heatmap_array_dg = np.asarray((list(means.mean1), list(means.mean2), list(means.mean3)))\n"
   ]
  },
  {
   "cell_type": "code",
   "execution_count": 182,
   "id": "9a62ffcc",
   "metadata": {},
   "outputs": [
    {
     "data": {
      "image/png": "[encoded data removed]",
      "text/plain": [
       "<Figure size 1080x432 with 2 Axes>"
      ]
     },
     "metadata": {
      "needs_background": "light"
     },
     "output_type": "display_data"
    }
   ],
   "source": [
    "fig, ax = plt.subplots(figsize = (15,6))\n",
    "im = ax.imshow(heatmap_array_dg)\n",
    "fig.colorbar(im, ax=ax)\n",
    "ax.set_yticks([0,1,2])\n",
    "ax.set_ylabel(\"Trial\")\n",
    "ax.set_xlabel(\"Stimulus type\")\n",
    "ax.set_title(\"Mean population response to each stimulus type for each trial: Drifting gratings\")\n",
    "plt.show()\n",
    "\n",
    "# Drifting gratings stimuli are sometimes shown more times in a session than other sessions"
   ]
  },
  {
   "cell_type": "code",
   "execution_count": null,
   "id": "1810fe13",
   "metadata": {},
   "outputs": [],
   "source": []
  }
 ],
 "metadata": {
  "kernelspec": {
   "display_name": "Python 3",
   "language": "python",
   "name": "python3"
  },
  "language_info": {
   "codemirror_mode": {
    "name": "ipython",
    "version": 3
   },
   "file_extension": ".py",
   "mimetype": "text/x-python",
   "name": "python",
   "nbconvert_exporter": "python",
   "pygments_lexer": "ipython3",
   "version": "3.8.5"
  }
 },
 "nbformat": 4,
 "nbformat_minor": 5
}
