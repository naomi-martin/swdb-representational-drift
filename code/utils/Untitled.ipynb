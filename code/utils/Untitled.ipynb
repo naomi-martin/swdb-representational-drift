{
 "cells": [
  {
   "cell_type": "code",
   "execution_count": 14,
   "id": "4db1dcf9",
   "metadata": {},
   "outputs": [
    {
     "name": "stdout",
     "output_type": "stream",
     "text": [
      "The autoreload extension is already loaded. To reload it, use:\n",
      "  %reload_ext autoreload\n"
     ]
    }
   ],
   "source": [
    "# We need to import these modules to get started\n",
    "import numpy as np\n",
    "import pandas as pd\n",
    "import os\n",
    "import platform\n",
    "import matplotlib.pyplot as plt\n",
    "%matplotlib inline\n",
    "%load_ext autoreload\n",
    "%autoreload 2\n",
    "\n",
    "# This patch of code just ensures we get an easy to read font size for the duration of the notebook\n",
    "import matplotlib\n",
    "font = {'weight' : 'bold',\n",
    "        'size'   : 15}\n",
    "matplotlib.rc('font', **font)\n",
    "# Set file location based on platform. \n",
    "platstring = platform.platform()\n",
    "if ('Darwin' in platstring) or ('macOS' in platstring):\n",
    "    # macOS \n",
    "    data_root = \"/Volumes/Brain2023/\"\n",
    "elif 'Windows'  in platstring:\n",
    "    # Windows (replace with the drive letter of USB drive)\n",
    "    data_root = \"E:/\"\n",
    "elif ('amzn' in platstring):\n",
    "    # then on Code Ocean\n",
    "    data_root = \"/data/\"\n",
    "else:\n",
    "    # then your own linux platform\n",
    "    # EDIT location where you mounted hard drive\n",
    "    data_root = \"/media/$USERNAME/Brain2023/\"\n",
    "from allensdk.core.brain_observatory_cache import BrainObservatoryCache\n",
    "\n",
    "manifest_file = os.path.join(data_root,'allen-brain-observatory/visual-coding-2p/manifest.json')\n",
    "\n",
    "boc = BrainObservatoryCache(manifest_file=manifest_file)\n",
    "import sys\n",
    "sys.path.insert(0, 'code/utils/create_stim_df')\n",
    "from create_stim_df import create_stim_df"
   ]
  },
  {
   "cell_type": "code",
   "execution_count": 15,
   "id": "2f446a64",
   "metadata": {},
   "outputs": [],
   "source": [
    "df = stim_df(boc,627823723)"
   ]
  },
  {
   "cell_type": "code",
   "execution_count": 16,
   "id": "6acaa378",
   "metadata": {},
   "outputs": [
    {
     "data": {
      "text/plain": [
       "18000"
      ]
     },
     "execution_count": 16,
     "metadata": {},
     "output_type": "execute_result"
    }
   ],
   "source": [
    "len(df)"
   ]
  },
  {
   "cell_type": "code",
   "execution_count": 17,
   "id": "5ee433b8",
   "metadata": {},
   "outputs": [
    {
     "data": {
      "text/html": [
       "<div>\n",
       "<style scoped>\n",
       "    .dataframe tbody tr th:only-of-type {\n",
       "        vertical-align: middle;\n",
       "    }\n",
       "\n",
       "    .dataframe tbody tr th {\n",
       "        vertical-align: top;\n",
       "    }\n",
       "\n",
       "    .dataframe thead th {\n",
       "        text-align: right;\n",
       "    }\n",
       "</style>\n",
       "<table border=\"1\" class=\"dataframe\">\n",
       "  <thead>\n",
       "    <tr style=\"text-align: right;\">\n",
       "      <th></th>\n",
       "      <th>start</th>\n",
       "      <th>end</th>\n",
       "      <th>stim_id</th>\n",
       "      <th>stim_category</th>\n",
       "    </tr>\n",
       "  </thead>\n",
       "  <tbody>\n",
       "    <tr>\n",
       "      <th>0</th>\n",
       "      <td>38376</td>\n",
       "      <td>38376</td>\n",
       "      <td>0</td>\n",
       "      <td>natural_movie_one</td>\n",
       "    </tr>\n",
       "    <tr>\n",
       "      <th>1</th>\n",
       "      <td>38377</td>\n",
       "      <td>38377</td>\n",
       "      <td>1</td>\n",
       "      <td>natural_movie_one</td>\n",
       "    </tr>\n",
       "    <tr>\n",
       "      <th>2</th>\n",
       "      <td>38378</td>\n",
       "      <td>38378</td>\n",
       "      <td>2</td>\n",
       "      <td>natural_movie_one</td>\n",
       "    </tr>\n",
       "    <tr>\n",
       "      <th>3</th>\n",
       "      <td>38379</td>\n",
       "      <td>38379</td>\n",
       "      <td>3</td>\n",
       "      <td>natural_movie_one</td>\n",
       "    </tr>\n",
       "    <tr>\n",
       "      <th>4</th>\n",
       "      <td>38380</td>\n",
       "      <td>38380</td>\n",
       "      <td>4</td>\n",
       "      <td>natural_movie_one</td>\n",
       "    </tr>\n",
       "    <tr>\n",
       "      <th>...</th>\n",
       "      <td>...</td>\n",
       "      <td>...</td>\n",
       "      <td>...</td>\n",
       "      <td>...</td>\n",
       "    </tr>\n",
       "    <tr>\n",
       "      <th>17995</th>\n",
       "      <td>86237</td>\n",
       "      <td>86238</td>\n",
       "      <td>895</td>\n",
       "      <td>natural_movie_two</td>\n",
       "    </tr>\n",
       "    <tr>\n",
       "      <th>17996</th>\n",
       "      <td>86238</td>\n",
       "      <td>86239</td>\n",
       "      <td>896</td>\n",
       "      <td>natural_movie_two</td>\n",
       "    </tr>\n",
       "    <tr>\n",
       "      <th>17997</th>\n",
       "      <td>86239</td>\n",
       "      <td>86240</td>\n",
       "      <td>897</td>\n",
       "      <td>natural_movie_two</td>\n",
       "    </tr>\n",
       "    <tr>\n",
       "      <th>17998</th>\n",
       "      <td>86240</td>\n",
       "      <td>86241</td>\n",
       "      <td>898</td>\n",
       "      <td>natural_movie_two</td>\n",
       "    </tr>\n",
       "    <tr>\n",
       "      <th>17999</th>\n",
       "      <td>86241</td>\n",
       "      <td>86242</td>\n",
       "      <td>899</td>\n",
       "      <td>natural_movie_two</td>\n",
       "    </tr>\n",
       "  </tbody>\n",
       "</table>\n",
       "<p>18000 rows × 4 columns</p>\n",
       "</div>"
      ],
      "text/plain": [
       "       start    end  stim_id      stim_category\n",
       "0      38376  38376        0  natural_movie_one\n",
       "1      38377  38377        1  natural_movie_one\n",
       "2      38378  38378        2  natural_movie_one\n",
       "3      38379  38379        3  natural_movie_one\n",
       "4      38380  38380        4  natural_movie_one\n",
       "...      ...    ...      ...                ...\n",
       "17995  86237  86238      895  natural_movie_two\n",
       "17996  86238  86239      896  natural_movie_two\n",
       "17997  86239  86240      897  natural_movie_two\n",
       "17998  86240  86241      898  natural_movie_two\n",
       "17999  86241  86242      899  natural_movie_two\n",
       "\n",
       "[18000 rows x 4 columns]"
      ]
     },
     "execution_count": 17,
     "metadata": {},
     "output_type": "execute_result"
    }
   ],
   "source": [
    "df"
   ]
  },
  {
   "cell_type": "code",
   "execution_count": null,
   "id": "610fbcec",
   "metadata": {},
   "outputs": [],
   "source": []
  }
 ],
 "metadata": {
  "kernelspec": {
   "display_name": "Python 3",
   "language": "python",
   "name": "python3"
  },
  "language_info": {
   "codemirror_mode": {
    "name": "ipython",
    "version": 3
   },
   "file_extension": ".py",
   "mimetype": "text/x-python",
   "name": "python",
   "nbconvert_exporter": "python",
   "pygments_lexer": "ipython3",
   "version": "3.8.5"
  }
 },
 "nbformat": 4,
 "nbformat_minor": 5
}
